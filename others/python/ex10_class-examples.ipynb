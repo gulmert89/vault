{
 "cells": [
  {
   "cell_type": "markdown",
   "metadata": {},
   "source": [
    "### Hello Jupyter!\n",
    "On Monday (April 2020), I have registered for an online bootcamp and started to study data science. It seems that we are going to use Jupyter Notebook a lot.<br>So, here it is.<br>\n",
    "\n",
    "I wanted to introduce SoloLearn and HackerRank by providing two examples on classes, the \"OOP\" side of Python.<br>\n",
    "* [SoloLearn](https://www.sololearn.com/)'s [application](https://play.google.com/store/apps/details?id=com.sololearn&hl=en) really worths trying because there are lots of fun stuff like challenges, stories, feeds, user-created contents. It's like Facebook for coders. Python lessons are quite good in general!<br>\n",
    "* I know lots of people love [HackerRank](https://www.hackerrank.com/) but I don't like the Python side of it. I've been doing some challenges but most of the time I spend my time on [codewars.com](https://www.codewars.com/) which has a better (and cooler!) layout imho.\n",
    "![Jupyter](https://upload.wikimedia.org/wikipedia/commons/3/38/Jupyter_logo.svg)"
   ]
  },
  {
   "cell_type": "markdown",
   "metadata": {},
   "source": [
    "## 1) SoloLearn: \"Broken Calculator\"\n",
    "When I am confused and lost in classes, \"self\"s, functions and their arguments, I keep returning to this code that I wrote because it always reminds me what is what, how you use \"self\" and stuff. To be honest, Sololearn's OOP lessons are not that good. I still feel inadequate over how to use classes and create objects. Even though it's fun to struggle with OOP, sorry, this is what I can do right now :)"
   ]
  },
  {
   "cell_type": "code",
   "execution_count": 1,
   "metadata": {},
   "outputs": [
    {
     "name": "stdout",
     "output_type": "stream",
     "text": [
      "The hypothenus of the sides 5 and 12 is 13.0\n",
      "Their multiplication is 60\n",
      "The mean value: 8.5\n",
      "I don't have much math left on me ¯\\_(ツ)_/¯\n"
     ]
    }
   ],
   "source": [
    "class BrokenCalculator:\n",
    "    def __init__(self, s1, s2):\n",
    "        self.side1 = s1\n",
    "        self.side2 = s2\n",
    "\n",
    "    def SomeMath(self,operation):\n",
    "        if operation in (\"hypothenus\", \"hypo\"):    #finding the hypothenus of a right triangle\n",
    "            hypo_math = round((((self.side1)**2 + (self.side2)**2)**0.5), 2)\n",
    "            print(\"The hypothenus of the sides\", self.side1, \"and\", self.side2, \"is\", hypo_math) \n",
    "            \n",
    "        elif operation==\"mean\":\n",
    "            mean_math = round(((self.side1 + self.side2)/2), 2)\n",
    "            print(\"The mean value:\", mean_math)\n",
    "\n",
    "        elif operation in (\"x\", \"*\", \"times\", \"X\"):\n",
    "            print(\"Their multiplication is\", self.side1*self.side2)\n",
    "\n",
    "        else:\n",
    "            print(r\"I don't have much math left on me ¯\\_(ツ)_/¯\")\n",
    "        \n",
    "answer = BrokenCalculator(5, 12)\n",
    "answer.SomeMath(\"hypothenus\")\n",
    "answer.SomeMath(\"times\")\n",
    "answer.SomeMath(\"mean\")\n",
    "answer.SomeMath(\"minus\")"
   ]
  },
  {
   "cell_type": "markdown",
   "metadata": {},
   "source": [
    "## 2) Hacker Rank\n",
    "### \"30 Days of Code - Day 4: Class vs. Instance\"\n",
    "I copy/pasted -and edited- the **Task** section from the webpage. Here: [Link to the Challenge](https://www.hackerrank.com/challenges/30-class-vs-instance/problem)"
   ]
  },
  {
   "cell_type": "markdown",
   "metadata": {},
   "source": [
    "#### Task\n",
    "Write a Person class with an instance variable, **age** , and a constructor that takes an integer, **initialAge**, as a parameter. The constructor must assign **initialAge** to **age** after confirming the argument passed as **initialAge** is not negative; if a negative argument is passed as **initialAge**, the constructor should set **age** to **0** and print _\"Age is not valid, setting age to 0.\"_ In addition, you must write the following instance methods:\n",
    "\n",
    "1. yearPasses() should increase the **age** instance variable by **1**.\n",
    "\n",
    "2. amIOld() should perform the following conditional actions:\n",
    "    * If **age<13**, print _\"You are young.\"_\n",
    "    * If **age≥13** and **age<18**, print _\"You are a teenager.\"_\n",
    "    * Otherwise, print _\"You are old.\"_\n",
    "    \n",
    "To help you learn by example and complete this challenge, much of the code is provided for you, but you'll be writing everything in the future. The code that creates each instance of your Person class is in the main method. Don't worry if you don't understand it all quite yet!\n",
    "\n",
    "**Note:** Do not remove or alter the stub code in the editor."
   ]
  },
  {
   "cell_type": "code",
   "execution_count": 2,
   "metadata": {
    "scrolled": true
   },
   "outputs": [],
   "source": [
    "class Person:\n",
    "    def __init__(self, initialAge):\n",
    "        # Add some more code to run some checks on initialAge\n",
    "        self.age = initialAge\n",
    "        if initialAge == 0:\n",
    "            self.age = 0\n",
    "            print(\"Age is not valid, setting age to 0.\")\n",
    "        print(\"Your age is set to:\", self.age, \"\\n\")\n",
    "        \n",
    "    def amIOld(self):\n",
    "        # Do some computations in here and print out the correct statement to the console\n",
    "        if self.age < 13:\n",
    "            print(\"You are young.\")\n",
    "        elif 13 <= self.age < 18:\n",
    "            print(\"You are a teenager.\")\n",
    "        else:\n",
    "            print(\"You are old.\") \n",
    "        \n",
    "    def yearPasses(self, year):\n",
    "        # Increment the age of the person in here\n",
    "        self.age += year"
   ]
  },
  {
   "cell_type": "code",
   "execution_count": 3,
   "metadata": {},
   "outputs": [
    {
     "name": "stdout",
     "output_type": "stream",
     "text": [
      "10\n",
      "Your age is set to: 10 \n",
      "\n",
      "You are young.\n"
     ]
    }
   ],
   "source": [
    "my_age = int(input())    # Let's provide 10\n",
    "me = Person(my_age)\n",
    "me.amIOld()"
   ]
  },
  {
   "cell_type": "code",
   "execution_count": 4,
   "metadata": {
    "scrolled": true
   },
   "outputs": [
    {
     "name": "stdout",
     "output_type": "stream",
     "text": [
      "You are young.\n",
      "You are a teenager.\n",
      "You are old.\n",
      "\n",
      "I'm now 25 years old.\n"
     ]
    }
   ],
   "source": [
    "for i in range(0, 11, 5):\n",
    "    me.yearPasses(i)\n",
    "    me.amIOld()\n",
    "print(\"\\nI'm now {} years old.\".format(me.age))"
   ]
  },
  {
   "cell_type": "markdown",
   "metadata": {},
   "source": [
    "## 3) Our Inheritence\n",
    "Let me put a small _inheritance_ example here as well. ([Source](https://www.w3schools.com/python/python_inheritance.asp))"
   ]
  },
  {
   "cell_type": "code",
   "execution_count": 5,
   "metadata": {},
   "outputs": [
    {
     "name": "stdout",
     "output_type": "stream",
     "text": [
      "My name is Mert Gul.\n",
      "I was born in 1989.\n",
      "\n",
      "\"Mert is a member of Homo Sapiens Sapiens.\"\n"
     ]
    }
   ],
   "source": [
    "class Sapiens:\n",
    "    def __init__(self, fname, lname):\n",
    "        self.firstname = fname\n",
    "        self.lastname = lname\n",
    "    def species(self):\n",
    "        print(\"\\n\\\"{} is a member of Homo Sapiens Sapiens.\\\"\".format(self.firstname))\n",
    "\n",
    "class Human(Sapiens):\n",
    "    def __init__(self, fname, lname, year):\n",
    "        super().__init__(fname, lname)\n",
    "        self.birth = year\n",
    "    def properties(self):\n",
    "        print(f\"My name is {self.firstname} {self.lastname}.\")\n",
    "        print(f\"I was born in {self.birth}.\")\n",
    "\n",
    "m = Human(\"Mert\", \"Gul\", 1989)\n",
    "m.properties()\n",
    "m.species()"
   ]
  },
  {
   "source": [
    "## 4) SoloLearn: \"Juice Maker\"\n",
    "I spent some time on this one and gave up eventually. A few months later, _veni, vidi, vici_. I just loved the \"recursive class\" part. Here is the question explanation:<br>\n",
    "\n",
    "<i>You are given a <b>Juice</b> class, which has <b>name</b> and <b>capacity</b> properties. You need to complete the code to enable and adding of two <b>Juice</b> objects, resulting in a new <b>Juice</b> object with the combined capacity and names of the two juices being added.</i><br>\n",
    "<i>For example, if you add an Orange juice with 1.0 capacity and an Apple juice with 2.5 capacity, the resulting juice should have:<br>\n",
    "name: <b>Orange&Apple</b><br>\n",
    "capacity: <b>3.5</b><br></i>\n",
    "\n",
    "<i>The names have been combined using an <b>&</b> symbol.\n",
    "Use the <b>__add__</b> method to define a custom behavior for the <b>+</b> operator and return the resulting object.</i>"
   ],
   "cell_type": "markdown",
   "metadata": {}
  },
  {
   "source": [
    "class Juice:\n",
    "    def __init__(self, name, capacity):\n",
    "        self.name = name\n",
    "        self.capacity = capacity\n",
    "\n",
    "    def __str__(self):\n",
    "        return (self.name + \" (\" + str(self.capacity) + \"L)\")\n",
    "        \n",
    "    def __add__(self, other):\n",
    "        mix_name = self.name + \" & \" + other.name\n",
    "        mix_capacity = self.capacity + other.capacity\n",
    "        return Juice(mix_name, mix_capacity)\n",
    "\n",
    "juice_1 = Juice(\"Orange\", 1.5)\n",
    "juice_2 = Juice(\"Apple\", 2.0)\n",
    "\n",
    "total_juice = juice_1 + juice_2\n",
    "\n",
    "print(\"Juice 1:\", juice_1)\n",
    "print(\"Juice 2:\", juice_2)\n",
    "print(f\"\\nThe magic mixture:\\n{total_juice}\")"
   ],
   "cell_type": "code",
   "metadata": {},
   "execution_count": 4,
   "outputs": [
    {
     "output_type": "stream",
     "name": "stdout",
     "text": [
      "Juice 1: Orange (1.5L)\nJuice 2: Apple (2.0L)\n\nThe magic mixture:\nOrange & Apple (3.5L)\n"
     ]
    }
   ]
  }
 ],
 "metadata": {
  "kernelspec": {
   "name": "python387jvsc74a57bd0340536f4d74087420abe1be4d8f3a3ecc900f1bfd3540193c0bf4c7fd33b06bb",
   "display_name": "Python 3.8.7 64-bit"
  },
  "language_info": {
   "codemirror_mode": {
    "name": "ipython",
    "version": 3
   },
   "file_extension": ".py",
   "mimetype": "text/x-python",
   "name": "python",
   "nbconvert_exporter": "python",
   "pygments_lexer": "ipython3",
   "version": "3.8.7"
  }
 },
 "nbformat": 4,
 "nbformat_minor": 4
}