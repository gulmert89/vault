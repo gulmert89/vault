{
 "cells": [
  {
   "cell_type": "markdown",
   "id": "ec597077-6edd-4b4d-afdb-7c93f755f676",
   "metadata": {},
   "source": [
    "Source: https://docs.opencv.org/master/d7/d53/tutorial_py_pose.html\n",
    "## Goal\n",
    "In this section,\n",
    "* We will learn to exploit calib3d module to create some 3D effects in images."
   ]
  },
  {
   "cell_type": "code",
   "execution_count": 3,
   "id": "97c6e25e-1e32-4a20-a057-db396d2693f9",
   "metadata": {},
   "outputs": [],
   "source": [
    "import numpy as np\n",
    "import cv2 as cv\n",
    "import glob"
   ]
  },
  {
   "cell_type": "code",
   "execution_count": 4,
   "id": "70149d1c-ceb3-494b-b391-275c1025d514",
   "metadata": {},
   "outputs": [
    {
     "data": {
      "text/plain": [
       "['arr_0', 'arr_1', 'arr_2', 'arr_3']"
      ]
     },
     "execution_count": 4,
     "metadata": {},
     "output_type": "execute_result"
    }
   ],
   "source": [
    "npz_file = np.load(\"c_calib.npz\")\n",
    "npz_file.files"
   ]
  },
  {
   "cell_type": "code",
   "execution_count": 7,
   "id": "e35900a9-38af-44cd-8982-f65ca7cea9bc",
   "metadata": {},
   "outputs": [],
   "source": [
    "# Saved as: np.savez(file, mtx, dist, rvecs, tvecs)\n",
    "mtx, dist, _, _ = [npz_file[i] for i in npz_file.files]"
   ]
  },
  {
   "cell_type": "markdown",
   "id": "0db5e90c-2fb8-4dbc-9431-a5bccad6a695",
   "metadata": {},
   "source": [
    "Now let's create a function, draw which takes the corners in the chessboard (obtained using [cv.findChessboardCorners()](https://docs.opencv.org/master/d9/d0c/group__calib3d.html#ga93efa9b0aa890de240ca32b11253dd4a)) and axis points to draw a 3D axis."
   ]
  },
  {
   "cell_type": "code",
   "execution_count": 19,
   "id": "9d9747d4-8e80-41f4-9a34-1c8e71904a5b",
   "metadata": {},
   "outputs": [],
   "source": [
    "def draw(img, corners, imgpts):\n",
    "    # Mert: Added .astype(\"uint8\")\n",
    "    corner = tuple(corners[0].ravel().astype(\"uint8\"))\n",
    "    img = cv.line(img, corner, tuple(imgpts[0].ravel().astype(\"uint8\")), (255,0,0), 5)\n",
    "    img = cv.line(img, corner, tuple(imgpts[1].ravel().astype(\"uint8\")), (0,255,0), 5)\n",
    "    img = cv.line(img, corner, tuple(imgpts[2].ravel().astype(\"uint8\")), (0,0,255), 5)\n",
    "    return img"
   ]
  },
  {
   "cell_type": "code",
   "execution_count": 46,
   "id": "21cefaff-3b77-4e7b-a787-69d052583e9f",
   "metadata": {},
   "outputs": [],
   "source": [
    "criteria = (cv.TERM_CRITERIA_EPS + cv.TERM_CRITERIA_MAX_ITER, 30, 0.001)\n",
    "objp = np.zeros((6*7,3), np.float32)\n",
    "objp[:,:2] = np.mgrid[0:7,0:6].T.reshape(-1,2)\n",
    "axis = np.float32([\n",
    "    [3,0,0],\n",
    "    [0,-3,0],\n",
    "    [0,0,-3]\n",
    "]).reshape(-1,3)"
   ]
  },
  {
   "cell_type": "code",
   "execution_count": 47,
   "id": "7d000335-a4ca-4ff9-b58d-fbb8a4e73542",
   "metadata": {},
   "outputs": [],
   "source": [
    "for fname in glob.glob('./sample_calibration_images/calibration_pose*.png'):\n",
    "    img = cv.imread(fname)\n",
    "    gray = cv.cvtColor(img,cv.COLOR_BGR2GRAY)\n",
    "    ret, corners = cv.findChessboardCorners(gray, (7,6),None)\n",
    "    if ret == True:\n",
    "        corners2 = cv.cornerSubPix(gray, corners,(11,11), (-1,-1), criteria)\n",
    "        # Find the rotation and translation vectors.\n",
    "        ret, rvecs, tvecs = cv.solvePnP(objp, corners2, mtx, dist)\n",
    "        # project 3D points to image plane\n",
    "        imgpts, jac = cv.projectPoints(axis, rvecs, tvecs, mtx, dist)\n",
    "        img = draw(img,corners2,imgpts)\n",
    "        cv.imshow('img',img)\n",
    "        k = cv.waitKey(0) & 0xFF\n",
    "        if k == ord('s'):\n",
    "            cv.imwrite(fname[:6]+'.png', img)\n",
    "cv.destroyAllWindows()"
   ]
  },
  {
   "cell_type": "code",
   "execution_count": null,
   "id": "8eb13666-d835-4985-a5a8-6382e658f6ee",
   "metadata": {},
   "outputs": [],
   "source": []
  }
 ],
 "metadata": {
  "kernelspec": {
   "display_name": "Python 3 (ipykernel)",
   "language": "python",
   "name": "python3"
  },
  "language_info": {
   "codemirror_mode": {
    "name": "ipython",
    "version": 3
   },
   "file_extension": ".py",
   "mimetype": "text/x-python",
   "name": "python",
   "nbconvert_exporter": "python",
   "pygments_lexer": "ipython3",
   "version": "3.8.10"
  }
 },
 "nbformat": 4,
 "nbformat_minor": 5
}
