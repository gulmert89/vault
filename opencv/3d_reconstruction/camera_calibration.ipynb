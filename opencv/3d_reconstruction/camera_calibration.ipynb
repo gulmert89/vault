{
 "cells": [
  {
   "cell_type": "markdown",
   "source": [
    "Source: https://docs.opencv.org/master/dc/dbb/tutorial_py_calibration.html<br>\n",
    "References: [1](https://learnopencv.com/camera-calibration-using-opencv/), [2](https://medium.com/analytics-vidhya/camera-calibration-with-opencv-f324679c6eb7https://medium.com/analytics-vidhya/camera-calibration-with-opencv-f324679c6eb7)\n",
    "## Goal\n",
    "In this section, we will learn about\n",
    "\n",
    "* types of distortion caused by cameras\n",
    "* how to find the intrinsic and extrinsic properties of a camera\n",
    "* how to undistort images based off these properties"
   ],
   "metadata": {}
  },
  {
   "cell_type": "markdown",
   "source": [
    "$camera \\; matrix = \\left [ \\begin{matrix} f_x & 0 & c_x \\\\ 0 & f_y & c_y \\\\ 0 & 0 & 1 \\end{matrix} \\right ]$"
   ],
   "metadata": {}
  },
  {
   "cell_type": "code",
   "execution_count": 1,
   "source": [
    "import numpy as np\n",
    "import cv2 as cv\n",
    "import glob"
   ],
   "outputs": [],
   "metadata": {}
  },
  {
   "cell_type": "code",
   "execution_count": 2,
   "source": [
    "# termination criteria\n",
    "criteria = (cv.TERM_CRITERIA_EPS + cv.TERM_CRITERIA_MAX_ITER, 30, 0.001)"
   ],
   "outputs": [],
   "metadata": {}
  },
  {
   "cell_type": "code",
   "execution_count": 3,
   "source": [
    "# prepare object points, like (0,0,0), (1,0,0), (2,0,0) ....,(6,5,0)\n",
    "BOARD = (6, 7)\n",
    "objp = np.zeros((BOARD[0]*BOARD[1], 3), np.float32)\n",
    "objp[:,:2] = np.mgrid[0:BOARD[0], 0:BOARD[1]].T.reshape(-1,2)\n",
    "\n",
    "# Arrays to store object points and image points from all the images.\n",
    "objpoints = [] # 3d point in real world space\n",
    "imgpoints = [] # 2d points in image plane.\n",
    "\n",
    "images = glob.glob('./sample_calibration_images/Image*.*')"
   ],
   "outputs": [],
   "metadata": {}
  },
  {
   "cell_type": "code",
   "execution_count": 8,
   "source": [
    "for fname in images:\n",
    "    img = cv.imread(fname)\n",
    "    gray = cv.cvtColor(img, cv.COLOR_BGR2GRAY)\n",
    "    # Find the chess board corners\n",
    "    ret, corners = cv.findChessboardCorners(\n",
    "        gray,\n",
    "        BOARD,\n",
    "        cv.CALIB_CB_ADAPTIVE_THRESH + cv.CALIB_CB_FAST_CHECK + cv.CALIB_CB_NORMALIZE_IMAGE)\n",
    "    # If found, add object points, image points (after refining them)\n",
    "    if ret == True:\n",
    "        objpoints.append(objp)\n",
    "        corners2 = cv.cornerSubPix(\n",
    "            gray, \n",
    "            corners,\n",
    "            (11,11),\n",
    "            (-1,-1),\n",
    "            criteria)\n",
    "        imgpoints.append(corners)\n",
    "        # Draw and display the corners\n",
    "        cv.drawChessboardCorners(img, BOARD, corners2, ret)\n",
    "        cv.imshow('img', img)\n",
    "        cv.waitKey(0)\n",
    "cv.destroyAllWindows()"
   ],
   "outputs": [],
   "metadata": {}
  },
  {
   "cell_type": "markdown",
   "source": [
    "## Calibration\n",
    "Now that we have our object points and image points, we are ready to go for calibration. We can use the function, [cv.calibrateCamera()](https://docs.opencv.org/master/d9/d0c/group__calib3d.html#ga3207604e4b1a1758aa66acb6ed5aa65d) which returns the camera matrix, distortion coefficients, rotation and translation vectors etc."
   ],
   "metadata": {
    "tags": []
   }
  },
  {
   "cell_type": "code",
   "execution_count": 5,
   "source": [
    "ret, mtx, dist, rvecs, tvecs = cv.calibrateCamera(objpoints, imgpoints, gray.shape[::-1], None, None)"
   ],
   "outputs": [],
   "metadata": {}
  },
  {
   "cell_type": "code",
   "execution_count": 6,
   "source": [
    "from tempfile import TemporaryFile\n",
    "outfile = TemporaryFile()"
   ],
   "outputs": [],
   "metadata": {}
  },
  {
   "cell_type": "code",
   "execution_count": 9,
   "source": [
    "with open(\"c_calib.npz\", \"wb\") as file:\n",
    "    np.savez(file, mtx, dist, rvecs, tvecs)"
   ],
   "outputs": [],
   "metadata": {}
  }
 ],
 "metadata": {
  "interpreter": {
   "hash": "31f2aee4e71d21fbe5cf8b01ff0e069b9275f58929596ceb00d14d90e3e16cd6"
  },
  "kernelspec": {
   "name": "python3",
   "display_name": "Python 3.8.10 64-bit"
  },
  "language_info": {
   "codemirror_mode": {
    "name": "ipython",
    "version": 3
   },
   "file_extension": ".py",
   "mimetype": "text/x-python",
   "name": "python",
   "nbconvert_exporter": "python",
   "pygments_lexer": "ipython3",
   "version": "3.8.10"
  }
 },
 "nbformat": 4,
 "nbformat_minor": 4
}