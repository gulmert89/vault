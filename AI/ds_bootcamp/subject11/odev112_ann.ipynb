{
  "nbformat": 4,
  "nbformat_minor": 0,
  "metadata": {
    "colab": {
      "name": "odev112_ann.ipynb",
      "provenance": [],
      "collapsed_sections": [],
      "authorship_tag": "ABX9TyPP/w6FlX/rzSsdkPAM3IE5",
      "include_colab_link": true
    },
    "kernelspec": {
      "name": "python3",
      "display_name": "Python 3"
    }
  },
  "cells": [
    {
      "cell_type": "markdown",
      "metadata": {
        "id": "view-in-github",
        "colab_type": "text"
      },
      "source": [
        "<a href=\"https://colab.research.google.com/github/gulmert89/dsBootcamp/blob/master/odev112_ann.ipynb\" target=\"_parent\"><img src=\"https://colab.research.google.com/assets/colab-badge.svg\" alt=\"Open In Colab\"/></a>"
      ]
    },
    {
      "cell_type": "markdown",
      "metadata": {
        "id": "lcxkevvkuIXO"
      },
      "source": [
        "# Ödev 11.2 - Derin Öğrenmeye Giriş: Yapay Sinir Ağları"
      ]
    },
    {
      "cell_type": "markdown",
      "metadata": {
        "id": "TcAgaBFuuSN5"
      },
      "source": [
        "**Soru 1:** Bir sinir ağında her biri 512 nöronlu üç katmanımız varsa, kaç parametreyi tahmin etmemiz gerekir?\n",
        "\n",
        "*Cevap:* $3*((512+1)*512) = 787,968$ adet parametreyi tahmin etmemiz gerekir.<br>\n",
        "(Bir katmanda 512 nöron, 1 adet bias katsayısı var. Katmanlara da input değer olarak 512 değişken giriliyor.)"
      ]
    },
    {
      "cell_type": "markdown",
      "metadata": {
        "id": "KOej3fDFklnY"
      },
      "source": [
        "---"
      ]
    },
    {
      "cell_type": "markdown",
      "metadata": {
        "id": "rEb_tyi6vrux"
      },
      "source": [
        "**Soru 2:** XOR fonksiyonu yalnızca bağımsız değişkenlerden biri doğru, diğeri yanlış olduğunda doğru değeri vermektedir. Aksi takdirde, her zaman yanlış elde edilir. Bu, aşağıdaki tabloyla gösterilebilir:\n",
        "\n",
        "$x_1: 0\\space 1\\space 0\\space 1$ <br>\n",
        "$x_2: 0\\space 0\\space 1\\space 1$\n",
        "\n",
        "$x_1 \\space XOR \\space x_2: 0\\space 1\\space 1\\space 0$\n",
        "\n",
        "Bu işlevi tek bir tabaka (layer) kullanarak gerçekleştirmenin mümkün olduğunu düşünüyor musunuz? Yoksa birkaç birimden oluşan bir tabaka ile mi yapılabilir?\n",
        "\n",
        "*Cevap:* XOR işleminin, tek bir *layer* -SLP (Single Layer Perceptron)- kullanılarak gerçekleştirilmesi, işlem uzayını tek bir *hyperplane* ile ayırmak mümkün olmadığı için olası değildir. Birkaç birimden oluşan bir *hidden layer* ekleyerek problemi çözebiliriz."
      ]
    },
    {
      "cell_type": "markdown",
      "metadata": {
        "id": "hf6P5Dz-koQg"
      },
      "source": [
        "---"
      ]
    },
    {
      "cell_type": "markdown",
      "metadata": {
        "id": "-b-KHQUGhiZw"
      },
      "source": [
        "**Soru 3:** Aşağıdaki ANN'nin çıktı değerini ReLU aktivasyon fonksiyonu kullanarak hesaplayın. (y=?)\n",
        "\n",
        "*Cevap 3:*<br>\n",
        "![odev112](https://i.pinimg.com/originals/a5/c5/8d/a5c58dd6ce4cc55dfe1fd4424fbac064.png)"
      ]
    }
  ]
}