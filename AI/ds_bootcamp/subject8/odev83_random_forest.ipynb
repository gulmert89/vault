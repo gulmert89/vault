{
  "nbformat": 4,
  "nbformat_minor": 0,
  "metadata": {
    "colab": {
      "name": "odev83_random-forest.ipynb",
      "provenance": [],
      "collapsed_sections": [
        "3vbrmOZa89Lj",
        "3CzX6kBd7BMA"
      ],
      "include_colab_link": true
    },
    "kernelspec": {
      "name": "python3",
      "display_name": "Python 3"
    }
  },
  "cells": [
    {
      "cell_type": "markdown",
      "metadata": {
        "id": "view-in-github",
        "colab_type": "text"
      },
      "source": [
        "<a href=\"https://colab.research.google.com/github/gulmert89/dsBootcamp/blob/master/odev83_random_forest.ipynb\" target=\"_parent\"><img src=\"https://colab.research.google.com/assets/colab-badge.svg\" alt=\"Open In Colab\"/></a>"
      ]
    },
    {
      "cell_type": "markdown",
      "metadata": {
        "id": "3vbrmOZa89Lj",
        "colab_type": "text"
      },
      "source": [
        "# Project 2: Regression Project\n",
        "Data Set: [Mercedes-Benz Greener Manufacturing](https://www.kaggle.com/c/mercedes-benz-greener-manufacturing) <br>\n",
        "*\\\"Can you cut the time a Mercedes-Benz spends on the test bench?\\\"*"
      ]
    },
    {
      "cell_type": "code",
      "metadata": {
        "id": "c8CEMcJ5GqrP",
        "colab_type": "code",
        "colab": {
          "base_uri": "https://localhost:8080/"
        },
        "outputId": "e8ac402e-152d-4d4d-93f3-3c00a9cb8520"
      },
      "source": [
        "from google.colab import drive\n",
        "drive.mount('/content/drive/')\n",
        "\n",
        "import pandas as pd\n",
        "import matplotlib.pyplot as plt\n",
        "import numpy as np\n",
        "import seaborn as sns\n",
        "from sklearn.model_selection import train_test_split\n",
        "import warnings\n",
        "warnings.filterwarnings(\"ignore\")\n",
        "\n",
        "sns.set(style=\"whitegrid\")\n",
        "title_font = {\"family\":\"sans-serif\", \n",
        "              \"color\":\"gray\", \n",
        "              \"size\":16, \n",
        "              \"weight\":\"bold\"}\n",
        "axis_font = {\"family\":\"sans\", \n",
        "              \"color\":\"gray\", \n",
        "              \"size\":14, \n",
        "              \"weight\":\"normal\"}\n",
        "\n",
        "train = pd.read_csv(\"/content/drive/My Drive/MertColab/proje2/train.csv\")\n",
        "test = pd.read_csv(\"/content/drive/My Drive/MertColab/proje2/test.csv\")\n",
        "\n",
        "# Let's convert the data of these columns to numeric values.\n",
        "# e.g a=1, c=3, z=26, aa=27, ac=29, ba=54, bd=57 etc.\n",
        "from string import ascii_lowercase\n",
        "\n",
        "for data in (test, train):\n",
        "    for col in data.columns[1:10]:\n",
        "        temp = 1\n",
        "        for var1 in ascii_lowercase:\n",
        "            var2 = \"a\" + var1\n",
        "            var3 = \"b\" + var1\n",
        "            data[col] = data[col].replace(var1, temp)\n",
        "            data[col] = data[col].replace(var2, temp+26)\n",
        "            data[col] = data[col].replace(var3, temp+26*2)\n",
        "            temp+=1\n",
        "        data[col] = data[col].astype(\"int64\")    # data types are also changed.\n",
        "\n",
        "# Standardization of these numeric values\n",
        "from sklearn.preprocessing import scale\n",
        "\n",
        "for col in train.columns[2:10]:\n",
        "    train[col] = scale(train[col])\n",
        "    test[col] = scale(test[col])\n",
        "\n",
        "# REGRESSION MODELS\n",
        "import statsmodels.api as sm\n",
        "import warnings\n",
        "warnings.filterwarnings(\"ignore\")\n",
        "\n",
        "X = train.iloc[:, 2:]\n",
        "Y = train.y\n",
        "x_train, x_test, y_train, y_test = train_test_split(X, Y, test_size=0.2, random_state=42)\n",
        "\n",
        "x_train = sm.add_constant(x_train)\n",
        "x_test = sm.add_constant(x_test)\n",
        "results_model = sm.OLS(y_train, x_train)\n",
        "results_ols = results_model.fit()\n",
        "print(\"\\nAdjusted R-square value of OLS Model: %.4f\" %results_ols.rsquared_adj)\n",
        "\n",
        "from sklearn.linear_model import Ridge, Lasso, ElasticNet, RidgeCV, LassoCV, ElasticNetCV\n",
        "lasso_CV = LassoCV(alphas=np.logspace(-1, 10, 10), cv=10).fit(x_train, y_train)\n",
        "lasso_score = lasso_CV.score(x_train, y_train)\n",
        "print(\"Adjusted R-square value of Lasso Model: %.4f\" %lasso_score)\n",
        "\n",
        "ridge_CV = RidgeCV(alphas=np.logspace(-4, 100, 10), cv=10).fit(x_train, y_train)\n",
        "ridge_score = ridge_CV.score(x_train,y_train)\n",
        "print(\"Adjusted R-square value of Ridge Model: %.4f\" %ridge_score)\n",
        "\n",
        "elasticNet_CV = ElasticNetCV(alphas=np.logspace(-6, 100, 20), l1_ratio=0.5, cv=10).fit(x_train, y_train)\n",
        "elasticNet_score = elasticNet_CV.score(x_train, y_train)\n",
        "print(\"Adjusted R-square value of ElasticNet Model: %.4f\" %elasticNet_score)"
      ],
      "execution_count": null,
      "outputs": [
        {
          "output_type": "stream",
          "text": [
            "Go to this URL in a browser: https://accounts.google.com/o/oauth2/auth?client_id=947318989803-6bn6qk8qdgf4n4g3pfee6491hc0brc4i.apps.googleusercontent.com&redirect_uri=urn%3aietf%3awg%3aoauth%3a2.0%3aoob&scope=email%20https%3a%2f%2fwww.googleapis.com%2fauth%2fdocs.test%20https%3a%2f%2fwww.googleapis.com%2fauth%2fdrive%20https%3a%2f%2fwww.googleapis.com%2fauth%2fdrive.photos.readonly%20https%3a%2f%2fwww.googleapis.com%2fauth%2fpeopleapi.readonly&response_type=code\n",
            "\n",
            "Enter your authorization code:\n",
            "··········\n",
            "Mounted at /content/drive/\n"
          ],
          "name": "stdout"
        },
        {
          "output_type": "stream",
          "text": [
            "/usr/local/lib/python3.6/dist-packages/statsmodels/tools/_testing.py:19: FutureWarning: pandas.util.testing is deprecated. Use the functions in the public API at pandas.testing instead.\n",
            "  import pandas.util.testing as tm\n"
          ],
          "name": "stderr"
        },
        {
          "output_type": "stream",
          "text": [
            "\n",
            "Adjusted R-square value of OLS Model: 0.5575\n",
            "Adjusted R-square value of Lasso Model: 0.5386\n",
            "Adjusted R-square value of Ridge Model: 0.5915\n",
            "Adjusted R-square value of ElasticNet Model: 0.5913\n"
          ],
          "name": "stdout"
        }
      ]
    },
    {
      "cell_type": "markdown",
      "metadata": {
        "id": "Ad7E16-494qf",
        "colab_type": "text"
      },
      "source": [
        "***\n",
        "# Ödev 8.3 - Random Forest (Project 2)"
      ]
    },
    {
      "cell_type": "code",
      "metadata": {
        "id": "1yUIYHZu90GC",
        "colab_type": "code",
        "colab": {}
      },
      "source": [
        "#from sklearn.tree import DecisionTreeRegressor, export_graphviz\n",
        "from sklearn.ensemble import RandomForestRegressor\n",
        "from sklearn.model_selection import GridSearchCV\n",
        "from sklearn.metrics import mean_squared_error, accuracy_score\n",
        "#import pydotplus\n",
        "#import graphviz\n",
        "#from IPython.display import Image"
      ],
      "execution_count": null,
      "outputs": []
    },
    {
      "cell_type": "code",
      "metadata": {
        "id": "xcy4PS7u1MJp",
        "colab_type": "code",
        "colab": {}
      },
      "source": [
        "x_train.drop(\"const\", inplace=True, axis=\"columns\")"
      ],
      "execution_count": null,
      "outputs": []
    },
    {
      "cell_type": "code",
      "metadata": {
        "id": "r8nXuILyCsWq",
        "colab_type": "code",
        "colab": {
          "base_uri": "https://localhost:8080/",
          "height": 119
        },
        "outputId": "66e2a61a-7248-4f50-9128-6b4a5f96c071"
      },
      "source": [
        "%%time\n",
        "parameters = {\"n_estimators\":range(50,251,50), \n",
        "              \"max_depth\":range(1,11), \n",
        "              \"min_samples_split\":range(2,5)}\n",
        "forest1 = RandomForestRegressor(random_state=42)\n",
        "grid_cv = GridSearchCV(estimator=forest1, param_grid=parameters, cv=10)\n",
        "grid_cv.fit(x_train, y_train)\n",
        "y_predict = grid_cv.predict(x_test)\n",
        "mse_forest1 = mean_squared_error(y_predict, y_test)\n",
        "print(\"En iyi eğitim parametreleri :\", grid_cv.best_params_)\n",
        "print(\"En iyi eğitim skoru         :\", grid_cv.best_score_)\n",
        "print(f\"Root Mean Square Error değeri: {np.sqrt(mse_forest1):.2f}\\n\")"
      ],
      "execution_count": null,
      "outputs": [
        {
          "output_type": "stream",
          "text": [
            "En iyi eğitim parametreleri : {'max_depth': 3, 'min_samples_split': 2, 'n_estimators': 200}\n",
            "En iyi eğitim skoru         : 0.5637510020095595\n",
            "Root Mean Square Error değeri: 7.90\n",
            "\n",
            "CPU times: user 1h 29min 22s, sys: 4.87 s, total: 1h 29min 27s\n",
            "Wall time: 1h 29min 33s\n"
          ],
          "name": "stdout"
        }
      ]
    },
    {
      "cell_type": "code",
      "metadata": {
        "id": "qf7E_Ox3HiKM",
        "colab_type": "code",
        "colab": {
          "base_uri": "https://localhost:8080/",
          "height": 359
        },
        "outputId": "a74b9e31-d790-45c7-fc8e-81d3eda147f5"
      },
      "source": [
        "results = pd.DataFrame(grid_cv.cv_results_)\n",
        "results = results[[\"param_max_depth\", \"param_min_samples_split\",\n",
        "                   \"param_n_estimators\", \"mean_test_score\"]]\n",
        "results = results.sort_values(by=\"mean_test_score\", ascending=False)\n",
        "results.head(10)"
      ],
      "execution_count": null,
      "outputs": [
        {
          "output_type": "execute_result",
          "data": {
            "text/html": [
              "<div>\n",
              "<style scoped>\n",
              "    .dataframe tbody tr th:only-of-type {\n",
              "        vertical-align: middle;\n",
              "    }\n",
              "\n",
              "    .dataframe tbody tr th {\n",
              "        vertical-align: top;\n",
              "    }\n",
              "\n",
              "    .dataframe thead th {\n",
              "        text-align: right;\n",
              "    }\n",
              "</style>\n",
              "<table border=\"1\" class=\"dataframe\">\n",
              "  <thead>\n",
              "    <tr style=\"text-align: right;\">\n",
              "      <th></th>\n",
              "      <th>param_max_depth</th>\n",
              "      <th>param_min_samples_split</th>\n",
              "      <th>param_n_estimators</th>\n",
              "      <th>mean_test_score</th>\n",
              "    </tr>\n",
              "  </thead>\n",
              "  <tbody>\n",
              "    <tr>\n",
              "      <th>43</th>\n",
              "      <td>3</td>\n",
              "      <td>4</td>\n",
              "      <td>200</td>\n",
              "      <td>0.563751</td>\n",
              "    </tr>\n",
              "    <tr>\n",
              "      <th>33</th>\n",
              "      <td>3</td>\n",
              "      <td>2</td>\n",
              "      <td>200</td>\n",
              "      <td>0.563751</td>\n",
              "    </tr>\n",
              "    <tr>\n",
              "      <th>38</th>\n",
              "      <td>3</td>\n",
              "      <td>3</td>\n",
              "      <td>200</td>\n",
              "      <td>0.563751</td>\n",
              "    </tr>\n",
              "    <tr>\n",
              "      <th>42</th>\n",
              "      <td>3</td>\n",
              "      <td>4</td>\n",
              "      <td>150</td>\n",
              "      <td>0.563664</td>\n",
              "    </tr>\n",
              "    <tr>\n",
              "      <th>37</th>\n",
              "      <td>3</td>\n",
              "      <td>3</td>\n",
              "      <td>150</td>\n",
              "      <td>0.563664</td>\n",
              "    </tr>\n",
              "    <tr>\n",
              "      <th>32</th>\n",
              "      <td>3</td>\n",
              "      <td>2</td>\n",
              "      <td>150</td>\n",
              "      <td>0.563664</td>\n",
              "    </tr>\n",
              "    <tr>\n",
              "      <th>44</th>\n",
              "      <td>3</td>\n",
              "      <td>4</td>\n",
              "      <td>250</td>\n",
              "      <td>0.563618</td>\n",
              "    </tr>\n",
              "    <tr>\n",
              "      <th>39</th>\n",
              "      <td>3</td>\n",
              "      <td>3</td>\n",
              "      <td>250</td>\n",
              "      <td>0.563618</td>\n",
              "    </tr>\n",
              "    <tr>\n",
              "      <th>34</th>\n",
              "      <td>3</td>\n",
              "      <td>2</td>\n",
              "      <td>250</td>\n",
              "      <td>0.563618</td>\n",
              "    </tr>\n",
              "    <tr>\n",
              "      <th>31</th>\n",
              "      <td>3</td>\n",
              "      <td>2</td>\n",
              "      <td>100</td>\n",
              "      <td>0.563255</td>\n",
              "    </tr>\n",
              "  </tbody>\n",
              "</table>\n",
              "</div>"
            ],
            "text/plain": [
              "   param_max_depth param_min_samples_split param_n_estimators  mean_test_score\n",
              "43               3                       4                200         0.563751\n",
              "33               3                       2                200         0.563751\n",
              "38               3                       3                200         0.563751\n",
              "42               3                       4                150         0.563664\n",
              "37               3                       3                150         0.563664\n",
              "32               3                       2                150         0.563664\n",
              "44               3                       4                250         0.563618\n",
              "39               3                       3                250         0.563618\n",
              "34               3                       2                250         0.563618\n",
              "31               3                       2                100         0.563255"
            ]
          },
          "metadata": {
            "tags": []
          },
          "execution_count": 5
        }
      ]
    },
    {
      "cell_type": "code",
      "metadata": {
        "id": "TTsBoRILnqwL",
        "colab_type": "code",
        "colab": {
          "base_uri": "https://localhost:8080/",
          "height": 34
        },
        "outputId": "90fcf726-9543-4a8d-eaab-8081e2c35b1c"
      },
      "source": [
        "print(\"Test score: \", grid_cv.score(x_test, y_test))"
      ],
      "execution_count": null,
      "outputs": [
        {
          "output_type": "stream",
          "text": [
            "Test skoru:  0.5987850336963638\n"
          ],
          "name": "stdout"
        }
      ]
    },
    {
      "cell_type": "code",
      "metadata": {
        "id": "qEUI1KoeIYfQ",
        "colab_type": "code",
        "colab": {}
      },
      "source": [
        "%%time\n",
        "# without GridSearchCV\n",
        "forest2 = RandomForestRegressor(n_estimators=200, \n",
        "                                max_depth=None, \n",
        "                                random_state=42, \n",
        "                                min_samples_split=4)\n",
        "display(forest2.fit(x_train, y_train))"
      ],
      "execution_count": null,
      "outputs": []
    },
    {
      "cell_type": "code",
      "metadata": {
        "id": "qdIcePv2d6Im",
        "colab_type": "code",
        "colab": {}
      },
      "source": [
        "print(\"Test score:\", forest2.score(x_test, y_test))"
      ],
      "execution_count": null,
      "outputs": []
    },
    {
      "cell_type": "code",
      "metadata": {
        "id": "-xySYyxe1itC",
        "colab_type": "code",
        "colab": {
          "base_uri": "https://localhost:8080/",
          "height": 284
        },
        "outputId": "dd61e921-c5d0-415f-e210-d7257d6dbeaf"
      },
      "source": [
        "# let's display the most significant variables\n",
        "# below, \"sp\" means \"significant pairs\"\n",
        "sp = dict(zip(x_train.columns, forest2.feature_importances_))\n",
        "sp = {k: v for k, v in sorted(sp.items(), key=lambda i: i[1], reverse=True)}\n",
        "\n",
        "# to keep things clear, we chose the first 15 words & values\n",
        "significant_names = list(sp.keys())[:15]\n",
        "significant_values = list(sp.values())[:15]\n",
        "\n",
        "significance = pd.Series(data=significant_values,\n",
        "                         index=significant_names).sort_values()\n",
        "significance.plot(kind=\"barh\", color=\"darkred\")\n",
        "plt.title(\"First 15 Significance Values\")\n",
        "plt.show()"
      ],
      "execution_count": null,
      "outputs": [
        {
          "output_type": "display_data",
          "data": {
            "image/png": "[encoded data removed]",
            "text/plain": [
              "<Figure size 432x288 with 1 Axes>"
            ]
          },
          "metadata": {
            "tags": [],
            "needs_background": "light"
          }
        }
      ]
    },
    {
      "cell_type": "markdown",
      "metadata": {
        "id": "1iUibI5rholA",
        "colab_type": "text"
      },
      "source": [
        "---\n",
        "***\n",
        "---"
      ]
    },
    {
      "cell_type": "markdown",
      "metadata": {
        "id": "3CzX6kBd7BMA",
        "colab_type": "text"
      },
      "source": [
        "# Project 3: Classification Project\n",
        "Data Set: [Twitter US Airline Sentiment](https://www.kaggle.com/crowdflower/twitter-airline-sentiment) <br>\n",
        "*\\\"Analyze how travelers in February 2015 expressed their feelings on Twitter\\\"*"
      ]
    },
    {
      "cell_type": "code",
      "metadata": {
        "id": "PFq_SsQcDb1r",
        "colab_type": "code",
        "colab": {
          "base_uri": "https://localhost:8080/"
        },
        "outputId": "6c6c0bed-7230-4ada-e7f9-00bf36b00086"
      },
      "source": [
        "%matplotlib inline\n",
        "sns.set(style=\"whitegrid\")\n",
        "\n",
        "# calling our honor guest:\n",
        "tweets = pd.read_csv(\"/content/drive/My Drive/MertColab/proje3/tweets.csv\")\n",
        "\n",
        "# ...and she takes off her fancy fur coat and some other unnecessary ornaments \n",
        "tweets.drop(columns=[\"tweet_id\", \"airline_sentiment_gold\", \"name\", \n",
        "                     \"negativereason_gold\", \"retweet_count\", \"tweet_created\", \n",
        "                     \"tweet_coord\", \"tweet_created\", \"tweet_location\", \n",
        "                     \"user_timezone\"], \n",
        "            inplace=True)\n",
        "\n",
        "# We are going to clean the tweets to keep only the English words\n",
        "import re, string, nltk\n",
        "nltk.download('words')\n",
        "words = set(nltk.corpus.words.words())\n",
        "\n",
        "# The twitter accounts mentioned:\n",
        "set_them = set()\n",
        "for i in tweets.text:\n",
        "    search_them = re.search(r\"(^|[^@\\w])@(\\w{1,15})\\b\", i)\n",
        "    give_them = search_them.group().lower()\n",
        "    set_them.add(give_them)\n",
        "del set_them\n",
        "\n",
        "# These are the Twitter accounts we will remove:\n",
        "# @virginamerica, @united, @southwestair, @deltaassist, @usairways, @americanair\n",
        "\n",
        "def tweet_cleaner(tweet):\n",
        "    \"Symbols, numbers & airline brand cleaner function!\"\n",
        "    # First step: Symbols and numbers are gone:\n",
        "    cleaned_string = re.sub(\"[^a-zA-Z]\", \" \", tweet)\n",
        "\n",
        "    # Party people here speak only English. No other languages are allowed:\n",
        "    cleaned_string = \" \".join(w for w in nltk.wordpunct_tokenize(cleaned_string) \\\n",
        "         if w.lower() in words)\n",
        "\n",
        "    # Second step: Putting them to a list:\n",
        "    cleaned_set = set(cleaned_string.lower().split())\n",
        "    # Let's get rid of our meaningless one-letter friends: \n",
        "    what_to_clean = list(string.ascii_lowercase)\n",
        "    # ...and some of their drunk buddies:\n",
        "    what_to_clean.extend([\"it\", \"of\", \"co\", \"to\", \"http\"])\n",
        "    # We don't need any officials in our party as well:\n",
        "    what_to_clean.extend([\"virginamerica\", \"united\", \n",
        "                       \"southwestair\", \"deltaassist\",\n",
        "                       \"usairways\", \"americanair\"])\n",
        "    for delete in what_to_clean:\n",
        "        try:\n",
        "            cleaned_set.remove(delete)\n",
        "        except:\n",
        "            continue    \n",
        "    return list(cleaned_set)\n",
        "\n",
        "# We need to convert the \"airline_sentiment\" to numbers.\n",
        "for i,j in enumerate(tweets.airline_sentiment.unique()):\n",
        "    tweets.airline_sentiment = tweets.airline_sentiment.replace(j, i)\n",
        "tweets.airline_sentiment.astype(\"int64\")\n",
        "\n",
        "# We are going to collect all the words and give them binary inputs (1 or 0)\n",
        "# according to their entities in the tweets.\n",
        "all_words = set()\n",
        "rows=[]\n",
        "for i in tweets.index:\n",
        "    listed_tweet = tweet_cleaner(tweets.text[i])\n",
        "    rows.append(listed_tweet)\n",
        "    all_words.update(listed_tweet)\n",
        "\n",
        "# filling the data frame with binary values according to the words\n",
        "df_words = pd.DataFrame(0, columns=all_words, index=tweets.index)\n",
        "for i in tweets.index:\n",
        "    df_words.loc[i, rows[i]]=1\n",
        "\n",
        "# it's time to concatenate the data frames\n",
        "tweets = pd.concat([tweets, df_words], ignore_index=False, axis=\"columns\")\n",
        "\n",
        "# Linear Regression Models\n",
        "from sklearn.model_selection import RandomizedSearchCV\n",
        "from sklearn.model_selection import cross_validate, cross_val_score\n",
        "from sklearn.linear_model import LogisticRegression, LogisticRegressionCV\n",
        "\n",
        "X = tweets.iloc[:, 6:]\n",
        "Y = tweets.airline_sentiment\n",
        "x_train, x_test, y_train, y_test = train_test_split(X, Y, test_size=0.2, random_state=42)\n",
        "\n",
        "lr_model1 = LogisticRegression(C=0.1, solver=\"lbfgs\", max_iter=300, n_jobs=-1)\n",
        "lr_model1.fit(x_train, y_train)\n",
        "train_score_model1 = lr_model1.score(x_train, y_train)\n",
        "test_score_model1 = lr_model1.score(x_test, y_test)\n",
        "\n",
        "print(\"\\nTrain score with 'lbfgs' solver: {:.3f}\".format(train_score_model1))\n",
        "print(\"Test score with 'lbfgs' solver: {:.3f}\".format(test_score_model1), \"\\n\")"
      ],
      "execution_count": null,
      "outputs": [
        {
          "output_type": "stream",
          "text": [
            "[nltk_data] Downloading package words to /root/nltk_data...\n",
            "[nltk_data]   Unzipping corpora/words.zip.\n",
            "\n",
            "Train score with 'lbfgs' solver: 0.824\n",
            "Test score with 'lbfgs' solver: 0.789 \n",
            "\n"
          ],
          "name": "stdout"
        }
      ]
    },
    {
      "cell_type": "markdown",
      "metadata": {
        "id": "JQvn3ll9XSBa",
        "colab_type": "text"
      },
      "source": [
        "***\n",
        "# Ödev 8.3 - Random Forest (Project 3)"
      ]
    },
    {
      "cell_type": "code",
      "metadata": {
        "id": "j56GWdASkHFA",
        "colab_type": "code",
        "colab": {}
      },
      "source": [
        "from sklearn.ensemble import RandomForestClassifier"
      ],
      "execution_count": null,
      "outputs": []
    },
    {
      "cell_type": "code",
      "metadata": {
        "id": "apCVYE2EGHl4",
        "colab_type": "code",
        "colab": {
          "base_uri": "https://localhost:8080/",
          "height": 207
        },
        "outputId": "fadd84d1-415f-4e26-b437-53fde12bb6df"
      },
      "source": [
        "%%time\n",
        "# without GridSearchCV\n",
        "results = pd.DataFrame(columns=[\"max_depth\", \"n_estimators\", \n",
        "                                \"min_samples_split\", \"accuracy_score\"])\n",
        "\n",
        "parameters = [[50,None,2], [100,None,2], \n",
        "              [100,2,3], [200,3,4]]\n",
        "\n",
        "def forest(n, depth, split):\n",
        "    global results\n",
        "    forest1 = RandomForestClassifier(n_estimators=n, \n",
        "                                    max_depth=depth, \n",
        "                                    random_state=42, \n",
        "                                    min_samples_split=split)\n",
        "    forest1.fit(x_train, y_train)\n",
        "    y_predict = forest1.predict(x_test)\n",
        "    accuracy_value = accuracy_score(y_test, y_predict)\n",
        "    results = results.append({\"max_depth\":depth, \n",
        "                \"n_estimators\":n, \n",
        "                \"min_samples_split\":split, \n",
        "                \"accuracy_score\":accuracy_value}, \n",
        "                ignore_index=True)\n",
        "    #return results\n",
        "\n",
        "for n, depth, split in parameters:\n",
        "    forest(n, depth, split)\n",
        "\n",
        "results = results.sort_values(by=\"accuracy_score\", ascending=False)\n",
        "results = results.astype({\"n_estimators\":\"int64\", \"min_samples_split\":\"int64\"})\n",
        "display(results)"
      ],
      "execution_count": null,
      "outputs": [
        {
          "output_type": "display_data",
          "data": {
            "text/html": [
              "<div>\n",
              "<style scoped>\n",
              "    .dataframe tbody tr th:only-of-type {\n",
              "        vertical-align: middle;\n",
              "    }\n",
              "\n",
              "    .dataframe tbody tr th {\n",
              "        vertical-align: top;\n",
              "    }\n",
              "\n",
              "    .dataframe thead th {\n",
              "        text-align: right;\n",
              "    }\n",
              "</style>\n",
              "<table border=\"1\" class=\"dataframe\">\n",
              "  <thead>\n",
              "    <tr style=\"text-align: right;\">\n",
              "      <th></th>\n",
              "      <th>max_depth</th>\n",
              "      <th>n_estimators</th>\n",
              "      <th>min_samples_split</th>\n",
              "      <th>accuracy_score</th>\n",
              "    </tr>\n",
              "  </thead>\n",
              "  <tbody>\n",
              "    <tr>\n",
              "      <th>1</th>\n",
              "      <td>NaN</td>\n",
              "      <td>100</td>\n",
              "      <td>2</td>\n",
              "      <td>0.764344</td>\n",
              "    </tr>\n",
              "    <tr>\n",
              "      <th>0</th>\n",
              "      <td>NaN</td>\n",
              "      <td>50</td>\n",
              "      <td>2</td>\n",
              "      <td>0.758880</td>\n",
              "    </tr>\n",
              "    <tr>\n",
              "      <th>2</th>\n",
              "      <td>2.0</td>\n",
              "      <td>100</td>\n",
              "      <td>3</td>\n",
              "      <td>0.645150</td>\n",
              "    </tr>\n",
              "    <tr>\n",
              "      <th>3</th>\n",
              "      <td>3.0</td>\n",
              "      <td>200</td>\n",
              "      <td>4</td>\n",
              "      <td>0.645150</td>\n",
              "    </tr>\n",
              "  </tbody>\n",
              "</table>\n",
              "</div>"
            ],
            "text/plain": [
              "   max_depth  n_estimators  min_samples_split  accuracy_score\n",
              "1        NaN           100                  2        0.764344\n",
              "0        NaN            50                  2        0.758880\n",
              "2        2.0           100                  3        0.645150\n",
              "3        3.0           200                  4        0.645150"
            ]
          },
          "metadata": {
            "tags": []
          }
        },
        {
          "output_type": "stream",
          "text": [
            "CPU times: user 50.7 s, sys: 44.7 ms, total: 50.7 s\n",
            "Wall time: 50.9 s\n"
          ],
          "name": "stdout"
        }
      ]
    },
    {
      "cell_type": "code",
      "metadata": {
        "id": "ThPmPI1sv7P3",
        "colab_type": "code",
        "colab": {
          "base_uri": "https://localhost:8080/",
          "height": 153
        },
        "outputId": "d82bdf3d-7120-48c5-f688-00466af9cfb7"
      },
      "source": [
        "# let's display the most significant variables\n",
        "forest2 = RandomForestClassifier(n_estimators=100)\n",
        "forest2.fit(x_train, y_train)"
      ],
      "execution_count": null,
      "outputs": [
        {
          "output_type": "execute_result",
          "data": {
            "text/plain": [
              "RandomForestClassifier(bootstrap=True, ccp_alpha=0.0, class_weight=None,\n",
              "                       criterion='gini', max_depth=None, max_features='auto',\n",
              "                       max_leaf_nodes=None, max_samples=None,\n",
              "                       min_impurity_decrease=0.0, min_impurity_split=None,\n",
              "                       min_samples_leaf=1, min_samples_split=2,\n",
              "                       min_weight_fraction_leaf=0.0, n_estimators=100,\n",
              "                       n_jobs=None, oob_score=False, random_state=None,\n",
              "                       verbose=0, warm_start=False)"
            ]
          },
          "metadata": {
            "tags": []
          },
          "execution_count": 9
        }
      ]
    },
    {
      "cell_type": "code",
      "metadata": {
        "id": "BGuCb1yNwm9-",
        "colab_type": "code",
        "colab": {}
      },
      "source": [
        "# below, \"sp\" means \"significant pairs\"\n",
        "sp = dict(zip(x_train.columns, forest2.feature_importances_))\n",
        "sp = {k: v for k, v in sorted(sp.items(), key=lambda i: i[1], reverse=True)}"
      ],
      "execution_count": null,
      "outputs": []
    },
    {
      "cell_type": "code",
      "metadata": {
        "id": "jr554gi2s-sL",
        "colab_type": "code",
        "colab": {
          "base_uri": "https://localhost:8080/",
          "height": 284
        },
        "outputId": "d4634bda-0b2f-44e5-a372-1c82eef05628"
      },
      "source": [
        "# to keep things clear, we chose the first 15 words & values\n",
        "significant_names = list(sp.keys())[:15]\n",
        "significant_values = list(sp.values())[:15]\n",
        "\n",
        "significance = pd.Series(data=significant_values,\n",
        "                         index=significant_names).sort_values()\n",
        "significance.plot(kind=\"barh\", color=\"darkred\")\n",
        "plt.title(\"First 15 Significance Values\")\n",
        "plt.show()"
      ],
      "execution_count": null,
      "outputs": [
        {
          "output_type": "display_data",
          "data": {
            "image/png": "[encoded data removed]",
            "text/plain": [
              "<Figure size 432x288 with 1 Axes>"
            ]
          },
          "metadata": {
            "tags": []
          }
        }
      ]
    },
    {
      "cell_type": "markdown",
      "metadata": {
        "id": "IQ2WYHf8YoOi",
        "colab_type": "text"
      },
      "source": [
        "# Bonus: Ensemble Methods\n",
        "Stacking & Bagging"
      ]
    },
    {
      "cell_type": "code",
      "metadata": {
        "id": "si_BUNCmYy4Q",
        "colab_type": "code",
        "colab": {}
      },
      "source": [
        ""
      ],
      "execution_count": null,
      "outputs": []
    }
  ]
}