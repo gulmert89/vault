{
  "nbformat": 4,
  "nbformat_minor": 0,
  "metadata": {
    "colab": {
      "name": "odev87_light-gbm.ipynb",
      "provenance": [],
      "collapsed_sections": [
        "3vbrmOZa89Lj",
        "3CzX6kBd7BMA"
      ],
      "include_colab_link": true
    },
    "kernelspec": {
      "name": "python3",
      "display_name": "Python 3"
    }
  },
  "cells": [
    {
      "cell_type": "markdown",
      "metadata": {
        "id": "view-in-github",
        "colab_type": "text"
      },
      "source": [
        "<a href=\"https://colab.research.google.com/github/gulmert89/dsBootcamp/blob/master/odev87_light_gbm.ipynb\" target=\"_parent\"><img src=\"https://colab.research.google.com/assets/colab-badge.svg\" alt=\"Open In Colab\"/></a>"
      ]
    },
    {
      "cell_type": "markdown",
      "metadata": {
        "id": "3vbrmOZa89Lj",
        "colab_type": "text"
      },
      "source": [
        "# Project 2: Regression Project\n",
        "Data Set: [Mercedes-Benz Greener Manufacturing](https://www.kaggle.com/c/mercedes-benz-greener-manufacturing) <br>\n",
        "*\\\"Can you cut the time a Mercedes-Benz spends on the test bench?\\\"*"
      ]
    },
    {
      "cell_type": "code",
      "metadata": {
        "id": "c8CEMcJ5GqrP",
        "colab_type": "code",
        "colab": {
          "base_uri": "https://localhost:8080/",
          "height": 241
        },
        "outputId": "b3f84adf-8053-4095-d93d-52ca830cfd4b"
      },
      "source": [
        "from google.colab import drive\n",
        "drive.mount('/content/drive/')\n",
        "\n",
        "import pandas as pd\n",
        "import matplotlib.pyplot as plt\n",
        "import numpy as np\n",
        "import seaborn as sns\n",
        "from sklearn.model_selection import train_test_split, GridSearchCV\n",
        "from sklearn.metrics import mean_squared_error, accuracy_score\n",
        "#import warnings\n",
        "#warnings.filterwarnings(\"ignore\")\n",
        "\n",
        "sns.set(style=\"whitegrid\")\n",
        "title_font = {\"family\":\"sans-serif\", \n",
        "              \"color\":\"gray\", \n",
        "              \"size\":16, \n",
        "              \"weight\":\"bold\"}\n",
        "axis_font = {\"family\":\"sans\", \n",
        "              \"color\":\"gray\", \n",
        "              \"size\":14, \n",
        "              \"weight\":\"normal\"}\n",
        "\n",
        "train = pd.read_csv(\"/content/drive/My Drive/MertColab/proje2/train.csv\")\n",
        "test = pd.read_csv(\"/content/drive/My Drive/MertColab/proje2/test.csv\")\n",
        "\n",
        "# Let's convert the data of these columns to numeric values.\n",
        "# e.g a=1, c=3, z=26, aa=27, ac=29, ba=54, bd=57 etc.\n",
        "from string import ascii_lowercase\n",
        "\n",
        "for data in (test, train):\n",
        "    for col in data.columns[1:10]:\n",
        "        temp = 1\n",
        "        for var1 in ascii_lowercase:\n",
        "            var2 = \"a\" + var1\n",
        "            var3 = \"b\" + var1\n",
        "            data[col] = data[col].replace(var1, temp)\n",
        "            data[col] = data[col].replace(var2, temp+26)\n",
        "            data[col] = data[col].replace(var3, temp+26*2)\n",
        "            temp+=1\n",
        "        data[col] = data[col].astype(\"int64\")    # data types are also changed.\n",
        "\n",
        "# Standardization of these numeric values\n",
        "from sklearn.preprocessing import scale\n",
        "\n",
        "for col in train.columns[2:10]:\n",
        "    train[col] = scale(train[col])\n",
        "    test[col] = scale(test[col])\n",
        "\n",
        "# REGRESSION MODELS\n",
        "import statsmodels.api as sm\n",
        "import warnings\n",
        "warnings.filterwarnings(\"ignore\")\n",
        "\n",
        "X = train.iloc[:, 2:]\n",
        "Y = train.y\n",
        "x_train, x_test, y_train, y_test = train_test_split(X, Y, test_size=0.2, random_state=42)\n",
        "\n",
        "x_train = sm.add_constant(x_train)\n",
        "x_test = sm.add_constant(x_test)\n",
        "results_model = sm.OLS(y_train, x_train)\n",
        "results_ols = results_model.fit()\n",
        "print(\"\\nAdjusted R-square value of OLS Model: %.4f\" %results_ols.rsquared_adj)\n",
        "\n",
        "from sklearn.linear_model import Ridge, Lasso, ElasticNet, RidgeCV, LassoCV, ElasticNetCV\n",
        "lasso_CV = LassoCV(alphas=np.logspace(-1, 10, 10), cv=10).fit(x_train, y_train)\n",
        "lasso_score = lasso_CV.score(x_train, y_train)\n",
        "print(\"Adjusted R-square value of Lasso Model: %.4f\" %lasso_score)\n",
        "\n",
        "ridge_CV = RidgeCV(alphas=np.logspace(-4, 100, 10), cv=10).fit(x_train, y_train)\n",
        "ridge_score = ridge_CV.score(x_train,y_train)\n",
        "print(\"Adjusted R-square value of Ridge Model: %.4f\" %ridge_score)\n",
        "\n",
        "elasticNet_CV = ElasticNetCV(alphas=np.logspace(-6, 100, 20), l1_ratio=0.5, cv=10).fit(x_train, y_train)\n",
        "elasticNet_score = elasticNet_CV.score(x_train, y_train)\n",
        "print(\"Adjusted R-square value of ElasticNet Model: %.4f\" %elasticNet_score)"
      ],
      "execution_count": 1,
      "outputs": [
        {
          "output_type": "stream",
          "text": [
            "Go to this URL in a browser: https://accounts.google.com/o/oauth2/auth?client_id=947318989803-6bn6qk8qdgf4n4g3pfee6491hc0brc4i.apps.googleusercontent.com&redirect_uri=urn%3aietf%3awg%3aoauth%3a2.0%3aoob&scope=email%20https%3a%2f%2fwww.googleapis.com%2fauth%2fdocs.test%20https%3a%2f%2fwww.googleapis.com%2fauth%2fdrive%20https%3a%2f%2fwww.googleapis.com%2fauth%2fdrive.photos.readonly%20https%3a%2f%2fwww.googleapis.com%2fauth%2fpeopleapi.readonly&response_type=code\n",
            "\n",
            "Enter your authorization code:\n",
            "··········\n",
            "Mounted at /content/drive/\n"
          ],
          "name": "stdout"
        },
        {
          "output_type": "stream",
          "text": [
            "/usr/local/lib/python3.6/dist-packages/statsmodels/tools/_testing.py:19: FutureWarning: pandas.util.testing is deprecated. Use the functions in the public API at pandas.testing instead.\n",
            "  import pandas.util.testing as tm\n"
          ],
          "name": "stderr"
        },
        {
          "output_type": "stream",
          "text": [
            "\n",
            "Adjusted R-square value of OLS Model: 0.5575\n",
            "Adjusted R-square value of Lasso Model: 0.5386\n",
            "Adjusted R-square value of Ridge Model: 0.5915\n",
            "Adjusted R-square value of ElasticNet Model: 0.5913\n"
          ],
          "name": "stdout"
        }
      ]
    },
    {
      "cell_type": "markdown",
      "metadata": {
        "id": "Ad7E16-494qf",
        "colab_type": "text"
      },
      "source": [
        "***\n",
        "# Ödev 8.7 - Light GBM ile Boosting (Project 2)"
      ]
    },
    {
      "cell_type": "code",
      "metadata": {
        "id": "_6qH_RYkOn5e",
        "colab_type": "code",
        "colab": {}
      },
      "source": [
        "import lightgbm as lgb\n",
        "# regressor:\n",
        "# https://xgboost.readthedocs.io/en/latest/python/python_api.html#module-xgboost.sklearn\n",
        "\n",
        "x_train.drop(\"const\", inplace=True, axis=\"columns\")"
      ],
      "execution_count": 2,
      "outputs": []
    },
    {
      "cell_type": "code",
      "metadata": {
        "id": "f_N4iK1mXRwI",
        "colab_type": "code",
        "colab": {}
      },
      "source": [
        "project2_dataset = lgb.Dataset(data=x_train, label=y_train)\n",
        "parameters = {\"boosting_type\":\"gbdt\", \n",
        "              \"objective\":\"regression\", \n",
        "              \"metric\":\"rmsle\", \n",
        "              \"max_depth\":4, \n",
        "              \"silent\":False,\n",
        "              \"n_jobs\":-1, \n",
        "              \"colsample_bytree\":0.3,\n",
        "              \"learning_rate\":0.1, \n",
        "              \"min_child_weight\":0.003, \n",
        "              \"n_estimators\":100}\n",
        "\n",
        "lgb_reg = lgb.train(params=parameters,\n",
        "                    train_set=project2_dataset, \n",
        "                    num_boost_round=100)\n",
        "\n",
        "y_predict_train = lgb_reg.predict(x_train)\n",
        "y_predict_test = lgb_reg.predict(x_test)"
      ],
      "execution_count": null,
      "outputs": []
    },
    {
      "cell_type": "code",
      "metadata": {
        "id": "6Mve7lSv1pXm",
        "colab_type": "code",
        "colab": {
          "base_uri": "https://localhost:8080/",
          "height": 34
        },
        "outputId": "2a1d4dd4-1729-4e8d-b20b-6bb9f178ddbd"
      },
      "source": [
        "rmse = np.sqrt(mean_squared_error(y_test, y_predict_test))\n",
        "print(\"Root Mean Squared Error: %.2f\" % rmse)"
      ],
      "execution_count": null,
      "outputs": [
        {
          "output_type": "stream",
          "text": [
            "Root Mean Squared Error: 8.05\n"
          ],
          "name": "stdout"
        }
      ]
    },
    {
      "cell_type": "code",
      "metadata": {
        "id": "WnXojumqsCsf",
        "colab_type": "code",
        "colab": {
          "base_uri": "https://localhost:8080/",
          "height": 88
        },
        "outputId": "a2637cc7-827a-4823-e8ab-abba3131655b"
      },
      "source": [
        "%%time\n",
        "lgb_reg_gridModel = lgb.LGBMRegressor(random_state=42)\n",
        "# https://lightgbm.readthedocs.io/en/latest/pythonapi/lightgbm.LGBMRegressor.html\n",
        "parameters = {\"boosting_type\":[\"gbdt\"], \n",
        "              \"objective\":[\"regression\"], \n",
        "              \"metric\":[\"rmsle\"], \n",
        "              \"max_depth\":[2], \n",
        "              \"silent\":[False],\n",
        "              \"n_jobs\":[-1], \n",
        "              \"colsample_bytree\":[1],\n",
        "              \"learning_rate\":[0.1], \n",
        "              \"min_child_weight\":[0.003], \n",
        "              \"n_estimators\":[50, 100], \n",
        "              \"reg_alpha\":[0, 1, 10, 50],\n",
        "              \"reg_lambda\":[0, 1, 10, 50]}\n",
        "grid_cv = GridSearchCV(estimator=lgb_reg_gridModel, param_grid=parameters, cv=5)\n",
        "grid_cv.fit(x_train, y_train)\n",
        "y_predict_test = grid_cv.predict(x_test)\n",
        "rmse = np.sqrt(mean_squared_error(y_test, y_predict_test))\n",
        "print(\"Best parameters  :\", grid_cv.best_params_)"
      ],
      "execution_count": null,
      "outputs": [
        {
          "output_type": "stream",
          "text": [
            "Best parameters  : {'boosting_type': 'gbdt', 'colsample_bytree': 1, 'learning_rate': 0.1, 'max_depth': 2, 'metric': 'rmsle', 'min_child_weight': 0.003, 'n_estimators': 100, 'n_jobs': -1, 'objective': 'regression', 'reg_alpha': 10, 'reg_lambda': 10, 'silent': False}\n",
            "CPU times: user 40.1 s, sys: 685 ms, total: 40.8 s\n",
            "Wall time: 24.5 s\n"
          ],
          "name": "stdout"
        }
      ]
    },
    {
      "cell_type": "code",
      "metadata": {
        "id": "4tkqHCmSX9fB",
        "colab_type": "code",
        "colab": {
          "base_uri": "https://localhost:8080/",
          "height": 68
        },
        "outputId": "f47e3a09-2c55-474e-b5c4-df9bffd41b8d"
      },
      "source": [
        "print(f\"Root Mean Squared Error : {rmse:.3f}\")\n",
        "print(f\"Best train score : {grid_cv.score(x_train, y_train):.4f}\")\n",
        "print(f\"Best test score  : {grid_cv.score(x_test, y_test):.4f}\")"
      ],
      "execution_count": null,
      "outputs": [
        {
          "output_type": "stream",
          "text": [
            "Root Mean Squared Error : 7.924\n",
            "Best train score : 0.5798\n",
            "Best test score  : 0.5968\n"
          ],
          "name": "stdout"
        }
      ]
    },
    {
      "cell_type": "code",
      "metadata": {
        "id": "qf7E_Ox3HiKM",
        "colab_type": "code",
        "colab": {
          "base_uri": "https://localhost:8080/",
          "height": 359
        },
        "outputId": "db8e938a-2c81-4a62-a254-a7467f44dce3"
      },
      "source": [
        "results = pd.DataFrame(grid_cv.cv_results_)\n",
        "results = results[[\"param_n_estimators\", \"param_reg_alpha\", \n",
        "                   \"param_reg_lambda\", \"mean_test_score\"]]\n",
        "results = results.sort_values(by=\"mean_test_score\", ascending=False)\n",
        "results.head(10)"
      ],
      "execution_count": null,
      "outputs": [
        {
          "output_type": "execute_result",
          "data": {
            "text/html": [
              "<div>\n",
              "<style scoped>\n",
              "    .dataframe tbody tr th:only-of-type {\n",
              "        vertical-align: middle;\n",
              "    }\n",
              "\n",
              "    .dataframe tbody tr th {\n",
              "        vertical-align: top;\n",
              "    }\n",
              "\n",
              "    .dataframe thead th {\n",
              "        text-align: right;\n",
              "    }\n",
              "</style>\n",
              "<table border=\"1\" class=\"dataframe\">\n",
              "  <thead>\n",
              "    <tr style=\"text-align: right;\">\n",
              "      <th></th>\n",
              "      <th>param_n_estimators</th>\n",
              "      <th>param_reg_alpha</th>\n",
              "      <th>param_reg_lambda</th>\n",
              "      <th>mean_test_score</th>\n",
              "    </tr>\n",
              "  </thead>\n",
              "  <tbody>\n",
              "    <tr>\n",
              "      <th>26</th>\n",
              "      <td>100</td>\n",
              "      <td>10</td>\n",
              "      <td>10</td>\n",
              "      <td>0.569441</td>\n",
              "    </tr>\n",
              "    <tr>\n",
              "      <th>19</th>\n",
              "      <td>100</td>\n",
              "      <td>0</td>\n",
              "      <td>50</td>\n",
              "      <td>0.569201</td>\n",
              "    </tr>\n",
              "    <tr>\n",
              "      <th>24</th>\n",
              "      <td>100</td>\n",
              "      <td>10</td>\n",
              "      <td>0</td>\n",
              "      <td>0.569024</td>\n",
              "    </tr>\n",
              "    <tr>\n",
              "      <th>23</th>\n",
              "      <td>100</td>\n",
              "      <td>1</td>\n",
              "      <td>50</td>\n",
              "      <td>0.568997</td>\n",
              "    </tr>\n",
              "    <tr>\n",
              "      <th>30</th>\n",
              "      <td>100</td>\n",
              "      <td>50</td>\n",
              "      <td>10</td>\n",
              "      <td>0.568891</td>\n",
              "    </tr>\n",
              "    <tr>\n",
              "      <th>18</th>\n",
              "      <td>100</td>\n",
              "      <td>0</td>\n",
              "      <td>10</td>\n",
              "      <td>0.568861</td>\n",
              "    </tr>\n",
              "    <tr>\n",
              "      <th>22</th>\n",
              "      <td>100</td>\n",
              "      <td>1</td>\n",
              "      <td>10</td>\n",
              "      <td>0.568770</td>\n",
              "    </tr>\n",
              "    <tr>\n",
              "      <th>29</th>\n",
              "      <td>100</td>\n",
              "      <td>50</td>\n",
              "      <td>1</td>\n",
              "      <td>0.568769</td>\n",
              "    </tr>\n",
              "    <tr>\n",
              "      <th>17</th>\n",
              "      <td>100</td>\n",
              "      <td>0</td>\n",
              "      <td>1</td>\n",
              "      <td>0.568700</td>\n",
              "    </tr>\n",
              "    <tr>\n",
              "      <th>21</th>\n",
              "      <td>100</td>\n",
              "      <td>1</td>\n",
              "      <td>1</td>\n",
              "      <td>0.568621</td>\n",
              "    </tr>\n",
              "  </tbody>\n",
              "</table>\n",
              "</div>"
            ],
            "text/plain": [
              "   param_n_estimators param_reg_alpha param_reg_lambda  mean_test_score\n",
              "26                100              10               10         0.569441\n",
              "19                100               0               50         0.569201\n",
              "24                100              10                0         0.569024\n",
              "23                100               1               50         0.568997\n",
              "30                100              50               10         0.568891\n",
              "18                100               0               10         0.568861\n",
              "22                100               1               10         0.568770\n",
              "29                100              50                1         0.568769\n",
              "17                100               0                1         0.568700\n",
              "21                100               1                1         0.568621"
            ]
          },
          "metadata": {
            "tags": []
          },
          "execution_count": 137
        }
      ]
    },
    {
      "cell_type": "code",
      "metadata": {
        "id": "BI6f-o1fKDa1",
        "colab_type": "code",
        "colab": {
          "base_uri": "https://localhost:8080/",
          "height": 628
        },
        "outputId": "4f0b10ad-b940-4643-8237-a43eead4c89b"
      },
      "source": [
        "plt.figure(figsize=(15, 10))\n",
        "plt.title(\"True & Predicted Values\", size=14)\n",
        "ax1 = plt.scatter(y_test, y_predict_test, alpha=0.8)\n",
        "ax2 = plt.scatter(y_train, y_predict_train, alpha=0.3)\n",
        "ax3 = plt.plot(y_test, y_test, color=\"red\")\n",
        "plt.legend((ax1, ax2), (\"Test Data\", \"Train Data\"))\n",
        "plt.xlabel(\"True Values\")\n",
        "plt.ylabel(\"Predicted Values\")\n",
        "#plt.ylim((50, 175))\n",
        "#plt.xlim((50, 175))\n",
        "plt.show()"
      ],
      "execution_count": null,
      "outputs": [
        {
          "output_type": "display_data",
          "data": {
            "image/png": "[encoded data removed]",
            "text/plain": [
              "<Figure size 1080x720 with 1 Axes>"
            ]
          },
          "metadata": {
            "tags": []
          }
        }
      ]
    },
    {
      "cell_type": "markdown",
      "metadata": {
        "id": "1iUibI5rholA",
        "colab_type": "text"
      },
      "source": [
        "---\n",
        "***\n",
        "---"
      ]
    },
    {
      "cell_type": "markdown",
      "metadata": {
        "id": "3CzX6kBd7BMA",
        "colab_type": "text"
      },
      "source": [
        "# Project 3: Classification Project\n",
        "Data Set: [Twitter US Airline Sentiment](https://www.kaggle.com/crowdflower/twitter-airline-sentiment) <br>\n",
        "*\\\"Analyze how travelers in February 2015 expressed their feelings on Twitter\\\"*"
      ]
    },
    {
      "cell_type": "code",
      "metadata": {
        "id": "PFq_SsQcDb1r",
        "colab_type": "code",
        "colab": {
          "base_uri": "https://localhost:8080/",
          "height": 119
        },
        "outputId": "5b7354d7-1f1b-4ca4-b3ce-a6bd3f575a8f"
      },
      "source": [
        "%matplotlib inline\n",
        "\n",
        "# calling our honor guest:\n",
        "tweets = pd.read_csv(\"/content/drive/My Drive/MertColab/proje3/tweets.csv\")\n",
        "\n",
        "# ...and she takes off her fancy fur coat and some other unnecessary ornaments \n",
        "tweets.drop(columns=[\"tweet_id\", \"airline_sentiment_gold\", \"name\", \n",
        "                     \"negativereason_gold\", \"retweet_count\", \"tweet_created\", \n",
        "                     \"tweet_coord\", \"tweet_created\", \"tweet_location\", \n",
        "                     \"user_timezone\"], \n",
        "            inplace=True)\n",
        "\n",
        "# We are going to clean the tweets to keep only the English words\n",
        "import re, string, nltk\n",
        "nltk.download('words')\n",
        "words = set(nltk.corpus.words.words())\n",
        "\n",
        "# The twitter accounts mentioned:\n",
        "set_them = set()\n",
        "for i in tweets.text:\n",
        "    search_them = re.search(r\"(^|[^@\\w])@(\\w{1,15})\\b\", i)\n",
        "    give_them = search_them.group().lower()\n",
        "    set_them.add(give_them)\n",
        "del set_them\n",
        "\n",
        "# These are the Twitter accounts we will remove:\n",
        "# @virginamerica, @united, @southwestair, @deltaassist, @usairways, @americanair\n",
        "\n",
        "def tweet_cleaner(tweet):\n",
        "    \"Symbols, numbers & airline brand cleaner function!\"\n",
        "    # First step: Symbols and numbers are gone:\n",
        "    cleaned_string = re.sub(\"[^a-zA-Z]\", \" \", tweet)\n",
        "\n",
        "    # Party people here speak only English. No other languages are allowed:\n",
        "    cleaned_string = \" \".join(w for w in nltk.wordpunct_tokenize(cleaned_string) \\\n",
        "         if w.lower() in words)\n",
        "\n",
        "    # Second step: Putting them to a list:\n",
        "    cleaned_set = set(cleaned_string.lower().split())\n",
        "    # Let's get rid of our meaningless one-letter friends: \n",
        "    what_to_clean = list(string.ascii_lowercase)\n",
        "    # ...and some of their drunk buddies:\n",
        "    what_to_clean.extend([\"it\", \"of\", \"co\", \"to\", \"http\"])\n",
        "    # We don't need any officials in our party as well:\n",
        "    what_to_clean.extend([\"virginamerica\", \"united\", \n",
        "                       \"southwestair\", \"deltaassist\",\n",
        "                       \"usairways\", \"americanair\"])\n",
        "    for delete in what_to_clean:\n",
        "        try:\n",
        "            cleaned_set.remove(delete)\n",
        "        except:\n",
        "            continue    \n",
        "    return list(cleaned_set)\n",
        "\n",
        "# We need to convert the \"airline_sentiment\" to numbers.\n",
        "for i,j in enumerate(tweets.airline_sentiment.unique()):\n",
        "    tweets.airline_sentiment = tweets.airline_sentiment.replace(j, i)\n",
        "tweets.airline_sentiment.astype(\"int64\")\n",
        "\n",
        "# We are going to collect all the words and give them binary inputs (1 or 0)\n",
        "# according to their entities in the tweets.\n",
        "all_words = set()\n",
        "rows=[]\n",
        "for i in tweets.index:\n",
        "    listed_tweet = tweet_cleaner(tweets.text[i])\n",
        "    rows.append(listed_tweet)\n",
        "    all_words.update(listed_tweet)\n",
        "\n",
        "# filling the data frame with binary values according to the words\n",
        "df_words = pd.DataFrame(0, columns=all_words, index=tweets.index)\n",
        "for i in tweets.index:\n",
        "    df_words.loc[i, rows[i]]=1\n",
        "\n",
        "# it's time to concatenate the data frames\n",
        "tweets = pd.concat([tweets, df_words], ignore_index=False, axis=\"columns\")\n",
        "\n",
        "# Linear Regression Models\n",
        "from sklearn.model_selection import RandomizedSearchCV\n",
        "from sklearn.model_selection import cross_validate, cross_val_score\n",
        "from sklearn.linear_model import LogisticRegression, LogisticRegressionCV\n",
        "\n",
        "X = tweets.iloc[:, 6:]\n",
        "Y = tweets.airline_sentiment\n",
        "x_train, x_test, y_train, y_test = train_test_split(X, Y, test_size=0.2, random_state=42)\n",
        "\n",
        "lr_model1 = LogisticRegression(C=0.1, solver=\"lbfgs\", max_iter=300, n_jobs=-1)\n",
        "lr_model1.fit(x_train, y_train)\n",
        "train_score_model1 = lr_model1.score(x_train, y_train)\n",
        "test_score_model1 = lr_model1.score(x_test, y_test)\n",
        "\n",
        "print(\"\\nTrain score with 'lbfgs' solver: {:.3f}\".format(train_score_model1))\n",
        "print(\"Test score with 'lbfgs' solver: {:.3f}\".format(test_score_model1), \"\\n\")"
      ],
      "execution_count": 4,
      "outputs": [
        {
          "output_type": "stream",
          "text": [
            "[nltk_data] Downloading package words to /root/nltk_data...\n",
            "[nltk_data]   Unzipping corpora/words.zip.\n",
            "\n",
            "Train score with 'lbfgs' solver: 0.824\n",
            "Test score with 'lbfgs' solver: 0.789 \n",
            "\n"
          ],
          "name": "stdout"
        }
      ]
    },
    {
      "cell_type": "markdown",
      "metadata": {
        "id": "JQvn3ll9XSBa",
        "colab_type": "text"
      },
      "source": [
        "***\n",
        "# Ödev 8.7 - Light GBM ile Boosting (Project 3)"
      ]
    },
    {
      "cell_type": "code",
      "metadata": {
        "id": "GXE1ydcC5MvE",
        "colab_type": "code",
        "colab": {}
      },
      "source": [
        "import lightgbm as lgb"
      ],
      "execution_count": 5,
      "outputs": []
    },
    {
      "cell_type": "code",
      "metadata": {
        "id": "j56GWdASkHFA",
        "colab_type": "code",
        "colab": {
          "base_uri": "https://localhost:8080/",
          "height": 68
        },
        "outputId": "a8fe7ee6-5a83-4f13-d3cd-7bb742bcbd91"
      },
      "source": [
        "%%time\n",
        "lgb_reg_gridModel = lgb.LGBMClassifier(random_state=42)\n",
        "# https://lightgbm.readthedocs.io/en/latest/pythonapi/lightgbm.LGBMClassifier.html\n",
        "\n",
        "parameters = {\"boosting_type\":[\"gbdt\"], \n",
        "              \"objective\":[\"multiclass\"]}\n",
        "grid_cv = GridSearchCV(estimator=lgb_reg_gridModel, param_grid=parameters, cv=5)\n",
        "grid_cv.fit(x_train, y_train)\n",
        "y_predict_test = grid_cv.predict(x_test)\n",
        "# we need to switch the prediction probabilities to actual predictions:\n",
        "y_predict_test = [0 if prediction < 0.5 else 1 for prediction in y_predict_test]\n",
        "rmse = np.sqrt(mean_squared_error(y_test, y_predict_test))\n",
        "print(\"Best parameters  :\", grid_cv.best_params_)"
      ],
      "execution_count": 6,
      "outputs": [
        {
          "output_type": "stream",
          "text": [
            "Best parameters  : {'boosting_type': 'gbdt', 'objective': 'multiclass'}\n",
            "CPU times: user 38.1 s, sys: 630 ms, total: 38.8 s\n",
            "Wall time: 22.3 s\n"
          ],
          "name": "stdout"
        }
      ]
    },
    {
      "cell_type": "code",
      "metadata": {
        "id": "yk2gFG6gB025",
        "colab_type": "code",
        "colab": {
          "base_uri": "https://localhost:8080/",
          "height": 85
        },
        "outputId": "ab0889d9-6099-4756-d3ed-721ba81b4fd1"
      },
      "source": [
        "print(f\"Root Mean Squared Error : {rmse:.3f}\")\n",
        "print(f\"Best train score : {grid_cv.score(x_train, y_train):.4f}\")\n",
        "print(f\"Accuracy score: {accuracy_score(y_test, y_predict_test):.4f}\")\n",
        "print(f\"Best test score  : {grid_cv.score(x_test, y_test):.4f}\")"
      ],
      "execution_count": 7,
      "outputs": [
        {
          "output_type": "stream",
          "text": [
            "Root Mean Squared Error : 0.949\n",
            "Best train score : 0.8275\n",
            "Accuracy score: 0.2391\n",
            "Best test score  : 0.7804\n"
          ],
          "name": "stdout"
        }
      ]
    },
    {
      "cell_type": "code",
      "metadata": {
        "id": "UIQOiF5LIoK1",
        "colab_type": "code",
        "colab": {
          "base_uri": "https://localhost:8080/",
          "height": 88
        },
        "outputId": "1efc3e86-ad2d-46ac-cda9-a4a8eb8f773b"
      },
      "source": [
        "# with extended parameters\n",
        "%%time\n",
        "parameters = {\"boosting_type\":[\"gbdt\"], \n",
        "              \"objective\":[\"multiclass\"],\n",
        "              \"sub_feature\":[0.5], \n",
        "              \"min_data\":[50],\n",
        "              \"max_depth\":[2], \n",
        "              \"silent\":[False],\n",
        "              \"n_jobs\":[-1], \n",
        "              \"colsample_bytree\":[1],\n",
        "              \"learning_rate\":[0.1], \n",
        "              \"min_child_weight\":[0.001], \n",
        "              \"n_estimators\":[100], \n",
        "              \"reg_alpha\":[0, 1, 10],\n",
        "              \"reg_lambda\":[0, 1, 10]}\n",
        "grid_cv = GridSearchCV(estimator=lgb_reg_gridModel, param_grid=parameters, cv=5)\n",
        "grid_cv.fit(x_train, y_train)\n",
        "y_predict_test = grid_cv.predict(x_test)\n",
        "# we need to switch the prediction probabilities to actual predictions:\n",
        "y_predict_test = [0 if prediction < 0.5 else 1 for prediction in y_predict_test]\n",
        "rmse = np.sqrt(mean_squared_error(y_test, y_predict_test))\n",
        "print(\"Best parameters  :\", grid_cv.best_params_)"
      ],
      "execution_count": 8,
      "outputs": [
        {
          "output_type": "stream",
          "text": [
            "Best parameters  : {'boosting_type': 'gbdt', 'colsample_bytree': 1, 'learning_rate': 0.1, 'max_depth': 2, 'min_child_weight': 0.001, 'min_data': 50, 'n_estimators': 100, 'n_jobs': -1, 'objective': 'multiclass', 'reg_alpha': 0, 'reg_lambda': 0, 'silent': False, 'sub_feature': 0.5}\n",
            "CPU times: user 1min 37s, sys: 876 ms, total: 1min 38s\n",
            "Wall time: 1min 13s\n"
          ],
          "name": "stdout"
        }
      ]
    },
    {
      "cell_type": "code",
      "metadata": {
        "id": "pARIKm1nI1wD",
        "colab_type": "code",
        "colab": {
          "base_uri": "https://localhost:8080/",
          "height": 85
        },
        "outputId": "72a84c4c-b61a-43eb-8001-be26e4abfe09"
      },
      "source": [
        "print(f\"Root Mean Squared Error : {rmse:.3f}\")\n",
        "print(f\"Best train score : {grid_cv.score(x_train, y_train):.4f}\")\n",
        "print(f\"Accuracy score: {accuracy_score(y_test, y_predict_test):.4f}\")\n",
        "print(f\"Best test score  : {grid_cv.score(x_test, y_test):.4f}\")"
      ],
      "execution_count": 9,
      "outputs": [
        {
          "output_type": "stream",
          "text": [
            "Root Mean Squared Error : 0.918\n",
            "Best train score : 0.6949\n",
            "Accuracy score: 0.1646\n",
            "Best test score  : 0.7063\n"
          ],
          "name": "stdout"
        }
      ]
    },
    {
      "cell_type": "code",
      "metadata": {
        "id": "578Ln1zyFTyo",
        "colab_type": "code",
        "colab": {
          "base_uri": "https://localhost:8080/",
          "height": 328
        },
        "outputId": "821e80b0-c490-4ac6-e143-9aaea5b8303c"
      },
      "source": [
        "results = pd.DataFrame(grid_cv.cv_results_)\n",
        "results = results[[\"param_n_estimators\", \"param_reg_alpha\", \n",
        "                   \"param_reg_lambda\", \"mean_test_score\"]]\n",
        "results = results.sort_values(by=\"mean_test_score\", ascending=False)\n",
        "results.head(10)"
      ],
      "execution_count": 10,
      "outputs": [
        {
          "output_type": "execute_result",
          "data": {
            "text/html": [
              "<div>\n",
              "<style scoped>\n",
              "    .dataframe tbody tr th:only-of-type {\n",
              "        vertical-align: middle;\n",
              "    }\n",
              "\n",
              "    .dataframe tbody tr th {\n",
              "        vertical-align: top;\n",
              "    }\n",
              "\n",
              "    .dataframe thead th {\n",
              "        text-align: right;\n",
              "    }\n",
              "</style>\n",
              "<table border=\"1\" class=\"dataframe\">\n",
              "  <thead>\n",
              "    <tr style=\"text-align: right;\">\n",
              "      <th></th>\n",
              "      <th>param_n_estimators</th>\n",
              "      <th>param_reg_alpha</th>\n",
              "      <th>param_reg_lambda</th>\n",
              "      <th>mean_test_score</th>\n",
              "    </tr>\n",
              "  </thead>\n",
              "  <tbody>\n",
              "    <tr>\n",
              "      <th>0</th>\n",
              "      <td>100</td>\n",
              "      <td>0</td>\n",
              "      <td>0</td>\n",
              "      <td>0.692793</td>\n",
              "    </tr>\n",
              "    <tr>\n",
              "      <th>3</th>\n",
              "      <td>100</td>\n",
              "      <td>1</td>\n",
              "      <td>0</td>\n",
              "      <td>0.692195</td>\n",
              "    </tr>\n",
              "    <tr>\n",
              "      <th>1</th>\n",
              "      <td>100</td>\n",
              "      <td>0</td>\n",
              "      <td>1</td>\n",
              "      <td>0.691683</td>\n",
              "    </tr>\n",
              "    <tr>\n",
              "      <th>4</th>\n",
              "      <td>100</td>\n",
              "      <td>1</td>\n",
              "      <td>1</td>\n",
              "      <td>0.691085</td>\n",
              "    </tr>\n",
              "    <tr>\n",
              "      <th>2</th>\n",
              "      <td>100</td>\n",
              "      <td>0</td>\n",
              "      <td>10</td>\n",
              "      <td>0.689292</td>\n",
              "    </tr>\n",
              "    <tr>\n",
              "      <th>5</th>\n",
              "      <td>100</td>\n",
              "      <td>1</td>\n",
              "      <td>10</td>\n",
              "      <td>0.689207</td>\n",
              "    </tr>\n",
              "    <tr>\n",
              "      <th>6</th>\n",
              "      <td>100</td>\n",
              "      <td>10</td>\n",
              "      <td>0</td>\n",
              "      <td>0.687243</td>\n",
              "    </tr>\n",
              "    <tr>\n",
              "      <th>7</th>\n",
              "      <td>100</td>\n",
              "      <td>10</td>\n",
              "      <td>1</td>\n",
              "      <td>0.687072</td>\n",
              "    </tr>\n",
              "    <tr>\n",
              "      <th>8</th>\n",
              "      <td>100</td>\n",
              "      <td>10</td>\n",
              "      <td>10</td>\n",
              "      <td>0.684340</td>\n",
              "    </tr>\n",
              "  </tbody>\n",
              "</table>\n",
              "</div>"
            ],
            "text/plain": [
              "  param_n_estimators param_reg_alpha param_reg_lambda  mean_test_score\n",
              "0                100               0                0         0.692793\n",
              "3                100               1                0         0.692195\n",
              "1                100               0                1         0.691683\n",
              "4                100               1                1         0.691085\n",
              "2                100               0               10         0.689292\n",
              "5                100               1               10         0.689207\n",
              "6                100              10                0         0.687243\n",
              "7                100              10                1         0.687072\n",
              "8                100              10               10         0.684340"
            ]
          },
          "metadata": {
            "tags": []
          },
          "execution_count": 10
        }
      ]
    }
  ]
}