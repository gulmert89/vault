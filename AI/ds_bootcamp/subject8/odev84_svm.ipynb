{
  "nbformat": 4,
  "nbformat_minor": 0,
  "metadata": {
    "colab": {
      "name": "odev84_svm.ipynb",
      "provenance": [],
      "collapsed_sections": [
        "3vbrmOZa89Lj",
        "3CzX6kBd7BMA"
      ],
      "include_colab_link": true
    },
    "kernelspec": {
      "name": "python3",
      "display_name": "Python 3"
    }
  },
  "cells": [
    {
      "cell_type": "markdown",
      "metadata": {
        "id": "view-in-github",
        "colab_type": "text"
      },
      "source": [
        "<a href=\"https://colab.research.google.com/github/gulmert89/dsBootcamp/blob/master/odev84_svm.ipynb\" target=\"_parent\"><img src=\"https://colab.research.google.com/assets/colab-badge.svg\" alt=\"Open In Colab\"/></a>"
      ]
    },
    {
      "cell_type": "markdown",
      "metadata": {
        "id": "3vbrmOZa89Lj",
        "colab_type": "text"
      },
      "source": [
        "# Project 2: Regression Project\n",
        "Data Set: [Mercedes-Benz Greener Manufacturing](https://www.kaggle.com/c/mercedes-benz-greener-manufacturing) <br>\n",
        "*\\\"Can you cut the time a Mercedes-Benz spends on the test bench?\\\"*"
      ]
    },
    {
      "cell_type": "code",
      "metadata": {
        "id": "c8CEMcJ5GqrP",
        "colab_type": "code",
        "colab": {
          "base_uri": "https://localhost:8080/",
          "height": 0
        },
        "outputId": "7e1515d6-7909-4969-8275-b9d0b87c787a"
      },
      "source": [
        "from google.colab import drive\n",
        "drive.mount('/content/drive/')\n",
        "\n",
        "import pandas as pd\n",
        "import matplotlib.pyplot as plt\n",
        "import numpy as np\n",
        "import seaborn as sns\n",
        "from sklearn.model_selection import train_test_split\n",
        "import warnings\n",
        "warnings.filterwarnings(\"ignore\")\n",
        "\n",
        "sns.set(style=\"whitegrid\")\n",
        "title_font = {\"family\":\"sans-serif\", \n",
        "              \"color\":\"gray\", \n",
        "              \"size\":16, \n",
        "              \"weight\":\"bold\"}\n",
        "axis_font = {\"family\":\"sans\", \n",
        "              \"color\":\"gray\", \n",
        "              \"size\":14, \n",
        "              \"weight\":\"normal\"}\n",
        "\n",
        "train = pd.read_csv(\"/content/drive/My Drive/MertColab/proje2/train.csv\")\n",
        "test = pd.read_csv(\"/content/drive/My Drive/MertColab/proje2/test.csv\")\n",
        "\n",
        "# Let's convert the data of these columns to numeric values.\n",
        "# e.g a=1, c=3, z=26, aa=27, ac=29, ba=54, bd=57 etc.\n",
        "from string import ascii_lowercase\n",
        "\n",
        "for data in (test, train):\n",
        "    for col in data.columns[1:10]:\n",
        "        temp = 1\n",
        "        for var1 in ascii_lowercase:\n",
        "            var2 = \"a\" + var1\n",
        "            var3 = \"b\" + var1\n",
        "            data[col] = data[col].replace(var1, temp)\n",
        "            data[col] = data[col].replace(var2, temp+26)\n",
        "            data[col] = data[col].replace(var3, temp+26*2)\n",
        "            temp+=1\n",
        "        data[col] = data[col].astype(\"int64\")    # data types are also changed.\n",
        "\n",
        "# Standardization of these numeric values\n",
        "from sklearn.preprocessing import scale\n",
        "\n",
        "for col in train.columns[2:10]:\n",
        "    train[col] = scale(train[col])\n",
        "    test[col] = scale(test[col])\n",
        "\n",
        "# REGRESSION MODELS\n",
        "import statsmodels.api as sm\n",
        "import warnings\n",
        "warnings.filterwarnings(\"ignore\")\n",
        "\n",
        "X = train.iloc[:, 2:]\n",
        "Y = train.y\n",
        "x_train, x_test, y_train, y_test = train_test_split(X, Y, test_size=0.2, random_state=42)\n",
        "\n",
        "x_train = sm.add_constant(x_train)\n",
        "x_test = sm.add_constant(x_test)\n",
        "results_model = sm.OLS(y_train, x_train)\n",
        "results_ols = results_model.fit()\n",
        "print(\"\\nAdjusted R-square value of OLS Model: %.4f\" %results_ols.rsquared_adj)\n",
        "\n",
        "from sklearn.linear_model import Ridge, Lasso, ElasticNet, RidgeCV, LassoCV, ElasticNetCV\n",
        "lasso_CV = LassoCV(alphas=np.logspace(-1, 10, 10), cv=10).fit(x_train, y_train)\n",
        "lasso_score = lasso_CV.score(x_train, y_train)\n",
        "print(\"Adjusted R-square value of Lasso Model: %.4f\" %lasso_score)\n",
        "\n",
        "ridge_CV = RidgeCV(alphas=np.logspace(-4, 100, 10), cv=10).fit(x_train, y_train)\n",
        "ridge_score = ridge_CV.score(x_train,y_train)\n",
        "print(\"Adjusted R-square value of Ridge Model: %.4f\" %ridge_score)\n",
        "\n",
        "elasticNet_CV = ElasticNetCV(alphas=np.logspace(-6, 100, 20), l1_ratio=0.5, cv=10).fit(x_train, y_train)\n",
        "elasticNet_score = elasticNet_CV.score(x_train, y_train)\n",
        "print(\"Adjusted R-square value of ElasticNet Model: %.4f\" %elasticNet_score)"
      ],
      "execution_count": 1,
      "outputs": [
        {
          "output_type": "stream",
          "text": [
            "Go to this URL in a browser: https://accounts.google.com/o/oauth2/auth?client_id=947318989803-6bn6qk8qdgf4n4g3pfee6491hc0brc4i.apps.googleusercontent.com&redirect_uri=urn%3aietf%3awg%3aoauth%3a2.0%3aoob&scope=email%20https%3a%2f%2fwww.googleapis.com%2fauth%2fdocs.test%20https%3a%2f%2fwww.googleapis.com%2fauth%2fdrive%20https%3a%2f%2fwww.googleapis.com%2fauth%2fdrive.photos.readonly%20https%3a%2f%2fwww.googleapis.com%2fauth%2fpeopleapi.readonly&response_type=code\n",
            "\n",
            "Enter your authorization code:\n",
            "··········\n",
            "Mounted at /content/drive/\n"
          ],
          "name": "stdout"
        },
        {
          "output_type": "stream",
          "text": [
            "/usr/local/lib/python3.6/dist-packages/statsmodels/tools/_testing.py:19: FutureWarning: pandas.util.testing is deprecated. Use the functions in the public API at pandas.testing instead.\n",
            "  import pandas.util.testing as tm\n"
          ],
          "name": "stderr"
        },
        {
          "output_type": "stream",
          "text": [
            "\n",
            "Adjusted R-square value of OLS Model: 0.5575\n",
            "Adjusted R-square value of Lasso Model: 0.5386\n",
            "Adjusted R-square value of Ridge Model: 0.5915\n",
            "Adjusted R-square value of ElasticNet Model: 0.5913\n"
          ],
          "name": "stdout"
        }
      ]
    },
    {
      "cell_type": "markdown",
      "metadata": {
        "id": "Ad7E16-494qf",
        "colab_type": "text"
      },
      "source": [
        "***\n",
        "# Ödev 8.4 - Support Vector Machines (Proje 2)"
      ]
    },
    {
      "cell_type": "code",
      "metadata": {
        "id": "1yUIYHZu90GC",
        "colab_type": "code",
        "colab": {}
      },
      "source": [
        "#from sklearn.tree import DecisionTreeRegressor, export_graphviz\n",
        "from sklearn.ensemble import RandomForestRegressor\n",
        "from sklearn.model_selection import GridSearchCV\n",
        "from sklearn.metrics import mean_squared_error, accuracy_score\n",
        "#import pydotplus\n",
        "#import graphviz\n",
        "#from IPython.display import Image"
      ],
      "execution_count": 2,
      "outputs": []
    },
    {
      "cell_type": "code",
      "metadata": {
        "id": "xcy4PS7u1MJp",
        "colab_type": "code",
        "colab": {}
      },
      "source": [
        "x_train.drop(\"const\", inplace=True, axis=\"columns\")"
      ],
      "execution_count": null,
      "outputs": []
    },
    {
      "cell_type": "code",
      "metadata": {
        "id": "2T_Nn2Gp59yI",
        "colab_type": "code",
        "colab": {}
      },
      "source": [
        "from sklearn.svm import SVR"
      ],
      "execution_count": null,
      "outputs": []
    },
    {
      "cell_type": "code",
      "metadata": {
        "id": "hSOWsjH87sEU",
        "colab_type": "code",
        "colab": {
          "base_uri": "https://localhost:8080/",
          "height": 119
        },
        "outputId": "6b174219-d344-49cf-d406-b9f1f7dd2c15"
      },
      "source": [
        "%%time\n",
        "parameters = {\"kernel\":[\"rbf\", \"linear\", \"poly\", \"sigmoid\"], \n",
        "              \"C\":[0.01, 0.1, 1, 10, 50, 100]}\n",
        "svr1 = SVR()\n",
        "grid_cv = GridSearchCV(estimator=svr1, param_grid=parameters, cv=5)\n",
        "grid_cv.fit(x_train, y_train)\n",
        "y_predict = grid_cv.predict(x_test)\n",
        "mse_svr1 = mean_squared_error(y_test, y_predict)\n",
        "print(\"En iyi eğitim parametreleri :\", grid_cv.best_params_)\n",
        "print(\"En iyi eğitim skoru         :\", grid_cv.best_score_)\n",
        "print(f\"Root Mean Square Error değeri: {np.sqrt(mse_svr1):.2f}\\n\")"
      ],
      "execution_count": null,
      "outputs": [
        {
          "output_type": "stream",
          "text": [
            "En iyi eğitim parametreleri : {'C': 10, 'kernel': 'rbf'}\n",
            "En iyi eğitim skoru         : 0.5230144827944936\n",
            "Root Mean Square Error değeri: 8.45\n",
            "\n",
            "CPU times: user 31min 15s, sys: 454 ms, total: 31min 16s\n",
            "Wall time: 31min 22s\n"
          ],
          "name": "stdout"
        }
      ]
    },
    {
      "cell_type": "code",
      "metadata": {
        "id": "93g4kg_a-ien",
        "colab_type": "code",
        "colab": {
          "base_uri": "https://localhost:8080/",
          "height": 793
        },
        "outputId": "7be38f15-b97a-4f9e-f8a4-69444da30750"
      },
      "source": [
        "results = pd.DataFrame(grid_cv.cv_results_)\n",
        "results = results[[\"param_kernel\", \"param_C\", \"mean_test_score\"]]\n",
        "results = results.sort_values(by=\"mean_test_score\", ascending=False)\n",
        "results"
      ],
      "execution_count": null,
      "outputs": [
        {
          "output_type": "execute_result",
          "data": {
            "text/html": [
              "<div>\n",
              "<style scoped>\n",
              "    .dataframe tbody tr th:only-of-type {\n",
              "        vertical-align: middle;\n",
              "    }\n",
              "\n",
              "    .dataframe tbody tr th {\n",
              "        vertical-align: top;\n",
              "    }\n",
              "\n",
              "    .dataframe thead th {\n",
              "        text-align: right;\n",
              "    }\n",
              "</style>\n",
              "<table border=\"1\" class=\"dataframe\">\n",
              "  <thead>\n",
              "    <tr style=\"text-align: right;\">\n",
              "      <th></th>\n",
              "      <th>param_kernel</th>\n",
              "      <th>param_C</th>\n",
              "      <th>mean_test_score</th>\n",
              "    </tr>\n",
              "  </thead>\n",
              "  <tbody>\n",
              "    <tr>\n",
              "      <th>12</th>\n",
              "      <td>rbf</td>\n",
              "      <td>10</td>\n",
              "      <td>0.523014</td>\n",
              "    </tr>\n",
              "    <tr>\n",
              "      <th>9</th>\n",
              "      <td>linear</td>\n",
              "      <td>1</td>\n",
              "      <td>0.517415</td>\n",
              "    </tr>\n",
              "    <tr>\n",
              "      <th>16</th>\n",
              "      <td>rbf</td>\n",
              "      <td>50</td>\n",
              "      <td>0.517044</td>\n",
              "    </tr>\n",
              "    <tr>\n",
              "      <th>5</th>\n",
              "      <td>linear</td>\n",
              "      <td>0.1</td>\n",
              "      <td>0.516906</td>\n",
              "    </tr>\n",
              "    <tr>\n",
              "      <th>14</th>\n",
              "      <td>poly</td>\n",
              "      <td>10</td>\n",
              "      <td>0.515483</td>\n",
              "    </tr>\n",
              "    <tr>\n",
              "      <th>13</th>\n",
              "      <td>linear</td>\n",
              "      <td>10</td>\n",
              "      <td>0.511850</td>\n",
              "    </tr>\n",
              "    <tr>\n",
              "      <th>17</th>\n",
              "      <td>linear</td>\n",
              "      <td>50</td>\n",
              "      <td>0.508206</td>\n",
              "    </tr>\n",
              "    <tr>\n",
              "      <th>21</th>\n",
              "      <td>linear</td>\n",
              "      <td>100</td>\n",
              "      <td>0.507974</td>\n",
              "    </tr>\n",
              "    <tr>\n",
              "      <th>10</th>\n",
              "      <td>poly</td>\n",
              "      <td>1</td>\n",
              "      <td>0.503312</td>\n",
              "    </tr>\n",
              "    <tr>\n",
              "      <th>20</th>\n",
              "      <td>rbf</td>\n",
              "      <td>100</td>\n",
              "      <td>0.502106</td>\n",
              "    </tr>\n",
              "    <tr>\n",
              "      <th>8</th>\n",
              "      <td>rbf</td>\n",
              "      <td>1</td>\n",
              "      <td>0.490508</td>\n",
              "    </tr>\n",
              "    <tr>\n",
              "      <th>18</th>\n",
              "      <td>poly</td>\n",
              "      <td>50</td>\n",
              "      <td>0.489806</td>\n",
              "    </tr>\n",
              "    <tr>\n",
              "      <th>1</th>\n",
              "      <td>linear</td>\n",
              "      <td>0.01</td>\n",
              "      <td>0.470317</td>\n",
              "    </tr>\n",
              "    <tr>\n",
              "      <th>22</th>\n",
              "      <td>poly</td>\n",
              "      <td>100</td>\n",
              "      <td>0.458480</td>\n",
              "    </tr>\n",
              "    <tr>\n",
              "      <th>11</th>\n",
              "      <td>sigmoid</td>\n",
              "      <td>1</td>\n",
              "      <td>0.444589</td>\n",
              "    </tr>\n",
              "    <tr>\n",
              "      <th>6</th>\n",
              "      <td>poly</td>\n",
              "      <td>0.1</td>\n",
              "      <td>0.339265</td>\n",
              "    </tr>\n",
              "    <tr>\n",
              "      <th>4</th>\n",
              "      <td>rbf</td>\n",
              "      <td>0.1</td>\n",
              "      <td>0.249617</td>\n",
              "    </tr>\n",
              "    <tr>\n",
              "      <th>7</th>\n",
              "      <td>sigmoid</td>\n",
              "      <td>0.1</td>\n",
              "      <td>0.220455</td>\n",
              "    </tr>\n",
              "    <tr>\n",
              "      <th>2</th>\n",
              "      <td>poly</td>\n",
              "      <td>0.01</td>\n",
              "      <td>0.055482</td>\n",
              "    </tr>\n",
              "    <tr>\n",
              "      <th>0</th>\n",
              "      <td>rbf</td>\n",
              "      <td>0.01</td>\n",
              "      <td>0.026085</td>\n",
              "    </tr>\n",
              "    <tr>\n",
              "      <th>3</th>\n",
              "      <td>sigmoid</td>\n",
              "      <td>0.01</td>\n",
              "      <td>0.020031</td>\n",
              "    </tr>\n",
              "    <tr>\n",
              "      <th>15</th>\n",
              "      <td>sigmoid</td>\n",
              "      <td>10</td>\n",
              "      <td>-3.954019</td>\n",
              "    </tr>\n",
              "    <tr>\n",
              "      <th>19</th>\n",
              "      <td>sigmoid</td>\n",
              "      <td>50</td>\n",
              "      <td>-136.131655</td>\n",
              "    </tr>\n",
              "    <tr>\n",
              "      <th>23</th>\n",
              "      <td>sigmoid</td>\n",
              "      <td>100</td>\n",
              "      <td>-558.869249</td>\n",
              "    </tr>\n",
              "  </tbody>\n",
              "</table>\n",
              "</div>"
            ],
            "text/plain": [
              "   param_kernel param_C  mean_test_score\n",
              "12          rbf      10         0.523014\n",
              "9        linear       1         0.517415\n",
              "16          rbf      50         0.517044\n",
              "5        linear     0.1         0.516906\n",
              "14         poly      10         0.515483\n",
              "13       linear      10         0.511850\n",
              "17       linear      50         0.508206\n",
              "21       linear     100         0.507974\n",
              "10         poly       1         0.503312\n",
              "20          rbf     100         0.502106\n",
              "8           rbf       1         0.490508\n",
              "18         poly      50         0.489806\n",
              "1        linear    0.01         0.470317\n",
              "22         poly     100         0.458480\n",
              "11      sigmoid       1         0.444589\n",
              "6          poly     0.1         0.339265\n",
              "4           rbf     0.1         0.249617\n",
              "7       sigmoid     0.1         0.220455\n",
              "2          poly    0.01         0.055482\n",
              "0           rbf    0.01         0.026085\n",
              "3       sigmoid    0.01         0.020031\n",
              "15      sigmoid      10        -3.954019\n",
              "19      sigmoid      50      -136.131655\n",
              "23      sigmoid     100      -558.869249"
            ]
          },
          "metadata": {
            "tags": []
          },
          "execution_count": 81
        }
      ]
    },
    {
      "cell_type": "code",
      "metadata": {
        "id": "Ayeai6P99gFa",
        "colab_type": "code",
        "colab": {
          "base_uri": "https://localhost:8080/",
          "height": 51
        },
        "outputId": "246a670a-da39-4faa-d864-5a24ebee5d84"
      },
      "source": [
        "%%time\n",
        "# test score with best fit\n",
        "svr2 = SVR(kernel=\"rbf\", C=10)\n",
        "svr2.fit(x_train, y_train)"
      ],
      "execution_count": null,
      "outputs": [
        {
          "output_type": "stream",
          "text": [
            "CPU times: user 8.22 s, sys: 8.83 ms, total: 8.23 s\n",
            "Wall time: 8.31 s\n"
          ],
          "name": "stdout"
        }
      ]
    },
    {
      "cell_type": "code",
      "metadata": {
        "id": "pPwk9JXh95t3",
        "colab_type": "code",
        "colab": {
          "base_uri": "https://localhost:8080/",
          "height": 34
        },
        "outputId": "065c3485-2558-4922-c287-85cd442f5e63"
      },
      "source": [
        "print(\"Test score:\", svr2.score(x_test, y_test))"
      ],
      "execution_count": null,
      "outputs": [
        {
          "output_type": "stream",
          "text": [
            "Test score: 0.5415352222977046\n"
          ],
          "name": "stdout"
        }
      ]
    },
    {
      "cell_type": "markdown",
      "metadata": {
        "id": "1iUibI5rholA",
        "colab_type": "text"
      },
      "source": [
        "---\n",
        "***\n",
        "---"
      ]
    },
    {
      "cell_type": "markdown",
      "metadata": {
        "id": "3CzX6kBd7BMA",
        "colab_type": "text"
      },
      "source": [
        "# Project 3: Classification Project\n",
        "Data Set: [Twitter US Airline Sentiment](https://www.kaggle.com/crowdflower/twitter-airline-sentiment) <br>\n",
        "*\\\"Analyze how travelers in February 2015 expressed their feelings on Twitter\\\"*"
      ]
    },
    {
      "cell_type": "code",
      "metadata": {
        "id": "PFq_SsQcDb1r",
        "colab_type": "code",
        "colab": {
          "base_uri": "https://localhost:8080/",
          "height": 0
        },
        "outputId": "335ca6e0-2487-4dfc-a935-51bbedecb7b7"
      },
      "source": [
        "%matplotlib inline\n",
        "sns.set(style=\"whitegrid\")\n",
        "\n",
        "# calling our honor guest:\n",
        "tweets = pd.read_csv(\"/content/drive/My Drive/MertColab/proje3/tweets.csv\")\n",
        "\n",
        "# ...and she takes off her fancy fur coat and some other unnecessary ornaments \n",
        "tweets.drop(columns=[\"tweet_id\", \"airline_sentiment_gold\", \"name\", \n",
        "                     \"negativereason_gold\", \"retweet_count\", \"tweet_created\", \n",
        "                     \"tweet_coord\", \"tweet_created\", \"tweet_location\", \n",
        "                     \"user_timezone\"], \n",
        "            inplace=True)\n",
        "\n",
        "# We are going to clean the tweets to keep only the English words\n",
        "import re, string, nltk\n",
        "nltk.download('words')\n",
        "words = set(nltk.corpus.words.words())\n",
        "\n",
        "# The twitter accounts mentioned:\n",
        "set_them = set()\n",
        "for i in tweets.text:\n",
        "    search_them = re.search(r\"(^|[^@\\w])@(\\w{1,15})\\b\", i)\n",
        "    give_them = search_them.group().lower()\n",
        "    set_them.add(give_them)\n",
        "del set_them\n",
        "\n",
        "# These are the Twitter accounts we will remove:\n",
        "# @virginamerica, @united, @southwestair, @deltaassist, @usairways, @americanair\n",
        "\n",
        "def tweet_cleaner(tweet):\n",
        "    \"Symbols, numbers & airline brand cleaner function!\"\n",
        "    # First step: Symbols and numbers are gone:\n",
        "    cleaned_string = re.sub(\"[^a-zA-Z]\", \" \", tweet)\n",
        "\n",
        "    # Party people here speak only English. No other languages are allowed:\n",
        "    cleaned_string = \" \".join(w for w in nltk.wordpunct_tokenize(cleaned_string) \\\n",
        "         if w.lower() in words)\n",
        "\n",
        "    # Second step: Putting them to a list:\n",
        "    cleaned_set = set(cleaned_string.lower().split())\n",
        "    # Let's get rid of our meaningless one-letter friends: \n",
        "    what_to_clean = list(string.ascii_lowercase)\n",
        "    # ...and some of their drunk buddies:\n",
        "    what_to_clean.extend([\"it\", \"of\", \"co\", \"to\", \"http\"])\n",
        "    # We don't need any officials in our party as well:\n",
        "    what_to_clean.extend([\"virginamerica\", \"united\", \n",
        "                       \"southwestair\", \"deltaassist\",\n",
        "                       \"usairways\", \"americanair\"])\n",
        "    for delete in what_to_clean:\n",
        "        try:\n",
        "            cleaned_set.remove(delete)\n",
        "        except:\n",
        "            continue    \n",
        "    return list(cleaned_set)\n",
        "\n",
        "# We need to convert the \"airline_sentiment\" to numbers.\n",
        "for i,j in enumerate(tweets.airline_sentiment.unique()):\n",
        "    tweets.airline_sentiment = tweets.airline_sentiment.replace(j, i)\n",
        "tweets.airline_sentiment.astype(\"int64\")\n",
        "\n",
        "# We are going to collect all the words and give them binary inputs (1 or 0)\n",
        "# according to their entities in the tweets.\n",
        "all_words = set()\n",
        "rows=[]\n",
        "for i in tweets.index:\n",
        "    listed_tweet = tweet_cleaner(tweets.text[i])\n",
        "    rows.append(listed_tweet)\n",
        "    all_words.update(listed_tweet)\n",
        "\n",
        "# filling the data frame with binary values according to the words\n",
        "df_words = pd.DataFrame(0, columns=all_words, index=tweets.index)\n",
        "for i in tweets.index:\n",
        "    df_words.loc[i, rows[i]]=1\n",
        "\n",
        "# it's time to concatenate the data frames\n",
        "tweets = pd.concat([tweets, df_words], ignore_index=False, axis=\"columns\")\n",
        "\n",
        "# Linear Regression Models\n",
        "from sklearn.model_selection import RandomizedSearchCV\n",
        "from sklearn.model_selection import cross_validate, cross_val_score\n",
        "from sklearn.linear_model import LogisticRegression, LogisticRegressionCV\n",
        "\n",
        "X = tweets.iloc[:, 6:]\n",
        "Y = tweets.airline_sentiment\n",
        "x_train, x_test, y_train, y_test = train_test_split(X, Y, test_size=0.2, random_state=42)\n",
        "\n",
        "lr_model1 = LogisticRegression(C=0.1, solver=\"lbfgs\", max_iter=300, n_jobs=-1)\n",
        "lr_model1.fit(x_train, y_train)\n",
        "train_score_model1 = lr_model1.score(x_train, y_train)\n",
        "test_score_model1 = lr_model1.score(x_test, y_test)\n",
        "\n",
        "print(\"\\nTrain score with 'lbfgs' solver: {:.3f}\".format(train_score_model1))\n",
        "print(\"Test score with 'lbfgs' solver: {:.3f}\".format(test_score_model1), \"\\n\")"
      ],
      "execution_count": 3,
      "outputs": [
        {
          "output_type": "stream",
          "text": [
            "[nltk_data] Downloading package words to /root/nltk_data...\n",
            "[nltk_data]   Unzipping corpora/words.zip.\n",
            "\n",
            "Train score with 'lbfgs' solver: 0.824\n",
            "Test score with 'lbfgs' solver: 0.789 \n",
            "\n"
          ],
          "name": "stdout"
        }
      ]
    },
    {
      "cell_type": "markdown",
      "metadata": {
        "id": "9Kd97bERDXN2",
        "colab_type": "text"
      },
      "source": [
        "***\n",
        "# Ödev 8.4 - Support Vector Machines (Proje 3)"
      ]
    },
    {
      "cell_type": "code",
      "metadata": {
        "id": "NrfS82rtDU8i",
        "colab_type": "code",
        "colab": {}
      },
      "source": [
        "from sklearn.svm import SVC"
      ],
      "execution_count": 4,
      "outputs": []
    },
    {
      "cell_type": "code",
      "metadata": {
        "id": "-ME48KlyDe95",
        "colab_type": "code",
        "colab": {
          "base_uri": "https://localhost:8080/",
          "height": 51
        },
        "outputId": "6f1367cd-aeae-4431-db72-385a9e782760"
      },
      "source": [
        "%%time\n",
        "svc1 = SVC(kernel=\"rbf\", C=1)\n",
        "svc1.fit(x_train, y_train)\n",
        "y_predict = svc1.predict(x_test)"
      ],
      "execution_count": 5,
      "outputs": [
        {
          "output_type": "stream",
          "text": [
            "CPU times: user 19min 18s, sys: 440 ms, total: 19min 19s\n",
            "Wall time: 19min 20s\n"
          ],
          "name": "stdout"
        }
      ]
    },
    {
      "cell_type": "code",
      "metadata": {
        "id": "7wc5k4RhBnx5",
        "colab_type": "code",
        "colab": {
          "base_uri": "https://localhost:8080/",
          "height": 68
        },
        "outputId": "03253701-0900-4291-9a16-5dd69a770126"
      },
      "source": [
        "mse_svc1 = mean_squared_error(y_test, y_predict)\n",
        "print(f\"Root Mean Square Error of kernel 'rbf': {np.sqrt(mse_svc1):.3f}\")\n",
        "print(f\"Accuracy score of kernel 'rbf': {accuracy_score(y_test, y_predict):.3f}\\n\")"
      ],
      "execution_count": 10,
      "outputs": [
        {
          "output_type": "stream",
          "text": [
            "Root Mean Square Error of kernel 'rbf': 0.762\n",
            "Accuracy score of kernel 'rbf': 0.785\n",
            "\n"
          ],
          "name": "stdout"
        }
      ]
    },
    {
      "cell_type": "code",
      "metadata": {
        "id": "BHJtlCNYa0i9",
        "colab_type": "code",
        "colab": {
          "base_uri": "https://localhost:8080/",
          "height": 51
        },
        "outputId": "f0309c59-b953-4462-b8ba-6173c0537a54"
      },
      "source": [
        "%%time\n",
        "svc2 = SVC(kernel=\"linear\", C=1)\n",
        "svc2.fit(x_train, y_train)\n",
        "y_predict = svc2.predict(x_test)"
      ],
      "execution_count": 5,
      "outputs": [
        {
          "output_type": "stream",
          "text": [
            "CPU times: user 14min 23s, sys: 347 ms, total: 14min 23s\n",
            "Wall time: 14min 24s\n"
          ],
          "name": "stdout"
        }
      ]
    },
    {
      "cell_type": "code",
      "metadata": {
        "id": "Xco3csbKa5y4",
        "colab_type": "code",
        "colab": {
          "base_uri": "https://localhost:8080/",
          "height": 68
        },
        "outputId": "203da9d7-b97b-4181-aed4-d9c1471b7ed5"
      },
      "source": [
        "mse_svc2 = mean_squared_error(y_test, y_predict)\n",
        "print(f\"Root Mean Square Error of kernel 'linear': {np.sqrt(mse_svc2):.3f}\")\n",
        "print(f\"Accuracy score of kernel 'linear': {accuracy_score(y_test, y_predict):.3f}\\n\")"
      ],
      "execution_count": 6,
      "outputs": [
        {
          "output_type": "stream",
          "text": [
            "Root Mean Square Error of kernel 'linear': 0.798\n",
            "Accuracy score of kernel 'linear': 0.772\n",
            "\n"
          ],
          "name": "stdout"
        }
      ]
    }
  ]
}