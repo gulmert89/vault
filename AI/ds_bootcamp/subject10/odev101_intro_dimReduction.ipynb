{
  "nbformat": 4,
  "nbformat_minor": 0,
  "metadata": {
    "colab": {
      "name": "odev101_intro-dimReduction.ipynb",
      "provenance": [],
      "collapsed_sections": [],
      "authorship_tag": "ABX9TyPSPVbwGxbtaandWl4ZBg38",
      "include_colab_link": true
    },
    "kernelspec": {
      "name": "python3",
      "display_name": "Python 3"
    }
  },
  "cells": [
    {
      "cell_type": "markdown",
      "metadata": {
        "id": "view-in-github",
        "colab_type": "text"
      },
      "source": [
        "<a href=\"https://colab.research.google.com/github/gulmert89/dsBootcamp/blob/master/odev101_intro_dimReduction.ipynb\" target=\"_parent\"><img src=\"https://colab.research.google.com/assets/colab-badge.svg\" alt=\"Open In Colab\"/></a>"
      ]
    },
    {
      "cell_type": "markdown",
      "metadata": {
        "id": "V2FUE55kdO0g",
        "colab_type": "text"
      },
      "source": [
        "# Ödev 10.1 - Boyut Azaltma Yöntemleri: Boyut Azaltma Nedir?\n",
        "Aşağıdaki 2 ödevi tamamlamak için yaklaşık 5 dakikanızı ayırmanızı tavsiye ediyoruz. Gözetimsiz öğrenme ve kümelemeyi düşünürken üzerinde düşünmemiz gereken bazı temel konular hakkında bulunmaktadır.\n",
        "\n",
        "**Soru-1:** Kırmızı şaraplar, beyaz şaraplar, kırmızı güller ve beyaz güllerin resimlerini içeren bir veri seti olduğumuzu varsayalım. Bu gözlemleri kümelemek isteseydiniz, bunu nasıl yapardınız? Renkleri veya başka herhangi özelliği temel alarak nasıl kümelemek istersiniz? Farklı kümeleme seçeneklerinin artılarını ve eksilerini tartışın.<br>\n",
        "***Cevap:*** Etiketlerini bildiğimiz için, küme sayısını 4 diye anlık olarak cevaplayabiliriz. Fakat veriler ayrıca \"kırmızı\" ve \"beyaz\" olarak renklerine göre veya \"şarap\" ve \"gül\" olarak sınıflarına göre 2 kümeye de ayrılabilir. Eğer yalnızca renklerle veya cisimlerin etiketleriyle ilgilenseydik, 2 küme yeterli olacaktı ve bu işimizi nispeten hızlandıracaktı. 4 küme ile her bir sınıfı kendi içinde ayırsaydık, sınıf içindeki verilerin birbirine olan benzerliklerinin daha fazla olduğunu görebilirdik. Lakin bu yaklaşım da, set üzerinde daha fazla çalışma süresi anlamına gelirdi. \n",
        "\n",
        "**Soru-2:** Duvardaki bir gölge, gerçek dünya üç boyutlu bir nesnenin iki boyutlu bir gösterimidir. Bir tavşan ve bir kedi gördüğünüzde, onları kolayca tanımlayabilirsiniz. Ancak, sadece duvardaki gölgelerine bakarak kolayca teşhis edebiliyorlar mı? 2 boyutlu uzayda 3 boyutlu nesneleri temsil ederken hangi bilgiler korunur ve kaybolur?<br>\n",
        "***Cevap:*** Boyut azaltma yaparken, her ne kadar en yüksek varyansın olduğu vektör seçilse de (örneğin tavşanın yandan silüeti), bir kısım bilgi mutlaka kaybolacaktır. Fiziksel olarak düşünürsek, derinlik boyutundan feragat ederek verilerimizi yalnızca en ve boy özellikleri ile incelememiz gerekecektir."
      ]
    }
  ]
}