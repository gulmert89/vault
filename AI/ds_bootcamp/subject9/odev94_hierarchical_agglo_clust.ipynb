{
  "nbformat": 4,
  "nbformat_minor": 0,
  "metadata": {
    "colab": {
      "name": "odev94_hierarchical_agglo_clust.ipynb",
      "provenance": [],
      "collapsed_sections": [],
      "include_colab_link": true
    },
    "kernelspec": {
      "name": "python3",
      "display_name": "Python 3"
    }
  },
  "cells": [
    {
      "cell_type": "markdown",
      "metadata": {
        "id": "view-in-github",
        "colab_type": "text"
      },
      "source": [
        "<a href=\"https://colab.research.google.com/github/gulmert89/dsBootcamp/blob/master/odev94_hierarchical_agglo_clust.ipynb\" target=\"_parent\"><img src=\"https://colab.research.google.com/assets/colab-badge.svg\" alt=\"Open In Colab\"/></a>"
      ]
    },
    {
      "cell_type": "markdown",
      "metadata": {
        "id": "3vbrmOZa89Lj",
        "colab_type": "text"
      },
      "source": [
        "# 9.4 - Kümeleme Algoritmaları: Hiyerarşik Kümeleme\n",
        "## Ödev:\n",
        "Bu ödevde, UC Irvine Machine Learning Repository'de bulunan [kalp hastalığı verisi](http://archive.ics.uci.edu/ml/datasets/Heart+Disease) ile çalışacaksınız.\n",
        "\n",
        "Veri setini kullanmadan önce bazı ön işlemler yapmanız gerekiyor:\n",
        "\n",
        "<code># Define the features and the outcome<br>\n",
        "X = heartdisease_df.iloc[:, :13]<br>\n",
        "y = heartdisease_df.iloc[:, 13]<br></code>\n",
        "\n",
        "<code># Replace missing values (marked by ?) with a 0<br>\n",
        "X = X.replace(to_replace='?', value=0)<br></code>\n",
        "\n",
        "<code># Binarize y so that 1 means heart disease diagnosis and 0 means no diagnosis<br>\n",
        "y = np.where(y > 0, 0, 1)<br></code>\n",
        "\n",
        "Burada, X sizin özellikleriniz olacak ve y içinde etiketleri tutuyoruz. Y, 1'e eşitse, o zaman buna karşılık gelen hastanın kalp hastalığı olduğunu ve y'nin 0'a eşit olması durumunda, hastanın kalp hastalığı olmadığı anlaşılacaktır.\n",
        "\n",
        "Ödevi tamamlamak için aşağıdaki soruların cevabını içeren Jupyter notebook'u sisteme yükleyiniz:\n",
        "\n",
        "1) Üç farklı linkage yöntemini kullanarak kalp hastalığı veri kümesi için dendrogramlar üretin: “mean”, “complete” ve “ward”. Sizce hangi bağlantı yöntemi daha iyi sonuç vermektedir?\n",
        "\n",
        "2) n_clusters = 2 ayarını yaparak kalp hastalığı verilerine yığınsal kümeleme uygulayın. Yukarıdaki üç bağlantı yöntemini deneyin ve her bir çözümünüz için ARI ve siluet skorları elde edin. Sonuçları birbirleriyle ve önceki bölümde uyguladığınız k-ortalama çözümü ile karşılaştırın. Hangi algoritma ve ayar daha iyi performans gösterir?"
      ]
    },
    {
      "cell_type": "markdown",
      "metadata": {
        "id": "Hu6g7Kfuw1cZ",
        "colab_type": "text"
      },
      "source": [
        "---\n",
        "---\n",
        "---\n",
        "## Soru 1"
      ]
    },
    {
      "cell_type": "code",
      "metadata": {
        "id": "CQ5erYXnOH_N",
        "colab_type": "code",
        "colab": {
          "base_uri": "https://localhost:8080/",
          "height": 122
        },
        "outputId": "6a10d5f6-7e36-49bc-ea16-0295710e45b4"
      },
      "source": [
        "# mounting the Google Drive\n",
        "from google.colab import drive\n",
        "drive.mount(\"/content/drive\")"
      ],
      "execution_count": 1,
      "outputs": [
        {
          "output_type": "stream",
          "text": [
            "Go to this URL in a browser: https://accounts.google.com/o/oauth2/auth?client_id=947318989803-6bn6qk8qdgf4n4g3pfee6491hc0brc4i.apps.googleusercontent.com&redirect_uri=urn%3aietf%3awg%3aoauth%3a2.0%3aoob&scope=email%20https%3a%2f%2fwww.googleapis.com%2fauth%2fdocs.test%20https%3a%2f%2fwww.googleapis.com%2fauth%2fdrive%20https%3a%2f%2fwww.googleapis.com%2fauth%2fdrive.photos.readonly%20https%3a%2f%2fwww.googleapis.com%2fauth%2fpeopleapi.readonly&response_type=code\n",
            "\n",
            "Enter your authorization code:\n",
            "··········\n",
            "Mounted at /content/drive\n"
          ],
          "name": "stdout"
        }
      ]
    },
    {
      "cell_type": "code",
      "metadata": {
        "id": "K3PladRWHg4Q",
        "colab_type": "code",
        "colab": {
          "base_uri": "https://localhost:8080/",
          "height": 71
        },
        "outputId": "3c735440-2699-46ce-80be-4e227adda9fd"
      },
      "source": [
        "# required packages\n",
        "import pandas as pd\n",
        "import numpy as np\n",
        "import matplotlib.pyplot as plt\n",
        "import seaborn as sns; sns.set_style(\"darkgrid\")\n",
        "from sklearn.preprocessing import StandardScaler\n",
        "from sklearn.decomposition import PCA\n",
        "from sklearn.model_selection import train_test_split\n",
        "from sklearn import datasets, metrics\n",
        "from sklearn.cluster import AgglomerativeClustering\n",
        "from scipy.cluster.hierarchy import dendrogram, linkage"
      ],
      "execution_count": 2,
      "outputs": [
        {
          "output_type": "stream",
          "text": [
            "/usr/local/lib/python3.6/dist-packages/statsmodels/tools/_testing.py:19: FutureWarning: pandas.util.testing is deprecated. Use the functions in the public API at pandas.testing instead.\n",
            "  import pandas.util.testing as tm\n"
          ],
          "name": "stderr"
        }
      ]
    },
    {
      "cell_type": "code",
      "metadata": {
        "id": "qrCdE94FHiiP",
        "colab_type": "code",
        "colab": {}
      },
      "source": [
        "columns = [\"age\", \"sex\", \"cp\", \"restbp\", \"chol\", \"fbs\", \"restecg\", \n",
        "           \"thalach\", \"exang\", \"oldpeak\", \"slope\", \"ca\", \"thal\", \"num\"]\n",
        "path = \"/content/drive/My Drive/MertColab/odevler/Cleveland.data\"\n",
        "heart_disease = pd.read_csv(path, sep=\",\", names=columns)\n",
        "del columns, path"
      ],
      "execution_count": 3,
      "outputs": []
    },
    {
      "cell_type": "code",
      "metadata": {
        "id": "d6nkqi8vu-jD",
        "colab_type": "code",
        "colab": {
          "base_uri": "https://localhost:8080/",
          "height": 204
        },
        "outputId": "9de154d8-b81f-4107-c8e0-ef06e7df4f13"
      },
      "source": [
        "heart_disease.head()"
      ],
      "execution_count": 4,
      "outputs": [
        {
          "output_type": "execute_result",
          "data": {
            "text/html": [
              "<div>\n",
              "<style scoped>\n",
              "    .dataframe tbody tr th:only-of-type {\n",
              "        vertical-align: middle;\n",
              "    }\n",
              "\n",
              "    .dataframe tbody tr th {\n",
              "        vertical-align: top;\n",
              "    }\n",
              "\n",
              "    .dataframe thead th {\n",
              "        text-align: right;\n",
              "    }\n",
              "</style>\n",
              "<table border=\"1\" class=\"dataframe\">\n",
              "  <thead>\n",
              "    <tr style=\"text-align: right;\">\n",
              "      <th></th>\n",
              "      <th>age</th>\n",
              "      <th>sex</th>\n",
              "      <th>cp</th>\n",
              "      <th>restbp</th>\n",
              "      <th>chol</th>\n",
              "      <th>fbs</th>\n",
              "      <th>restecg</th>\n",
              "      <th>thalach</th>\n",
              "      <th>exang</th>\n",
              "      <th>oldpeak</th>\n",
              "      <th>slope</th>\n",
              "      <th>ca</th>\n",
              "      <th>thal</th>\n",
              "      <th>num</th>\n",
              "    </tr>\n",
              "  </thead>\n",
              "  <tbody>\n",
              "    <tr>\n",
              "      <th>0</th>\n",
              "      <td>63.0</td>\n",
              "      <td>1.0</td>\n",
              "      <td>1.0</td>\n",
              "      <td>145.0</td>\n",
              "      <td>233.0</td>\n",
              "      <td>1.0</td>\n",
              "      <td>2.0</td>\n",
              "      <td>150.0</td>\n",
              "      <td>0.0</td>\n",
              "      <td>2.3</td>\n",
              "      <td>3.0</td>\n",
              "      <td>0.0</td>\n",
              "      <td>6.0</td>\n",
              "      <td>0</td>\n",
              "    </tr>\n",
              "    <tr>\n",
              "      <th>1</th>\n",
              "      <td>67.0</td>\n",
              "      <td>1.0</td>\n",
              "      <td>4.0</td>\n",
              "      <td>160.0</td>\n",
              "      <td>286.0</td>\n",
              "      <td>0.0</td>\n",
              "      <td>2.0</td>\n",
              "      <td>108.0</td>\n",
              "      <td>1.0</td>\n",
              "      <td>1.5</td>\n",
              "      <td>2.0</td>\n",
              "      <td>3.0</td>\n",
              "      <td>3.0</td>\n",
              "      <td>2</td>\n",
              "    </tr>\n",
              "    <tr>\n",
              "      <th>2</th>\n",
              "      <td>67.0</td>\n",
              "      <td>1.0</td>\n",
              "      <td>4.0</td>\n",
              "      <td>120.0</td>\n",
              "      <td>229.0</td>\n",
              "      <td>0.0</td>\n",
              "      <td>2.0</td>\n",
              "      <td>129.0</td>\n",
              "      <td>1.0</td>\n",
              "      <td>2.6</td>\n",
              "      <td>2.0</td>\n",
              "      <td>2.0</td>\n",
              "      <td>7.0</td>\n",
              "      <td>1</td>\n",
              "    </tr>\n",
              "    <tr>\n",
              "      <th>3</th>\n",
              "      <td>37.0</td>\n",
              "      <td>1.0</td>\n",
              "      <td>3.0</td>\n",
              "      <td>130.0</td>\n",
              "      <td>250.0</td>\n",
              "      <td>0.0</td>\n",
              "      <td>0.0</td>\n",
              "      <td>187.0</td>\n",
              "      <td>0.0</td>\n",
              "      <td>3.5</td>\n",
              "      <td>3.0</td>\n",
              "      <td>0.0</td>\n",
              "      <td>3.0</td>\n",
              "      <td>0</td>\n",
              "    </tr>\n",
              "    <tr>\n",
              "      <th>4</th>\n",
              "      <td>41.0</td>\n",
              "      <td>0.0</td>\n",
              "      <td>2.0</td>\n",
              "      <td>130.0</td>\n",
              "      <td>204.0</td>\n",
              "      <td>0.0</td>\n",
              "      <td>2.0</td>\n",
              "      <td>172.0</td>\n",
              "      <td>0.0</td>\n",
              "      <td>1.4</td>\n",
              "      <td>1.0</td>\n",
              "      <td>0.0</td>\n",
              "      <td>3.0</td>\n",
              "      <td>0</td>\n",
              "    </tr>\n",
              "  </tbody>\n",
              "</table>\n",
              "</div>"
            ],
            "text/plain": [
              "    age  sex   cp  restbp   chol  fbs  ...  exang  oldpeak  slope   ca  thal num\n",
              "0  63.0  1.0  1.0   145.0  233.0  1.0  ...    0.0      2.3    3.0  0.0   6.0   0\n",
              "1  67.0  1.0  4.0   160.0  286.0  0.0  ...    1.0      1.5    2.0  3.0   3.0   2\n",
              "2  67.0  1.0  4.0   120.0  229.0  0.0  ...    1.0      2.6    2.0  2.0   7.0   1\n",
              "3  37.0  1.0  3.0   130.0  250.0  0.0  ...    0.0      3.5    3.0  0.0   3.0   0\n",
              "4  41.0  0.0  2.0   130.0  204.0  0.0  ...    0.0      1.4    1.0  0.0   3.0   0\n",
              "\n",
              "[5 rows x 14 columns]"
            ]
          },
          "metadata": {
            "tags": []
          },
          "execution_count": 4
        }
      ]
    },
    {
      "cell_type": "code",
      "metadata": {
        "id": "64UU4HWuq_Cz",
        "colab_type": "code",
        "colab": {
          "base_uri": "https://localhost:8080/",
          "height": 374
        },
        "outputId": "243f843e-dceb-466f-be48-1ca4ed0f1000"
      },
      "source": [
        "heart_disease.info()"
      ],
      "execution_count": 5,
      "outputs": [
        {
          "output_type": "stream",
          "text": [
            "<class 'pandas.core.frame.DataFrame'>\n",
            "RangeIndex: 303 entries, 0 to 302\n",
            "Data columns (total 14 columns):\n",
            " #   Column   Non-Null Count  Dtype  \n",
            "---  ------   --------------  -----  \n",
            " 0   age      303 non-null    float64\n",
            " 1   sex      303 non-null    float64\n",
            " 2   cp       303 non-null    float64\n",
            " 3   restbp   303 non-null    float64\n",
            " 4   chol     303 non-null    float64\n",
            " 5   fbs      303 non-null    float64\n",
            " 6   restecg  303 non-null    float64\n",
            " 7   thalach  303 non-null    float64\n",
            " 8   exang    303 non-null    float64\n",
            " 9   oldpeak  303 non-null    float64\n",
            " 10  slope    303 non-null    float64\n",
            " 11  ca       303 non-null    object \n",
            " 12  thal     303 non-null    object \n",
            " 13  num      303 non-null    int64  \n",
            "dtypes: float64(11), int64(1), object(2)\n",
            "memory usage: 33.3+ KB\n"
          ],
          "name": "stdout"
        }
      ]
    },
    {
      "cell_type": "code",
      "metadata": {
        "id": "uQciCyaDsZj6",
        "colab_type": "code",
        "colab": {}
      },
      "source": [
        "# preprocess\n",
        "x1 = heart_disease.iloc[:, :13]\n",
        "y1 = heart_disease.iloc[:, 13]\n",
        "\n",
        "x1 = x1.replace(to_replace=\"?\", value=0)\n",
        "x1 = x1.astype(\"float64\")\n",
        "y1 = np.where(y1>0, 1, 0)\n",
        "\n",
        "scaler = StandardScaler()\n",
        "x1_std = scaler.fit_transform(x1)"
      ],
      "execution_count": 6,
      "outputs": []
    },
    {
      "cell_type": "code",
      "metadata": {
        "id": "vWh4gJGj54xM",
        "colab_type": "code",
        "colab": {
          "base_uri": "https://localhost:8080/",
          "height": 1000
        },
        "outputId": "2d0b50d6-a860-497c-abf7-e86152b06b88"
      },
      "source": [
        "linkage_methods = [\"single\", \"complete\", \"average\", \"median\", \n",
        "                   \"weighted\", \"centroid\", \"ward\"]\n",
        "for method in linkage_methods:\n",
        "    plt.figure(figsize=(20,10))\n",
        "    plt.title(f\"Linkage Method: {method}\", size=20)\n",
        "    Z = linkage(x1_std, method=method)\n",
        "    dendrogram(Z, truncate_mode=\"lastp\", \n",
        "               leaf_font_size=12, leaf_rotation=0)\n",
        "    plt.show()"
      ],
      "execution_count": 7,
      "outputs": [
        {
          "output_type": "display_data",
          "data": {
            "image/png": "[encoded data removed]",
            "text/plain": [
              "<Figure size 1440x720 with 1 Axes>"
            ]
          },
          "metadata": {
            "tags": []
          }
        },
        {
          "output_type": "display_data",
          "data": {
            "image/png": "[encoded data removed]",
            "text/plain": [
              "<Figure size 1440x720 with 1 Axes>"
            ]
          },
          "metadata": {
            "tags": []
          }
        },
        {
          "output_type": "display_data",
          "data": {
            "image/png": "[encoded data removed]",
            "text/plain": [
              "<Figure size 1440x720 with 1 Axes>"
            ]
          },
          "metadata": {
            "tags": []
          }
        },
        {
          "output_type": "display_data",
          "data": {
            "image/png": "[encoded data removed]",
            "text/plain": [
              "<Figure size 1440x720 with 1 Axes>"
            ]
          },
          "metadata": {
            "tags": []
          }
        },
        {
          "output_type": "display_data",
          "data": {
            "image/png": "[encoded data removed]",
            "text/plain": [
              "<Figure size 1440x720 with 1 Axes>"
            ]
          },
          "metadata": {
            "tags": []
          }
        },
        {
          "output_type": "display_data",
          "data": {
            "image/png": "[encoded data removed]",
            "text/plain": [
              "<Figure size 1440x720 with 1 Axes>"
            ]
          },
          "metadata": {
            "tags": []
          }
        },
        {
          "output_type": "display_data",
          "data": {
            "image/png": "[encoded data removed]",
            "text/plain": [
              "<Figure size 1440x720 with 1 Axes>"
            ]
          },
          "metadata": {
            "tags": []
          }
        }
      ]
    },
    {
      "cell_type": "markdown",
      "metadata": {
        "id": "_99Y-6QqVXlc",
        "colab_type": "text"
      },
      "source": [
        "**Yorum:**\n",
        "\"ward\" bağlantı yöntemi, aşırı değerler ile iyi bir şekilde baş ederek daha homojen bir kümeleme performansı sergilemiştir.\n",
        "\n",
        "\\## Bu bağlantı yöntemlerinin sanırım gerçek hayatta kullanıldığı yerler değişkenlik gösteriyor. Mesela biyolojide sıklıkla kullanılan bağlantı yöntemi var; şimdi hatırlayamadım hangisi, diyelim ki \"single\". Bunların gerçek hayattaki kullanımları üzerine örnekler ile tartışabilir miyiz bilginiz varsa? Veya ne zaman hangisini seçtiğimiz üzerine?"
      ]
    },
    {
      "cell_type": "markdown",
      "metadata": {
        "id": "9plkXNFSERYW",
        "colab_type": "text"
      },
      "source": [
        "***\n",
        "## Soru 2:"
      ]
    },
    {
      "cell_type": "code",
      "metadata": {
        "id": "DwEHeQukyyxK",
        "colab_type": "code",
        "colab": {
          "base_uri": "https://localhost:8080/",
          "height": 306
        },
        "outputId": "afe44a1f-f4b1-47ef-c1dd-84c6afff5cb6"
      },
      "source": [
        "linkage_methods = [\"ward\", \"complete\", \"average\", \"single\"]\n",
        "affinity_metrics = [\"euclidean\", \"manhattan\", \"cosine\"]\n",
        "\n",
        "scores_df = pd.DataFrame(columns=[\"AR Score\", \"Silhouette Score\", \n",
        "                                  \"Affinity\", \"Linkage Method\"])\n",
        "\n",
        "print(f\"------With 'euclidean' affinity:------\")\n",
        "for affinity in affinity_metrics:\n",
        "    for method in linkage_methods:\n",
        "        try:            \n",
        "            agg_model = AgglomerativeClustering(n_clusters=2,\n",
        "                                                affinity=affinity,\n",
        "                                                linkage=method)\n",
        "            cluster_predict = agg_model.fit_predict(x1_std)\n",
        "            silhouette = metrics.silhouette_score(X=x1_std, \n",
        "                                                labels=cluster_predict, \n",
        "                                                metric=affinity)\n",
        "            ari_value = metrics.adjusted_rand_score(y1, cluster_predict)\n",
        "            scores_df = scores_df.append({\"Silhouette Score\":silhouette, \n",
        "                                          \"AR Score\":ari_value, \n",
        "                                          \"Affinity\":affinity, \n",
        "                                          \"Linkage Method\":method},\n",
        "                                         ignore_index=True\n",
        "                                         )\n",
        "            if affinity == \"euclidean\":\n",
        "                print(f\"Silhouette score with '{method}' method: {silhouette:.3f}\")\n",
        "                print(f\"Adjusted Rand score with '{method}' method: {ari_value:.3f}\\n\")\n",
        "            else:\n",
        "                pass\n",
        "        except:\n",
        "            pass\n",
        "print(\"\\nRemember that for k-means model,\")\n",
        "print(f\"Silhouette score    : 0.438\")\n",
        "print(f\"Adjusted Rand score : 0.175\")"
      ],
      "execution_count": 8,
      "outputs": [
        {
          "output_type": "stream",
          "text": [
            "------With 'euclidean' affinity:------\n",
            "Silhouette score with 'ward' method: 0.139\n",
            "Adjusted Rand score with 'ward' method: 0.146\n",
            "\n",
            "Silhouette score with 'complete' method: 0.348\n",
            "Adjusted Rand score with 'complete' method: -0.001\n",
            "\n",
            "Silhouette score with 'average' method: 0.348\n",
            "Adjusted Rand score with 'average' method: -0.001\n",
            "\n",
            "Silhouette score with 'single' method: 0.348\n",
            "Adjusted Rand score with 'single' method: -0.001\n",
            "\n",
            "\n",
            "Remember that for k-means model,\n",
            "Silhouette score    : 0.438\n",
            "Adjusted Rand score : 0.175\n"
          ],
          "name": "stdout"
        }
      ]
    },
    {
      "cell_type": "markdown",
      "metadata": {
        "id": "oJ14yZLsmQ1-",
        "colab_type": "text"
      },
      "source": [
        "**Yorum:**\n",
        "\"ward\" bağlantı yöntemi ile skorlar pozitif değerdedir. Adjusted Rand indeksi \"ward\" bağlantı yönteminde, Silhouette skoru ise \"complete\" bağlantı yönteminde en yüksek değerdedir. Yola ward ile devam etmek, akıllı bir seçim olacaktır. Yine de skorlara baktığımızda, k-means modelini uygulamak, hiyerarşik yığınsal kümeleme modelini kullanmaktan daha mantıklıdır."
      ]
    },
    {
      "cell_type": "markdown",
      "metadata": {
        "id": "NBUcjwKEjnox",
        "colab_type": "text"
      },
      "source": [
        "### Bonus Statistics:"
      ]
    },
    {
      "cell_type": "code",
      "metadata": {
        "id": "Y8W4wGO9hZVO",
        "colab_type": "code",
        "colab": {
          "base_uri": "https://localhost:8080/",
          "height": 376
        },
        "outputId": "c8698c8a-ed3e-480a-8984-a70b5baa7412"
      },
      "source": [
        "print(\"-----Best 10 Silhouette Score-----\")\n",
        "scores_df.sort_values(by=\"Silhouette Score\", ascending=False).head(10)"
      ],
      "execution_count": 9,
      "outputs": [
        {
          "output_type": "stream",
          "text": [
            "-----Best 10 Silhouette Score-----\n"
          ],
          "name": "stdout"
        },
        {
          "output_type": "execute_result",
          "data": {
            "text/html": [
              "<div>\n",
              "<style scoped>\n",
              "    .dataframe tbody tr th:only-of-type {\n",
              "        vertical-align: middle;\n",
              "    }\n",
              "\n",
              "    .dataframe tbody tr th {\n",
              "        vertical-align: top;\n",
              "    }\n",
              "\n",
              "    .dataframe thead th {\n",
              "        text-align: right;\n",
              "    }\n",
              "</style>\n",
              "<table border=\"1\" class=\"dataframe\">\n",
              "  <thead>\n",
              "    <tr style=\"text-align: right;\">\n",
              "      <th></th>\n",
              "      <th>AR Score</th>\n",
              "      <th>Silhouette Score</th>\n",
              "      <th>Affinity</th>\n",
              "      <th>Linkage Method</th>\n",
              "    </tr>\n",
              "  </thead>\n",
              "  <tbody>\n",
              "    <tr>\n",
              "      <th>1</th>\n",
              "      <td>-0.001006</td>\n",
              "      <td>0.348362</td>\n",
              "      <td>euclidean</td>\n",
              "      <td>complete</td>\n",
              "    </tr>\n",
              "    <tr>\n",
              "      <th>2</th>\n",
              "      <td>-0.001006</td>\n",
              "      <td>0.348362</td>\n",
              "      <td>euclidean</td>\n",
              "      <td>average</td>\n",
              "    </tr>\n",
              "    <tr>\n",
              "      <th>3</th>\n",
              "      <td>-0.001006</td>\n",
              "      <td>0.348362</td>\n",
              "      <td>euclidean</td>\n",
              "      <td>single</td>\n",
              "    </tr>\n",
              "    <tr>\n",
              "      <th>6</th>\n",
              "      <td>0.001187</td>\n",
              "      <td>0.319239</td>\n",
              "      <td>manhattan</td>\n",
              "      <td>single</td>\n",
              "    </tr>\n",
              "    <tr>\n",
              "      <th>5</th>\n",
              "      <td>-0.001006</td>\n",
              "      <td>0.239465</td>\n",
              "      <td>manhattan</td>\n",
              "      <td>average</td>\n",
              "    </tr>\n",
              "    <tr>\n",
              "      <th>8</th>\n",
              "      <td>0.294049</td>\n",
              "      <td>0.233255</td>\n",
              "      <td>cosine</td>\n",
              "      <td>average</td>\n",
              "    </tr>\n",
              "    <tr>\n",
              "      <th>4</th>\n",
              "      <td>0.370707</td>\n",
              "      <td>0.199795</td>\n",
              "      <td>manhattan</td>\n",
              "      <td>complete</td>\n",
              "    </tr>\n",
              "    <tr>\n",
              "      <th>7</th>\n",
              "      <td>0.213940</td>\n",
              "      <td>0.190026</td>\n",
              "      <td>cosine</td>\n",
              "      <td>complete</td>\n",
              "    </tr>\n",
              "    <tr>\n",
              "      <th>0</th>\n",
              "      <td>0.146130</td>\n",
              "      <td>0.138720</td>\n",
              "      <td>euclidean</td>\n",
              "      <td>ward</td>\n",
              "    </tr>\n",
              "    <tr>\n",
              "      <th>9</th>\n",
              "      <td>0.001187</td>\n",
              "      <td>-0.021328</td>\n",
              "      <td>cosine</td>\n",
              "      <td>single</td>\n",
              "    </tr>\n",
              "  </tbody>\n",
              "</table>\n",
              "</div>"
            ],
            "text/plain": [
              "   AR Score  Silhouette Score   Affinity Linkage Method\n",
              "1 -0.001006          0.348362  euclidean       complete\n",
              "2 -0.001006          0.348362  euclidean        average\n",
              "3 -0.001006          0.348362  euclidean         single\n",
              "6  0.001187          0.319239  manhattan         single\n",
              "5 -0.001006          0.239465  manhattan        average\n",
              "8  0.294049          0.233255     cosine        average\n",
              "4  0.370707          0.199795  manhattan       complete\n",
              "7  0.213940          0.190026     cosine       complete\n",
              "0  0.146130          0.138720  euclidean           ward\n",
              "9  0.001187         -0.021328     cosine         single"
            ]
          },
          "metadata": {
            "tags": []
          },
          "execution_count": 9
        }
      ]
    },
    {
      "cell_type": "code",
      "metadata": {
        "id": "RFeUUqxJij7g",
        "colab_type": "code",
        "colab": {
          "base_uri": "https://localhost:8080/",
          "height": 376
        },
        "outputId": "52eb916e-b3da-4acc-cfc6-03a7d21d2cd3"
      },
      "source": [
        "print(\"-----Best 10 Adjusted Rand Score-----\")\n",
        "scores_df.sort_values(by=\"AR Score\", ascending=False).head(10)"
      ],
      "execution_count": 10,
      "outputs": [
        {
          "output_type": "stream",
          "text": [
            "-----Best 10 Adjusted Rand Score-----\n"
          ],
          "name": "stdout"
        },
        {
          "output_type": "execute_result",
          "data": {
            "text/html": [
              "<div>\n",
              "<style scoped>\n",
              "    .dataframe tbody tr th:only-of-type {\n",
              "        vertical-align: middle;\n",
              "    }\n",
              "\n",
              "    .dataframe tbody tr th {\n",
              "        vertical-align: top;\n",
              "    }\n",
              "\n",
              "    .dataframe thead th {\n",
              "        text-align: right;\n",
              "    }\n",
              "</style>\n",
              "<table border=\"1\" class=\"dataframe\">\n",
              "  <thead>\n",
              "    <tr style=\"text-align: right;\">\n",
              "      <th></th>\n",
              "      <th>AR Score</th>\n",
              "      <th>Silhouette Score</th>\n",
              "      <th>Affinity</th>\n",
              "      <th>Linkage Method</th>\n",
              "    </tr>\n",
              "  </thead>\n",
              "  <tbody>\n",
              "    <tr>\n",
              "      <th>4</th>\n",
              "      <td>0.370707</td>\n",
              "      <td>0.199795</td>\n",
              "      <td>manhattan</td>\n",
              "      <td>complete</td>\n",
              "    </tr>\n",
              "    <tr>\n",
              "      <th>8</th>\n",
              "      <td>0.294049</td>\n",
              "      <td>0.233255</td>\n",
              "      <td>cosine</td>\n",
              "      <td>average</td>\n",
              "    </tr>\n",
              "    <tr>\n",
              "      <th>7</th>\n",
              "      <td>0.213940</td>\n",
              "      <td>0.190026</td>\n",
              "      <td>cosine</td>\n",
              "      <td>complete</td>\n",
              "    </tr>\n",
              "    <tr>\n",
              "      <th>0</th>\n",
              "      <td>0.146130</td>\n",
              "      <td>0.138720</td>\n",
              "      <td>euclidean</td>\n",
              "      <td>ward</td>\n",
              "    </tr>\n",
              "    <tr>\n",
              "      <th>6</th>\n",
              "      <td>0.001187</td>\n",
              "      <td>0.319239</td>\n",
              "      <td>manhattan</td>\n",
              "      <td>single</td>\n",
              "    </tr>\n",
              "    <tr>\n",
              "      <th>9</th>\n",
              "      <td>0.001187</td>\n",
              "      <td>-0.021328</td>\n",
              "      <td>cosine</td>\n",
              "      <td>single</td>\n",
              "    </tr>\n",
              "    <tr>\n",
              "      <th>1</th>\n",
              "      <td>-0.001006</td>\n",
              "      <td>0.348362</td>\n",
              "      <td>euclidean</td>\n",
              "      <td>complete</td>\n",
              "    </tr>\n",
              "    <tr>\n",
              "      <th>2</th>\n",
              "      <td>-0.001006</td>\n",
              "      <td>0.348362</td>\n",
              "      <td>euclidean</td>\n",
              "      <td>average</td>\n",
              "    </tr>\n",
              "    <tr>\n",
              "      <th>3</th>\n",
              "      <td>-0.001006</td>\n",
              "      <td>0.348362</td>\n",
              "      <td>euclidean</td>\n",
              "      <td>single</td>\n",
              "    </tr>\n",
              "    <tr>\n",
              "      <th>5</th>\n",
              "      <td>-0.001006</td>\n",
              "      <td>0.239465</td>\n",
              "      <td>manhattan</td>\n",
              "      <td>average</td>\n",
              "    </tr>\n",
              "  </tbody>\n",
              "</table>\n",
              "</div>"
            ],
            "text/plain": [
              "   AR Score  Silhouette Score   Affinity Linkage Method\n",
              "4  0.370707          0.199795  manhattan       complete\n",
              "8  0.294049          0.233255     cosine        average\n",
              "7  0.213940          0.190026     cosine       complete\n",
              "0  0.146130          0.138720  euclidean           ward\n",
              "6  0.001187          0.319239  manhattan         single\n",
              "9  0.001187         -0.021328     cosine         single\n",
              "1 -0.001006          0.348362  euclidean       complete\n",
              "2 -0.001006          0.348362  euclidean        average\n",
              "3 -0.001006          0.348362  euclidean         single\n",
              "5 -0.001006          0.239465  manhattan        average"
            ]
          },
          "metadata": {
            "tags": []
          },
          "execution_count": 10
        }
      ]
    },
    {
      "cell_type": "code",
      "metadata": {
        "id": "Yk6LiMwUcH7O",
        "colab_type": "code",
        "colab": {
          "base_uri": "https://localhost:8080/",
          "height": 269
        },
        "outputId": "d263f7b2-339e-4bda-87a3-06246658d1a2"
      },
      "source": [
        "print(\"-----Min & Max Scores w.r.t Linkage Methods-----\\n\")\n",
        "scores_df.groupby(\"Linkage Method\").agg({\"AR Score\":[min, max], \n",
        "                                         \"Silhouette Score\":[min, max]}\n",
        "                                        )"
      ],
      "execution_count": 11,
      "outputs": [
        {
          "output_type": "stream",
          "text": [
            "-----Min & Max Scores w.r.t Linkage Methods-----\n",
            "\n"
          ],
          "name": "stdout"
        },
        {
          "output_type": "execute_result",
          "data": {
            "text/html": [
              "<div>\n",
              "<style scoped>\n",
              "    .dataframe tbody tr th:only-of-type {\n",
              "        vertical-align: middle;\n",
              "    }\n",
              "\n",
              "    .dataframe tbody tr th {\n",
              "        vertical-align: top;\n",
              "    }\n",
              "\n",
              "    .dataframe thead tr th {\n",
              "        text-align: left;\n",
              "    }\n",
              "\n",
              "    .dataframe thead tr:last-of-type th {\n",
              "        text-align: right;\n",
              "    }\n",
              "</style>\n",
              "<table border=\"1\" class=\"dataframe\">\n",
              "  <thead>\n",
              "    <tr>\n",
              "      <th></th>\n",
              "      <th colspan=\"2\" halign=\"left\">AR Score</th>\n",
              "      <th colspan=\"2\" halign=\"left\">Silhouette Score</th>\n",
              "    </tr>\n",
              "    <tr>\n",
              "      <th></th>\n",
              "      <th>min</th>\n",
              "      <th>max</th>\n",
              "      <th>min</th>\n",
              "      <th>max</th>\n",
              "    </tr>\n",
              "    <tr>\n",
              "      <th>Linkage Method</th>\n",
              "      <th></th>\n",
              "      <th></th>\n",
              "      <th></th>\n",
              "      <th></th>\n",
              "    </tr>\n",
              "  </thead>\n",
              "  <tbody>\n",
              "    <tr>\n",
              "      <th>average</th>\n",
              "      <td>-0.001006</td>\n",
              "      <td>0.294049</td>\n",
              "      <td>0.233255</td>\n",
              "      <td>0.348362</td>\n",
              "    </tr>\n",
              "    <tr>\n",
              "      <th>complete</th>\n",
              "      <td>-0.001006</td>\n",
              "      <td>0.370707</td>\n",
              "      <td>0.190026</td>\n",
              "      <td>0.348362</td>\n",
              "    </tr>\n",
              "    <tr>\n",
              "      <th>single</th>\n",
              "      <td>-0.001006</td>\n",
              "      <td>0.001187</td>\n",
              "      <td>-0.021328</td>\n",
              "      <td>0.348362</td>\n",
              "    </tr>\n",
              "    <tr>\n",
              "      <th>ward</th>\n",
              "      <td>0.146130</td>\n",
              "      <td>0.146130</td>\n",
              "      <td>0.138720</td>\n",
              "      <td>0.138720</td>\n",
              "    </tr>\n",
              "  </tbody>\n",
              "</table>\n",
              "</div>"
            ],
            "text/plain": [
              "                AR Score           Silhouette Score          \n",
              "                     min       max              min       max\n",
              "Linkage Method                                               \n",
              "average        -0.001006  0.294049         0.233255  0.348362\n",
              "complete       -0.001006  0.370707         0.190026  0.348362\n",
              "single         -0.001006  0.001187        -0.021328  0.348362\n",
              "ward            0.146130  0.146130         0.138720  0.138720"
            ]
          },
          "metadata": {
            "tags": []
          },
          "execution_count": 11
        }
      ]
    },
    {
      "cell_type": "code",
      "metadata": {
        "id": "ZaoZlk21cH13",
        "colab_type": "code",
        "colab": {
          "base_uri": "https://localhost:8080/",
          "height": 238
        },
        "outputId": "6488341f-47ad-4c6f-e15d-6494144d3352"
      },
      "source": [
        "print(\"-----Min & Max Scores w.r.t Affinities-----\\n\")\n",
        "scores_df.groupby(\"Affinity\").agg({\"AR Score\":[min, max], \n",
        "                                         \"Silhouette Score\":[min, max]}\n",
        "                                        )"
      ],
      "execution_count": 12,
      "outputs": [
        {
          "output_type": "stream",
          "text": [
            "-----Min & Max Scores w.r.t Affinities-----\n",
            "\n"
          ],
          "name": "stdout"
        },
        {
          "output_type": "execute_result",
          "data": {
            "text/html": [
              "<div>\n",
              "<style scoped>\n",
              "    .dataframe tbody tr th:only-of-type {\n",
              "        vertical-align: middle;\n",
              "    }\n",
              "\n",
              "    .dataframe tbody tr th {\n",
              "        vertical-align: top;\n",
              "    }\n",
              "\n",
              "    .dataframe thead tr th {\n",
              "        text-align: left;\n",
              "    }\n",
              "\n",
              "    .dataframe thead tr:last-of-type th {\n",
              "        text-align: right;\n",
              "    }\n",
              "</style>\n",
              "<table border=\"1\" class=\"dataframe\">\n",
              "  <thead>\n",
              "    <tr>\n",
              "      <th></th>\n",
              "      <th colspan=\"2\" halign=\"left\">AR Score</th>\n",
              "      <th colspan=\"2\" halign=\"left\">Silhouette Score</th>\n",
              "    </tr>\n",
              "    <tr>\n",
              "      <th></th>\n",
              "      <th>min</th>\n",
              "      <th>max</th>\n",
              "      <th>min</th>\n",
              "      <th>max</th>\n",
              "    </tr>\n",
              "    <tr>\n",
              "      <th>Affinity</th>\n",
              "      <th></th>\n",
              "      <th></th>\n",
              "      <th></th>\n",
              "      <th></th>\n",
              "    </tr>\n",
              "  </thead>\n",
              "  <tbody>\n",
              "    <tr>\n",
              "      <th>cosine</th>\n",
              "      <td>0.001187</td>\n",
              "      <td>0.294049</td>\n",
              "      <td>-0.021328</td>\n",
              "      <td>0.233255</td>\n",
              "    </tr>\n",
              "    <tr>\n",
              "      <th>euclidean</th>\n",
              "      <td>-0.001006</td>\n",
              "      <td>0.146130</td>\n",
              "      <td>0.138720</td>\n",
              "      <td>0.348362</td>\n",
              "    </tr>\n",
              "    <tr>\n",
              "      <th>manhattan</th>\n",
              "      <td>-0.001006</td>\n",
              "      <td>0.370707</td>\n",
              "      <td>0.199795</td>\n",
              "      <td>0.319239</td>\n",
              "    </tr>\n",
              "  </tbody>\n",
              "</table>\n",
              "</div>"
            ],
            "text/plain": [
              "           AR Score           Silhouette Score          \n",
              "                min       max              min       max\n",
              "Affinity                                                \n",
              "cosine     0.001187  0.294049        -0.021328  0.233255\n",
              "euclidean -0.001006  0.146130         0.138720  0.348362\n",
              "manhattan -0.001006  0.370707         0.199795  0.319239"
            ]
          },
          "metadata": {
            "tags": []
          },
          "execution_count": 12
        }
      ]
    }
  ]
}