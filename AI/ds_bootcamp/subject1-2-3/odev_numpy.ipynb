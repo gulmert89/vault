{
 "cells": [
  {
   "cell_type": "markdown",
   "metadata": {},
   "source": [
    "## 2.6 - Python: Numpy"
   ]
  },
  {
   "cell_type": "markdown",
   "metadata": {},
   "source": [
    "### Soru 1:"
   ]
  },
  {
   "cell_type": "code",
   "execution_count": 3,
   "metadata": {},
   "outputs": [
    {
     "name": "stdout",
     "output_type": "stream",
     "text": [
      "[[  2   4   6   8  10  12  14  16  18  20]\n",
      " [ 22  24  26  28  30  32  34  36  38  40]\n",
      " [ 42  44  46  48  50  52  54  56  58  60]\n",
      " [ 62  64  66  68  70  72  74  76  78  80]\n",
      " [ 82  84  86  88  90  92  94  96  98 100]\n",
      " [102 104 106 108 110 112 114 116 118 120]\n",
      " [122 124 126 128 130 132 134 136 138 140]\n",
      " [142 144 146 148 150 152 154 156 158 160]\n",
      " [162 164 166 168 170 172 174 176 178 180]\n",
      " [182 184 186 188 190 192 194 196 198 200]]\n",
      "\n",
      "Matrisin boyutu:  (10, 10)\n"
     ]
    }
   ],
   "source": [
    "# 1'den 200'ye kadar olan çift sayılardan oluşan 10 X 10'luk bir dizi oluşturun. arange() fonksiyonu yardımcı olabilir.\n",
    "\n",
    "import numpy as np\n",
    "\n",
    "cift_dizi = np.arange(2,201,2).reshape(10,10)\n",
    "print(cift_dizi)\n",
    "print(\"\\nMatrisin boyutu: \", np.shape(cift_dizi))"
   ]
  },
  {
   "cell_type": "markdown",
   "metadata": {},
   "source": [
    "### Soru 2:"
   ]
  },
  {
   "cell_type": "code",
   "execution_count": 11,
   "metadata": {
    "scrolled": true
   },
   "outputs": [
    {
     "name": "stdout",
     "output_type": "stream",
     "text": [
      "Lütfen matrisin satır sayısını giriniz: 7\n",
      "Sütun sayısını giriniz: 9\n",
      "\n",
      " [[1. 1. 1. 1. 1. 1. 1. 1. 1.]\n",
      " [1. 0. 0. 0. 0. 0. 0. 0. 1.]\n",
      " [1. 0. 0. 0. 0. 0. 0. 0. 1.]\n",
      " [1. 0. 0. 0. 0. 0. 0. 0. 1.]\n",
      " [1. 0. 0. 0. 0. 0. 0. 0. 1.]\n",
      " [1. 0. 0. 0. 0. 0. 0. 0. 1.]\n",
      " [1. 1. 1. 1. 1. 1. 1. 1. 1.]]\n"
     ]
    }
   ],
   "source": [
    "# Parametre olarak girilen satır ve kolon sayısına göre kenarları 1'lerden,\n",
    "# içi 0'lardan oluşan dizi döndüren bir fonksiyon yazınız.\n",
    "\n",
    "try:\n",
    "    row = int(input(\"Lütfen matrisin satır sayısını giriniz: \"))\n",
    "    column = int(input(\"Sütun sayısını giriniz: \"))\n",
    "    \n",
    "    def kenar(a,b):\n",
    "        box = np.ones([a,b])\n",
    "        box[1:a-1,1:b-1]=0    # görüşmeden sonra düzeltildi.\n",
    "        print(\"\\n\", box)        \n",
    "    \n",
    "    kenar(row,column)\n",
    "    \n",
    "except:\n",
    "    print(\"\\nLütfen 0'dan büyük bir sayı giriniz.\")"
   ]
  }
 ],
 "metadata": {
  "kernelspec": {
   "display_name": "Python 3",
   "language": "python",
   "name": "python3"
  },
  "language_info": {
   "codemirror_mode": {
    "name": "ipython",
    "version": 3
   },
   "file_extension": ".py",
   "mimetype": "text/x-python",
   "name": "python",
   "nbconvert_exporter": "python",
   "pygments_lexer": "ipython3",
   "version": "3.8.1"
  }
 },
 "nbformat": 4,
 "nbformat_minor": 4
}
