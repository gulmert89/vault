{
 "cells": [
  {
   "cell_type": "markdown",
   "metadata": {},
   "source": [
    "## 2.3 - Python'a Giriş: Veri Yapıları"
   ]
  },
  {
   "cell_type": "markdown",
   "metadata": {},
   "source": [
    "### Soru 1:"
   ]
  },
  {
   "cell_type": "code",
   "execution_count": 1,
   "metadata": {
    "scrolled": false
   },
   "outputs": [
    {
     "name": "stdout",
     "output_type": "stream",
     "text": [
      "Haftanın günleri aşağıdaki gibidir:\n",
      "1: Pazartesi\n",
      "2: Salı\n",
      "3: Çarşamba\n",
      "4: Perşembe\n",
      "5: Cuma\n",
      "6: Cumartesi\n",
      "7: Pazar\n",
      "\n",
      "Lütfen numarasını belirterek iki adet gün seçiniz.\n",
      "İlk gün: 2\n",
      "İkinci gün: 6\n",
      "\n",
      "Kalan günler:\n",
      "1: Pazartesi\n",
      "3: Çarşamba\n",
      "4: Perşembe\n",
      "5: Cuma\n",
      "7: Pazar\n",
      "\n"
     ]
    }
   ],
   "source": [
    "hafta = {\n",
    "    \"1\":\"Pazartesi\",\n",
    "    \"2\":\"Salı\",\n",
    "    \"3\":\"Çarşamba\",\n",
    "    \"4\":\"Perşembe\",\n",
    "    \"5\":\"Cuma\",\n",
    "    \"6\":\"Cumartesi\",\n",
    "    \"7\":\"Pazar\"\n",
    "}\n",
    "\n",
    "def goster():\n",
    "    for i,j in hafta.items():\n",
    "        print(i+\":\",j)\n",
    "    print(\"\")\n",
    "\n",
    "\n",
    "print(\"Haftanın günleri aşağıdaki gibidir:\")\n",
    "goster()\n",
    "    \n",
    "secim1 = input(\"Lütfen numarasını belirterek iki adet gün seçiniz.\\nİlk gün: \")\n",
    "secim2 = input(\"İkinci gün: \")\n",
    "del(hafta[secim1])\n",
    "del(hafta[secim2])\n",
    "\n",
    "print(\"\\nKalan günler:\")\n",
    "goster()\n"
   ]
  },
  {
   "cell_type": "markdown",
   "metadata": {},
   "source": [
    "### Soru 2:"
   ]
  },
  {
   "cell_type": "code",
   "execution_count": 2,
   "metadata": {},
   "outputs": [],
   "source": [
    "aylar = [\n",
    "    (\"Ocak\", 31),\n",
    "    (\"Şubat\", 28),\n",
    "    (\"Mart\", 31),\n",
    "    (\"Nisan\", 30),\n",
    "    (\"Mayıs\", 31),\n",
    "    (\"Haziran\", 30),\n",
    "    (\"Temmuz\", 31),\n",
    "    (\"Ağustos\", 31),\n",
    "    (\"Eylül\", 30),\n",
    "    (\"Ekim\", 31),\n",
    "    (\"Kasım\", 30),\n",
    "    (\"Aralık\", 31)\n",
    "]"
   ]
  },
  {
   "cell_type": "markdown",
   "metadata": {},
   "source": [
    "### Soru 3:"
   ]
  },
  {
   "cell_type": "code",
   "execution_count": 3,
   "metadata": {
    "scrolled": true
   },
   "outputs": [
    {
     "name": "stdout",
     "output_type": "stream",
     "text": [
      "[['Ocak', 'Şubat', 'Mart', 'Nisan', 'Mayıs', 'Haziran', 'Temmuz', 'Ağustos', 'Eylül', 'Ekim', 'Kasım', 'Aralık'], [31, 28, 31, 30, 31, 30, 31, 31, 30, 31, 30, 31]]\n"
     ]
    }
   ],
   "source": [
    "ag_listesi = [[],[]]    # ay ve gün listesi\n",
    "for x,y in aylar:\n",
    "    ag_listesi[0].append(x)\n",
    "    ag_listesi[1].append(y)\n",
    "print(ag_listesi)"
   ]
  },
  {
   "cell_type": "markdown",
   "metadata": {},
   "source": [
    "### Soru 4:"
   ]
  },
  {
   "cell_type": "code",
   "execution_count": 4,
   "metadata": {},
   "outputs": [
    {
     "name": "stdout",
     "output_type": "stream",
     "text": [
      "[['Aralık', 'Ocak', 'Şubat'], [31, 31, 28]]\n",
      "[['Mart', 'Nisan', 'Mayıs'], [31, 30, 31]]\n",
      "[['Haziran', 'Temmuz', 'Ağustos'], [30, 31, 31]]\n",
      "[['Eylül', 'Ekim', 'Kasım'], [30, 31, 30]]\n"
     ]
    }
   ],
   "source": [
    "kis = [[],[]]\n",
    "ilkbahar = [[],[]]\n",
    "yaz = list((list(),list()))\n",
    "sonbahar = list((list(),list()))\n",
    "for i in range(2):\n",
    "    kis[i].append(ag_listesi[i][11])   # Aralık\n",
    "    kis[i].append(ag_listesi[i][0])    # Ocak\n",
    "    kis[i].append(ag_listesi[i][1])    # Şubat\n",
    "    ilkbahar[i].append(ag_listesi[i][2])    # Mart\n",
    "    ilkbahar[i].append(ag_listesi[i][3])    # Nisan\n",
    "    ilkbahar[i].append(ag_listesi[i][4])    # Mayıs\n",
    "    yaz[i].append(ag_listesi[i][5])    # Haziran\n",
    "    yaz[i].append(ag_listesi[i][6])    # Temmuz\n",
    "    yaz[i].append(ag_listesi[i][7])    # Ağustos\n",
    "    sonbahar[i].append(ag_listesi[i][8])    # Eylül\n",
    "    sonbahar[i].append(ag_listesi[i][9])    # Ekim\n",
    "    sonbahar[i].append(ag_listesi[i][10])   # Kasım\n",
    "print(kis, ilkbahar, yaz, sonbahar, sep=\"\\n\")"
   ]
  },
  {
   "cell_type": "code",
   "execution_count": 5,
   "metadata": {},
   "outputs": [
    {
     "name": "stdout",
     "output_type": "stream",
     "text": [
      "Yaz ayı 92 gün sürer.\n"
     ]
    }
   ],
   "source": [
    "print(\"Yaz ayı {} gün sürer.\".format(sum(yaz[1])))"
   ]
  }
 ],
 "metadata": {
  "kernelspec": {
   "display_name": "Python 3",
   "language": "python",
   "name": "python3"
  },
  "language_info": {
   "codemirror_mode": {
    "name": "ipython",
    "version": 3
   },
   "file_extension": ".py",
   "mimetype": "text/x-python",
   "name": "python",
   "nbconvert_exporter": "python",
   "pygments_lexer": "ipython3",
   "version": "3.8.1"
  }
 },
 "nbformat": 4,
 "nbformat_minor": 4
}
