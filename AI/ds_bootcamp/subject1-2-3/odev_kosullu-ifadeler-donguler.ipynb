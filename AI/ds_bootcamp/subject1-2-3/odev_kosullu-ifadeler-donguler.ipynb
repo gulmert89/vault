{
 "cells": [
  {
   "cell_type": "markdown",
   "metadata": {},
   "source": [
    "## 2.4 - Python: Koşullu İfadeler ve Döngüler"
   ]
  },
  {
   "cell_type": "markdown",
   "metadata": {},
   "source": [
    "### Soru 1:"
   ]
  },
  {
   "cell_type": "code",
   "execution_count": 1,
   "metadata": {},
   "outputs": [
    {
     "name": "stdout",
     "output_type": "stream",
     "text": [
      "Sıcaklığı Fahrenheit(F) veya Celcius(C) cinsinden giriniz: -20c\n",
      "Girdiğiniz sıcaklığın Fahrenheit(°F) cinsinden değeri:  -4.0°F\n"
     ]
    }
   ],
   "source": [
    "sicaklik = input(\"Sıcaklığı Fahrenheit(F) veya Celcius(C) cinsinden giriniz: \")\n",
    "if \"c\" in sicaklik or \"C\" in sicaklik:\n",
    "    sicaklik = int(sicaklik[:-1])\n",
    "    F = round(((sicaklik * 9/5) + 32),2)\n",
    "    print(\"Girdiğiniz sıcaklığın Fahrenheit(°F) cinsinden değeri: \", str(F) + \"°F\")\n",
    "    \n",
    "elif \"f\" in sicaklik or \"F\" in sicaklik:\n",
    "    sicaklik = int(sicaklik[:-1])\n",
    "    C = round(((5/9) * (sicaklik - 32)),2)\n",
    "    print(\"Girdiğiniz sıcaklığın Celcius(°C) cinsinden değeri: \", str(C) + \"°C\")\n",
    "    \n",
    "else:\n",
    "    print(\"Lütfen Fahrenheit(°F) veya Celcius(°C) cinsinden bir değer giriniz.\")\n"
   ]
  },
  {
   "cell_type": "markdown",
   "metadata": {},
   "source": [
    "### Soru 2:"
   ]
  },
  {
   "cell_type": "code",
   "execution_count": 2,
   "metadata": {},
   "outputs": [
    {
     "name": "stdout",
     "output_type": "stream",
     "text": [
      "Lütfen bir kelime giriniz: datajarlabs\n",
      "Kelimenin tersi: sbalrajatad\n"
     ]
    }
   ],
   "source": [
    "kelime = input(\"Lütfen bir kelime giriniz: \")\n",
    "ters_kelime = kelime[::-1]\n",
    "print(\"Kelimenin tersi:\",ters_kelime)"
   ]
  },
  {
   "cell_type": "markdown",
   "metadata": {},
   "source": [
    "### Soru 3:"
   ]
  },
  {
   "cell_type": "code",
   "execution_count": 3,
   "metadata": {},
   "outputs": [
    {
     "name": "stdout",
     "output_type": "stream",
     "text": [
      "50'den küçük Fibonacci sayıları: 0 1 1 2 3 5 8 13 21 34 "
     ]
    }
   ],
   "source": [
    "ilk = 0\n",
    "ikinci = 1\n",
    "print(\"50'den küçük Fibonacci sayıları:\", end=\" \")\n",
    "while ilk < 50:\n",
    "    print(ilk, end=\" \")\n",
    "    ilk, ikinci = ikinci, (ilk+ikinci)"
   ]
  },
  {
   "cell_type": "markdown",
   "metadata": {},
   "source": [
    "### Soru 4:"
   ]
  },
  {
   "cell_type": "code",
   "execution_count": 4,
   "metadata": {
    "scrolled": true
   },
   "outputs": [
    {
     "name": "stdout",
     "output_type": "stream",
     "text": [
      "Çarpım tablosunu görmek istediğiniz sayıyı giriniz: 7\n",
      "7 x 0 = 0\n",
      "7 x 1 = 7\n",
      "7 x 2 = 14\n",
      "7 x 3 = 21\n",
      "7 x 4 = 28\n",
      "7 x 5 = 35\n",
      "7 x 6 = 42\n",
      "7 x 7 = 49\n",
      "7 x 8 = 56\n",
      "7 x 9 = 63\n",
      "7 x 10 = 70\n"
     ]
    }
   ],
   "source": [
    "sayi = int(input(\"Çarpım tablosunu görmek istediğiniz sayıyı giriniz: \"))\n",
    "for k in range(11):\n",
    "    print(f\"{sayi} x {k} = {sayi*k}\")"
   ]
  },
  {
   "cell_type": "markdown",
   "metadata": {},
   "source": [
    "### Soru 5:"
   ]
  },
  {
   "cell_type": "code",
   "execution_count": 5,
   "metadata": {},
   "outputs": [
    {
     "name": "stdout",
     "output_type": "stream",
     "text": [
      "[1, 8, 9, 64, 25, 216, 49, 512, 81, 1000, 121, 1728, 169, 2744, 225, 4096, 289, 5832, 361, 8000]\n"
     ]
    }
   ],
   "source": [
    "# List comprehension kullanarak, 1'den 20'ye kadar tek sayıların karesini, çift sayıların küpünü içeren bir liste oluşturun.\n",
    "print([x**2 if x%2==1 else x**3 for x in range(1,21)])"
   ]
  }
 ],
 "metadata": {
  "kernelspec": {
   "display_name": "Python 3",
   "language": "python",
   "name": "python3"
  },
  "language_info": {
   "codemirror_mode": {
    "name": "ipython",
    "version": 3
   },
   "file_extension": ".py",
   "mimetype": "text/x-python",
   "name": "python",
   "nbconvert_exporter": "python",
   "pygments_lexer": "ipython3",
   "version": "3.8.1"
  }
 },
 "nbformat": 4,
 "nbformat_minor": 4
}
