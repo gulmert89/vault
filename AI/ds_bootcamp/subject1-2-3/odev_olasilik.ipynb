{
 "cells": [
  {
   "cell_type": "markdown",
   "metadata": {},
   "source": [
    "# 3.2 - İstatistik'e Giriş: Olasılık"
   ]
  },
  {
   "cell_type": "markdown",
   "metadata": {},
   "source": [
    "$$ P(A|B) = \\frac{P(B|A)*P(A)}{P(B)} = \\frac{P(A \\cap B)}{P(B)}$$"
   ]
  },
  {
   "cell_type": "markdown",
   "metadata": {},
   "source": [
    "## Alıştırma:\n",
    "Bir gün, yeni duyduğunuz bir hastalığın sizde olup olmadığının testini yaptırmak için bir hastaneye gittiniz diyelim. Çok nadir görülen bu hastalık aylarca hiçbir semptom vermeden ilerliyor ve birgün aniden hastanın ölümüne sebep oluyormuş. Milyonda bir görülse de içinize bir korku düştüğünden yaptırdığınız bu test iki taraflı olarak %99.99 bir doğruluğa da sahipmiş. Test sonucu pozitif gelse ne yaparsınız?"
   ]
  },
  {
   "cell_type": "code",
   "execution_count": 1,
   "metadata": {},
   "outputs": [
    {
     "name": "stdout",
     "output_type": "stream",
     "text": [
      "Test sonucu pozitif iken hasta olma olasılığı: %0.99\n"
     ]
    }
   ],
   "source": [
    "# Alıştırma'yı tam anlayamadım. Kendim tekrardan çözerek yorumladım.\n",
    "\n",
    "A = 1e-6    # hastalığa yakalanma olasılığı: milyonda 1\n",
    "B = 0.9999    # testin doğruluk oranı: %99.99\n",
    "\n",
    "p_BA = B    # P(B|A): hasta iken testin doğru çıkma olasılığı. Hasta olmak, testin doğruluğunu etkilemiyor.\n",
    "p_A = A    # P(A): hastalığa yakalanma olasılığı. Testin doğruluk oranından bağımsız.\n",
    "p_B = A*B + (1-A)*(1-B)    # P(B): test sonucu pozitif: (hasta)*(test doğru) + (sağlıklı)*(test yanlış)\n",
    "\n",
    "p_AB = (p_BA*p_A)/(p_B)    # P(A|B): test sonucu pozitifken hasta olma olasılığı\n",
    "print(f\"Test sonucu pozitif iken hasta olma olasılığı: %{p_AB*100:.2f}\")"
   ]
  },
  {
   "cell_type": "markdown",
   "metadata": {},
   "source": [
    "## Soru 1:\n",
    "A şirketinin sattığı bilgisayarın bazılarının bozuk olduğu tespit edilmiştir. Bilgisyar üreten 3 şirket (A, B ve C) olduğunu varsayımı altında, bu şirketlerin bilgisayar üretim miktarı ve bozuk üretim olasılıkları şu şekildedir:<br>\n",
    "<br>\n",
    "Toplam Üretim Yüzdesi P(A)=0.40 P(B)=0.40 P(C)=0.20 <br>\n",
    "Hatalı Üretim Olasılığı <br>\n",
    "P(D|A)=0.015 P(D|B)=0.020 P(D|C)=0.010 <br>\n",
    "\n",
    "Rastgele seçilen bir bozuk bir bilgisayarın B şirketi tarafından üretilme olasılığı nedir?"
   ]
  },
  {
   "cell_type": "markdown",
   "metadata": {},
   "source": [
    "Yani -yanılmıyorsam-, <br> $$ P(B|D) = \\frac{P(D|B)*P(B)}{P(D)} = ?$$"
   ]
  },
  {
   "cell_type": "code",
   "execution_count": 2,
   "metadata": {
    "scrolled": true
   },
   "outputs": [
    {
     "name": "stdout",
     "output_type": "stream",
     "text": [
      "Rastgele seçilen bir bozuk bir bilgisayarın B şirketi tarafından üretilme olasılığı: %17.778\n"
     ]
    }
   ],
   "source": [
    "p_B = 0.40                     # P(B): B şirketi üretim yüzdesi: %40 \n",
    "p_D = 0.015 + 0.020 + 0.010    # P(D): Toplam hatalı üretim olasılığı: %(1.5 + 2 + 1) = %4.5\n",
    "p_DB = 0.020                   # P(D|B): B şirketinde üretilen bilgisayarların bozuk olma oranı: %2\n",
    "p_BD = None                    # P(B|D): Hatalı üretimler arasından B şirketine ait olan bilgisayar\n",
    "\n",
    "p_BD = (p_DB)*(p_B)/(p_D)\n",
    "\n",
    "print(f\"Rastgele seçilen bir bozuk bir bilgisayarın B şirketi tarafından üretilme olasılığı: %{100*p_BD:.3f}\")"
   ]
  },
  {
   "cell_type": "markdown",
   "metadata": {},
   "source": [
    "### Ekstra soru:\n",
    "Aşağıda yürüttüğüm mantık doğru mudur?"
   ]
  },
  {
   "cell_type": "code",
   "execution_count": 5,
   "metadata": {
    "scrolled": true
   },
   "outputs": [
    {
     "name": "stdout",
     "output_type": "stream",
     "text": [
      "Rastgele seçilen bir bilgisayarın hem bozuk hem de B şirketine ait olma olasılığı: %0.8\n"
     ]
    }
   ],
   "source": [
    "print(\"Rastgele seçilen bir bilgisayarın hem bozuk hem de B şirketine ait olma olasılığı: %{}\".format(p_BD*p_D*100))"
   ]
  },
  {
   "cell_type": "markdown",
   "metadata": {},
   "source": [
    "**Notlar:** <br>\n",
    "1) Ders notlarında geçen \"Marjinal olasılık\" kavramını anlamadım. <br>\n",
    "2) Soru 1'de yalnızca bozuk bilgisayarlar arasından seçim yapılırken, Ekstra soru'da tüm bilgisayarlar arasından seçim yapılıyor."
   ]
  }
 ],
 "metadata": {
  "kernelspec": {
   "display_name": "Python 3",
   "language": "python",
   "name": "python3"
  },
  "language_info": {
   "codemirror_mode": {
    "name": "ipython",
    "version": 3
   },
   "file_extension": ".py",
   "mimetype": "text/x-python",
   "name": "python",
   "nbconvert_exporter": "python",
   "pygments_lexer": "ipython3",
   "version": "3.8.2"
  }
 },
 "nbformat": 4,
 "nbformat_minor": 4
}
