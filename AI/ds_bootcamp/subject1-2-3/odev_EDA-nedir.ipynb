{
 "cells": [
  {
   "cell_type": "markdown",
   "metadata": {},
   "source": [
    "# 4.1 - Keşifsel Veri Analizi Nedir?"
   ]
  },
  {
   "cell_type": "markdown",
   "metadata": {},
   "source": [
    "***Soru 1:*** Keşifsel Veri Analizinin amacı nedir?<br>\n",
    "\n",
    "**Cevap:** Keşifsel Veri Analizi'nin _(Exploratory Data Analysis)_ amacı,\n",
    "* Veri setine dair ilk incelemeyi gerçekleştirmek,\n",
    "* Veri setini görsele dökerek altında yatan yapıya dair anlayışımızı/kavrayışımızı arttırmak,\n",
    "* Veri setindeki aşırı ve/veya anormal değerleri ortaya çıkarmak\n",
    "* Veri setinindeki sorunları gidererek/temizleyerek datalar arasındaki ilişkiyi keşfetmek,\n",
    "* Hipotezleri test etmek ve varsayımları kontrol etmek,\n",
    "* Faydalı/Kullanışlı özellikler oluşturmak.\n",
    "\n",
    "***Soru 2:*** Bir e-ticaret şirketinin ürünlerine ait müşteri yorumlarını içeren bir veri kümesi üzerinde çalıştığınızı farz edin. Şirketin web sitesi aracılığıyla toplanan müşteri yorumları içeriğinin olumlu ya da olumsuz olmasına göre 1 ila 5 arasında derecelendirilmiştir.\n",
    "\n",
    "* Bu ham veride ne tür problemlerle karşılaşmayı beklersiniz?\n",
    "\n",
    "**Cevap:** Ham veri, muhtemelen yüzlerce ürün için binlerce kullanıcı yorumundan oluşacaktır. Dolayısıyla yapılandırılmamış datalardan oluşacak, ürün kategorileri belirsiz olacak, dataları ilk önce sınıflandırarak belli gruplara/kümelere ayırmak gerekecektir. Bunun dışında, bazı ürünler hiç yorum almamış, bazı ürünlerse aşırı değerlerde geziniyor olacaktır; bu gibi ekstrem verilerin incelenmesi ve gerektiğinde ayıklanması gerekecektir.\n",
    "\n",
    "* Göreviniz müşterilerin yorumlarının olumlu yada olumsuz olduğunu ortaya çıkaran özellikleri belirlemek olsaydı nasıl bir yaplaşımda bulunur ve bunun için hangi metodları kullanırdınız?\n",
    "\n",
    "**Cevap:** Müşteri yorumlarını sınıflandırabilmek için belli kelime grupları kullanır, örneğin negatif yorumlar için \"kötü\", \"sevmedim\", \"başarısız\" gibi, iyi yorumlar içinse \"harika\", \"teşekkürler\", \"başarılı\" gibi anahtar kelimelerle bir ön seçim yapar, puanlamalarla eşleşen bir takım yorumları seçer ve denetimli öğrenme metodları denerdim.\n",
    "\n",
    "* Ham veriden çıkarılabilecek yararlı özelliklerin neler olabilir? Bu verilere nasıl ulaşılabilirsiniz ve bunların faydalı olup olmayacağını nasıl anlayabilirsiniz?\n",
    "\n",
    "**Cevap:** Çıkarılabilecek yararlı özellikler: <br>\n",
    "* Ürün kategorileri arasında hangi ürünün en yüksek puan aldığı,\n",
    "* Yine ürün grupları arasında puan-fiyat karşılaştırması yaparak en iyi fiyat/performans ürününün belirlenmesi,\n",
    "* Satış miktarı ve puan arasındaki muhtelem doğru orantının gözlemlenmesi ve uç değerlerin incelenmesi vb.\n",
    "Ham verideki ürünler kategorize edilerek yukarıdaki değerlere ulaşılabilir. Bahsedilen e-ticaret sitesine girip kategoriler arasında gezinen kullanıcıya, o kategorideki en çok satılan veya en yüksek puan almış ürün gösterilerek fayda sağlanılabilir."
   ]
  }
 ],
 "metadata": {
  "kernelspec": {
   "display_name": "Python 3",
   "language": "python",
   "name": "python3"
  },
  "language_info": {
   "codemirror_mode": {
    "name": "ipython",
    "version": 3
   },
   "file_extension": ".py",
   "mimetype": "text/x-python",
   "name": "python",
   "nbconvert_exporter": "python",
   "pygments_lexer": "ipython3",
   "version": "3.8.2"
  }
 },
 "nbformat": 4,
 "nbformat_minor": 4
}
