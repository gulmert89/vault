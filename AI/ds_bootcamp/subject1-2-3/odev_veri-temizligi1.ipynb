{
 "cells": [
  {
   "cell_type": "markdown",
   "metadata": {},
   "source": [
    "**Soru 1)** Rank değişkenini kategorik olarak değerlendirmenin avantaj ve dezavantajlarını göz önünde bulundurun. Argümanlarınızı mentorunuzla tartışın.\n",
    "\n",
    "**Soru 2)** Aşağıdaki değişkenlerin türlerini belirleyin:\n",
    "\n",
    "* Yaş - Sürekli Değişken (Oran Değişkeni) / Kategorik değişken olarak da düşünülebilir. \n",
    "* Maaş - Sürekli Değişken (Oran Değişkeni)\n",
    "* Gelir - Sürekli Değişken (Oran Değişkeni)\n",
    "* Müşteri türü - Kategorik Değişken (duruma göre Nominal veya Ordinal Değişken olarak nitelendirilebilir.)\n",
    "* Hisse senedi fiyatı - Sürekli Değişken (Oran Değişkeni)"
   ]
  },
  {
   "cell_type": "code",
   "execution_count": null,
   "metadata": {},
   "outputs": [],
   "source": []
  }
 ],
 "metadata": {
  "kernelspec": {
   "display_name": "Python 3",
   "language": "python",
   "name": "python3"
  },
  "language_info": {
   "codemirror_mode": {
    "name": "ipython",
    "version": 3
   },
   "file_extension": ".py",
   "mimetype": "text/x-python",
   "name": "python",
   "nbconvert_exporter": "python",
   "pygments_lexer": "ipython3",
   "version": "3.8.2"
  }
 },
 "nbformat": 4,
 "nbformat_minor": 4
}
