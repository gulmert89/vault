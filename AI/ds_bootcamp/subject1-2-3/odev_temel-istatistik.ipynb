{
 "cells": [
  {
   "cell_type": "markdown",
   "metadata": {},
   "source": [
    "# 3.1 - İstatistik'e Giriş: Temel İstatistik Kavramları"
   ]
  },
  {
   "cell_type": "markdown",
   "metadata": {},
   "source": [
    "## Soru 1:\n",
    "numpy kütüphanesini kullanarak üreteceğiniz 3 farklı veri aracılığı ile merkezi eğilim ve dağılım ölçümlerini hem yukarıda verilen matematiksel formülle hem de Python'da hazır bulunan (built-in) kodlar aracılığıyla analiz edin. <br>\n"
   ]
  },
  {
   "cell_type": "markdown",
   "metadata": {},
   "source": [
    "***Build-in Version***"
   ]
  },
  {
   "cell_type": "code",
   "execution_count": 13,
   "metadata": {},
   "outputs": [],
   "source": [
    "import numpy as np\n",
    "import pandas as pd\n",
    "import matplotlib.pyplot as plt\n",
    "import statistics as stat"
   ]
  },
  {
   "cell_type": "code",
   "execution_count": 14,
   "metadata": {},
   "outputs": [],
   "source": [
    "car = pd.DataFrame()\n",
    "car[\"Year\"] = np.random.normal(1980, 40, 100)\n",
    "car[\"Fault\"] = np.random.normal(42, 20, 100)\n",
    "car[\"Distance\"] = np.random.normal(120_000, 10000, 100)"
   ]
  },
  {
   "cell_type": "code",
   "execution_count": 15,
   "metadata": {},
   "outputs": [
    {
     "data": {
      "image/png": "[encoded data removed]",
      "text/plain": [
       "<Figure size 1440x360 with 3 Axes>"
      ]
     },
     "metadata": {
      "needs_background": "light"
     },
     "output_type": "display_data"
    }
   ],
   "source": [
    "car.hist(layout=(1,3), sharey=False, figsize=(20,5), color=\"teal\", bins=20)\n",
    "plt.show()"
   ]
  },
  {
   "cell_type": "code",
   "execution_count": 16,
   "metadata": {},
   "outputs": [
    {
     "name": "stdout",
     "output_type": "stream",
     "text": [
      "Mean value of Distance: 119198.91\n",
      "Mean value of Fault: 42.99\n",
      "Mean value of Year: 1976.04\n"
     ]
    }
   ],
   "source": [
    "# mean values with numpy\n",
    "d_mean_np = np.mean(car[\"Distance\"])\n",
    "f_mean_np = np.mean(car.Fault)\n",
    "y_mean_np = np.mean(car[\"Year\"])\n",
    "\n",
    "print(f\"Mean value of Distance: {d_mean_np:.2f}\")\n",
    "print(f\"Mean value of Fault: {f_mean_np:.2f}\")\n",
    "print(f\"Mean value of Year: {y_mean_np:.2f}\")"
   ]
  },
  {
   "cell_type": "code",
   "execution_count": 17,
   "metadata": {},
   "outputs": [
    {
     "name": "stdout",
     "output_type": "stream",
     "text": [
      "Median value of Distance: 118355.27\n",
      "Median value of Fault: 43.17\n",
      "Median value of Year: 1972.26\n"
     ]
    }
   ],
   "source": [
    "# median values with numpy & statistics\n",
    "d_med_np = np.median(car[\"Distance\"])\n",
    "f_med_np = np.median(car.Fault)\n",
    "y_med_stat = stat.median(car[\"Year\"])\n",
    "\n",
    "print(f\"Median value of Distance: {d_med_np:.2f}\")\n",
    "print(f\"Median value of Fault: {f_med_np:.2f}\")\n",
    "print(f\"Median value of Year: {y_med_stat:.2f}\")"
   ]
  },
  {
   "cell_type": "code",
   "execution_count": 18,
   "metadata": {},
   "outputs": [
    {
     "name": "stdout",
     "output_type": "stream",
     "text": [
      "Mode of Distance: 114772.37\n",
      "Mode of Fault: 26.15\n",
      "Mode of Year: 1996.30\n"
     ]
    }
   ],
   "source": [
    "# mode values with statistics module\n",
    "d_mod_stat = stat.mode(car[\"Distance\"])\n",
    "f_mod_stat = stat.mode(car.Fault)\n",
    "y_mod_stat = stat.mode(car[\"Year\"])\n",
    "\n",
    "print(f\"Mode of Distance: {d_mod_stat:.2f}\")\n",
    "print(f\"Mode of Fault: {f_mod_stat:.2f}\")\n",
    "print(f\"Mode of Year: {y_mod_stat:.2f}\")"
   ]
  },
  {
   "cell_type": "code",
   "execution_count": 19,
   "metadata": {},
   "outputs": [
    {
     "name": "stdout",
     "output_type": "stream",
     "text": [
      "Variance of Distance: 90777065.18\n",
      "Variance of Fault: 342.49\n",
      "Variance of Year: 1377.04\n"
     ]
    }
   ],
   "source": [
    "# variance values with numpy & pandas\n",
    "d_var_np = np.var(car[\"Distance\"], ddof=1)\n",
    "f_var_pd = car.Fault.var()\n",
    "y_var_np = np.var(car[\"Year\"], ddof=1)\n",
    "\n",
    "print(f\"Variance of Distance: {d_var_np:.2f}\")\n",
    "print(f\"Variance of Fault: {f_var_pd:.2f}\")\n",
    "print(f\"Variance of Year: {y_var_np:.2f}\")"
   ]
  },
  {
   "cell_type": "code",
   "execution_count": 20,
   "metadata": {},
   "outputs": [
    {
     "name": "stdout",
     "output_type": "stream",
     "text": [
      "Standard Deviation of Distance: 9527.70\n",
      "Standard Deviation of Fault: 18.51\n",
      "Standard Deviation of Year: 37.11\n"
     ]
    }
   ],
   "source": [
    "# standard deviation values with numpy & pandas\n",
    "d_std_np = np.std(car[\"Distance\"], ddof=1)\n",
    "f_std_pd = car.Fault.std()\n",
    "y_std_np = np.std(car[\"Year\"], ddof=1)\n",
    "\n",
    "print(f\"Standard Deviation of Distance: {d_std_np:.2f}\")\n",
    "print(f\"Standard Deviation of Fault: {f_std_pd:.2f}\")\n",
    "print(f\"Standard Deviation of Year: {y_std_np:.2f}\")"
   ]
  },
  {
   "cell_type": "code",
   "execution_count": 21,
   "metadata": {},
   "outputs": [
    {
     "name": "stdout",
     "output_type": "stream",
     "text": [
      "Standard Error of Distance: 952.77\n",
      "Standard Error of Fault: 1.85\n",
      "Standard Error of Year: 3.71\n"
     ]
    }
   ],
   "source": [
    "# standard error values with numpy & pandas\n",
    "d_ste_np = np.std(car[\"Distance\"], ddof=1) / np.sqrt(len(car.Distance))\n",
    "f_ste_pd = car.Fault.std() / np.sqrt(len(car.Fault))\n",
    "y_ste_np = np.std(car[\"Year\"], ddof=1) / np.sqrt(len(car.Year))\n",
    "\n",
    "print(f\"Standard Error of Distance: {d_ste_np:.2f}\")    # bunu, ders notlarındaki gibi % bir değere nasıl çeviriyoruz?\n",
    "print(f\"Standard Error of Fault: {f_ste_pd:.2f}\")\n",
    "print(f\"Standard Error of Year: {y_ste_np:.2f}\")"
   ]
  },
  {
   "cell_type": "markdown",
   "metadata": {},
   "source": [
    "***Pure Python Version***"
   ]
  },
  {
   "cell_type": "code",
   "execution_count": 22,
   "metadata": {},
   "outputs": [],
   "source": [
    "distance = list(car.Distance)\n",
    "fault = list(car.Fault)\n",
    "year = list(car[\"Year\"])"
   ]
  },
  {
   "cell_type": "code",
   "execution_count": 23,
   "metadata": {},
   "outputs": [
    {
     "name": "stdout",
     "output_type": "stream",
     "text": [
      "Mean value of Distance: 119198.91\n",
      "Mean value of Fault: 42.99\n",
      "Mean value of Year: 1976.04\n",
      "\n",
      "Median value of Distance: 118355.27\n",
      "Median value of Fault: 43.17\n",
      "Median value of Year: 1972.26\n",
      "\n",
      "Mode of Distance: 148329.01\n",
      "Mode of Fault: 90.08\n",
      "Mode of Year: 2064.34\n",
      "\n",
      "Variance of Distance: 90777065.18\n",
      "Variance of Fault: 342.49\n",
      "Variance of Year: 1377.04\n",
      "\n",
      "Standart Deviation of Distance: 9527.70\n",
      "Standart Deviation of Fault: 18.51\n",
      "Standart Deviation of Year: 37.11\n",
      "\n",
      "Standart Error of Distance: 952.77\n",
      "Standart Error of Fault: 1.85\n",
      "Standart Error of Year: 3.71\n"
     ]
    }
   ],
   "source": [
    "class Stat:\n",
    "    def __init__(self, data):\n",
    "        self.d = data\n",
    "    \n",
    "    def mean(self):    # mean value        \n",
    "        return (sum(self.d) / len(self.d))\n",
    "    \n",
    "    def med(self):    # median value\n",
    "        self.d.sort()\n",
    "        if len(self.d)%2==1:\n",
    "            return self.d[len(self.d)//2]\n",
    "        else:\n",
    "            return (self.d[len(self.d)//2]+self.d[len(self.d)//2-1])/2\n",
    "        \n",
    "    def mode(self):    # mode value\n",
    "        counter={}\n",
    "        for i in self.d:\n",
    "            counter[self.d.count(i)]=i\n",
    "        return counter[ max(counter.keys()) ]    ### sanırım küsüratlardan dolayı tüm verileri 1 adet sayıyor ve doğru sonucu vermiyor. ###\n",
    "    \n",
    "    def variance(self):    # variance value\n",
    "        total = []\n",
    "        for i in self.d:\n",
    "            total.append((i - Stat.mean(self))**2)\n",
    "        return (sum(total))/(len(self.d)-1)\n",
    "    \n",
    "    def stdev(self):    # standart deviation\n",
    "        return (Stat.variance(self))**0.5\n",
    "    \n",
    "    def sterr(self):    # standart error\n",
    "        return Stat.stdev(self)/(len(self.d)**0.5)\n",
    "\n",
    "\n",
    "print(\"Mean value of Distance: {:.2f}\".format( Stat(distance).mean() ))\n",
    "print(\"Mean value of Fault: {:.2f}\".format( Stat(fault).mean() ))\n",
    "print(\"Mean value of Year: {:.2f}\".format( Stat(year).mean() ))\n",
    "print(\"\")\n",
    "print(\"Median value of Distance: {:.2f}\".format( Stat(distance).med() ))\n",
    "print(\"Median value of Fault: {:.2f}\".format( Stat(fault).med() ))\n",
    "print(\"Median value of Year: {:.2f}\".format( Stat(year).med() ))\n",
    "print(\"\")\n",
    "print(\"Mode of Distance: {:.2f}\".format( Stat(distance).mode() ))\n",
    "print(\"Mode of Fault: {:.2f}\".format( Stat(fault).mode() ))\n",
    "print(\"Mode of Year: {:.2f}\".format( Stat(year).mode() ))\n",
    "print(\"\")\n",
    "print(\"Variance of Distance: {:.2f}\".format( Stat(distance).variance() ))\n",
    "print(\"Variance of Fault: {:.2f}\".format( Stat(fault).variance() ))\n",
    "print(\"Variance of Year: {:.2f}\".format( Stat(year).variance() ))\n",
    "print(\"\")\n",
    "print(\"Standart Deviation of Distance: {:.2f}\".format( Stat(distance).stdev() ))\n",
    "print(\"Standart Deviation of Fault: {:.2f}\".format( Stat(fault).stdev() ))\n",
    "print(\"Standart Deviation of Year: {:.2f}\".format( Stat(year).stdev() ))\n",
    "print(\"\")\n",
    "print(\"Standart Error of Distance: {:.2f}\".format( Stat(distance).sterr() ))\n",
    "print(\"Standart Error of Fault: {:.2f}\".format( Stat(fault).sterr() ))\n",
    "print(\"Standart Error of Year: {:.2f}\".format( Stat(year).sterr() ))"
   ]
  },
  {
   "cell_type": "markdown",
   "metadata": {},
   "source": [
    "**Check Point: \"Build-in\" vs \"Pure Python\"**"
   ]
  },
  {
   "cell_type": "code",
   "execution_count": 24,
   "metadata": {},
   "outputs": [
    {
     "name": "stdout",
     "output_type": "stream",
     "text": [
      "The values are for 'Distance', 'Fault' and 'Year' respectively.\n",
      "\n",
      "Mean values are equal : True\n",
      "Mean values are equal : True\n",
      "Mean values are equal : True\n",
      "\n",
      "Median values are equal : True\n",
      "Median values are equal : True\n",
      "Median values are equal : True\n",
      "\n",
      "Modes are equal : False\n",
      "Modes are equal : False\n",
      "Modes are equal : False\n",
      "\n",
      "Variance values are equal : True\n",
      "Variance values are equal : True\n",
      "Variance values are equal : True\n",
      "\n",
      "Standart deviation values are equal : True\n",
      "Standart deviation values are equal : True\n",
      "Standart deviation values are equal : True\n",
      "\n",
      "Standart error values are equal : True\n",
      "Standart error values are equal : True\n",
      "Standart error values are equal : True\n"
     ]
    }
   ],
   "source": [
    "print(\"The values are for 'Distance', 'Fault' and 'Year' respectively.\\n\")\n",
    "print(\"Mean values are equal :\", round(d_mean_np,2)==round(Stat(distance).mean(), 2))\n",
    "print(\"Mean values are equal :\", round(f_mean_np,2)==round(Stat(fault).mean(), 2))\n",
    "print(\"Mean values are equal :\", round(y_mean_np,2)==round(Stat(year).mean(), 2))\n",
    "print(\"\")\n",
    "print(\"Median values are equal :\", round(d_med_np,2)==round(Stat(distance).med(), 2))\n",
    "print(\"Median values are equal :\", round(f_med_np,2)==round(Stat(fault).med(), 2))\n",
    "print(\"Median values are equal :\", round(y_med_stat,2)==round(Stat(year).med(), 2))\n",
    "print(\"\")\n",
    "print(\"Modes are equal :\", round(d_mod_stat,2)==round(Stat(distance).mode(), 2))\n",
    "print(\"Modes are equal :\", round(f_mod_stat,2)==round(Stat(fault).mode(), 2))\n",
    "print(\"Modes are equal :\", round(y_mod_stat,2)==round(Stat(year).mode(), 2))\n",
    "print(\"\")\n",
    "print(\"Variance values are equal :\", round(d_var_np,2)==round(Stat(distance).variance(), 2))\n",
    "print(\"Variance values are equal :\", round(f_var_pd,2)==round(Stat(fault).variance(), 2))\n",
    "print(\"Variance values are equal :\", round(y_var_np,2)==round(Stat(year).variance(), 2))\n",
    "print(\"\")\n",
    "print(\"Standart deviation values are equal :\", round(d_std_np,2)==round(Stat(distance).stdev(), 2))\n",
    "print(\"Standart deviation values are equal :\", round(f_std_pd,2)==round(Stat(fault).stdev(), 2))\n",
    "print(\"Standart deviation values are equal :\", round(y_std_np,2)==round(Stat(year).stdev(), 2))\n",
    "print(\"\")\n",
    "print(\"Standart error values are equal :\", round(d_ste_np,2)==round(Stat(distance).sterr(), 2))\n",
    "print(\"Standart error values are equal :\", round(f_ste_pd,2)==round(Stat(fault).sterr(), 2))\n",
    "print(\"Standart error values are equal :\", round(y_ste_np,2)==round(Stat(year).sterr(), 2))"
   ]
  }
 ],
 "metadata": {
  "kernelspec": {
   "display_name": "Python 3",
   "language": "python",
   "name": "python3"
  },
  "language_info": {
   "codemirror_mode": {
    "name": "ipython",
    "version": 3
   },
   "file_extension": ".py",
   "mimetype": "text/x-python",
   "name": "python",
   "nbconvert_exporter": "python",
   "pygments_lexer": "ipython3",
   "version": "3.8.2"
  }
 },
 "nbformat": 4,
 "nbformat_minor": 4
}
