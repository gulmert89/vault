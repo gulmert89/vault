{
 "cells": [
  {
   "cell_type": "code",
   "execution_count": 11,
   "metadata": {},
   "outputs": [],
   "source": [
    "import cv2\n",
    "import cvlib as cv\n",
    "import numpy as np\n",
    "from keras.models import load_model"
   ]
  },
  {
   "cell_type": "code",
   "execution_count": 12,
   "metadata": {},
   "outputs": [],
   "source": [
    "def getClassName(classIndex):\n",
    "    \"A basic function to get the class name.\"\n",
    "    if classIndex==0:\n",
    "        return \"Sad\"\n",
    "    \n",
    "    elif classIndex==1:\n",
    "        return \"Shocked\"\n",
    "    \n",
    "    elif classIndex==2:\n",
    "        return \"Happy\""
   ]
  },
  {
   "cell_type": "code",
   "execution_count": 13,
   "metadata": {},
   "outputs": [],
   "source": [
    "model = load_model(\"final_model.h5\") # Loading the pretrained model to predict"
   ]
  },
  {
   "cell_type": "markdown",
   "metadata": {},
   "source": [
    "***"
   ]
  },
  {
   "cell_type": "code",
   "execution_count": 14,
   "metadata": {},
   "outputs": [],
   "source": [
    "cap = cv2.VideoCapture(0)\n",
    "# Above^ Class instance for video capturing.\n",
    "# If a video name is entered, captures the specified video.\n",
    "\n",
    "threshold = 0.80 * 100\n",
    "\n",
    "while cap.isOpened(): # Repeats until the key \"q\" is pressed.\n",
    "    \n",
    "    ret, frame = cap.read() # Starts capturing. \n",
    "    # ret is True or False to represent if capturing is successful.\n",
    "    # frame is the image to process.\n",
    "    if not ret:\n",
    "        print(\"Can't receive the frame.\")\n",
    "        break\n",
    "        \n",
    "    # FACE RECOGNITION    \n",
    "    # Note: input image (numpy array, BGR order, dtype - uint8)\n",
    "    faces, confidences = cv.detect_face(frame, threshold=0.70)\n",
    "    \n",
    "    \n",
    "    for _, f in enumerate(faces):\n",
    "        # corner points: \n",
    "        (startX, startY) = (f[0], f[1])    # top left corner\n",
    "        (endX, endY) = (f[2], f[3])    # bottom right corner\n",
    "\n",
    "        cropped_frame = np.copy(frame[startY:endY, startX:endX])\n",
    "\n",
    "        if (cropped_frame.shape[0]) < 10 or (cropped_frame.shape[1]) < 10:\n",
    "            continue\n",
    "    \n",
    "        # preprocessing on the cropped frame\n",
    "        cropped_frame = cv2.resize(cropped_frame, (64,64))\n",
    "        cropped_frame = cropped_frame.astype(\"float64\") / 255.0\n",
    "        cropped_frame = np.expand_dims(cropped_frame, axis=0)\n",
    "        confidences = model.predict(cropped_frame)[0]    # Probability values for all classes\n",
    "        max_probability = max(confidences)*100\n",
    "        classIndex = np.argmax(confidences)\n",
    "        className = getClassName(classIndex)\n",
    "\n",
    "        # different colors for different sentiments\n",
    "        if max_probability > threshold:\n",
    "            frame_text = f\"Sentiment: {className} ({max_probability:.2f}%)\"\n",
    "            if className == \"Shocked\":\n",
    "                rect_color = text_color = (0, 255, 255)\n",
    "            elif className == \"Sad\":\n",
    "                rect_color = text_color = (255, 255, 0)\n",
    "            else:\n",
    "                rect_color = text_color = (0, 255, 0)\n",
    "        else:\n",
    "            rect_color = text_color = (0, 255, 0)\n",
    "            frame_text = \"Reading...\"    \n",
    "        \n",
    "        cv2.rectangle(img=frame, \n",
    "                      pt1=(startX, startY), \n",
    "                      pt2=(endX, endY), \n",
    "                      color=rect_color, \n",
    "                      thickness=2)\n",
    "        \n",
    "        startY = startY - 10 if startY - 10 > 10 else startY + 10\n",
    "        cv2.putText(img=frame, \n",
    "                    text=frame_text, \n",
    "                    org=(startX, startY), \n",
    "                    fontFace=cv2.FONT_HERSHEY_TRIPLEX, \n",
    "                    fontScale=0.6, \n",
    "                    color=text_color, \n",
    "                    thickness=1)  \n",
    "    \n",
    "    cv2.imshow(\"Face_Sentiment\", frame)\n",
    "    #cv2.imwrite(\"saved_picture.jpg\", frame)\n",
    "    if cv2.waitKey(1) > 0:    # Repeats until a key is pressed.\n",
    "        break\n",
    "\n",
    "cap.release() # Releases the camera after a key is pressed\n",
    "cv2.destroyWindow(\"Face_Sentiment\") # Closes the window named \"Face_Sentiment\"\n",
    "# cv2.waitKey() # Necessary for not having trouble with the closing window"
   ]
  },
  {
   "cell_type": "code",
   "execution_count": 15,
   "metadata": {
    "scrolled": true
   },
   "outputs": [],
   "source": [
    "cap.release()\n",
    "cv2.destroyAllWindows()"
   ]
  }
 ],
 "metadata": {
  "kernelspec": {
   "display_name": "Python 3",
   "language": "python",
   "name": "python3"
  },
  "language_info": {
   "codemirror_mode": {
    "name": "ipython",
    "version": 3
   },
   "file_extension": ".py",
   "mimetype": "text/x-python",
   "name": "python",
   "nbconvert_exporter": "python",
   "pygments_lexer": "ipython3",
   "version": "3.8.5"
  }
 },
 "nbformat": 4,
 "nbformat_minor": 4
}
