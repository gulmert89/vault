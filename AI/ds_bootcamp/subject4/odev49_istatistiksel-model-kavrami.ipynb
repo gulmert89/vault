{
 "cells": [
  {
   "cell_type": "markdown",
   "metadata": {},
   "source": [
    "# 4.9 - Keşifsel Veri Analizi: İstatistiksel Model Kavramı\n",
    "#### Soru 1: Bozuk para atmanın sonucunu modellemeye çalışın. Modelinize, sonucu açıklarken önemli olduğunu düşündüğünüz özellikleri dahil edin. Mentorünüzle modelinize çok fazla özellik eklemenin artıları ve eksileri hakkında tartışın.\n",
    "* **RĂZVAN C. ȘTEFAN** ve **TIBERIUS O. CHECHE**'in yaptığı yazı-tura atma modellemesi araştırmasına göre [(\"Coin Toss Modeling\")](https://arxiv.org/ftp/arxiv/papers/1612/1612.06705.pdf), madeni paranın sonucunu öngörmemizi sağlayan 2 ana değişken bulunmaktadır. Bunlar,  <b>madeni paranın ağırlık merkezinin hızı (veya hareket süresi)</b> ve <b>açısal hız</b> faktörleridir.\n",
    "* Bu iki faktör dışında modelleme sonucunu değiştirebilecek diğer etken, madeni paranın atılma açısıdır ki modelimizi basit tutmak adına,bunu yatay, yani 0 derece olarak varsayabiliriz. Diğer bir varsayım ise paranın yumuşak bir yüzeye düşüyor olması, yani yerden tekrardan sekmiyor oluşudur.\n",
    "* \"Paranın üniform olmayan ağırlığı\", \"hava direnci\", \"yer çekimi sabiti\", \"yüzey sertliği\" gibi özellikler modelimizi geliştirebilecek olsa da onu çok daha kompleks bir hale getirdiği aşikârdır.\n",
    "\n",
    "#### Soru 2: Netflix'i daha önce kullandıysanız, sizin izlemeniz için bazı önerilerde bulunduğunu fark etmiş olmalısınız. Veri biliminde bu, **tavsiye sistemleri** olarak adlandırılan bir örnektir. Netflix'in bu teknik olmayan blog yazısını öneri sistemlerini nasıl modelledikleri hakkında okuyun. Ardından, tavsiye motorlarında kullandıkları özellikleri türetin ve bu modele dahil edilebilecek başka özellikleri tartışın.\n",
    "* Netflix, tavsiye sistemi algoritmasını geliştirirken, şu verileri kullandığını belirtmiş:\n",
    "    * hizmetimizle olan etkileşimleriniz (ör. izleme geçmişiniz ve diğer içeriklere nasıl puan verdiğiniz),\n",
    "    * hizmetimizde benzer zevklere ve tercihlere sahip diğer üyeler\n",
    "    * türler, kategoriler, oyuncular, yayınlanma yılı vb. gibi içerikler hakkında bilgi\n",
    "    * izlediğiniz günün saati,\n",
    "    * Netflix'i izlediğiniz cihazlar ve\n",
    "    * ne kadar süreyle izlediğiniz.\n",
    "* Yaş ve cinsiyet gibi demografik verilerin kullanılmadığı yazıyor. Bunun muhtemel nedeni, veri setini basit tutmak olabilir. Ayrıca \"cinsiyet\" faktörünü eklemek, her ne kadar yarar sağlama olasılığı olan bir değişkenmiş gibi gözükse de, büyük olasılıkla modeli fazla özelleştirerek yeni verilere karşı hassasiyetini arttırıyor olabilir. Bunun yanı sıra, iki cinsiyet de karşı cinsiyetin ilgi alanlarından diziler ve filmler seçebildiği için, yine aynı nedenden dolayı demografik değişkenler ayrılmış olabilir.\n",
    "* Yine de, yukarıdaki değişkenlere \"ülke\" veya \"üyelik türü\" faktörleri de eklenerek farklı modeller oluşturulabilir, o lokasyona özgü tavsiye sistemleri geliştirilebilir."
   ]
  },
  {
   "cell_type": "code",
   "execution_count": null,
   "metadata": {},
   "outputs": [],
   "source": []
  }
 ],
 "metadata": {
  "kernelspec": {
   "display_name": "Python 3",
   "language": "python",
   "name": "python3"
  },
  "language_info": {
   "codemirror_mode": {
    "name": "ipython",
    "version": 3
   },
   "file_extension": ".py",
   "mimetype": "text/x-python",
   "name": "python",
   "nbconvert_exporter": "python",
   "pygments_lexer": "ipython3",
   "version": "3.8.2"
  }
 },
 "nbformat": 4,
 "nbformat_minor": 4
}
