{
 "cells": [
  {
   "cell_type": "markdown",
   "metadata": {},
   "source": [
    "# 6.7 - Regresyon Problemleri ve Lineer Regresyon Modeli: Aşırı Uyumluluk ve Regularizasyon"
   ]
  },
  {
   "cell_type": "markdown",
   "metadata": {},
   "source": [
    "# Ev fiyatları modeli\n",
    "## Model 1: OLS Regresyonu\n",
    "Bir önceki derste en iyi açıklama yüzdesine sahip model kullanılacaktır.<br>\n",
    "Değişkenler: **[\"TotalBsmtSF\", \"OverallQual\", \"GrLivArea\", \"YearBuilt\"]**"
   ]
  },
  {
   "cell_type": "code",
   "execution_count": 1,
   "metadata": {
    "scrolled": false
   },
   "outputs": [],
   "source": [
    "import pandas as pd\n",
    "import numpy as np\n",
    "import matplotlib.pyplot as plt\n",
    "import seaborn as sns\n",
    "\n",
    "from sklearn.model_selection import train_test_split\n",
    "from sklearn.metrics import mean_absolute_error\n",
    "from sklearn.linear_model import LinearRegression\n",
    "from sklearn.linear_model import Ridge, Lasso, ElasticNet, RidgeCV, LassoCV, ElasticNetCV\n",
    "    # https://scikit-learn.org/stable/modules/generated/sklearn.linear_model.Ridge.html\n",
    "    # https://scikit-learn.org/stable/modules/generated/sklearn.linear_model.Lasso.html\n",
    "    # https://scikit-learn.org/stable/modules/generated/sklearn.linear_model.ElasticNet.html\n",
    "    # https://scikit-learn.org/stable/modules/generated/sklearn.linear_model.RidgeCV.html\n",
    "    # https://scikit-learn.org/stable/modules/generated/sklearn.linear_model.LassoCV.html\n",
    "    # https://scikit-learn.org/stable/modules/generated/sklearn.linear_model.ElasticNetCV.html\n",
    "from sklearn.model_selection import KFold, cross_validate, cross_val_predict\n",
    "    # https://scikit-learn.org/stable/modules/generated/sklearn.model_selection.KFold.html\n",
    "    # https://scikit-learn.org/stable/modules/generated/sklearn.model_selection.cross_validate.html\n",
    "    # https://scikit-learn.org/stable/modules/generated/sklearn.model_selection.cross_val_predict.html\n",
    "import statsmodels.api as sm\n",
    "from statsmodels.tools.eval_measures import mse, rmse\n",
    "\n",
    "%matplotlib inline\n",
    "sns.set(style = \"whitegrid\")\n",
    "plt.rcParams[\"figure.figsize\"] = (10, 6)\n",
    "\n",
    "title_font = {\"family\":\"arial\", \"weight\":\"bold\", \"color\":\"darkred\", \"size\":16}\n",
    "axis_font = {\"family\":\"sans\", \"weight\":\"normal\", \"color\":\"darkblue\", \"size\":14}\n",
    "\n",
    "house = pd.read_csv(\"house_prices.csv\")"
   ]
  },
  {
   "cell_type": "code",
   "execution_count": 2,
   "metadata": {},
   "outputs": [],
   "source": [
    "# Modelimizi oluşturalım:\n",
    "x1 = house[[\"TotalBsmtSF\", \"OverallQual\", \"GrLivArea\", \"YearBuilt\"]]\n",
    "y1 = house[\"SalePrice\"]"
   ]
  },
  {
   "cell_type": "code",
   "execution_count": 3,
   "metadata": {
    "scrolled": true
   },
   "outputs": [
    {
     "name": "stdout",
     "output_type": "stream",
     "text": [
      "Eğitim verilerinin ayarlanmış R-kare değeri : 0.758\n",
      "Test verilerinin ayarlanmış R-kare değeri   : 0.776\n",
      "\n",
      "---------Test Kümesi Hata İstatistikleri---------\n",
      "Ortalama Mutlak Hata (MAE)        : 25102.96\n",
      "Ortalama Kare Hata (MSE)          : 1593105385.53\n",
      "Kök Ortalama Kare Hata (RMSE)     : 39002.47\n",
      "Ortalama Mutlak Yüzde Hata (MAPE) : %15.08\n"
     ]
    }
   ],
   "source": [
    "kFold = KFold(10, shuffle=True, random_state=42)\n",
    "mae1, mse1, rmse1, mape1, trainR_mean, testR_mean = ([] for i in range(6))\n",
    "\n",
    "for train, test in kFold.split(x1, y1): \n",
    "    x1_train = x1.iloc[train]\n",
    "    x1_test = x1.iloc[test]\n",
    "    y1_train = y1.iloc[train]\n",
    "    y1_test = y1.iloc[test]\n",
    "    \n",
    "    # Eğitim verilerinin R-kare değeri\n",
    "    x1_train = sm.add_constant(x1_train)\n",
    "    results1_model = sm.OLS(y1_train, x1_train)\n",
    "    results1_train = results1_model.fit()\n",
    "    trainR_mean.append(results1_train.rsquared_adj)\n",
    "\n",
    "    # Test verilerinin R-kare değeri\n",
    "    x1_test = sm.add_constant(x1_test)\n",
    "    results1_model = sm.OLS(y1_test, x1_test)\n",
    "    results1_test = results1_model.fit()\n",
    "    testR_mean.append(results1_test.rsquared_adj)\n",
    "\n",
    "    y1_predict = results1_train.predict(x1_test)\n",
    "\n",
    "    mae0 = mean_absolute_error(y1_test, y1_predict)\n",
    "    mse0 = mse(y1_test, y1_predict)\n",
    "    rmse0 = rmse(y1_test, y1_predict)\n",
    "    mape0 = (abs((y1_test - y1_predict)) / y1_test).mean() * 100\n",
    "    \n",
    "    mae1.append(mae0)\n",
    "    mse1.append(mse0)\n",
    "    rmse1.append(rmse0)\n",
    "    mape1.append(mape0)\n",
    "\n",
    "print(f\"Eğitim verilerinin ayarlanmış R-kare değeri : {np.array(trainR_mean).mean():.3f}\")\n",
    "print(f\"Test verilerinin ayarlanmış R-kare değeri   : {np.array(testR_mean).mean():.3f}\")\n",
    "print(\"\\n---------Test Kümesi Hata İstatistikleri---------\")\n",
    "print(f\"Ortalama Mutlak Hata (MAE)        : {np.array(mae1).mean():.2f}\")\n",
    "print(f\"Ortalama Kare Hata (MSE)          : {np.array(mse1).mean():.2f}\")\n",
    "print(f\"Kök Ortalama Kare Hata (RMSE)     : {np.array(rmse1).mean():.2f}\")\n",
    "print(f\"Ortalama Mutlak Yüzde Hata (MAPE) : %{np.array(mape1).mean():.2f}\")"
   ]
  },
  {
   "cell_type": "markdown",
   "metadata": {
    "slideshow": {
     "slide_type": "-"
    }
   },
   "source": [
    "***\n",
    "## Model 2: Ridge Regresyonu"
   ]
  },
  {
   "cell_type": "code",
   "execution_count": 4,
   "metadata": {
    "scrolled": true
   },
   "outputs": [
    {
     "data": {
      "text/plain": [
       "{'fit_time': array([0.00799417, 0.00599432, 0.00600028, 0.00599003, 0.00399518]),\n",
       " 'score_time': array([0.00499773, 0.00199842, 0.00399518, 0.0030005 , 0.00300217]),\n",
       " 'test_score': array([0.79177286, 0.77652249, 0.76823701, 0.77598943, 0.58026951]),\n",
       " 'train_score': array([0.74367625, 0.74506846, 0.74523165, 0.74610478, 0.78621681])}"
      ]
     },
     "execution_count": 4,
     "metadata": {},
     "output_type": "execute_result"
    }
   ],
   "source": [
    "cv_results2 = cross_validate(Ridge(), x1_train, y1_train, cv=5, \n",
    "                             return_train_score = True)\n",
    "cv_results2"
   ]
  },
  {
   "cell_type": "code",
   "execution_count": 5,
   "metadata": {},
   "outputs": [
    {
     "name": "stdout",
     "output_type": "stream",
     "text": [
      "Eğitim verilerinin ayarlanmış R-kare değeri: 0.753\n",
      "Test verilerinin ayarlanmış R-kare değeri: 0.739\n",
      "\n",
      "RidgeCV modülü ile; \n",
      "Eğitim verilerinin ayarlanmış R-kare değeri: 0.752\n",
      "Test verilerinin ayarlanmış R-kare değeri: 0.819\n",
      "\n",
      "---------Test Kümesi Hata İstatistikleri---------\n",
      "Ortalama Mutlak Hata (MAE)        : 22670.35\n",
      "Ortalama Kare Hata (MSE)          : 1059032860.23\n",
      "Kök Ortalama Kare Hata (RMSE)     : 32542.79\n",
      "Ortalama Mutlak Yüzde Hata (MAPE) : %12.92\n",
      "\n",
      "RidgeCV Modülü ile;\n",
      "---------Test Kümesi Hata İstatistikleri---------\n",
      "Ortalama Mutlak Hata (MAE)        : 21679.89\n",
      "Ortalama Kare Hata (MSE)          : 970012443.36\n",
      "Kök Ortalama Kare Hata (RMSE)     : 31145.02\n",
      "Ortalama Mutlak Yüzde Hata (MAPE) : %12.06\n"
     ]
    }
   ],
   "source": [
    "## yukarıdaki cv_results2'de, alpha değeri girmedik. 1 mi alıyor alpha'yı?\n",
    "\n",
    "#ridge_reg = Ridge(alpha = 1000)\n",
    "#ridge_reg.fit(x1_train, y1_train)\n",
    "\n",
    "y_test_predict = cross_val_predict(Ridge(), x1_test, y1_test, cv=5)\n",
    "## Burada, \"x1_test, y1_test\" çifti yerine neden \"x1_train, y1_train\" koymadık?\n",
    "    ## (zaten train koyunca boyut hatası veriyor)\n",
    "\n",
    "var1 = cv_results2[\"train_score\"].mean()\n",
    "var2 = cv_results2[\"test_score\"].mean()\n",
    "\n",
    "print(f\"Eğitim verilerinin ayarlanmış R-kare değeri: {var1:.3f}\")\n",
    "print(f\"Test verilerinin ayarlanmış R-kare değeri: {var2:.3f}\")\n",
    "\n",
    "ridge_CV = RidgeCV(alphas=np.logspace(-1, 5, 7)).fit(x1_train, y1_train)\n",
    "var3 = ridge_CV.score(x1_train, y1_train)\n",
    "var4 = ridge_CV.score(x1_test, y1_test)\n",
    "print(f\"\\nRidgeCV modülü ile; \\nEğitim verilerinin ayarlanmış R-kare değeri: {var3:.3f}\")\n",
    "print(f\"Test verilerinin ayarlanmış R-kare değeri: {var4:.3f}\")\n",
    "\n",
    "mae2 = mean_absolute_error(y1_test, y_test_predict)\n",
    "mse2 = mse(y1_test, y_test_predict)\n",
    "rmse2 = rmse(y1_test, y_test_predict)\n",
    "mape2 = (abs((y1_test - y_test_predict)) / y1_test).mean() * 100\n",
    "\n",
    "print(\"\\n---------Test Kümesi Hata İstatistikleri---------\")\n",
    "print(f\"Ortalama Mutlak Hata (MAE)        : {mae2:.2f}\")\n",
    "print(f\"Ortalama Kare Hata (MSE)          : {mse2:.2f}\")\n",
    "print(f\"Kök Ortalama Kare Hata (RMSE)     : {rmse2:.2f}\")\n",
    "print(f\"Ortalama Mutlak Yüzde Hata (MAPE) : %{mape2:.2f}\")\n",
    "      \n",
    "y_test_predict = ridge_CV.predict(x1_test)\n",
    "mae2 = mean_absolute_error(y1_test, y_test_predict)\n",
    "mse2 = mse(y1_test, y_test_predict)\n",
    "rmse2 = rmse(y1_test, y_test_predict)\n",
    "mape2 = (abs((y1_test - y_test_predict)) / y1_test).mean() * 100\n",
    "\n",
    "print(\"\\nRidgeCV Modülü ile;\\n---------Test Kümesi Hata İstatistikleri---------\")\n",
    "print(f\"Ortalama Mutlak Hata (MAE)        : {mae2:.2f}\")\n",
    "print(f\"Ortalama Kare Hata (MSE)          : {mse2:.2f}\")\n",
    "print(f\"Kök Ortalama Kare Hata (RMSE)     : {rmse2:.2f}\")\n",
    "print(f\"Ortalama Mutlak Yüzde Hata (MAPE) : %{mape2:.2f}\")"
   ]
  },
  {
   "cell_type": "markdown",
   "metadata": {},
   "source": [
    "***\n",
    "## Model 3: Lasso Regresyonu"
   ]
  },
  {
   "cell_type": "code",
   "execution_count": 6,
   "metadata": {},
   "outputs": [
    {
     "data": {
      "text/plain": [
       "{'fit_time': array([0.00999451, 0.00699854, 0.0069952 , 0.00799274, 0.00599813]),\n",
       " 'score_time': array([0.0049994 , 0.00499749, 0.00399828, 0.00300074, 0.00299931]),\n",
       " 'test_score': array([0.79177309, 0.77651497, 0.7682158 , 0.77596367, 0.58034874]),\n",
       " 'train_score': array([0.74367633, 0.74506856, 0.74523175, 0.74610488, 0.78621689])}"
      ]
     },
     "execution_count": 6,
     "metadata": {},
     "output_type": "execute_result"
    }
   ],
   "source": [
    "cv_results3 = cross_validate(Lasso(), x1_train, y1_train, cv=5, \n",
    "                             return_train_score = True)\n",
    "cv_results3"
   ]
  },
  {
   "cell_type": "code",
   "execution_count": 7,
   "metadata": {
    "scrolled": true
   },
   "outputs": [
    {
     "name": "stdout",
     "output_type": "stream",
     "text": [
      "Eğitim verilerinin ayarlanmış R-kare değeri: 0.753\n",
      "Test verilerinin ayarlanmış R-kare değeri: 0.739\n",
      "\n",
      "LassoCV modülü ile; \n",
      "Eğitim verilerinin ayarlanmış R-kare değeri: 0.752\n",
      "Test verilerinin ayarlanmış R-kare değeri: 0.819\n",
      "\n",
      "---------Test Kümesi Hata İstatistikleri---------\n",
      "Ortalama Mutlak Hata (MAE)        : 22667.83\n",
      "Ortalama Kare Hata (MSE)          : 1058639738.78\n",
      "Kök Ortalama Kare Hata (RMSE)     : 32536.74\n",
      "Ortalama Mutlak Yüzde Hata (MAPE) : %12.92\n",
      "\n",
      "LassoCV Modülü ile;\n",
      "---------Test Kümesi Hata İstatistikleri---------\n",
      "Ortalama Mutlak Hata (MAE)        : 21680.13\n",
      "Ortalama Kare Hata (MSE)          : 970011197.46\n",
      "Kök Ortalama Kare Hata (RMSE)     : 31145.00\n",
      "Ortalama Mutlak Yüzde Hata (MAPE) : %12.06\n"
     ]
    }
   ],
   "source": [
    "#lasso_reg = Lasso(alpha = 1000)\n",
    "#lasso_reg.fit(x1_train, y1_train)\n",
    "\n",
    "#y_test_predict = lasso_reg.predict(x1_test)\n",
    "\n",
    "#print(f\"Eğitim verilerinin ayarlanmış R-kare değeri: {lasso_reg.score(x1_train, y1_train):.3f}\")\n",
    "#print(f\"Test verilerinin ayarlanmış R-kare değeri: {lasso_reg.score(x1_test, y1_test):.3f}\")\n",
    "\n",
    "y_test_predict = cross_val_predict(Lasso(), x1_test, y1_test, cv=5)\n",
    "\n",
    "var1 = cv_results3[\"train_score\"].mean()\n",
    "var2 = cv_results3[\"test_score\"].mean()\n",
    "\n",
    "print(f\"Eğitim verilerinin ayarlanmış R-kare değeri: {var1:.3f}\")\n",
    "print(f\"Test verilerinin ayarlanmış R-kare değeri: {var2:.3f}\")\n",
    "\n",
    "lasso_CV = LassoCV(alphas=np.logspace(-1, 5, 7)).fit(x1_train, y1_train)\n",
    "var3 = lasso_CV.score(x1_train, y1_train)\n",
    "var4 = lasso_CV.score(x1_test, y1_test)\n",
    "print(f\"\\nLassoCV modülü ile; \\nEğitim verilerinin ayarlanmış R-kare değeri: {var3:.3f}\")\n",
    "print(f\"Test verilerinin ayarlanmış R-kare değeri: {var4:.3f}\")\n",
    "\n",
    "mae3 = mean_absolute_error(y1_test, y_test_predict)\n",
    "mse3 = mse(y1_test, y_test_predict)\n",
    "rmse3 = rmse(y1_test, y_test_predict)\n",
    "mape3 = (abs((y1_test - y_test_predict)) / y1_test).mean() * 100\n",
    "\n",
    "print(\"\\n---------Test Kümesi Hata İstatistikleri---------\")\n",
    "print(f\"Ortalama Mutlak Hata (MAE)        : {mae3:.2f}\")\n",
    "print(f\"Ortalama Kare Hata (MSE)          : {mse3:.2f}\")\n",
    "print(f\"Kök Ortalama Kare Hata (RMSE)     : {rmse3:.2f}\")\n",
    "print(f\"Ortalama Mutlak Yüzde Hata (MAPE) : %{mape3:.2f}\")\n",
    "      \n",
    "y_test_predict = lasso_CV.predict(x1_test)\n",
    "mae3 = mean_absolute_error(y1_test, y_test_predict)\n",
    "mse3 = mse(y1_test, y_test_predict)\n",
    "rmse3 = rmse(y1_test, y_test_predict)\n",
    "mape3 = (abs((y1_test - y_test_predict)) / y1_test).mean() * 100\n",
    "\n",
    "print(\"\\nLassoCV Modülü ile;\\n---------Test Kümesi Hata İstatistikleri---------\")\n",
    "print(f\"Ortalama Mutlak Hata (MAE)        : {mae3:.2f}\")\n",
    "print(f\"Ortalama Kare Hata (MSE)          : {mse3:.2f}\")\n",
    "print(f\"Kök Ortalama Kare Hata (RMSE)     : {rmse3:.2f}\")\n",
    "print(f\"Ortalama Mutlak Yüzde Hata (MAPE) : %{mape3:.2f}\")"
   ]
  },
  {
   "cell_type": "markdown",
   "metadata": {},
   "source": [
    "***\n",
    "## Model 4: ElasticNet Regresyonu"
   ]
  },
  {
   "cell_type": "code",
   "execution_count": 8,
   "metadata": {},
   "outputs": [
    {
     "data": {
      "text/plain": [
       "{'fit_time': array([0.00599575, 0.00399709, 0.0039978 , 0.00499725, 0.00499439]),\n",
       " 'score_time': array([0.0019989 , 0.00299811, 0.00199866, 0.00199962, 0.0019989 ]),\n",
       " 'test_score': array([0.78180567, 0.76908349, 0.76810289, 0.77363189, 0.54469724]),\n",
       " 'train_score': array([0.73471826, 0.73537914, 0.73493879, 0.73629079, 0.77878843])}"
      ]
     },
     "execution_count": 8,
     "metadata": {},
     "output_type": "execute_result"
    }
   ],
   "source": [
    "cv_results4 = cross_validate(ElasticNet(), x1_train, y1_train, cv=5, \n",
    "                             return_train_score = True)\n",
    "cv_results4"
   ]
  },
  {
   "cell_type": "code",
   "execution_count": 9,
   "metadata": {
    "scrolled": true
   },
   "outputs": [
    {
     "name": "stdout",
     "output_type": "stream",
     "text": [
      "Eğitim verilerinin ayarlanmış R-kare değeri: 0.744\n",
      "Test verilerinin ayarlanmış R-kare değeri: 0.727\n",
      "\n",
      "ElasticNetCV modülü ile; \n",
      "Eğitim verilerinin ayarlanmış R-kare değeri: 0.752\n",
      "Test verilerinin ayarlanmış R-kare değeri: 0.819\n",
      "\n",
      "---------Test Kümesi Hata İstatistikleri---------\n",
      "Ortalama Mutlak Hata (MAE)        : 23535.63\n",
      "Ortalama Kare Hata (MSE)          : 1126757223.73\n",
      "Kök Ortalama Kare Hata (RMSE)     : 33567.20\n",
      "Ortalama Mutlak Yüzde Hata (MAPE) : %13.45\n",
      "\n",
      "ElasticNetCV Modülü ile;\n",
      "---------Test Kümesi Hata İstatistikleri---------\n",
      "Ortalama Mutlak Hata (MAE)        : 21568.01\n",
      "Ortalama Kare Hata (MSE)          : 968202287.90\n",
      "Kök Ortalama Kare Hata (RMSE)     : 31115.95\n",
      "Ortalama Mutlak Yüzde Hata (MAPE) : %12.00\n"
     ]
    }
   ],
   "source": [
    "#elasticNet_reg = ElasticNet(alpha = 1000, l1_ratio=0.5)\n",
    "#elasticNet_reg.fit(x1_train, y1_train)\n",
    "\n",
    "#y_test_predict = elasticNet_reg.predict(x1_test)\n",
    "\n",
    "#print(f\"Eğitim verilerinin ayarlanmış R-kare değeri: {elasticNet_reg.score(x1_train, y1_train):.3f}\")\n",
    "#print(f\"Test verilerinin ayarlanmış R-kare değeri: {elasticNet_reg.score(x1_test, y1_test):.3f}\")\n",
    "\n",
    "y_test_predict = cross_val_predict(ElasticNet(), x1_test, y1_test, cv=5)\n",
    "\n",
    "var1 = cv_results4[\"train_score\"].mean()\n",
    "var2 = cv_results4[\"test_score\"].mean()\n",
    "\n",
    "print(f\"Eğitim verilerinin ayarlanmış R-kare değeri: {var1:.3f}\")\n",
    "print(f\"Test verilerinin ayarlanmış R-kare değeri: {var2:.3f}\")\n",
    "\n",
    "elasticNet_CV = ElasticNetCV(alphas=np.logspace(-1, 5, 7)).fit(x1_train, y1_train)\n",
    "var3 = elasticNet_CV.score(x1_train, y1_train)\n",
    "var4 = elasticNet_CV.score(x1_test, y1_test)\n",
    "print(f\"\\nElasticNetCV modülü ile; \\nEğitim verilerinin ayarlanmış R-kare değeri: {var3:.3f}\")\n",
    "print(f\"Test verilerinin ayarlanmış R-kare değeri: {var4:.3f}\")\n",
    "\n",
    "mae4 = mean_absolute_error(y1_test, y_test_predict)\n",
    "mse4 = mse(y1_test, y_test_predict)\n",
    "rmse4 = rmse(y1_test, y_test_predict)\n",
    "mape4 = (abs((y1_test - y_test_predict)) / y1_test).mean() * 100\n",
    "\n",
    "print(\"\\n---------Test Kümesi Hata İstatistikleri---------\")\n",
    "print(f\"Ortalama Mutlak Hata (MAE)        : {mae4:.2f}\")\n",
    "print(f\"Ortalama Kare Hata (MSE)          : {mse4:.2f}\")\n",
    "print(f\"Kök Ortalama Kare Hata (RMSE)     : {rmse4:.2f}\")\n",
    "print(f\"Ortalama Mutlak Yüzde Hata (MAPE) : %{mape4:.2f}\")\n",
    "      \n",
    "y_test_predict = elasticNet_CV.predict(x1_test)\n",
    "mae4 = mean_absolute_error(y1_test, y_test_predict)\n",
    "mse4 = mse(y1_test, y_test_predict)\n",
    "rmse4 = rmse(y1_test, y_test_predict)\n",
    "mape4 = (abs((y1_test - y_test_predict)) / y1_test).mean() * 100\n",
    "\n",
    "print(\"\\nElasticNetCV Modülü ile;\\n---------Test Kümesi Hata İstatistikleri---------\")\n",
    "print(f\"Ortalama Mutlak Hata (MAE)        : {mae4:.2f}\")\n",
    "print(f\"Ortalama Kare Hata (MSE)          : {mse4:.2f}\")\n",
    "print(f\"Kök Ortalama Kare Hata (RMSE)     : {rmse4:.2f}\")\n",
    "print(f\"Ortalama Mutlak Yüzde Hata (MAPE) : %{mape4:.2f}\")\n",
    "del var1, var2, var3, var4"
   ]
  },
  {
   "cell_type": "markdown",
   "metadata": {},
   "source": [
    "***\n",
    "# Yorumlar:\n",
    "* Test verileri için **Ayarlanmış R-kare** Değerleri:\n",
    "    * ElasticNet: 0.727\n",
    "    * Ridge & Lasso: 0.739\n",
    "    * OLS: 0.776\n",
    "    * RidgeCV, LassoCV & ElasticNetCV: 0.819 <br>\n",
    "\n",
    "\n",
    "* Test Kümesi, **Ortalama Mutlak Yüzde Hata** Değerleri:\n",
    "    * OLS: %15.08\n",
    "    * ElasticNet: %13.45\n",
    "    * Ridge & Lasso: %12.92\n",
    "    * RidgeCV & LassoCV: %12.06\n",
    "    * ElasticNetCV: %12.00\n",
    "\n",
    "\n",
    "En iyi modelin, ElasticNetCV modülü ile oluşturulan ElasticNet regresyon modeli olduğunu görürüz."
   ]
  },
  {
   "cell_type": "markdown",
   "metadata": {},
   "source": [
    "## \\## Sorular:\n",
    "* cross_validate ile yapılan ve .mean() alınan değerler ile xyzCV modülüyle (örn: LassoCV) bulunan değerlerin farklı olmasının sebebi, alpha değeri mi? cross_validate'te alpha girilen bir yer yok çünkü. \n",
    "* Ridge ve Lasso regresyon değerlerinin neredeyse aynı çıkmasındaki sebep nedir?\n",
    "* Ayarlanmış R-kare değerinin, xyzCV modülleri hariç OLS'de en yüksek çıkması garip geldi. <br>Alpha değerlerini elle ayarladığımız **lasso_reg = Lasso(alpha = 1000)** yönteminde değerler OLS'den daha yüksek çıkmıştı. Sanırım cross_validate yaparken girdiği alpha değerinden kaynaklanıyor bu. El ile ayarlayınca veya xyzCV modüllerinde daha yüksek başarıya sahip. Bu yorumum yanlış değildir sanırım :) Ayrıca ilk soruyu cevaplamış oldum galiba.\n",
    "* Kodlarda yanlış yaptığım bir yerler var mı? Yanlış yaptığım yöntemler vb.?\n",
    "* Başka ne tür iyileştirmeler yapabiliriz? Sanırım fold değerlerini 5'ten yukarı ayarlayabilir, arttırabiliriz değil mi?"
   ]
  }
 ],
 "metadata": {
  "kernelspec": {
   "display_name": "Python 3",
   "language": "python",
   "name": "python3"
  },
  "language_info": {
   "codemirror_mode": {
    "name": "ipython",
    "version": 3
   },
   "file_extension": ".py",
   "mimetype": "text/x-python",
   "name": "python",
   "nbconvert_exporter": "python",
   "pygments_lexer": "ipython3",
   "version": "3.8.2"
  }
 },
 "nbformat": 4,
 "nbformat_minor": 4
}
