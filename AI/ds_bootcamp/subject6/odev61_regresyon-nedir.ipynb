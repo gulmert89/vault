{
 "cells": [
  {
   "cell_type": "markdown",
   "metadata": {},
   "source": [
    "# 6.1 - Regresyon Problemleri ve Lineer Regresyon Modeli: Regresyon Nedir?"
   ]
  },
  {
   "cell_type": "markdown",
   "metadata": {},
   "source": [
    "**Cevap-1**: Kişi başına düşen milli gelir, sayısal bir değerdir ve bu veriyi matematiksel olarak formule ederek tahmin edebiliriz. Dolayısıyla bu bir regresyon görevidir.<br>\n",
    "**Cevap-2**:\n",
    "* **OLS, özel bir doğrusal regresyon modelidir.**\n",
    "    * Doğru.\n",
    "* **Regresyon modelleri, doğrusal regresyon varsayımlarını karşılamıyorsa kullanışsız hale gelir.**\n",
    "    * Yanlış. Varsayımların karşılanmadığı durumlar için de bazı teknikler ile doğrusal regresyon uygulanabilir.\n",
    "* **Estimation ve prediction, doğrusal regresyon modelleri bağlamında aynı şeydir.**\n",
    "    * Yanlış. Estimation, doğrusal regresyonda verilere en uygun fonksiyonu bulmak için yapılır. Prediction ise, elde edilen  fonksiyon ile henüz gözlemlemediğimiz değerleri bulma (tahmin etme) işlemidir. \n",
    "* **Doğrusal regresyon modeli sadece bir tür regresyon modelidir. Regresyon problemleri, Support Vector Machines veya Random Forests gibi başka modellerle de çözülebilir.**\n",
    "    * Doğru. Analiz ettiğimiz veri tipine göre farklı regresyon modelleri uygulayabiliriz.<br>\n",
    "\n",
    "**Cevap-3**: Regresyon problemi olarak düşünürsek, kullanılan ücretsiz içerik tipindeki veri sayısı ile ücretli içeriğin satın alınma sayılarını karşılaştırırız. Örneğin oyun karakterinin saç renklerindeki ücretsiz renklerin sayısı ile \"premium\" içerik olan değişik ama ücretli saç renklerinin satın alınma oranları karşılaştırılarak, o kategoride ne kadar ücretsiz içerik varsa o kadar ücretli içeriğin tüketilip tüketilmediği gözlemlenebilir, tahmin edilebilir. Başka bir özellik eklemek istediğimizde, tüketilmesini istediğimiz ücretli içerik sayısını formülümüze koyarak, o kategoriye hangi miktarda ücretsiz içerik yerleştirmemiz gerektiğini bulabiliriz.  "
   ]
  }
 ],
 "metadata": {
  "kernelspec": {
   "display_name": "Python 3",
   "language": "python",
   "name": "python3"
  },
  "language_info": {
   "codemirror_mode": {
    "name": "ipython",
    "version": 3
   },
   "file_extension": ".py",
   "mimetype": "text/x-python",
   "name": "python",
   "nbconvert_exporter": "python",
   "pygments_lexer": "ipython3",
   "version": "3.8.2"
  }
 },
 "nbformat": 4,
 "nbformat_minor": 4
}
