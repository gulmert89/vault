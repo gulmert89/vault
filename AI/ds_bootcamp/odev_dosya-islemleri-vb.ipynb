{
 "cells": [
  {
   "cell_type": "markdown",
   "metadata": {},
   "source": [
    "## 2.5 - Python:  Dosya İşlemleri, Fonksiyonlar, Hatalar ve Modüller"
   ]
  },
  {
   "cell_type": "markdown",
   "metadata": {},
   "source": [
    "### Soru 1:"
   ]
  },
  {
   "cell_type": "code",
   "execution_count": 1,
   "metadata": {},
   "outputs": [
    {
     "name": "stdout",
     "output_type": "stream",
     "text": [
      "Su başında durmuşuz.\n",
      "Su serin,\n",
      "Çınar ulu,\n",
      "Ben şiir yazıyorum.\n",
      "Kedi uyukluyor\n",
      "Güneş sıcak.\n",
      "Çok şükür yaşıyoruz.\n",
      "Suyun şavkı vuruyor bize\n",
      "Çınara bana, kediye, güneşe, bir de ömrümüze...\n",
      "\n",
      "Şiirdeki satır sayısı:  9\n",
      "\n",
      "Su\n",
      "Su\n",
      "Çınar\n",
      "Ben\n",
      "Kedi\n",
      "Güneş\n",
      "Çok\n",
      "Suyun\n",
      "Çınara\n",
      "\n"
     ]
    }
   ],
   "source": [
    "# Seçeceğiniz herhangi bir şiiri bilgisayarına .txt dsyası olarak kaydedin.\n",
    "# Şiirin kaç dizeden oluştuğunu hesaplayın ve başka bir dosyaya her dizenin ilk kelimesini yazdırın.\n",
    "\n",
    "with open(\"masallarin_masali.txt\", \"w\", encoding=\"utf8\") as f:\n",
    "    siir_part1 = \"Su başında durmuşuz.\\nSu serin,\\nÇınar ulu,\\nBen şiir yazıyorum.\\nKedi uyukluyor\\nGüneş sıcak.\\n\"\n",
    "    siir_part2 = \"Çok şükür yaşıyoruz.\\nSuyun şavkı vuruyor bize\\nÇınara bana, kediye, güneşe, bir de ömrümüze...\\n\"\n",
    "    f.write(siir_part1 + siir_part2)\n",
    "\n",
    "with open(\"masallarin_masali.txt\", \"r\", encoding=\"utf8\") as f:\n",
    "    siir = f.read()    # şiiri okuyunca cursor en sona gidiyor. f.tell() ile cursor'un yerini görebilirsin.\n",
    "    f.seek(0)          # dolayısıyla cursor'u başa alıyoruz tekrardan yoksa aşağıdaki readlines() 0 değerini veriyor.\n",
    "    satir_listesi = f.readlines()\n",
    "    satir_sayisi = len(satir_listesi)\n",
    "\n",
    "print(siir)\n",
    "print(\"Şiirdeki satır sayısı: \", satir_sayisi, end=\"\\n\")\n",
    "\n",
    "with open(\"ilk_cumleler.txt\", \"w\", encoding=\"utf8\") as f:\n",
    "    for x in range(satir_sayisi):\n",
    "        satirlar = satir_listesi[x]\n",
    "        f.write(satirlar.split()[0] + \"\\n\")    #ilk_cumleler.txt dosyası oluşturuldu.\n",
    "\n",
    "with open(\"ilk_cumleler.txt\", \"r\", encoding=\"utf8\") as f:\n",
    "    ilk_cumleler = f.read()\n",
    "    print(\"\\n\" + ilk_cumleler)"
   ]
  },
  {
   "cell_type": "markdown",
   "metadata": {},
   "source": [
    "### Soru 2:"
   ]
  },
  {
   "cell_type": "code",
   "execution_count": 2,
   "metadata": {},
   "outputs": [
    {
     "name": "stdout",
     "output_type": "stream",
     "text": [
      "Belirtilen sayının asal olup olmadığı kontrol edilecektir.\n",
      "Lütfen bir sayı giriniz: 19\n",
      "\n",
      "19 asal bir sayıdır.\n"
     ]
    }
   ],
   "source": [
    "# Parametre olarak girilen bir sayının asal sayı olup olmadığını belirten bir fonksiyon yazın.\n",
    "\n",
    "girdi = int(input(\"Belirtilen sayının asal olup olmadığı kontrol edilecektir.\\nLütfen bir sayı giriniz: \"))\n",
    "def asal(sayi):\n",
    "    for j in range(2, sayi):\n",
    "        if sayi!=2 and sayi%j==0:\n",
    "            print(\"\\nSeçtiğiniz sayı asal bir sayı değildir.\")\n",
    "            break\n",
    "    else:\n",
    "        print(F\"\\n{sayi} asal bir sayıdır.\")\n",
    "asal(girdi)"
   ]
  },
  {
   "cell_type": "markdown",
   "metadata": {},
   "source": [
    "### Soru 3:"
   ]
  },
  {
   "cell_type": "code",
   "execution_count": 14,
   "metadata": {},
   "outputs": [
    {
     "name": "stdout",
     "output_type": "stream",
     "text": [
      "Listeyi oluşturacak numaraları giriniz: \n"
     ]
    },
    {
     "data": {
      "text/plain": [
       "[0, 2, 5, 11, 20, 30, 40, 41, 50, 100, True, 'bir', 'on beş']"
      ]
     },
     "execution_count": 14,
     "metadata": {},
     "output_type": "execute_result"
    }
   ],
   "source": [
    "# Parametre olarak girilecek listenin elemanlarını yeni bir listeye her değer\n",
    "# sadece bir kere geçecek şekilde aktaran bir fonksiyon yazın.\n",
    "# Normalde bu işlemi set() komutu ile yapabiliriz ama bu seferlik bu komutu kullanmayalım.\n",
    "# Örnek : uniq_liste([1,2,2,3,3,4,4]) = [1,2,3,4]\n",
    "\n",
    "try:\n",
    "    girdi_liste = list(map(int, input(\"Listeyi oluşturacak numaraları giriniz: \").split(\" \")))\n",
    "    ## \"or\" kullanımı hakkında bir sorum olacak.\n",
    "except ValueError:\n",
    "    # herhangi bir değer girilmediği takdirde alınacak örnek liste:\n",
    "    girdi_liste = [0,2,2,5,11,11,20,30,40,40,41,50,50,50,100, False, True, \"bir\", \"bir\", \"on beş\"]\n",
    "    \n",
    "def uniqueness(liste):\n",
    "    unique_list = []\n",
    "    for i in liste:\n",
    "        if i not in unique_list:\n",
    "            unique_list.append(i)\n",
    "        else:\n",
    "            pass\n",
    "    return unique_list\n",
    "\n",
    "uniqueness(girdi_liste)"
   ]
  },
  {
   "cell_type": "markdown",
   "metadata": {},
   "source": [
    "### Soru 4:"
   ]
  },
  {
   "cell_type": "code",
   "execution_count": null,
   "metadata": {},
   "outputs": [],
   "source": [
    "# Python'da hazır birçok modül bulunmaktadır.\n",
    "# Zaman ile ilgili modüllerden birisini import ederek,\n",
    "# parametre olarak doğum tarihi alan ve yaşı döndüren bir fonksiyon yazınız.\n",
    "\n",
    "import datetime as dt\n",
    "import time\n",
    "import random\n",
    "\n",
    "dogum_tarihi = int(input(\"Doğum yılınızı giriniz: \"))\n",
    "\n",
    "simdiki_yil = dt.datetime.now().year\n",
    "rastgele_rakam = random.randint(1,6)\n",
    "\n",
    "time.sleep(1)\n",
    "print(\"Şimdiki yaşınız:\", rastgele_rakam+(simdiki_yil-dogum_tarihi))\n",
    "\n",
    "time.sleep(1.5)\n",
    "print(f\"Pardon!\")\n",
    "\n",
    "time.sleep(1)\n",
    "print(f\"Sayılar ile aram pek iyi değil. {dogum_tarihi} demiştiniz, değil mi? Bir saniye...\")\n",
    "rastgele_rakam = random.randint(1,3)\n",
    "\n",
    "time.sleep(3)\n",
    "print(f\"Yaşınız {rastgele_rakam+(simdiki_yil-dogum_tarihi)}.\")\n",
    "\n",
    "time.sleep(1)\n",
    "print(\"Ah! Hayır hayır...\")\n",
    "\n",
    "time.sleep(1.25)\n",
    "print(f\"{simdiki_yil-dogum_tarihi}! Evet! Şimdi oldu. {simdiki_yil-dogum_tarihi} yaşındasınız.\")"
   ]
  }
 ],
 "metadata": {
  "kernelspec": {
   "display_name": "Python 3",
   "language": "python",
   "name": "python3"
  },
  "language_info": {
   "codemirror_mode": {
    "name": "ipython",
    "version": 3
   },
   "file_extension": ".py",
   "mimetype": "text/x-python",
   "name": "python",
   "nbconvert_exporter": "python",
   "pygments_lexer": "ipython3",
   "version": "3.8.1"
  }
 },
 "nbformat": 4,
 "nbformat_minor": 4
}
