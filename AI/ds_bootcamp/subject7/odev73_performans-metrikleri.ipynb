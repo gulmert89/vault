{
 "cells": [
  {
   "cell_type": "markdown",
   "metadata": {},
   "source": [
    "# 7.3 - Sınıflandırma Problemler: Performans Ölçüm Metrikleri\n",
    "## Bir Önceki Ödev (Konu 7.2):\n",
    "1) Bu ödevde, modelinizi kullanarak Titanic faciasında hayatta kalma durumunu tahmin edeceksiniz. Bu ödevi tamamlamak için, aşağıdaki görevlerin çözümlerini içeren bir Jupyter not defterini link olarak gönderin. Kafanıza takılan konuları mentörünüzle konuşabilir ya da ofis saatinde Slack üzerinden sorabilirsiniz.\n",
    "* [Titanic](https://www.kaggle.com/c/titanic/data) verilerini Kaggle'dan indirin. Buradaki train.csv dosyasındaki veriler ihtiyacınızı görecektir.\n",
    "* Verilerinizi eğitim ve test kümelerine ayırın.\n",
    "* Modelinizi oluşturarak ayırdığınız test kümesindeki verilere göre hayatta kalma durumlarını tahmin edin\n",
    "* Modelinizin performansı tatmin edici mi? Açıklayın.\n",
    "* Bazı değişkenleri ekleyerek veya çıkararak modelinizi tahmin performansı açısından geliştirmeye çalışın.\n",
    "\n",
    "2) Lojistik Regresyon'un avantaj ve dezavantajlarını araştırın ve mentörünüzle tartışın.\n",
    "## Güncel Ödev (Konu 7.3):\n",
    "* Modelinizin performansına bu derste öğrendiğiniz metriklerlerle değerlendiriniz.\n",
    "* ROC eğrisi ve Hassasiyet/Duyarlılık Eğrisini farklı \"c\" değerleri için çizdirin.\n",
    "***\n",
    "\n",
    "# Part 1/2: Bir Önceki Ödev"
   ]
  },
  {
   "cell_type": "code",
   "execution_count": 1,
   "metadata": {},
   "outputs": [],
   "source": [
    "import numpy as np\n",
    "import pandas as pd\n",
    "import matplotlib.pyplot as plt\n",
    "import seaborn as sns\n",
    "#import warnings; warnings.filterwarnings(\"ignore\")\n",
    "from sklearn.linear_model import LogisticRegression\n",
    "from sklearn.model_selection import train_test_split\n",
    "from sklearn.preprocessing import scale, PolynomialFeatures\n",
    "\n",
    "%matplotlib inline\n",
    "sns.set(style=\"whitegrid\")\n",
    "plt.rcParams[\"figure.figsize\"] = (10, 6)\n",
    "\n",
    "title_font = {\"family\":\"arial\", \"color\":\"black\", \"weight\":\"bold\", \"size\":16}\n",
    "axis_font = {\"family\":\"serif\", \"color\":\"gray\", \"weight\":\"normal\", \"size\":14}\n",
    "\n",
    "train_data = pd.read_csv(\"titanic_train.csv\")\n",
    "test_data = pd.read_csv(\"titanic_test.csv\")"
   ]
  },
  {
   "cell_type": "code",
   "execution_count": 2,
   "metadata": {
    "scrolled": true
   },
   "outputs": [
    {
     "data": {
      "text/html": [
       "<div>\n",
       "<style scoped>\n",
       "    .dataframe tbody tr th:only-of-type {\n",
       "        vertical-align: middle;\n",
       "    }\n",
       "\n",
       "    .dataframe tbody tr th {\n",
       "        vertical-align: top;\n",
       "    }\n",
       "\n",
       "    .dataframe thead th {\n",
       "        text-align: right;\n",
       "    }\n",
       "</style>\n",
       "<table border=\"1\" class=\"dataframe\">\n",
       "  <thead>\n",
       "    <tr style=\"text-align: right;\">\n",
       "      <th></th>\n",
       "      <th>PassengerId</th>\n",
       "      <th>Survived</th>\n",
       "      <th>Pclass</th>\n",
       "      <th>Name</th>\n",
       "      <th>Sex</th>\n",
       "      <th>Age</th>\n",
       "      <th>SibSp</th>\n",
       "      <th>Parch</th>\n",
       "      <th>Ticket</th>\n",
       "      <th>Fare</th>\n",
       "      <th>Cabin</th>\n",
       "      <th>Embarked</th>\n",
       "    </tr>\n",
       "  </thead>\n",
       "  <tbody>\n",
       "    <tr>\n",
       "      <th>0</th>\n",
       "      <td>1</td>\n",
       "      <td>0</td>\n",
       "      <td>3</td>\n",
       "      <td>Braund, Mr. Owen Harris</td>\n",
       "      <td>male</td>\n",
       "      <td>22.0</td>\n",
       "      <td>1</td>\n",
       "      <td>0</td>\n",
       "      <td>A/5 21171</td>\n",
       "      <td>7.2500</td>\n",
       "      <td>NaN</td>\n",
       "      <td>S</td>\n",
       "    </tr>\n",
       "    <tr>\n",
       "      <th>1</th>\n",
       "      <td>2</td>\n",
       "      <td>1</td>\n",
       "      <td>1</td>\n",
       "      <td>Cumings, Mrs. John Bradley (Florence Briggs Th...</td>\n",
       "      <td>female</td>\n",
       "      <td>38.0</td>\n",
       "      <td>1</td>\n",
       "      <td>0</td>\n",
       "      <td>PC 17599</td>\n",
       "      <td>71.2833</td>\n",
       "      <td>C85</td>\n",
       "      <td>C</td>\n",
       "    </tr>\n",
       "    <tr>\n",
       "      <th>2</th>\n",
       "      <td>3</td>\n",
       "      <td>1</td>\n",
       "      <td>3</td>\n",
       "      <td>Heikkinen, Miss. Laina</td>\n",
       "      <td>female</td>\n",
       "      <td>26.0</td>\n",
       "      <td>0</td>\n",
       "      <td>0</td>\n",
       "      <td>STON/O2. 3101282</td>\n",
       "      <td>7.9250</td>\n",
       "      <td>NaN</td>\n",
       "      <td>S</td>\n",
       "    </tr>\n",
       "    <tr>\n",
       "      <th>3</th>\n",
       "      <td>4</td>\n",
       "      <td>1</td>\n",
       "      <td>1</td>\n",
       "      <td>Futrelle, Mrs. Jacques Heath (Lily May Peel)</td>\n",
       "      <td>female</td>\n",
       "      <td>35.0</td>\n",
       "      <td>1</td>\n",
       "      <td>0</td>\n",
       "      <td>113803</td>\n",
       "      <td>53.1000</td>\n",
       "      <td>C123</td>\n",
       "      <td>S</td>\n",
       "    </tr>\n",
       "    <tr>\n",
       "      <th>4</th>\n",
       "      <td>5</td>\n",
       "      <td>0</td>\n",
       "      <td>3</td>\n",
       "      <td>Allen, Mr. William Henry</td>\n",
       "      <td>male</td>\n",
       "      <td>35.0</td>\n",
       "      <td>0</td>\n",
       "      <td>0</td>\n",
       "      <td>373450</td>\n",
       "      <td>8.0500</td>\n",
       "      <td>NaN</td>\n",
       "      <td>S</td>\n",
       "    </tr>\n",
       "    <tr>\n",
       "      <th>5</th>\n",
       "      <td>6</td>\n",
       "      <td>0</td>\n",
       "      <td>3</td>\n",
       "      <td>Moran, Mr. James</td>\n",
       "      <td>male</td>\n",
       "      <td>NaN</td>\n",
       "      <td>0</td>\n",
       "      <td>0</td>\n",
       "      <td>330877</td>\n",
       "      <td>8.4583</td>\n",
       "      <td>NaN</td>\n",
       "      <td>Q</td>\n",
       "    </tr>\n",
       "  </tbody>\n",
       "</table>\n",
       "</div>"
      ],
      "text/plain": [
       "   PassengerId  Survived  Pclass  \\\n",
       "0            1         0       3   \n",
       "1            2         1       1   \n",
       "2            3         1       3   \n",
       "3            4         1       1   \n",
       "4            5         0       3   \n",
       "5            6         0       3   \n",
       "\n",
       "                                                Name     Sex   Age  SibSp  \\\n",
       "0                            Braund, Mr. Owen Harris    male  22.0      1   \n",
       "1  Cumings, Mrs. John Bradley (Florence Briggs Th...  female  38.0      1   \n",
       "2                             Heikkinen, Miss. Laina  female  26.0      0   \n",
       "3       Futrelle, Mrs. Jacques Heath (Lily May Peel)  female  35.0      1   \n",
       "4                           Allen, Mr. William Henry    male  35.0      0   \n",
       "5                                   Moran, Mr. James    male   NaN      0   \n",
       "\n",
       "   Parch            Ticket     Fare Cabin Embarked  \n",
       "0      0         A/5 21171   7.2500   NaN        S  \n",
       "1      0          PC 17599  71.2833   C85        C  \n",
       "2      0  STON/O2. 3101282   7.9250   NaN        S  \n",
       "3      0            113803  53.1000  C123        S  \n",
       "4      0            373450   8.0500   NaN        S  \n",
       "5      0            330877   8.4583   NaN        Q  "
      ]
     },
     "execution_count": 2,
     "metadata": {},
     "output_type": "execute_result"
    }
   ],
   "source": [
    "# train data\n",
    "train_data.head(6)"
   ]
  },
  {
   "cell_type": "code",
   "execution_count": 3,
   "metadata": {
    "scrolled": false
   },
   "outputs": [
    {
     "data": {
      "text/html": [
       "<div>\n",
       "<style scoped>\n",
       "    .dataframe tbody tr th:only-of-type {\n",
       "        vertical-align: middle;\n",
       "    }\n",
       "\n",
       "    .dataframe tbody tr th {\n",
       "        vertical-align: top;\n",
       "    }\n",
       "\n",
       "    .dataframe thead th {\n",
       "        text-align: right;\n",
       "    }\n",
       "</style>\n",
       "<table border=\"1\" class=\"dataframe\">\n",
       "  <thead>\n",
       "    <tr style=\"text-align: right;\">\n",
       "      <th></th>\n",
       "      <th>PassengerId</th>\n",
       "      <th>Pclass</th>\n",
       "      <th>Name</th>\n",
       "      <th>Sex</th>\n",
       "      <th>Age</th>\n",
       "      <th>SibSp</th>\n",
       "      <th>Parch</th>\n",
       "      <th>Ticket</th>\n",
       "      <th>Fare</th>\n",
       "      <th>Cabin</th>\n",
       "      <th>Embarked</th>\n",
       "    </tr>\n",
       "  </thead>\n",
       "  <tbody>\n",
       "    <tr>\n",
       "      <th>0</th>\n",
       "      <td>892</td>\n",
       "      <td>3</td>\n",
       "      <td>Kelly, Mr. James</td>\n",
       "      <td>male</td>\n",
       "      <td>34.5</td>\n",
       "      <td>0</td>\n",
       "      <td>0</td>\n",
       "      <td>330911</td>\n",
       "      <td>7.8292</td>\n",
       "      <td>NaN</td>\n",
       "      <td>Q</td>\n",
       "    </tr>\n",
       "    <tr>\n",
       "      <th>1</th>\n",
       "      <td>893</td>\n",
       "      <td>3</td>\n",
       "      <td>Wilkes, Mrs. James (Ellen Needs)</td>\n",
       "      <td>female</td>\n",
       "      <td>47.0</td>\n",
       "      <td>1</td>\n",
       "      <td>0</td>\n",
       "      <td>363272</td>\n",
       "      <td>7.0000</td>\n",
       "      <td>NaN</td>\n",
       "      <td>S</td>\n",
       "    </tr>\n",
       "    <tr>\n",
       "      <th>2</th>\n",
       "      <td>894</td>\n",
       "      <td>2</td>\n",
       "      <td>Myles, Mr. Thomas Francis</td>\n",
       "      <td>male</td>\n",
       "      <td>62.0</td>\n",
       "      <td>0</td>\n",
       "      <td>0</td>\n",
       "      <td>240276</td>\n",
       "      <td>9.6875</td>\n",
       "      <td>NaN</td>\n",
       "      <td>Q</td>\n",
       "    </tr>\n",
       "    <tr>\n",
       "      <th>3</th>\n",
       "      <td>895</td>\n",
       "      <td>3</td>\n",
       "      <td>Wirz, Mr. Albert</td>\n",
       "      <td>male</td>\n",
       "      <td>27.0</td>\n",
       "      <td>0</td>\n",
       "      <td>0</td>\n",
       "      <td>315154</td>\n",
       "      <td>8.6625</td>\n",
       "      <td>NaN</td>\n",
       "      <td>S</td>\n",
       "    </tr>\n",
       "    <tr>\n",
       "      <th>4</th>\n",
       "      <td>896</td>\n",
       "      <td>3</td>\n",
       "      <td>Hirvonen, Mrs. Alexander (Helga E Lindqvist)</td>\n",
       "      <td>female</td>\n",
       "      <td>22.0</td>\n",
       "      <td>1</td>\n",
       "      <td>1</td>\n",
       "      <td>3101298</td>\n",
       "      <td>12.2875</td>\n",
       "      <td>NaN</td>\n",
       "      <td>S</td>\n",
       "    </tr>\n",
       "  </tbody>\n",
       "</table>\n",
       "</div>"
      ],
      "text/plain": [
       "   PassengerId  Pclass                                          Name     Sex  \\\n",
       "0          892       3                              Kelly, Mr. James    male   \n",
       "1          893       3              Wilkes, Mrs. James (Ellen Needs)  female   \n",
       "2          894       2                     Myles, Mr. Thomas Francis    male   \n",
       "3          895       3                              Wirz, Mr. Albert    male   \n",
       "4          896       3  Hirvonen, Mrs. Alexander (Helga E Lindqvist)  female   \n",
       "\n",
       "    Age  SibSp  Parch   Ticket     Fare Cabin Embarked  \n",
       "0  34.5      0      0   330911   7.8292   NaN        Q  \n",
       "1  47.0      1      0   363272   7.0000   NaN        S  \n",
       "2  62.0      0      0   240276   9.6875   NaN        Q  \n",
       "3  27.0      0      0   315154   8.6625   NaN        S  \n",
       "4  22.0      1      1  3101298  12.2875   NaN        S  "
      ]
     },
     "execution_count": 3,
     "metadata": {},
     "output_type": "execute_result"
    }
   ],
   "source": [
    "# test data\n",
    "test_data.head()"
   ]
  },
  {
   "cell_type": "code",
   "execution_count": 4,
   "metadata": {},
   "outputs": [
    {
     "name": "stdout",
     "output_type": "stream",
     "text": [
      "<class 'pandas.core.frame.DataFrame'>\n",
      "RangeIndex: 891 entries, 0 to 890\n",
      "Data columns (total 12 columns):\n",
      " #   Column       Non-Null Count  Dtype  \n",
      "---  ------       --------------  -----  \n",
      " 0   PassengerId  891 non-null    int64  \n",
      " 1   Survived     891 non-null    int64  \n",
      " 2   Pclass       891 non-null    int64  \n",
      " 3   Name         891 non-null    object \n",
      " 4   Sex          891 non-null    object \n",
      " 5   Age          714 non-null    float64\n",
      " 6   SibSp        891 non-null    int64  \n",
      " 7   Parch        891 non-null    int64  \n",
      " 8   Ticket       891 non-null    object \n",
      " 9   Fare         891 non-null    float64\n",
      " 10  Cabin        204 non-null    object \n",
      " 11  Embarked     889 non-null    object \n",
      "dtypes: float64(2), int64(5), object(5)\n",
      "memory usage: 83.7+ KB\n"
     ]
    }
   ],
   "source": [
    "train_data.info()"
   ]
  },
  {
   "cell_type": "code",
   "execution_count": 5,
   "metadata": {},
   "outputs": [
    {
     "name": "stdout",
     "output_type": "stream",
     "text": [
      "<class 'pandas.core.frame.DataFrame'>\n",
      "RangeIndex: 418 entries, 0 to 417\n",
      "Data columns (total 11 columns):\n",
      " #   Column       Non-Null Count  Dtype  \n",
      "---  ------       --------------  -----  \n",
      " 0   PassengerId  418 non-null    int64  \n",
      " 1   Pclass       418 non-null    int64  \n",
      " 2   Name         418 non-null    object \n",
      " 3   Sex          418 non-null    object \n",
      " 4   Age          332 non-null    float64\n",
      " 5   SibSp        418 non-null    int64  \n",
      " 6   Parch        418 non-null    int64  \n",
      " 7   Ticket       418 non-null    object \n",
      " 8   Fare         417 non-null    float64\n",
      " 9   Cabin        91 non-null     object \n",
      " 10  Embarked     418 non-null    object \n",
      "dtypes: float64(2), int64(4), object(5)\n",
      "memory usage: 36.0+ KB\n"
     ]
    }
   ],
   "source": [
    "test_data.info()"
   ]
  },
  {
   "cell_type": "code",
   "execution_count": 6,
   "metadata": {
    "scrolled": true
   },
   "outputs": [
    {
     "data": {
      "text/html": [
       "<div>\n",
       "<style scoped>\n",
       "    .dataframe tbody tr th:only-of-type {\n",
       "        vertical-align: middle;\n",
       "    }\n",
       "\n",
       "    .dataframe tbody tr th {\n",
       "        vertical-align: top;\n",
       "    }\n",
       "\n",
       "    .dataframe thead th {\n",
       "        text-align: right;\n",
       "    }\n",
       "</style>\n",
       "<table border=\"1\" class=\"dataframe\">\n",
       "  <thead>\n",
       "    <tr style=\"text-align: right;\">\n",
       "      <th></th>\n",
       "      <th>PassengerId</th>\n",
       "      <th>Pclass</th>\n",
       "      <th>Name</th>\n",
       "      <th>Sex</th>\n",
       "      <th>Age</th>\n",
       "      <th>SibSp</th>\n",
       "      <th>Parch</th>\n",
       "      <th>Ticket</th>\n",
       "      <th>Fare</th>\n",
       "      <th>Cabin</th>\n",
       "      <th>Embarked</th>\n",
       "    </tr>\n",
       "  </thead>\n",
       "  <tbody>\n",
       "    <tr>\n",
       "      <th>152</th>\n",
       "      <td>1044</td>\n",
       "      <td>3</td>\n",
       "      <td>Storey, Mr. Thomas</td>\n",
       "      <td>male</td>\n",
       "      <td>60.5</td>\n",
       "      <td>0</td>\n",
       "      <td>0</td>\n",
       "      <td>3701</td>\n",
       "      <td>NaN</td>\n",
       "      <td>NaN</td>\n",
       "      <td>S</td>\n",
       "    </tr>\n",
       "  </tbody>\n",
       "</table>\n",
       "</div>"
      ],
      "text/plain": [
       "     PassengerId  Pclass                Name   Sex   Age  SibSp  Parch Ticket  \\\n",
       "152         1044       3  Storey, Mr. Thomas  male  60.5      0      0   3701   \n",
       "\n",
       "     Fare Cabin Embarked  \n",
       "152   NaN   NaN        S  "
      ]
     },
     "execution_count": 6,
     "metadata": {},
     "output_type": "execute_result"
    }
   ],
   "source": [
    "test_data[test_data.Fare.isnull()]"
   ]
  },
  {
   "cell_type": "code",
   "execution_count": 7,
   "metadata": {},
   "outputs": [],
   "source": [
    "# Bu tek boş değeri, değişkenin ortalaması ile dolduralım.\n",
    "test_data.loc[152, \"Fare\"] = test_data.Fare.mean()"
   ]
  },
  {
   "cell_type": "code",
   "execution_count": 8,
   "metadata": {
    "scrolled": false
   },
   "outputs": [],
   "source": [
    "# Kategorik değişkenleri numerik yapalım ve boş değerlerle ilgilenelim.\n",
    "for data in (train_data, test_data):\n",
    "    # Cinsiyet değişkenini ikili değere dönüştürdük.\n",
    "    is_male_series = pd.get_dummies(data[\"Sex\"], drop_first=True)\n",
    "    data.insert(loc=4, column=\"is_male\", value=is_male_series)\n",
    "    data.drop(labels=\"Sex\", axis=1, inplace=True)\n",
    "    \n",
    "    # 3 farklı biniş limanını sayısal değere dönüştürdük\n",
    "    data.Embarked = data.Embarked.replace(\"S\", 3)    # S = Southampton\n",
    "    data.Embarked = data.Embarked.replace(\"Q\", 2)    # Q = Queenstown\n",
    "    data.Embarked = data.Embarked.replace(\"C\", 1)    # C = Cherbourg\n",
    "    data.Embarked = data.Embarked.replace(np.nan, 0)\n",
    "    \n",
    "    # Sayısal değere dönüşen sütunun veri tipini güncelledik.\n",
    "    data.Embarked = data.Embarked.astype(\"uint8\")\n",
    "del data"
   ]
  },
  {
   "cell_type": "code",
   "execution_count": 9,
   "metadata": {
    "scrolled": true
   },
   "outputs": [],
   "source": [
    "# \"Age\" değişkenindeki boş değerleri, cinsiyet ortalamalarıyla değiştirdik.\n",
    "for data in (train_data, test_data):\n",
    "    temp_index = 0\n",
    "    for age in (data.Age):\n",
    "        if np.isnan(age):\n",
    "            mean_age_by_sex = data.Age.groupby(by=data.is_male).mean()\n",
    "            data.loc[temp_index, \"Age\"] = mean_age_by_sex[data.is_male[temp_index]]\n",
    "        temp_index +=1\n",
    "del data"
   ]
  },
  {
   "cell_type": "code",
   "execution_count": 10,
   "metadata": {
    "scrolled": true
   },
   "outputs": [],
   "source": [
    "# Modelimizin bağımsız ve bağımlı değişkenlerini tanımlayalım.\n",
    "# Ayrıca, bağımsız değişkenleri standartlaştırarak olası katsayı ağırlık farklarını düşürelim.\n",
    "X_train = scale(train_data[[\"Pclass\", \"is_male\", \"Fare\", \"Age\", \"SibSp\", \"Parch\", \"Embarked\"]])\n",
    "Y_train = train_data[\"Survived\"]"
   ]
  },
  {
   "cell_type": "markdown",
   "metadata": {},
   "source": [
    "# Lojistik Regresyon Modeli Parametreleri:"
   ]
  },
  {
   "cell_type": "code",
   "execution_count": 11,
   "metadata": {},
   "outputs": [],
   "source": [
    "# Kuracağımız modelde, farklı C değerleri deneyeceğiz.\n",
    "# C: Inverse of regularization strength \n",
    "C_values = np.logspace(-10, 10, 500)"
   ]
  },
  {
   "cell_type": "code",
   "execution_count": 12,
   "metadata": {},
   "outputs": [
    {
     "name": "stdout",
     "output_type": "stream",
     "text": [
      "CPU times: user 3.27 s, sys: 18.5 ms, total: 3.29 s\n",
      "Wall time: 3.29 s\n"
     ]
    }
   ],
   "source": [
    "%%time\n",
    "accuracy_values = pd.DataFrame(columns=[\"C Values\", \"Train Accuracy\"])\n",
    "for c in C_values:\n",
    "    logistic_reg = LogisticRegression(penalty=\"l1\", \n",
    "                                      solver=\"saga\", \n",
    "                                      multi_class=\"multinomial\", \n",
    "                                      C=c, \n",
    "                                      max_iter=2000)\n",
    "    logistic_reg.fit(X_train, Y_train)\n",
    "    score = logistic_reg.score(X_train, Y_train)\n",
    "    \n",
    "    accuracy_values = accuracy_values.append({\"C Values\":c, \"Train Accuracy\":score}, \n",
    "                                             ignore_index=True)"
   ]
  },
  {
   "cell_type": "code",
   "execution_count": 13,
   "metadata": {
    "scrolled": false
   },
   "outputs": [
    {
     "name": "stdout",
     "output_type": "stream",
     "text": [
      "Bazı C değerlerinin doğruluk oranları:\n"
     ]
    },
    {
     "data": {
      "text/html": [
       "<div>\n",
       "<style scoped>\n",
       "    .dataframe tbody tr th:only-of-type {\n",
       "        vertical-align: middle;\n",
       "    }\n",
       "\n",
       "    .dataframe tbody tr th {\n",
       "        vertical-align: top;\n",
       "    }\n",
       "\n",
       "    .dataframe thead th {\n",
       "        text-align: right;\n",
       "    }\n",
       "</style>\n",
       "<table border=\"1\" class=\"dataframe\">\n",
       "  <thead>\n",
       "    <tr style=\"text-align: right;\">\n",
       "      <th></th>\n",
       "      <th>C Values</th>\n",
       "      <th>Train Accuracy</th>\n",
       "    </tr>\n",
       "  </thead>\n",
       "  <tbody>\n",
       "    <tr>\n",
       "      <th>0</th>\n",
       "      <td>1.000000e-10</td>\n",
       "      <td>0.616162</td>\n",
       "    </tr>\n",
       "    <tr>\n",
       "      <th>100</th>\n",
       "      <td>1.018629e-06</td>\n",
       "      <td>0.616162</td>\n",
       "    </tr>\n",
       "    <tr>\n",
       "      <th>200</th>\n",
       "      <td>1.037605e-02</td>\n",
       "      <td>0.786756</td>\n",
       "    </tr>\n",
       "    <tr>\n",
       "      <th>300</th>\n",
       "      <td>1.056935e+02</td>\n",
       "      <td>0.801347</td>\n",
       "    </tr>\n",
       "    <tr>\n",
       "      <th>400</th>\n",
       "      <td>1.076624e+06</td>\n",
       "      <td>0.801347</td>\n",
       "    </tr>\n",
       "  </tbody>\n",
       "</table>\n",
       "</div>"
      ],
      "text/plain": [
       "         C Values  Train Accuracy\n",
       "0    1.000000e-10        0.616162\n",
       "100  1.018629e-06        0.616162\n",
       "200  1.037605e-02        0.786756\n",
       "300  1.056935e+02        0.801347\n",
       "400  1.076624e+06        0.801347"
      ]
     },
     "execution_count": 13,
     "metadata": {},
     "output_type": "execute_result"
    }
   ],
   "source": [
    "print(\"Bazı C değerlerinin doğruluk oranları:\")\n",
    "accuracy_values.iloc[0:500:100]"
   ]
  },
  {
   "cell_type": "code",
   "execution_count": 14,
   "metadata": {
    "scrolled": true
   },
   "outputs": [
    {
     "name": "stdout",
     "output_type": "stream",
     "text": [
      "En yüksek skorun (0.801) C değeri: 0.05464\n"
     ]
    }
   ],
   "source": [
    "index_of_max = accuracy_values.index[accuracy_values[\"Train Accuracy\"] \n",
    "                      == accuracy_values[\"Train Accuracy\"].max()][0]\n",
    "\n",
    "accuracy_of_max = accuracy_values[\"Train Accuracy\"][index_of_max]\n",
    "c_of_max = accuracy_values[\"C Values\"][index_of_max]\n",
    "\n",
    "print(f\"En yüksek skorun ({accuracy_of_max:.3f}) C değeri: {c_of_max:.4g}\")"
   ]
  },
  {
   "cell_type": "code",
   "execution_count": 15,
   "metadata": {
    "scrolled": false
   },
   "outputs": [
    {
     "name": "stdout",
     "output_type": "stream",
     "text": [
      "İlk modelimizin performansı: 0.8002\n"
     ]
    }
   ],
   "source": [
    "log_reg = LogisticRegression(solver=\"lbfgs\", \n",
    "                             multi_class=\"multinomial\", \n",
    "                             C=c_of_max, \n",
    "                             max_iter=2000)\n",
    "\n",
    "log_reg.fit(X_train, Y_train)\n",
    "print(\"İlk modelimizin performansı: {:.4f}\".format(log_reg.score(X_train, Y_train)))"
   ]
  },
  {
   "cell_type": "code",
   "execution_count": 16,
   "metadata": {},
   "outputs": [],
   "source": [
    "# \"polynomial features\" ile değişkenlerimizin etkileşimini gözlemleyeceğiz\n",
    "poly_model = PolynomialFeatures(degree=5, interaction_only=False, order=\"C\")\n",
    "X_train_poly = poly_model.fit_transform(X_train)"
   ]
  },
  {
   "cell_type": "code",
   "execution_count": 17,
   "metadata": {
    "scrolled": false
   },
   "outputs": [
    {
     "name": "stdout",
     "output_type": "stream",
     "text": [
      "5. derece polinom etkileşimi ile denen ilk modelin performansı: 0.8777\n",
      "CPU times: user 17.8 s, sys: 5.13 s, total: 22.9 s\n",
      "Wall time: 5.8 s\n"
     ]
    }
   ],
   "source": [
    "%%time\n",
    "# Uygulanan model: \n",
    "# log_reg = LogisticRegression(solver=\"lbfgs\", multi_class=\"multinomial\", C=c_of_max, max_iter=2000)\n",
    "log_reg.fit(X_train_poly, Y_train)\n",
    "print(\"5. derece polinom etkileşimi ile denen ilk modelin performansı: {:.4f}\".format(log_reg.score(X_train_poly, Y_train)))"
   ]
  },
  {
   "cell_type": "code",
   "execution_count": 18,
   "metadata": {},
   "outputs": [],
   "source": [
    "# Kabin sütununu da numerik değerler ile güncelleyerek performanstaki değişime bakalım.\n",
    "\n",
    "for df in (train_data, test_data):\n",
    "    for index in range(df.Cabin.shape[0]):\n",
    "        # Kabin değişkeni, NaN veya string değerlerden oluşuyor.\n",
    "            if \"A\" in str(df.Cabin[index]):\n",
    "                    df.loc[index, \"Cabin\"] = 1\n",
    "            elif \"B\" in str(df.Cabin[index]):\n",
    "                    df.loc[index, \"Cabin\"] = 1\n",
    "            elif \"C\" in str(df.Cabin[index]):\n",
    "                    df.loc[index, \"Cabin\"] = 1\n",
    "            elif \"D\" in str(df.Cabin[index]):\n",
    "                    df.loc[index, \"Cabin\"] = 2\n",
    "            elif \"E\" in str(df.Cabin[index]):\n",
    "                    df.loc[index, \"Cabin\"] = 2\n",
    "            elif \"F\" in str(df.Cabin[index]):\n",
    "                    df.loc[index, \"Cabin\"] = 3\n",
    "            elif \"G\" in str(df.Cabin[index]):\n",
    "                    df.loc[index, \"Cabin\"] = 3\n",
    "            elif \"T\" in str(df.Cabin[index]):\n",
    "                    df.loc[index, \"Cabin\"] = 3                \n",
    "            else:\n",
    "                df.loc[index, \"Cabin\"] = 0\n",
    "\n",
    "        # Sayısal değere dönüşen sütunun veri tipini güncelledik.\n",
    "    df.Cabin = df.Cabin.astype(\"int8\")\n",
    "    df.drop(labels=[\"Name\", \"Ticket\"], axis=1, inplace=True)\n",
    "\n",
    "# str() yapmak zorunda kaldım çünkü şu hatayı alıyordum:\n",
    "# TypeError: argument of type 'float' is not iterable\n",
    "\n",
    "del df"
   ]
  },
  {
   "cell_type": "code",
   "execution_count": 19,
   "metadata": {},
   "outputs": [],
   "source": [
    "X_train = scale(train_data.iloc[:, 2:])\n",
    "X_test = scale(test_data.iloc[:, 1:])\n",
    "Y_train = train_data[\"Survived\"]"
   ]
  },
  {
   "cell_type": "code",
   "execution_count": 20,
   "metadata": {
    "scrolled": false
   },
   "outputs": [
    {
     "name": "stdout",
     "output_type": "stream",
     "text": [
      "Kabin sütunu düzenlemesinin ardından modelimizin performansı: 0.8114\n"
     ]
    }
   ],
   "source": [
    "log_reg.fit(X_train, Y_train)\n",
    "print(\"Kabin sütunu düzenlemesinin ardından modelimizin performansı: {:.4f}\".format(log_reg.score(X_train, Y_train)))"
   ]
  },
  {
   "cell_type": "code",
   "execution_count": 21,
   "metadata": {},
   "outputs": [
    {
     "name": "stdout",
     "output_type": "stream",
     "text": [
      "2. derece polinom etkileşimi ile denen modelin performansı: 0.8373\n"
     ]
    }
   ],
   "source": [
    "# polynomial features\n",
    "poly_model = PolynomialFeatures(degree=2, interaction_only=True, order=\"C\")\n",
    "X_train_poly = poly_model.fit_transform(X_train)\n",
    "\n",
    "# LogisticRegression(solver=\"lbfgs\", multi_class=\"multinomial\", C=c_of_max, max_iter=2000)\n",
    "\n",
    "log_reg.fit(X_train_poly, Y_train)\n",
    "print(\"2. derece polinom etkileşimi ile denen modelin performansı: {:.4f}\".format(log_reg.score(X_train_poly, Y_train)))"
   ]
  },
  {
   "cell_type": "code",
   "execution_count": 22,
   "metadata": {
    "scrolled": true
   },
   "outputs": [
    {
     "name": "stdout",
     "output_type": "stream",
     "text": [
      "5. derece ve tam polinom etkileşimi ile denen modelin performansı: 0.8923\n",
      "CPU times: user 25 s, sys: 5.77 s, total: 30.8 s\n",
      "Wall time: 7.77 s\n"
     ]
    }
   ],
   "source": [
    "%%time\n",
    "# polynomial features\n",
    "poly_model = PolynomialFeatures(degree=5, interaction_only=False, order=\"C\")\n",
    "X_train_poly = poly_model.fit_transform(X_train)\n",
    "\n",
    "# LogisticRegression(solver=\"lbfgs\", multi_class=\"multinomial\", C=c_of_max, max_iter=2000)\n",
    "\n",
    "log_reg.fit(X_train_poly, Y_train)\n",
    "print(\"5. derece ve tam polinom etkileşimi ile denen modelin performansı: {:.4f}\".format(log_reg.score(X_train_poly, Y_train)))"
   ]
  },
  {
   "cell_type": "markdown",
   "metadata": {},
   "source": [
    "# Sonuç:\n",
    "Modelimizin performansını yükselten faktörler: <br>\n",
    "* Yaş sütunundaki NaN değerlerin, ilgili verinin cinsiyetinin yaş ortalaması ile değiştirilmesi.\n",
    "* Lojistik regresyondaki C değerinin değiştirilmesi\n",
    "* Lojistik regresyondaki maksimum iterasyonun yükseltilmesi\n",
    "* Değişkenlerin hepsinin kullanılması\n",
    "    * \"Pclass\", \"is_male\", \"Fare\", \"Age\" vb.\n",
    "* Polynomial Features kullanılarak değişkenlerin birbirleriyle etkileşim sağlanması\n",
    "* Ve son olarak \"Cabin\" değişkeninin dummy değişkenine dönüştürülerek yüksek dereceli polinom etkileşimine sokulması\n",
    "***\n",
    "\n",
    "# Test Verisi ile Tahmin:"
   ]
  },
  {
   "cell_type": "code",
   "execution_count": 23,
   "metadata": {
    "scrolled": true
   },
   "outputs": [],
   "source": [
    "X_test_poly = poly_model.fit_transform(X_test)\n",
    "test_predict = log_reg.predict(X_test_poly)\n",
    "\n",
    "test_predict = pd.concat([pd.Series(test_data.PassengerId), pd.Series(test_predict)], axis=\"columns\")\n",
    "test_predict.columns = [\"PassengerId\", \"Survived\"]\n",
    "test_predict.to_csv(path_or_buf=\"titanic_test_predict.csv\", index=False)"
   ]
  },
  {
   "cell_type": "markdown",
   "metadata": {},
   "source": [
    "***\n",
    "# Part 2/2: Güncel Ödev\n",
    "* Modelinizin performansına bu derste öğrendiğiniz metriklerlerle değerlendiriniz.\n",
    "* ROC eğrisi ve Hassasiyet/Duyarlılık Eğrisini farklı \"c\" değerleri için çizdirin."
   ]
  },
  {
   "cell_type": "code",
   "execution_count": 24,
   "metadata": {},
   "outputs": [],
   "source": [
    "from sklearn.model_selection import train_test_split\n",
    "from sklearn.metrics import confusion_matrix\n",
    "\n",
    "x_egitim, x_test, y_egitim, y_test = train_test_split(X_train, Y_train, \n",
    "                                                      random_state=42, \n",
    "                                                      test_size=0.2)\n",
    "\n",
    "log_reg = LogisticRegression(solver=\"lbfgs\", \n",
    "                             multi_class=\"multinomial\", \n",
    "                             C=c_of_max, \n",
    "                             max_iter=2000)\n",
    "log_reg.fit(x_egitim, y_egitim)\n",
    "\n",
    "egitim_tahmin = log_reg.predict(x_egitim)\n",
    "test_tahmin = log_reg.predict(x_test)\n",
    "\n",
    "test_tahmin_olasilik = log_reg.predict_proba(x_test)[:, 1]    ## predict_proba ne işe yarıyor?\n",
    "\n",
    "hata_matrisi_egitim = confusion_matrix(y_egitim, egitim_tahmin)\n",
    "hata_matrisi_test = confusion_matrix(y_test, test_tahmin)"
   ]
  },
  {
   "cell_type": "code",
   "execution_count": 26,
   "metadata": {
    "scrolled": true
   },
   "outputs": [
    {
     "name": "stdout",
     "output_type": "stream",
     "text": [
      "Hata matrisi (Eğitim Verileri):\n",
      "------------------------------\n",
      "[[387  57]\n",
      " [ 80 188]]\n",
      "\n",
      "Hata matrisi (Test Verileri):\n",
      "------------------------------\n",
      "[[91 14]\n",
      " [21 53]]\n"
     ]
    }
   ],
   "source": [
    "print(\"Hata matrisi (Eğitim Verileri):\", \"-\"*30, hata_matrisi_egitim, sep=\"\\n\")\n",
    "print(\"\\nHata matrisi (Test Verileri):\", \"-\"*30, hata_matrisi_test, sep=\"\\n\")"
   ]
  },
  {
   "cell_type": "code",
   "execution_count": 27,
   "metadata": {},
   "outputs": [
    {
     "name": "stdout",
     "output_type": "stream",
     "text": [
      "Doğru negatif sayısı   : 91\n",
      "Doğru pozitif sayısı   : 53\n",
      "Yanlış pozitif sayısı  : 14\n",
      "Yanlış negatif sayısı  : 21\n"
     ]
    }
   ],
   "source": [
    "TN = hata_matrisi_test[0][0]\n",
    "TP = hata_matrisi_test[1][1]\n",
    "FP = hata_matrisi_test[0][1]\n",
    "FN = hata_matrisi_test[1][0]\n",
    "\n",
    "print(\"Doğru negatif sayısı   :\", TN)\n",
    "print(\"Doğru pozitif sayısı   :\", TP)\n",
    "print(\"Yanlış pozitif sayısı  :\", FP)\n",
    "print(\"Yanlış negatif sayısı  :\", FN)"
   ]
  },
  {
   "cell_type": "code",
   "execution_count": 28,
   "metadata": {},
   "outputs": [
    {
     "name": "stdout",
     "output_type": "stream",
     "text": [
      "Modelden alınan doğruluk değeri :  0.8044692737430168\n",
      "Hesaplanan doğruluk değeri      :  0.8044692737430168\n",
      "accuracy_score() değeri         :  0.8044692737430168\n"
     ]
    }
   ],
   "source": [
    "from sklearn.metrics import accuracy_score\n",
    "\n",
    "print(\"Modelden alınan doğruluk değeri : \",  log_reg.score(x_test, y_test))\n",
    "print(\"Hesaplanan doğruluk değeri      : \",  (TN + TP)/(FN + FP + TN + TP))\n",
    "print(\"accuracy_score() değeri         : \",  accuracy_score(y_test, test_tahmin))"
   ]
  },
  {
   "cell_type": "code",
   "execution_count": 29,
   "metadata": {},
   "outputs": [
    {
     "name": "stdout",
     "output_type": "stream",
     "text": [
      "Hesaplanan doğruluk değeri      :  0.7910447761194029\n",
      "precision_score() değeri        :  0.7910447761194029\n"
     ]
    }
   ],
   "source": [
    "from sklearn.metrics import precision_score\n",
    "\n",
    "print(\"Hesaplanan doğruluk değeri      : \",  (TP)/(FP + TP))\n",
    "print(\"precision_score() değeri        : \",  precision_score(y_test, test_tahmin))"
   ]
  },
  {
   "cell_type": "code",
   "execution_count": 30,
   "metadata": {
    "scrolled": true
   },
   "outputs": [
    {
     "name": "stdout",
     "output_type": "stream",
     "text": [
      "Hesaplanan doğruluk değeri   :  0.7162162162162162\n",
      "recall_score() değeri        :  0.7162162162162162\n"
     ]
    }
   ],
   "source": [
    "from sklearn.metrics import recall_score\n",
    "\n",
    "print(\"Hesaplanan doğruluk değeri   : \",  (TP)/(TP + FN))\n",
    "print(\"recall_score() değeri        : \",  recall_score(y_test, test_tahmin))"
   ]
  },
  {
   "cell_type": "code",
   "execution_count": 31,
   "metadata": {},
   "outputs": [
    {
     "name": "stdout",
     "output_type": "stream",
     "text": [
      "Hesaplanan özgünlük değeri   :  0.8666666666666667\n"
     ]
    }
   ],
   "source": [
    "print(\"Hesaplanan özgünlük değeri   : \",  (TN)/(TN + FP))"
   ]
  },
  {
   "cell_type": "code",
   "execution_count": 32,
   "metadata": {},
   "outputs": [
    {
     "name": "stdout",
     "output_type": "stream",
     "text": [
      "Hesaplanan f1 skoru   :  0.7517730496453902\n",
      "f1_score() değeri     :  0.7517730496453902\n"
     ]
    }
   ],
   "source": [
    "from sklearn.metrics import f1_score\n",
    "\n",
    "hassasiyet_degeri = precision_score(y_test, test_tahmin)\n",
    "duyarlılık_değeri = recall_score(y_test, test_tahmin)\n",
    "\n",
    "\n",
    "print(\"Hesaplanan f1 skoru   : \",  2*((hassasiyet_degeri*duyarlılık_değeri)/(hassasiyet_degeri + duyarlılık_değeri)))\n",
    "print(\"f1_score() değeri     : \",  f1_score(y_test, test_tahmin))"
   ]
  },
  {
   "cell_type": "code",
   "execution_count": 33,
   "metadata": {},
   "outputs": [
    {
     "name": "stdout",
     "output_type": "stream",
     "text": [
      "              precision    recall  f1-score   support\n",
      "\n",
      "           0       0.81      0.87      0.84       105\n",
      "           1       0.79      0.72      0.75        74\n",
      "\n",
      "    accuracy                           0.80       179\n",
      "   macro avg       0.80      0.79      0.80       179\n",
      "weighted avg       0.80      0.80      0.80       179\n",
      "\n",
      "f1_score() değeri        : 0.75\n",
      "recall_score() değeri    : 0.72\n",
      "precision_score() değeri : 0.79\n",
      "\n",
      "\n",
      "Hassasiyet : [0.8125     0.79104478]\n",
      "Duyarlılık : [0.86666667 0.71621622]\n",
      "F1 Skoru   : [0.83870968 0.75177305]\n"
     ]
    }
   ],
   "source": [
    "from sklearn.metrics import classification_report, precision_recall_fscore_support\n",
    "\n",
    "print(classification_report(y_test, test_tahmin))\n",
    "\n",
    "print(\"f1_score() değeri        : {:.2f}\".format(f1_score(y_test, test_tahmin)))\n",
    "print(\"recall_score() değeri    : {:.2f}\".format(recall_score(y_test, test_tahmin)))\n",
    "print(\"precision_score() değeri : {:.2f}\".format(precision_score(y_test, test_tahmin)))\n",
    "print('\\n')\n",
    "\n",
    "metrikler =  precision_recall_fscore_support(y_test, test_tahmin)\n",
    "print(\"Hassasiyet :\" , metrikler[0]) \n",
    "print(\"Duyarlılık :\" , metrikler[1]) \n",
    "print(\"F1 Skoru   :\" , metrikler[2]) "
   ]
  },
  {
   "cell_type": "markdown",
   "metadata": {},
   "source": [
    "***\n",
    "### ROC eğrisi ve Hassasiyet/Duyarlılık Eğrisini farklı \"c\" değerleri için çizdirin."
   ]
  },
  {
   "cell_type": "code",
   "execution_count": 45,
   "metadata": {},
   "outputs": [],
   "source": [
    "from sklearn.metrics import roc_curve, roc_auc_score"
   ]
  },
  {
   "cell_type": "code",
   "execution_count": 69,
   "metadata": {
    "scrolled": false
   },
   "outputs": [
    {
     "name": "stdout",
     "output_type": "stream",
     "text": [
      "C=0.001 için AUC Değeri : 0.8303\n",
      "C=0.01 için AUC Değeri : 0.8326\n",
      "C=0.1 için AUC Değeri : 0.8305\n",
      "C=1 için AUC Değeri : 0.8287\n",
      "C=10 için AUC Değeri : 0.8288\n",
      "C=100 için AUC Değeri : 0.8286\n"
     ]
    },
    {
     "data": {
      "image/png": "[encoded data removed]",
      "text/plain": [
       "<Figure size 1080x864 with 6 Axes>"
      ]
     },
     "metadata": {},
     "output_type": "display_data"
    }
   ],
   "source": [
    "temp = 1    # temporary variable\n",
    "plt.figure(figsize=(15,12))\n",
    "for regularization_strength in [10**c for c in range(-3,3,1)]:\n",
    "    \n",
    "    x_egitim, x_test, y_egitim, y_test = train_test_split(X_train, Y_train, \n",
    "                                                      random_state=111, \n",
    "                                                      test_size=0.2)\n",
    "\n",
    "    log_reg = LogisticRegression(C=regularization_strength, \n",
    "                             max_iter=1000)\n",
    "    log_reg.fit(x_egitim, y_egitim)\n",
    "\n",
    "    egitim_tahmin = log_reg.predict(x_egitim)\n",
    "    test_tahmin = log_reg.predict(x_test)\n",
    "\n",
    "    test_tahmin_olasilik = log_reg.predict_proba(x_test)[:, 1]\n",
    "    \n",
    "    \n",
    "    fpr, tpr, thresholds  = roc_curve(y_test, test_tahmin_olasilik)\n",
    "    ## yukarıdaki 3 metrik ile birlikte grafiği nasıl yorumlayacağımızı tam anlayamadım.\n",
    "    \n",
    "    plt.subplot(2,3,temp)\n",
    "    plt.plot([0, 1], [0, 1], 'k--')\n",
    "    plt.plot(fpr, tpr)\n",
    "    plt.xlabel('False Positive Rate')\n",
    "    plt.ylabel('True Positive Rate')\n",
    "    plt.title('ROC Curve')    \n",
    "    print(f\"C={regularization_strength} için AUC Değeri : {roc_auc_score(y_test, test_tahmin_olasilik):.4f}\")\n",
    "    temp+=1\n",
    "plt.tight_layout()\n",
    "plt.show()\n",
    "del temp"
   ]
  },
  {
   "cell_type": "code",
   "execution_count": 56,
   "metadata": {},
   "outputs": [],
   "source": [
    "from sklearn.metrics import precision_recall_curve\n",
    "from sklearn.metrics import log_loss"
   ]
  },
  {
   "cell_type": "code",
   "execution_count": 77,
   "metadata": {
    "scrolled": false
   },
   "outputs": [
    {
     "name": "stdout",
     "output_type": "stream",
     "text": [
      "C=0.001, Logartimik Kayıp : 0.5902\n",
      "C=0.001, Hata Oranı       : 0.2793\n",
      "\n",
      "C=0.01, Logartimik Kayıp : 0.4813\n",
      "C=0.01, Hata Oranı       : 0.2011\n",
      "\n",
      "C=0.1, Logartimik Kayıp : 0.4583\n",
      "C=0.1, Hata Oranı       : 0.1844\n",
      "\n",
      "C=1, Logartimik Kayıp : 0.4625\n",
      "C=1, Hata Oranı       : 0.1955\n",
      "\n",
      "C=10, Logartimik Kayıp : 0.4634\n",
      "C=10, Hata Oranı       : 0.1955\n",
      "\n",
      "C=100, Logartimik Kayıp : 0.4635\n",
      "C=100, Hata Oranı       : 0.1955\n",
      "\n"
     ]
    },
    {
     "data": {
      "image/png": "[encoded data removed]",
      "text/plain": [
       "<Figure size 1080x864 with 6 Axes>"
      ]
     },
     "metadata": {},
     "output_type": "display_data"
    }
   ],
   "source": [
    "temp = 1    # temporary variable\n",
    "plt.figure(figsize=(15,12))\n",
    "for regularization_strength in [10**c for c in range(-3,3,1)]:\n",
    "    \n",
    "    x_egitim, x_test, y_egitim, y_test = train_test_split(X_train, Y_train, \n",
    "                                                      random_state=111, \n",
    "                                                      test_size=0.2)\n",
    "\n",
    "    log_reg = LogisticRegression(C=regularization_strength, \n",
    "                             max_iter=1000)\n",
    "    log_reg.fit(x_egitim, y_egitim)\n",
    "\n",
    "    egitim_tahmin = log_reg.predict(x_egitim)\n",
    "    test_tahmin = log_reg.predict(x_test)\n",
    "\n",
    "    test_tahmin_olasilik = log_reg.predict_proba(x_test)[:, 1]\n",
    "    \n",
    "    \n",
    "    fpr, tpr, thresholds  = roc_curve(y_test, test_tahmin_olasilik)\n",
    "    ## yukarıdaki 3 metrik ile birlikte grafiği nasıl yorumlayacağımızı tam anlayamadım.\n",
    "    \n",
    "    plt.subplot(2,3,temp)\n",
    "    hassasiyet, duyarlılık, _ = precision_recall_curve(y_test, test_tahmin_olasilik)\n",
    "    plt.plot(duyarlılık, hassasiyet)\n",
    "    temp+=1\n",
    "    \n",
    "    \n",
    "    print(f\"C={regularization_strength}, Logartimik Kayıp : {log_loss(y_test, test_tahmin_olasilik):.4f}\")\n",
    "    print(f\"C={regularization_strength}, Hata Oranı       : {(1- accuracy_score(y_test, test_tahmin)):.4f}\\n\")\n",
    "\n",
    "plt.tight_layout()\n",
    "plt.show()\n",
    "del temp"
   ]
  }
 ],
 "metadata": {
  "kernelspec": {
   "display_name": "Python 3",
   "language": "python",
   "name": "python3"
  },
  "language_info": {
   "codemirror_mode": {
    "name": "ipython",
    "version": 3
   },
   "file_extension": ".py",
   "mimetype": "text/x-python",
   "name": "python",
   "nbconvert_exporter": "python",
   "pygments_lexer": "ipython3",
   "version": "3.8.1"
  }
 },
 "nbformat": 4,
 "nbformat_minor": 4
}
