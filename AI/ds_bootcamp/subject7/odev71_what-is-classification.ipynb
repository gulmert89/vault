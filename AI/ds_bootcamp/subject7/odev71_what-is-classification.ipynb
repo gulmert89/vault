{
 "cells": [
  {
   "cell_type": "markdown",
   "metadata": {},
   "source": [
    "# 7.1 - Sınıflandırma Problemleri: Sınıflandırma nedir?\n",
    "Aşağıdaki örneklerin sınıflandırma problemi mi yoksa regresyon problemi mi olduğunu belirleyiniz:\n",
    "\n",
    "1) **Evin büyüklüğü veri alındığında, evin fiyatını tahmin etmek**\n",
    "    * Regresyon problemi\n",
    "2) **Eve bakmaya gelenlerin kıyafetlerinden, kimin evi satın alma ihtimalinin yüksek veya düşük olduğu sonucuna varmak**\n",
    "    * Sınıflandırma problemi\n",
    "3) **Lokasyon ve tarih gibi parametreleri kullanarak, yağmur yağma ihtimalini hesaplamak**\n",
    "    * Lokasyon ve tarih verilerini kullanırsak sınıflandırma problemi; sıcaklık, basınç gibi veriler kullanırsak regresyon problemi olabilir. \n",
    "4) **Eğitim, tecrübe gibi parametreleri kullanarak, kişinin maaşını tahmin etmek**\n",
    "    * Regresyon problemi\n",
    "5) **Bir insanın yaşının tahmin edilmesi**\n",
    "    * Kullanılan veri setine göre değişir. Örneğin fotoğraf verileri veya tüketim alışkanlıkları verisi kullanılırsa sınıflandırma; ortalama kalp atış sayısı, yürüyüş hızı gibi veriler kullanılırsa regresyon problemi olabilir.\n",
    "6) **Bir insanın gelirinin tahmin edilmesi**\n",
    "    * Bir önceki sorudaki cevabın bir benzeri geçerlidir.\n",
    "7) **Herhangi bir hisse senedinin fiyatının yönünün tahmin edilmesi**\n",
    "    * Regresyon problemi\n",
    "    \n",
    "\\## Aslında düşününce, evin büyüklüklerini belli bir aralıkta tutarak (örn: $50m^2 - 125m^2$ arası), bunu bir sınıflandırma problemine dönüştürmek de mümkün. Tam keskin bir ayrım yapamadım."
   ]
  }
 ],
 "metadata": {
  "kernelspec": {
   "display_name": "Python 3",
   "language": "python",
   "name": "python3"
  },
  "language_info": {
   "codemirror_mode": {
    "name": "ipython",
    "version": 3
   },
   "file_extension": ".py",
   "mimetype": "text/x-python",
   "name": "python",
   "nbconvert_exporter": "python",
   "pygments_lexer": "ipython3",
   "version": "3.8.2"
  }
 },
 "nbformat": 4,
 "nbformat_minor": 4
}
