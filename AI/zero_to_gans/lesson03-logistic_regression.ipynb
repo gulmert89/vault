{
 "cells": [
  {
   "cell_type": "markdown",
   "metadata": {
    "id": "OZ0S8IQWfTTV"
   },
   "source": [
    "# Working with Images & Logistic Regression in PyTorch\n",
    "\n",
    "### Part 3 of \"Deep Learning with Pytorch: Zero to GANs\"\n",
    "\n",
    "This tutorial series is a hands-on beginner-friendly introduction to deep learning using [PyTorch](https://pytorch.org), an open-source neural networks library. These tutorials take a practical and coding-focused approach. The best way to learn the material is to execute the code and experiment with it yourself. Check out the full series here:\n",
    "\n",
    "1. [PyTorch Basics: Tensors & Gradients](https://jovian.ai/aakashns/01-pytorch-basics)\n",
    "2. [Gradient Descent & Linear Regression](https://jovian.ai/aakashns/02-linear-regression)\n",
    "3. [Working with Images & Logistic Regression](https://jovian.ai/aakashns/03-logistic-regression) \n",
    "4. [Training Deep Neural Networks on a GPU](https://jovian.ai/aakashns/04-feedforward-nn)\n",
    "5. [Image Classification using Convolutional Neural Networks](https://jovian.ai/aakashns/05-cifar10-cnn)\n",
    "6. [Data Augmentation, Regularization and ResNets](https://jovian.ai/aakashns/05b-cifar10-resnet)\n",
    "7. [Generating Images using Generative Adversarial Networks](https://jovian.ai/aakashns/06b-anime-dcgan/)"
   ]
  },
  {
   "cell_type": "markdown",
   "metadata": {
    "id": "YL4niY96fTTV"
   },
   "source": [
    "This tutorial covers the following topics:\n",
    "    \n",
    "* Working with images in PyTorch (using the MNIST dataset)\n",
    "* Splitting a dataset into training, validation, and test sets\n",
    "* Creating PyTorch models with custom logic by extending the `nn.Module` class\n",
    "* Interpreting model outputs as probabilities using Softmax and picking predicted labels\n",
    "* Picking a useful evaluation metric (accuracy) and loss function (cross-entropy) for classification problems\n",
    "* Setting up a training loop that also evaluates the model using the validation set\n",
    "* Testing the model manually on randomly picked examples \n",
    "* Saving and loading model checkpoints to avoid retraining from scratch\n",
    "\n"
   ]
  },
  {
   "cell_type": "markdown",
   "metadata": {
    "id": "l8SHC9wafTTV"
   },
   "source": [
    "### How to run the code\n",
    "\n",
    "This tutorial is an executable [Jupyter notebook](https://jupyter.org) hosted on [Jovian](https://www.jovian.ai). You can _run_ this tutorial and experiment with the code examples in a couple of ways: *using free online resources* (recommended) or *on your computer*.\n",
    "\n",
    "#### Option 1: Running using free online resources (1-click, recommended)\n",
    "\n",
    "The easiest way to start executing the code is to click the **Run** button at the top of this page and select **Run on Colab**. [Google Colab](https://colab.research.google.com) is a free online platform for running Jupyter notebooks using Google's cloud infrastructure. You can also select \"Run on Binder\" or \"Run on Kaggle\" if you face issues running the notebook on Google Colab.\n",
    "\n",
    "\n",
    "#### Option 2: Running on your computer locally\n",
    "\n",
    "To run the code on your computer locally, you'll need to set up [Python](https://www.python.org), download the notebook and install the required libraries. We recommend using the [Conda](https://docs.conda.io/projects/conda/en/latest/user-guide/install/) distribution of Python. Click the **Run** button at the top of this page, select the **Run Locally** option, and follow the instructions.\n",
    "\n",
    ">  **Jupyter Notebooks**: This tutorial is a [Jupyter notebook](https://jupyter.org) - a document made of _cells_. Each cell can contain code written in Python or explanations in plain English. You can execute code cells and view the results, e.g., numbers, messages, graphs, tables, files, etc., instantly within the notebook. Jupyter is a powerful platform for experimentation and analysis. Don't be afraid to mess around with the code & break things - you'll learn a lot by encountering and fixing errors. You can use the \"Kernel > Restart & Clear Output\" or \"Edit > Clear Outputs\" menu option to clear all outputs and start again from the top."
   ]
  },
  {
   "cell_type": "markdown",
   "metadata": {
    "id": "BlizBg8UfTTV"
   },
   "source": [
    "## Working with Images\n",
    "\n",
    "In this tutorial, we'll use our existing knowledge of PyTorch and linear regression to solve a very different kind of problem: *image classification*. We'll use the famous [*MNIST Handwritten Digits Database*](http://yann.lecun.com/exdb/mnist/) as our training dataset. It consists of 28px by 28px grayscale images of handwritten digits (0 to 9) and labels for each image indicating which digit it represents. Here are some sample images from the dataset:\n",
    "\n",
    "![mnist-sample](https://i.imgur.com/CAYnuo1.jpg)"
   ]
  },
  {
   "cell_type": "markdown",
   "metadata": {
    "id": "IArll2smfTTV"
   },
   "source": [
    "We begin by installing and importing `torch` and `torchvision`. `torchvision` contains some utilities for working with image data. It also provides helper classes to download and import popular datasets like MNIST automatically"
   ]
  },
  {
   "cell_type": "code",
   "execution_count": 1,
   "metadata": {
    "executionInfo": {
     "elapsed": 1534,
     "status": "ok",
     "timestamp": 1606577825606,
     "user": {
      "displayName": "Aakash N S",
      "photoUrl": "https://lh3.googleusercontent.com/a-/AOh14GiIWFHtan62vtW1gz2Bv2bxL3rppefcadxzEVxRKQ=s64",
      "userId": "03254185060287524023"
     },
     "user_tz": -330
    },
    "id": "y_D8CGr0fTTV"
   },
   "outputs": [],
   "source": [
    "# Uncomment and run the appropriate command for your operating system, if required\n",
    "\n",
    "# Linux / Binder\n",
    "# !pip install numpy matplotlib torch==1.7.0+cpu torchvision==0.8.1+cpu torchaudio==0.7.0 -f https://download.pytorch.org/whl/torch_stable.html\n",
    "\n",
    "# Windows\n",
    "# !pip install numpy matplotlib torch==1.7.0+cpu torchvision==0.8.1+cpu torchaudio==0.7.0 -f https://download.pytorch.org/whl/torch_stable.html\n",
    "\n",
    "# MacOS\n",
    "# !pip install numpy matplotlib torch torchvision torchaudio"
   ]
  },
  {
   "cell_type": "code",
   "execution_count": 2,
   "metadata": {
    "executionInfo": {
     "elapsed": 4034,
     "status": "ok",
     "timestamp": 1606577857436,
     "user": {
      "displayName": "Aakash N S",
      "photoUrl": "https://lh3.googleusercontent.com/a-/AOh14GiIWFHtan62vtW1gz2Bv2bxL3rppefcadxzEVxRKQ=s64",
      "userId": "03254185060287524023"
     },
     "user_tz": -330
    },
    "id": "o_xViEWvfTTV"
   },
   "outputs": [],
   "source": [
    "# Imports\n",
    "import torch\n",
    "import torchvision\n",
    "from torchvision.datasets import MNIST"
   ]
  },
  {
   "cell_type": "code",
   "execution_count": 3,
   "metadata": {
    "colab": {
     "base_uri": "https://localhost:8080/",
     "height": 389,
     "referenced_widgets": [
      "d7bc8179054c448c8decb471100d8edf",
      "3e158b4f6fc045a799a5d2848b7ef224",
      "7de6379c81224840ab318d1c5dbe2573",
      "8d85fb898cc4482794a273f9f40a7716",
      "ab0c7dba3efe488e962a95f77fdff901",
      "5e3647b0ec134d6cb7c76347435756d1",
      "41db56c1758644e28cc891ed17b9111e",
      "b278158fce8d4b619f02689a2d671560",
      "c755370c4edf4661b591e61de544ad8f",
      "392aac024b8845c58ab75d00893b4e42",
      "c50520b03cd0415c931144f086b2007a",
      "4ea3550eaeab40969e6a835721528c35",
      "12d3ec215dcc4b6794e3bbdef44602ce",
      "28ef332369de4d358909a586a1743c61",
      "332d4f3a80d84f07ad997aa55afd7f45",
      "69e7677bfdb3471d925d0a3eca1df5a7",
      "b4213321d97e4f54b356d0b466253e4c",
      "0e03dd08224f4e8c9c2f8d975358cdb7",
      "90fba2e9dcee4b5eaf94776dcd05b01a",
      "ef3735b9a82347edb1c193fcc1dc1ec2",
      "b91d4ce036c24e6fb29c9e3a2914e0bd",
      "96b3cf3c2b8c41ae832e3f33dcf13453",
      "57ea6daaa8484c59b3930783d0a9cf20",
      "043acb1db455426e8f56a61d6f39b222",
      "02a48991f3f2405db5dd2968af3177bb",
      "7113a3efba564850899ad46ec33a1ce0",
      "be465e46f1fa44c69c9dd8ff2d173543",
      "ef4e2e0ed447424b8695c1a66cec0210",
      "b612c47359234c3a8d59430c65605047",
      "7ffd56bd6fdb48efb48c338dfe983bfb",
      "eab337afee944438b7e9db9a2b7fd61b",
      "876cca63cea043f99904cd7a28f67e26"
     ]
    },
    "executionInfo": {
     "elapsed": 2911,
     "status": "ok",
     "timestamp": 1606577890091,
     "user": {
      "displayName": "Aakash N S",
      "photoUrl": "https://lh3.googleusercontent.com/a-/AOh14GiIWFHtan62vtW1gz2Bv2bxL3rppefcadxzEVxRKQ=s64",
      "userId": "03254185060287524023"
     },
     "user_tz": -330
    },
    "id": "q1Skz7dlfTTV",
    "outputId": "cfc70a7f-bbb0-4c05-e160-24c0f43bc0c7"
   },
   "outputs": [
    {
     "name": "stdout",
     "output_type": "stream",
     "text": [
      "Downloading http://yann.lecun.com/exdb/mnist/train-images-idx3-ubyte.gz\n",
      "Downloading http://yann.lecun.com/exdb/mnist/train-images-idx3-ubyte.gz to data/MNIST/raw/train-images-idx3-ubyte.gz\n"
     ]
    },
    {
     "data": {
      "application/vnd.jupyter.widget-view+json": {
       "model_id": "ecf5b398b58d4d3bbb7968780f629870",
       "version_major": 2,
       "version_minor": 0
      },
      "text/plain": [
       "  0%|          | 0/9912422 [00:00<?, ?it/s]"
      ]
     },
     "metadata": {},
     "output_type": "display_data"
    },
    {
     "name": "stdout",
     "output_type": "stream",
     "text": [
      "Extracting data/MNIST/raw/train-images-idx3-ubyte.gz to data/MNIST/raw\n",
      "\n",
      "Downloading http://yann.lecun.com/exdb/mnist/train-labels-idx1-ubyte.gz\n",
      "Downloading http://yann.lecun.com/exdb/mnist/train-labels-idx1-ubyte.gz to data/MNIST/raw/train-labels-idx1-ubyte.gz\n"
     ]
    },
    {
     "data": {
      "application/vnd.jupyter.widget-view+json": {
       "model_id": "d814ee4777db40febeb1efb5a07dfe9a",
       "version_major": 2,
       "version_minor": 0
      },
      "text/plain": [
       "  0%|          | 0/28881 [00:00<?, ?it/s]"
      ]
     },
     "metadata": {},
     "output_type": "display_data"
    },
    {
     "name": "stdout",
     "output_type": "stream",
     "text": [
      "Extracting data/MNIST/raw/train-labels-idx1-ubyte.gz to data/MNIST/raw\n",
      "\n",
      "Downloading http://yann.lecun.com/exdb/mnist/t10k-images-idx3-ubyte.gz\n",
      "Downloading http://yann.lecun.com/exdb/mnist/t10k-images-idx3-ubyte.gz to data/MNIST/raw/t10k-images-idx3-ubyte.gz\n"
     ]
    },
    {
     "data": {
      "application/vnd.jupyter.widget-view+json": {
       "model_id": "e037509f5d894af9a7595a84b36cf996",
       "version_major": 2,
       "version_minor": 0
      },
      "text/plain": [
       "  0%|          | 0/1648877 [00:00<?, ?it/s]"
      ]
     },
     "metadata": {},
     "output_type": "display_data"
    },
    {
     "name": "stdout",
     "output_type": "stream",
     "text": [
      "Extracting data/MNIST/raw/t10k-images-idx3-ubyte.gz to data/MNIST/raw\n",
      "\n",
      "Downloading http://yann.lecun.com/exdb/mnist/t10k-labels-idx1-ubyte.gz\n",
      "Downloading http://yann.lecun.com/exdb/mnist/t10k-labels-idx1-ubyte.gz to data/MNIST/raw/t10k-labels-idx1-ubyte.gz\n"
     ]
    },
    {
     "data": {
      "application/vnd.jupyter.widget-view+json": {
       "model_id": "2ff7a61541e04ff98fb452328b8e934e",
       "version_major": 2,
       "version_minor": 0
      },
      "text/plain": [
       "  0%|          | 0/4542 [00:00<?, ?it/s]"
      ]
     },
     "metadata": {},
     "output_type": "display_data"
    },
    {
     "name": "stdout",
     "output_type": "stream",
     "text": [
      "Extracting data/MNIST/raw/t10k-labels-idx1-ubyte.gz to data/MNIST/raw\n",
      "\n"
     ]
    },
    {
     "name": "stderr",
     "output_type": "stream",
     "text": [
      "/opt/conda/lib/python3.9/site-packages/torchvision/datasets/mnist.py:498: UserWarning: The given NumPy array is not writeable, and PyTorch does not support non-writeable tensors. This means you can write to the underlying (supposedly non-writeable) NumPy array using the tensor. You may want to copy the array to protect its data or make it writeable before converting it to a tensor. This type of warning will be suppressed for the rest of this program. (Triggered internally at  /pytorch/torch/csrc/utils/tensor_numpy.cpp:180.)\n",
      "  return torch.from_numpy(parsed.astype(m[2], copy=False)).view(*s)\n"
     ]
    }
   ],
   "source": [
    "# Download training dataset\n",
    "dataset = MNIST(root='data/', download=True)"
   ]
  },
  {
   "cell_type": "markdown",
   "metadata": {
    "id": "Koi-fVbAfTTV"
   },
   "source": [
    "When this statement is executed for the first time, it downloads the data to the `data/` directory next to the notebook and creates a PyTorch `Dataset`. On subsequent executions, the download is skipped as the data is already downloaded. Let's check the size of the dataset."
   ]
  },
  {
   "cell_type": "code",
   "execution_count": 4,
   "metadata": {
    "colab": {
     "base_uri": "https://localhost:8080/"
    },
    "executionInfo": {
     "elapsed": 843,
     "status": "ok",
     "timestamp": 1606577913840,
     "user": {
      "displayName": "Aakash N S",
      "photoUrl": "https://lh3.googleusercontent.com/a-/AOh14GiIWFHtan62vtW1gz2Bv2bxL3rppefcadxzEVxRKQ=s64",
      "userId": "03254185060287524023"
     },
     "user_tz": -330
    },
    "id": "W9mWyKqAfTTV",
    "outputId": "c3ad6519-90c4-4584-d314-805c68cf6a7a"
   },
   "outputs": [
    {
     "data": {
      "text/plain": [
       "60000"
      ]
     },
     "execution_count": 4,
     "metadata": {},
     "output_type": "execute_result"
    }
   ],
   "source": [
    "len(dataset)"
   ]
  },
  {
   "cell_type": "markdown",
   "metadata": {
    "id": "6pRKB16NfTTW"
   },
   "source": [
    "The dataset has 60,000 images that we'll use to train the model. There is also an additional test set of 10,000 images used for evaluating models and reporting metrics in papers and reports. We can create the test dataset using the `MNIST` class by passing `train=False` to the constructor."
   ]
  },
  {
   "cell_type": "code",
   "execution_count": 5,
   "metadata": {
    "colab": {
     "base_uri": "https://localhost:8080/"
    },
    "executionInfo": {
     "elapsed": 881,
     "status": "ok",
     "timestamp": 1606577951429,
     "user": {
      "displayName": "Aakash N S",
      "photoUrl": "https://lh3.googleusercontent.com/a-/AOh14GiIWFHtan62vtW1gz2Bv2bxL3rppefcadxzEVxRKQ=s64",
      "userId": "03254185060287524023"
     },
     "user_tz": -330
    },
    "id": "zLqZQOlWfTTW",
    "outputId": "858232eb-e985-45ea-dff9-261c6e17567e"
   },
   "outputs": [
    {
     "data": {
      "text/plain": [
       "10000"
      ]
     },
     "execution_count": 5,
     "metadata": {},
     "output_type": "execute_result"
    }
   ],
   "source": [
    "test_dataset = MNIST(root='data/', train=False)\n",
    "len(test_dataset)"
   ]
  },
  {
   "cell_type": "markdown",
   "metadata": {
    "id": "bgJru-f7fTTW"
   },
   "source": [
    "Let's look at a sample element from the training dataset."
   ]
  },
  {
   "cell_type": "code",
   "execution_count": 6,
   "metadata": {
    "colab": {
     "base_uri": "https://localhost:8080/"
    },
    "executionInfo": {
     "elapsed": 748,
     "status": "ok",
     "timestamp": 1606577960430,
     "user": {
      "displayName": "Aakash N S",
      "photoUrl": "https://lh3.googleusercontent.com/a-/AOh14GiIWFHtan62vtW1gz2Bv2bxL3rppefcadxzEVxRKQ=s64",
      "userId": "03254185060287524023"
     },
     "user_tz": -330
    },
    "id": "4ZmSZeFGfTTW",
    "outputId": "f38133b3-f015-4ab9-9773-3d196e17f9a1"
   },
   "outputs": [
    {
     "name": "stdout",
     "output_type": "stream",
     "text": [
      "(<PIL.Image.Image image mode=L size=28x28 at 0x7F07007C8790>, 3)\n"
     ]
    },
    {
     "data": {
      "image/png": "[encoded data removed]",
      "text/plain": [
       "<PIL.Image.Image image mode=L size=28x28 at 0x7F07007C8580>"
      ]
     },
     "metadata": {},
     "output_type": "display_data"
    }
   ],
   "source": [
    "print(dataset[50])\n",
    "dataset[50][0].show()"
   ]
  },
  {
   "cell_type": "markdown",
   "metadata": {
    "id": "2oBdGAc4fTTX"
   },
   "source": [
    "It's a pair, consisting of a 28x28px image and a label. The image is an object of the class `PIL.Image.Image`, which is a part of the Python imaging library [Pillow](https://pillow.readthedocs.io/en/stable/). We can view the image within Jupyter using [`matplotlib`](https://matplotlib.org/), the de-facto plotting and graphing library for data science in Python."
   ]
  },
  {
   "cell_type": "code",
   "execution_count": 7,
   "metadata": {
    "executionInfo": {
     "elapsed": 769,
     "status": "ok",
     "timestamp": 1606578019026,
     "user": {
      "displayName": "Aakash N S",
      "photoUrl": "https://lh3.googleusercontent.com/a-/AOh14GiIWFHtan62vtW1gz2Bv2bxL3rppefcadxzEVxRKQ=s64",
      "userId": "03254185060287524023"
     },
     "user_tz": -330
    },
    "id": "edyBIgXPfTTX"
   },
   "outputs": [],
   "source": [
    "import matplotlib.pyplot as plt\n",
    "%matplotlib inline"
   ]
  },
  {
   "cell_type": "markdown",
   "metadata": {
    "id": "TSVQL5vJfTTX"
   },
   "source": [
    "The statement `%matplotlib inline` indicates to Jupyter that we want to plot the graphs within the notebook. Without this line, Jupyter will show the image in a popup. Statements starting with `%` are called magic commands and are used to configure the behavior of Jupyter itself. You can find a full list of magic commands here: https://ipython.readthedocs.io/en/stable/interactive/magics.html .\n",
    "\n",
    "Let's look at a couple of images from the dataset."
   ]
  },
  {
   "cell_type": "code",
   "execution_count": 8,
   "metadata": {
    "colab": {
     "base_uri": "https://localhost:8080/",
     "height": 282
    },
    "executionInfo": {
     "elapsed": 764,
     "status": "ok",
     "timestamp": 1606578085723,
     "user": {
      "displayName": "Aakash N S",
      "photoUrl": "https://lh3.googleusercontent.com/a-/AOh14GiIWFHtan62vtW1gz2Bv2bxL3rppefcadxzEVxRKQ=s64",
      "userId": "03254185060287524023"
     },
     "user_tz": -330
    },
    "id": "3cxwpTQLfTTX",
    "outputId": "0e67e177-1d1e-489e-f45e-3353d7960076"
   },
   "outputs": [
    {
     "name": "stdout",
     "output_type": "stream",
     "text": [
      "Label: 5\n"
     ]
    },
    {
     "data": {
      "image/png": "[encoded data removed]",
      "text/plain": [
       "<Figure size 432x288 with 1 Axes>"
      ]
     },
     "metadata": {
      "needs_background": "light"
     },
     "output_type": "display_data"
    }
   ],
   "source": [
    "image, label = dataset[0]\n",
    "plt.imshow(image, cmap='gray')\n",
    "print('Label:', label)"
   ]
  },
  {
   "cell_type": "markdown",
   "metadata": {
    "id": "5vO2Gh9RfTTX"
   },
   "source": [
    "It's evident that these images are relatively small in size, and recognizing the digits can sometimes be challenging even for the human eye. While it's useful to look at these images, there's just one problem here: PyTorch doesn't know how to work with images. We need to convert the images into tensors. We can do this by specifying a transform while creating our dataset."
   ]
  },
  {
   "cell_type": "code",
   "execution_count": 9,
   "metadata": {
    "executionInfo": {
     "elapsed": 757,
     "status": "ok",
     "timestamp": 1606578158015,
     "user": {
      "displayName": "Aakash N S",
      "photoUrl": "https://lh3.googleusercontent.com/a-/AOh14GiIWFHtan62vtW1gz2Bv2bxL3rppefcadxzEVxRKQ=s64",
      "userId": "03254185060287524023"
     },
     "user_tz": -330
    },
    "id": "FBnad_UDfTTX"
   },
   "outputs": [],
   "source": [
    "import torchvision.transforms as transforms"
   ]
  },
  {
   "cell_type": "markdown",
   "metadata": {
    "id": "084T0emtfTTX"
   },
   "source": [
    "PyTorch datasets allow us to specify one or more transformation functions that are applied to the images as they are loaded. The `torchvision.transforms` module contains many such predefined functions. We'll use the `ToTensor` transform to convert images into PyTorch tensors."
   ]
  },
  {
   "cell_type": "code",
   "execution_count": 10,
   "metadata": {},
   "outputs": [],
   "source": [
    "# Mert: Let's combine some transforms\n",
    "mert_transforms = transforms.Compose([\n",
    "    # transforms.ToTensor(),\n",
    "    transforms.PILToTensor(),\n",
    "    transforms.ConvertImageDtype(torch.float32),  # See the note below.\n",
    "])\n",
    "# Note: Image dtype of uint8 fails at nn.Linear model later. It'll give:\n",
    "# RuntimeError: expected scalar type Float but found Byte"
   ]
  },
  {
   "cell_type": "code",
   "execution_count": 11,
   "metadata": {
    "executionInfo": {
     "elapsed": 927,
     "status": "ok",
     "timestamp": 1606578184520,
     "user": {
      "displayName": "Aakash N S",
      "photoUrl": "https://lh3.googleusercontent.com/a-/AOh14GiIWFHtan62vtW1gz2Bv2bxL3rppefcadxzEVxRKQ=s64",
      "userId": "03254185060287524023"
     },
     "user_tz": -330
    },
    "id": "hYvBQ3LzfTTX"
   },
   "outputs": [],
   "source": [
    "# MNIST dataset (images and labels)\n",
    "dataset = MNIST(root='data/', \n",
    "                train=True,\n",
    "                transform=mert_transforms)"
   ]
  },
  {
   "cell_type": "code",
   "execution_count": 12,
   "metadata": {
    "colab": {
     "base_uri": "https://localhost:8080/"
    },
    "executionInfo": {
     "elapsed": 781,
     "status": "ok",
     "timestamp": 1606578201993,
     "user": {
      "displayName": "Aakash N S",
      "photoUrl": "https://lh3.googleusercontent.com/a-/AOh14GiIWFHtan62vtW1gz2Bv2bxL3rppefcadxzEVxRKQ=s64",
      "userId": "03254185060287524023"
     },
     "user_tz": -330
    },
    "id": "nCZ4h7jMfTTX",
    "outputId": "d182f619-8e57-4864-ec67-8f2b08c78fc7"
   },
   "outputs": [
    {
     "name": "stdout",
     "output_type": "stream",
     "text": [
      "torch.Size([1, 28, 28]) 5\n"
     ]
    }
   ],
   "source": [
    "img_tensor, label = dataset[0]\n",
    "print(img_tensor.shape, label)"
   ]
  },
  {
   "cell_type": "markdown",
   "metadata": {
    "id": "Io317DfSfTTX"
   },
   "source": [
    "The image is now converted to a 1x28x28 tensor. The first dimension tracks color channels. The second and third dimensions represent pixels along the height and width of the image, respectively. Since images in the MNIST dataset are grayscale, there's just one channel. Other datasets have images with color, in which case there are three channels: red, green, and blue (RGB). \n",
    "\n",
    "Let's look at some sample values inside the tensor."
   ]
  },
  {
   "cell_type": "code",
   "execution_count": 13,
   "metadata": {
    "colab": {
     "base_uri": "https://localhost:8080/"
    },
    "executionInfo": {
     "elapsed": 792,
     "status": "ok",
     "timestamp": 1606578295334,
     "user": {
      "displayName": "Aakash N S",
      "photoUrl": "https://lh3.googleusercontent.com/a-/AOh14GiIWFHtan62vtW1gz2Bv2bxL3rppefcadxzEVxRKQ=s64",
      "userId": "03254185060287524023"
     },
     "user_tz": -330
    },
    "id": "prZFgdtefTTX",
    "outputId": "835d4232-380d-456a-fafd-8f8474766ba0"
   },
   "outputs": [
    {
     "name": "stdout",
     "output_type": "stream",
     "text": [
      "tensor([[0.0039, 0.6039, 0.9922, 0.3529, 0.0000],\n",
      "        [0.0000, 0.5451, 0.9922, 0.7451, 0.0078],\n",
      "        [0.0000, 0.0431, 0.7451, 0.9922, 0.2745],\n",
      "        [0.0000, 0.0000, 0.1373, 0.9451, 0.8824],\n",
      "        [0.0000, 0.0000, 0.0000, 0.3176, 0.9412]])\n",
      "tensor(1.) tensor(0.)\n"
     ]
    }
   ],
   "source": [
    "print(img_tensor[0,10:15,10:15])\n",
    "print(torch.max(img_tensor), torch.min(img_tensor))"
   ]
  },
  {
   "cell_type": "markdown",
   "metadata": {
    "id": "_2HjQ5P5fTTX"
   },
   "source": [
    "The values range from 0 to 1, with `0` representing black, `1` white, and the values in between different shades of grey. We can also plot the tensor as an image using `plt.imshow`."
   ]
  },
  {
   "cell_type": "code",
   "execution_count": 14,
   "metadata": {
    "colab": {
     "base_uri": "https://localhost:8080/",
     "height": 265
    },
    "executionInfo": {
     "elapsed": 828,
     "status": "ok",
     "timestamp": 1606578335519,
     "user": {
      "displayName": "Aakash N S",
      "photoUrl": "https://lh3.googleusercontent.com/a-/AOh14GiIWFHtan62vtW1gz2Bv2bxL3rppefcadxzEVxRKQ=s64",
      "userId": "03254185060287524023"
     },
     "user_tz": -330
    },
    "id": "Fw-NvsqpfTTX",
    "outputId": "5b128f82-14dc-467b-c704-a2795dce6c72"
   },
   "outputs": [
    {
     "data": {
      "image/png": "[encoded data removed]",
      "text/plain": [
       "<Figure size 432x288 with 1 Axes>"
      ]
     },
     "metadata": {
      "needs_background": "light"
     },
     "output_type": "display_data"
    }
   ],
   "source": [
    "# Plot the image by passing in the 28x28 matrix\n",
    "plt.imshow(img_tensor[0,10:15,10:15], cmap='gray');"
   ]
  },
  {
   "cell_type": "markdown",
   "metadata": {
    "id": "WudqBr3pfTTX"
   },
   "source": [
    "Note that we need to pass just the 28x28 matrix to `plt.imshow`, without a channel dimension. We also pass a color map (`cmap=gray`) to indicate that we want to see a grayscale image."
   ]
  },
  {
   "cell_type": "markdown",
   "metadata": {
    "id": "qSKTZ8aifTTX"
   },
   "source": [
    "## Training and Validation Datasets\n",
    "\n",
    "While building real-world machine learning models, it is quite common to split the dataset into three parts:\n",
    "\n",
    "1. **Training set** - used to train the model, i.e., compute the loss and adjust the model's weights using gradient descent.\n",
    "2. **Validation set** - used to evaluate the model during training, adjust hyperparameters (learning rate, etc.), and pick the best version of the model.\n",
    "3. **Test set** - used to compare different models or approaches and report the model's final accuracy.\n",
    "\n",
    "In the MNIST dataset, there are 60,000 training images and 10,000 test images. The test set is standardized so that different researchers can report their models' results against the same collection of images. \n",
    "\n",
    "Since there's no predefined validation set, we must manually split the 60,000 images into training and validation datasets. Let's set aside 10,000 randomly chosen images for validation. We can do this using the `random_spilt` method from PyTorch."
   ]
  },
  {
   "cell_type": "code",
   "execution_count": 15,
   "metadata": {
    "colab": {
     "base_uri": "https://localhost:8080/"
    },
    "executionInfo": {
     "elapsed": 802,
     "status": "ok",
     "timestamp": 1606578530215,
     "user": {
      "displayName": "Aakash N S",
      "photoUrl": "https://lh3.googleusercontent.com/a-/AOh14GiIWFHtan62vtW1gz2Bv2bxL3rppefcadxzEVxRKQ=s64",
      "userId": "03254185060287524023"
     },
     "user_tz": -330
    },
    "id": "1dcE0OPBfTTX",
    "outputId": "be74ca6a-d40e-4ccf-cc24-ea6231a6e097"
   },
   "outputs": [
    {
     "data": {
      "text/plain": [
       "(55000, 5000)"
      ]
     },
     "execution_count": 15,
     "metadata": {},
     "output_type": "execute_result"
    }
   ],
   "source": [
    "from torch.utils.data import random_split\n",
    "\n",
    "train_ds, val_ds = random_split(\n",
    "    dataset=dataset,\n",
    "    lengths=[55000, 5000], \n",
    "    generator=torch.Generator().manual_seed(42))\n",
    "# Mert: I'll try another model later with the same split. So, seed is fixed.\n",
    "len(train_ds), len(val_ds)"
   ]
  },
  {
   "cell_type": "markdown",
   "metadata": {
    "id": "CACcvMnZfTTX"
   },
   "source": [
    "It's essential to choose a random sample for creating a validation set. Training data is often sorted by the target labels, i.e., images of 0s, followed by 1s, followed by 2s, etc. If we create a validation set using the last 20% of images, it would only consist of 8s and 9s. In contrast, the training set would contain no 8s or 9s. Such a training-validation would make it impossible to train a useful model.\n",
    "\n",
    "We can now create data loaders to help us load the data in batches. We'll use a batch size of 128.\n",
    "\n",
    "\n"
   ]
  },
  {
   "cell_type": "code",
   "execution_count": 16,
   "metadata": {
    "executionInfo": {
     "elapsed": 846,
     "status": "ok",
     "timestamp": 1606578689940,
     "user": {
      "displayName": "Aakash N S",
      "photoUrl": "https://lh3.googleusercontent.com/a-/AOh14GiIWFHtan62vtW1gz2Bv2bxL3rppefcadxzEVxRKQ=s64",
      "userId": "03254185060287524023"
     },
     "user_tz": -330
    },
    "id": "pD_oD7BTfTTX"
   },
   "outputs": [],
   "source": [
    "from torch.utils.data import DataLoader\n",
    "\n",
    "batch_size = 256\n",
    "train_loader = DataLoader(\n",
    "    dataset=train_ds,\n",
    "    batch_size=batch_size,\n",
    "    shuffle=True,\n",
    "    generator=torch.Generator().manual_seed(42))\n",
    "val_loader = DataLoader(val_ds, batch_size)"
   ]
  },
  {
   "cell_type": "markdown",
   "metadata": {
    "id": "NCtbVhkOfTTX"
   },
   "source": [
    "We set `shuffle=True` for the training data loader to ensure that the batches generated in each epoch are different. This randomization helps generalize & speed up the training process. On the other hand, since the validation data loader is used only for evaluating the model, there is ***no need to shuffle*** the images. \n"
   ]
  },
  {
   "cell_type": "markdown",
   "metadata": {
    "id": "Fy-lajKQfTTY"
   },
   "source": [
    "## Model\n",
    "\n",
    "Now that we have prepared our data loaders, we can define our model.\n",
    "\n",
    "* A **logistic regression** model is almost identical to a linear regression model. It contains weights and bias matrices, and the output is obtained using simple matrix operations (`pred = x @ w.t() + b`). \n",
    "\n",
    "* As we did with linear regression, we can use `nn.Linear` to create the model instead of manually creating and initializing the matrices.\n",
    "\n",
    "* Since `nn.Linear` expects each training example to be a vector, each `1x28x28` image tensor is _flattened_ into a vector of size 784 `(28*28)` before being passed into the model. \n",
    "\n",
    "* The output for each image is a vector of size 10, with each element signifying the probability of a particular target label (i.e., 0 to 9). The predicted label for an image is simply the one with the highest probability."
   ]
  },
  {
   "cell_type": "code",
   "execution_count": 17,
   "metadata": {},
   "outputs": [],
   "source": [
    "import torch.nn as nn"
   ]
  },
  {
   "cell_type": "code",
   "execution_count": 18,
   "metadata": {
    "executionInfo": {
     "elapsed": 1078,
     "status": "ok",
     "timestamp": 1606579070048,
     "user": {
      "displayName": "Aakash N S",
      "photoUrl": "https://lh3.googleusercontent.com/a-/AOh14GiIWFHtan62vtW1gz2Bv2bxL3rppefcadxzEVxRKQ=s64",
      "userId": "03254185060287524023"
     },
     "user_tz": -330
    },
    "id": "zzVbD7pifTTY"
   },
   "outputs": [],
   "source": [
    "input_size = 28*28\n",
    "num_classes = 10\n",
    "\n",
    "# Logistic regression model\n",
    "model = nn.Linear(in_features=input_size, out_features=num_classes)"
   ]
  },
  {
   "cell_type": "markdown",
   "metadata": {
    "id": "2ilamccMfTTY"
   },
   "source": [
    "Of course, this model is a lot larger than our previous model in terms of the number of parameters. Let's take a look at the weights and biases."
   ]
  },
  {
   "cell_type": "code",
   "execution_count": 19,
   "metadata": {
    "colab": {
     "base_uri": "https://localhost:8080/"
    },
    "executionInfo": {
     "elapsed": 765,
     "status": "ok",
     "timestamp": 1606579085171,
     "user": {
      "displayName": "Aakash N S",
      "photoUrl": "https://lh3.googleusercontent.com/a-/AOh14GiIWFHtan62vtW1gz2Bv2bxL3rppefcadxzEVxRKQ=s64",
      "userId": "03254185060287524023"
     },
     "user_tz": -330
    },
    "id": "HAj8gVdUfTTY",
    "outputId": "3569f384-390a-4555-949f-a85b79a22ed0"
   },
   "outputs": [
    {
     "name": "stdout",
     "output_type": "stream",
     "text": [
      "torch.Size([10, 784])\n"
     ]
    },
    {
     "data": {
      "text/plain": [
       "Parameter containing:\n",
       "tensor([[-3.0803e-03,  1.3085e-02, -2.4901e-02,  ..., -1.5658e-02,\n",
       "          9.9306e-05,  2.9059e-02],\n",
       "        [-4.6201e-03,  2.0726e-02,  2.4005e-03,  ...,  2.3563e-02,\n",
       "         -2.2745e-02,  4.6440e-03],\n",
       "        [ 5.4665e-03, -3.1185e-02, -9.9700e-03,  ...,  9.2763e-03,\n",
       "          2.3719e-02, -1.0417e-02],\n",
       "        ...,\n",
       "        [-2.3345e-02, -2.7524e-03,  3.3187e-02,  ...,  3.0445e-02,\n",
       "         -2.3005e-02, -2.0380e-02],\n",
       "        [-1.6303e-02,  2.0054e-02,  7.2128e-04,  ...,  7.8884e-03,\n",
       "         -1.3051e-02, -2.5730e-02],\n",
       "        [ 2.3334e-02, -6.7719e-03,  2.5029e-02,  ...,  1.1413e-02,\n",
       "         -1.2423e-02,  2.5232e-02]], requires_grad=True)"
      ]
     },
     "execution_count": 19,
     "metadata": {},
     "output_type": "execute_result"
    }
   ],
   "source": [
    "print(model.weight.shape)\n",
    "model.weight"
   ]
  },
  {
   "cell_type": "code",
   "execution_count": 20,
   "metadata": {
    "colab": {
     "base_uri": "https://localhost:8080/"
    },
    "executionInfo": {
     "elapsed": 1187,
     "status": "ok",
     "timestamp": 1606579093000,
     "user": {
      "displayName": "Aakash N S",
      "photoUrl": "https://lh3.googleusercontent.com/a-/AOh14GiIWFHtan62vtW1gz2Bv2bxL3rppefcadxzEVxRKQ=s64",
      "userId": "03254185060287524023"
     },
     "user_tz": -330
    },
    "id": "fRnviQ34fTTY",
    "outputId": "25bf0abf-427c-4079-8cc2-0d03eb6af0b2"
   },
   "outputs": [
    {
     "name": "stdout",
     "output_type": "stream",
     "text": [
      "torch.Size([10])\n"
     ]
    },
    {
     "data": {
      "text/plain": [
       "Parameter containing:\n",
       "tensor([ 0.0055,  0.0150,  0.0257,  0.0289, -0.0210,  0.0014,  0.0311, -0.0016,\n",
       "         0.0283,  0.0308], requires_grad=True)"
      ]
     },
     "execution_count": 20,
     "metadata": {},
     "output_type": "execute_result"
    }
   ],
   "source": [
    "print(model.bias.shape)\n",
    "model.bias"
   ]
  },
  {
   "cell_type": "markdown",
   "metadata": {
    "id": "Is6yNefafTTY"
   },
   "source": [
    "Although there are a total of 7850 parameters here, conceptually, nothing has changed so far. Let's try and generate some outputs using our model. We'll take the first batch of 128 images from our dataset and pass them into our model.\n",
    "\n",
    "```python\n",
    "for images, labels in train_loader:\n",
    "    print(labels)\n",
    "    print(images.shape)\n",
    "    outputs = model(images)  \n",
    "    print(outputs)\n",
    "    break\n",
    "    \n",
    "# Output:\n",
    "\n",
    "tensor([9, 8, 9, 8, 0, 4, 5, 0, 9, 3, 1, 8, 0, 0, 8, 0, 8, 4, 9, 1, 0, 9, 6, 1,\n",
    "        8, 9, 9, 4, 8, 7, 3, 4, 8, 9, 8, 7, 3, 7, 8, 2, 1, 9, 6, 4, 5, 9, 6, 5,\n",
    "        5, 8, 9, 1, 5, 0, 7, 4, 6, 7, 4, 6, 7, 3, 6, 4, 4, 2, 4, 9, 5, 7, 8, 9,\n",
    "        0, 4, 8, 2, 0, 0, 5, 6, 5, 9, 3, 6, 9, 2, 1, 4, 3, 2, 0, 9, 8, 6, 7, 6,\n",
    "        9, 9, 6, 9, 5, 2, 4, 0, 3, 3, 6, 4, 2, 8, 2, 3, 4, 4, 7, 3, 5, 9, 7, 3,\n",
    "        2, 5, 5, 3, 8, 7, 0, 1])\n",
    "torch.Size([128, 1, 28, 28])\n",
    "---------------------------------------------------------------------------\n",
    "RuntimeError                              Traceback (most recent call last)\n",
    "/tmp/ipykernel_298/2592186455.py in <module>\n",
    "      2     print(labels)\n",
    "      3     print(images.shape)\n",
    "----> 4     outputs = model(images)\n",
    "      5     print(outputs)\n",
    "      6     break\n",
    "\n",
    "/opt/conda/lib/python3.9/site-packages/torch/nn/modules/module.py in _call_impl(self, *input, **kwargs)\n",
    "   1049         if not (self._backward_hooks or self._forward_hooks or self._forward_pre_hooks or _global_backward_hooks\n",
    "   1050                 or _global_forward_hooks or _global_forward_pre_hooks):\n",
    "-> 1051             return forward_call(*input, **kwargs)\n",
    "   1052         # Do not call functions when jit is used\n",
    "   1053         full_backward_hooks, non_full_backward_hooks = [], []\n",
    "\n",
    "/opt/conda/lib/python3.9/site-packages/torch/nn/modules/linear.py in forward(self, input)\n",
    "     94 \n",
    "     95     def forward(self, input: Tensor) -> Tensor:\n",
    "---> 96         return F.linear(input, self.weight, self.bias)\n",
    "     97 \n",
    "     98     def extra_repr(self) -> str:\n",
    "\n",
    "/opt/conda/lib/python3.9/site-packages/torch/nn/functional.py in linear(input, weight, bias)\n",
    "   1845     if has_torch_function_variadic(input, weight):\n",
    "   1846         return handle_torch_function(linear, (input, weight), input, weight, bias=bias)\n",
    "-> 1847     return torch._C._nn.linear(input, weight, bias)\n",
    "   1848 \n",
    "   1849 \n",
    "\n",
    "RuntimeError: mat1 and mat2 shapes cannot be multiplied (3584x28 and 784x10)\n",
    "```\n",
    "Mert: RuntimeError is caused by dimension mismatch as seen above.\n",
    "```python\n",
    "print(images.shape)\n",
    "# Output: torch.Size([128, 1, 28, 28])\n",
    "print(images.reshape(128, 784).shape)\n",
    "# Output: torch.Size([128, 784])\n",
    "```\n",
    "\n",
    "The code above leads to an error because our input data does not have the right shape. Our images are of the shape 1x28x28, but we need them to be vectors of size 784, i.e., we need to flatten them. We'll use the `.reshape` method of a tensor, which will allow us to efficiently 'view' each image as a flat vector without really creating a copy of the underlying data. To include this additional functionality within our model, we need to define a custom model by extending the `nn.Module` class from PyTorch. \n",
    "\n",
    "A class in Python provides a \"blueprint\" for creating objects. Let's look at an example of defining a new class in Python.\n",
    "\n",
    "```python\n",
    "class Person:\n",
    "    # Class constructor\n",
    "    def __init__(self, name, age):\n",
    "        # Object properties\n",
    "        self.name = name\n",
    "        self.age = age\n",
    "    \n",
    "    # Method\n",
    "    def say_hello(self):\n",
    "        print(\"Hello my name is \" + self.name + \"!\")\n",
    "```\n",
    "Here's how we create or _instantiate_ an object of the class `Person`.\n",
    "```python\n",
    "bob = Person(\"Bob\", 32)\n",
    "```\n",
    "The object `bob` is an instance of the class `Person`. \n",
    "\n",
    "We can access the object's properties (also called attributes) or invoke its methods using the `.` notation.\n",
    "```python\n",
    "bob.name, bob.age\n",
    "# Output: ('Bob', 32)\n",
    "bob.say_hello()\n",
    "# Output: Hello my name is Bob!\n",
    "```\n",
    "You can learn more about Python classes here: https://www.w3schools.com/python/python_classes.asp .\n",
    "\n",
    "Classes can also build upon or _extend_ the functionality of existing classes. Let's extend the `nn.Module` class from PyTorch to define a custom model."
   ]
  },
  {
   "cell_type": "code",
   "execution_count": 21,
   "metadata": {
    "executionInfo": {
     "elapsed": 1083,
     "status": "ok",
     "timestamp": 1606579733133,
     "user": {
      "displayName": "Aakash N S",
      "photoUrl": "https://lh3.googleusercontent.com/a-/AOh14GiIWFHtan62vtW1gz2Bv2bxL3rppefcadxzEVxRKQ=s64",
      "userId": "03254185060287524023"
     },
     "user_tz": -330
    },
    "id": "c2HWol7qfTTY"
   },
   "outputs": [],
   "source": [
    "class MnistModel(nn.Module):\n",
    "    def __init__(self):\n",
    "        super().__init__()\n",
    "        self.linear = nn.Linear(input_size, num_classes)\n",
    "        \n",
    "    def forward(self, xb):\n",
    "        xb = xb.reshape(-1, 784)\n",
    "        out = self.linear(xb)\n",
    "        return out\n",
    "    \n",
    "model = MnistModel()"
   ]
  },
  {
   "cell_type": "markdown",
   "metadata": {
    "id": "mZKn3GBFfTTY"
   },
   "source": [
    "Inside the `__init__` constructor method, we instantiate the weights and biases using `nn.Linear`. And inside the `forward` method, which is invoked when we pass a batch of inputs to the model, we flatten the input tensor and pass it into `self.linear`.\n",
    "\n",
    "`xb.reshape(-1, 28*28)` indicates to PyTorch that we want a *view* of the `xb` tensor with two dimensions. The length along the 2nd dimension is 28\\*28 (i.e., 784). One argument to `.reshape` can be set to `-1` (in this case, the first dimension) to let PyTorch figure it out automatically based on the shape of the original tensor.\n",
    "\n",
    "Note that the model no longer has `.weight` and `.bias` attributes (as they are now inside the `.linear` attribute), but it does have a `.parameters` method that returns a list containing the weights and bias."
   ]
  },
  {
   "cell_type": "code",
   "execution_count": 22,
   "metadata": {
    "colab": {
     "base_uri": "https://localhost:8080/"
    },
    "executionInfo": {
     "elapsed": 887,
     "status": "ok",
     "timestamp": 1606579744253,
     "user": {
      "displayName": "Aakash N S",
      "photoUrl": "https://lh3.googleusercontent.com/a-/AOh14GiIWFHtan62vtW1gz2Bv2bxL3rppefcadxzEVxRKQ=s64",
      "userId": "03254185060287524023"
     },
     "user_tz": -330
    },
    "id": "voZF2M_3nVnI",
    "outputId": "1feeba1e-2ad7-4d32-9eb6-56e12f587a51"
   },
   "outputs": [
    {
     "data": {
      "text/plain": [
       "Linear(in_features=784, out_features=10, bias=True)"
      ]
     },
     "execution_count": 22,
     "metadata": {},
     "output_type": "execute_result"
    }
   ],
   "source": [
    "model.linear"
   ]
  },
  {
   "cell_type": "code",
   "execution_count": 23,
   "metadata": {
    "colab": {
     "base_uri": "https://localhost:8080/"
    },
    "executionInfo": {
     "elapsed": 751,
     "status": "ok",
     "timestamp": 1606579783293,
     "user": {
      "displayName": "Aakash N S",
      "photoUrl": "https://lh3.googleusercontent.com/a-/AOh14GiIWFHtan62vtW1gz2Bv2bxL3rppefcadxzEVxRKQ=s64",
      "userId": "03254185060287524023"
     },
     "user_tz": -330
    },
    "id": "JciejPo9fTTY",
    "outputId": "c3ea0a15-d0bb-4d44-f755-1d1ad4fe50ff"
   },
   "outputs": [
    {
     "name": "stdout",
     "output_type": "stream",
     "text": [
      "torch.Size([10, 784]) torch.Size([10])\n"
     ]
    }
   ],
   "source": [
    "print(model.linear.weight.shape, model.linear.bias.shape)"
   ]
  },
  {
   "cell_type": "code",
   "execution_count": 24,
   "metadata": {},
   "outputs": [
    {
     "data": {
      "text/plain": [
       "[Parameter containing:\n",
       " tensor([[-0.0032, -0.0154,  0.0137,  ..., -0.0134,  0.0019, -0.0152],\n",
       "         [ 0.0069, -0.0312, -0.0262,  ...,  0.0080,  0.0295,  0.0022],\n",
       "         [ 0.0118, -0.0295,  0.0239,  ...,  0.0178,  0.0124,  0.0097],\n",
       "         ...,\n",
       "         [-0.0147, -0.0159, -0.0047,  ..., -0.0252,  0.0222, -0.0065],\n",
       "         [-0.0147,  0.0237,  0.0090,  ...,  0.0109, -0.0244,  0.0006],\n",
       "         [-0.0131,  0.0265, -0.0251,  ..., -0.0051, -0.0133, -0.0266]],\n",
       "        requires_grad=True),\n",
       " Parameter containing:\n",
       " tensor([-0.0063, -0.0026,  0.0039, -0.0020, -0.0092,  0.0102,  0.0293, -0.0109,\n",
       "          0.0064, -0.0242], requires_grad=True)]"
      ]
     },
     "execution_count": 24,
     "metadata": {},
     "output_type": "execute_result"
    }
   ],
   "source": [
    "# Mert: This method gives all the parameters of the entire model (both w & b)\n",
    "list(model.parameters())"
   ]
  },
  {
   "cell_type": "markdown",
   "metadata": {
    "id": "nGvgCQn2fTTY"
   },
   "source": [
    "We can use our new custom model in the same way as before. Let's see if it works."
   ]
  },
  {
   "cell_type": "code",
   "execution_count": 25,
   "metadata": {
    "colab": {
     "base_uri": "https://localhost:8080/"
    },
    "executionInfo": {
     "elapsed": 962,
     "status": "ok",
     "timestamp": 1606579874350,
     "user": {
      "displayName": "Aakash N S",
      "photoUrl": "https://lh3.googleusercontent.com/a-/AOh14GiIWFHtan62vtW1gz2Bv2bxL3rppefcadxzEVxRKQ=s64",
      "userId": "03254185060287524023"
     },
     "user_tz": -330
    },
    "id": "HJ6FGOvYfTTZ",
    "outputId": "f016f9d4-ebba-401f-edff-e7b951f065eb"
   },
   "outputs": [
    {
     "name": "stdout",
     "output_type": "stream",
     "text": [
      "Shape of the batch: torch.Size([256, 1, 28, 28])\n",
      "outputs.shape :  torch.Size([256, 10]) \n",
      "\n",
      "Two sample outputs :\n",
      " tensor([[-0.3685, -0.2348,  0.0323,  0.1671,  0.1553,  0.0622, -0.1446, -0.1357,\n",
      "         -0.1620, -0.1661],\n",
      "        [-0.0647,  0.0513,  0.0774, -0.0145,  0.1250,  0.0802, -0.2663, -0.0078,\n",
      "         -0.1079, -0.0852]])\n"
     ]
    }
   ],
   "source": [
    "for images, labels in train_loader:\n",
    "    print(\"Shape of the batch:\", images.shape)\n",
    "    outputs = model(images)\n",
    "    print('outputs.shape : ', outputs.shape, \"\\n\")\n",
    "    print('Two sample outputs :\\n', outputs[:2].data)\n",
    "    break"
   ]
  },
  {
   "cell_type": "markdown",
   "metadata": {
    "id": "9v407S1jfTTZ"
   },
   "source": [
    "For each of the 128 input images, we get 10 outputs, one for each class. As discussed earlier, we'd like these outputs to represent probabilities. Each output row's elements must lie between 0 to 1 and add up to 1, which is not the case. \n",
    "\n",
    "To convert the output rows into probabilities, we use the softmax function, which has the following formula:\n",
    "\n",
    "![softmax](https://i.imgur.com/EAh9jLN.png)\n",
    "\n",
    "First, we replace each element $\\large y_i$ in an output row by $\\large e^{y_i}$, making all the elements positive. \n",
    "\n",
    "![](https://www.montereyinstitute.org/courses/DevelopmentalMath/COURSE_TEXT2_RESOURCE/U18_L1_T1_text_final_6_files/image001.png)\n",
    "\n",
    "\n",
    "\n",
    "Then, we divide them by their sum to ensure that they add up to 1. The resulting vector can thus be interpreted as probabilities.\n",
    "\n",
    "While it's easy to implement the softmax function (you should try it!), we'll use the implementation that's provided within PyTorch because it works well with multidimensional tensors (a list of output rows in our case)."
   ]
  },
  {
   "cell_type": "code",
   "execution_count": 26,
   "metadata": {
    "executionInfo": {
     "elapsed": 781,
     "status": "ok",
     "timestamp": 1606580126906,
     "user": {
      "displayName": "Aakash N S",
      "photoUrl": "https://lh3.googleusercontent.com/a-/AOh14GiIWFHtan62vtW1gz2Bv2bxL3rppefcadxzEVxRKQ=s64",
      "userId": "03254185060287524023"
     },
     "user_tz": -330
    },
    "id": "Wc7d6WD0fTTZ"
   },
   "outputs": [],
   "source": [
    "import torch.nn.functional as F"
   ]
  },
  {
   "cell_type": "markdown",
   "metadata": {
    "id": "FbYF4auWfTTZ"
   },
   "source": [
    "The softmax function is included in the `torch.nn.functional` package and requires us to specify a dimension along which the function should be applied."
   ]
  },
  {
   "cell_type": "code",
   "execution_count": 27,
   "metadata": {
    "colab": {
     "base_uri": "https://localhost:8080/"
    },
    "executionInfo": {
     "elapsed": 927,
     "status": "ok",
     "timestamp": 1606580181438,
     "user": {
      "displayName": "Aakash N S",
      "photoUrl": "https://lh3.googleusercontent.com/a-/AOh14GiIWFHtan62vtW1gz2Bv2bxL3rppefcadxzEVxRKQ=s64",
      "userId": "03254185060287524023"
     },
     "user_tz": -330
    },
    "id": "C3neZ1YGfTTZ",
    "outputId": "4e499c5c-6c61-40f0-f05b-6f8d46f0e61a"
   },
   "outputs": [
    {
     "name": "stdout",
     "output_type": "stream",
     "text": [
      "Sample logit values and their corresponding probabilities:\n",
      "-0.3685 ~~~ 0.0739\n",
      "-0.2348 ~~~ 0.0844\n",
      "0.0323 ~~~ 0.1103\n",
      "0.1671 ~~~ 0.1262\n",
      "0.1553 ~~~ 0.1247\n",
      "0.0622 ~~~ 0.1136\n",
      "-0.1446 ~~~ 0.0924\n",
      "-0.1357 ~~~ 0.0932\n",
      "-0.1620 ~~~ 0.0908\n",
      "-0.1661 ~~~ 0.0904\n",
      "\n",
      "Sum of the probabilities:  1.0\n"
     ]
    }
   ],
   "source": [
    "# Mert: Edited a little.\n",
    "# Apply softmax for each output row\n",
    "probs = F.softmax(input=outputs, dim=1)\n",
    "\n",
    "# Observe the sample logit (pre-activation) values & probabilities\n",
    "print(\"Sample logit values and their corresponding probabilities:\")\n",
    "for logit, prob in zip(outputs[0].data, probs[0].data):\n",
    "    print(f\"{logit.item():.4f} ~~~ {prob.item():.4f}\")\n",
    "\n",
    "# Add up the probabilities of an output row\n",
    "print(\"\\nSum of the probabilities: \", torch.sum(probs[0]).item())"
   ]
  },
  {
   "cell_type": "markdown",
   "metadata": {
    "id": "k2cgqWGVfTTZ"
   },
   "source": [
    "Finally, we can determine the predicted label for each image by simply choosing the index of the element with the highest probability in each output row. We can do this using `torch.max`, which returns each row's largest element and the corresponding index."
   ]
  },
  {
   "cell_type": "code",
   "execution_count": 28,
   "metadata": {
    "colab": {
     "base_uri": "https://localhost:8080/"
    },
    "executionInfo": {
     "elapsed": 1108,
     "status": "ok",
     "timestamp": 1606580284840,
     "user": {
      "displayName": "Aakash N S",
      "photoUrl": "https://lh3.googleusercontent.com/a-/AOh14GiIWFHtan62vtW1gz2Bv2bxL3rppefcadxzEVxRKQ=s64",
      "userId": "03254185060287524023"
     },
     "user_tz": -330
    },
    "id": "1o9a4hAufTTZ",
    "outputId": "ffe611f9-df20-4bbc-fb1c-6178faac90cc"
   },
   "outputs": [
    {
     "name": "stdout",
     "output_type": "stream",
     "text": [
      "tensor([3, 4, 3, 2, 4, 3, 4, 5, 2, 3, 2, 5, 1, 3, 3, 4, 3, 3, 3, 3, 8, 7, 8, 2,\n",
      "        1, 3, 3, 1, 3, 8, 3, 9, 4, 4, 5, 4, 2, 3, 3, 3, 3, 9, 3, 2, 3, 3, 4, 8,\n",
      "        1, 5, 1, 3, 2, 3, 4, 3, 8, 4, 2, 6, 3, 5, 8, 8, 2, 3, 3, 8, 8, 3, 8, 2,\n",
      "        7, 5, 5, 8, 4, 1, 2, 3, 4, 7, 4, 1, 3, 5, 2, 0, 3, 2, 1, 5, 3, 8, 3, 8,\n",
      "        5, 2, 8, 3, 3, 3, 3, 5, 8, 1, 3, 8, 2, 2, 2, 5, 3, 2, 2, 3, 3, 8, 2, 2,\n",
      "        1, 3, 4, 3, 3, 3, 3, 5, 3, 2, 5, 3, 5, 3, 3, 3, 3, 3, 7, 3, 2, 3, 7, 2,\n",
      "        3, 3, 3, 8, 3, 7, 4, 2, 3, 2, 3, 2, 1, 2, 5, 2, 2, 2, 3, 1, 7, 3, 2, 3,\n",
      "        4, 2, 3, 8, 3, 2, 2, 2, 5, 3, 3, 4, 3, 8, 1, 3, 3, 5, 4, 3, 3, 2, 3, 1,\n",
      "        8, 8, 3, 5, 6, 5, 8, 7, 3, 5, 5, 3, 3, 3, 4, 3, 8, 3, 3, 2, 7, 1, 3, 4,\n",
      "        3, 8, 3, 8, 4, 2, 7, 2, 3, 3, 3, 3, 4, 8, 3, 1, 2, 2, 2, 3, 2, 2, 3, 3,\n",
      "        3, 5, 3, 3, 3, 3, 8, 1, 8, 5, 4, 1, 2, 8, 5, 5])\n",
      "tensor([0.1262, 0.1151, 0.1276, 0.1233, 0.1282, 0.1250, 0.1184, 0.1462, 0.1327,\n",
      "        0.1234, 0.1241, 0.1239, 0.1310, 0.1410, 0.1387, 0.1198, 0.1353, 0.1402,\n",
      "        0.1392, 0.1338, 0.1200, 0.1323, 0.1294, 0.1406, 0.1293, 0.1475, 0.1202,\n",
      "        0.1269, 0.1355, 0.1331, 0.1228, 0.1187, 0.1363, 0.1298, 0.1209, 0.1324,\n",
      "        0.1385, 0.1247, 0.1606, 0.1132, 0.1271, 0.1276, 0.1245, 0.1389, 0.1253,\n",
      "        0.1225, 0.1323, 0.1310, 0.1194, 0.1549, 0.1587, 0.1227, 0.1162, 0.1368,\n",
      "        0.1233, 0.1429, 0.1330, 0.1287, 0.1266, 0.1255, 0.1549, 0.1268, 0.1360,\n",
      "        0.1243, 0.1222, 0.1373, 0.1499, 0.1382, 0.1209, 0.1205, 0.1220, 0.1223,\n",
      "        0.1141, 0.1254, 0.1200, 0.1272, 0.1215, 0.1480, 0.1177, 0.1351, 0.1298,\n",
      "        0.1308, 0.1514, 0.1339, 0.1342, 0.1351, 0.1276, 0.1228, 0.1187, 0.1180,\n",
      "        0.1351, 0.1261, 0.1401, 0.1224, 0.1186, 0.1560, 0.1196, 0.1369, 0.1439,\n",
      "        0.1329, 0.1410, 0.1454, 0.1390, 0.1156, 0.1279, 0.1252, 0.1316, 0.1202,\n",
      "        0.1337, 0.1194, 0.1469, 0.1236, 0.1318, 0.1282, 0.1382, 0.1538, 0.1299,\n",
      "        0.1387, 0.1559, 0.1285, 0.1355, 0.1236, 0.1249, 0.1339, 0.1328, 0.1212,\n",
      "        0.1421, 0.1374, 0.1728, 0.1364, 0.1264, 0.1326, 0.1317, 0.1417, 0.1295,\n",
      "        0.1453, 0.1404, 0.1265, 0.1319, 0.1272, 0.1487, 0.1287, 0.1282, 0.1283,\n",
      "        0.1171, 0.1312, 0.1440, 0.1299, 0.1492, 0.1329, 0.1236, 0.1224, 0.1238,\n",
      "        0.1239, 0.1230, 0.1251, 0.1196, 0.1452, 0.1335, 0.1321, 0.1158, 0.1291,\n",
      "        0.1286, 0.1298, 0.1213, 0.1246, 0.1523, 0.1337, 0.1274, 0.1457, 0.1327,\n",
      "        0.1314, 0.1217, 0.1341, 0.1251, 0.1283, 0.1268, 0.1441, 0.1406, 0.1216,\n",
      "        0.1193, 0.1225, 0.1158, 0.1383, 0.1298, 0.1462, 0.1296, 0.1218, 0.1440,\n",
      "        0.1197, 0.1653, 0.1197, 0.1376, 0.1360, 0.1764, 0.1428, 0.1189, 0.1175,\n",
      "        0.1104, 0.1308, 0.1354, 0.1369, 0.1197, 0.1613, 0.1370, 0.1394, 0.1269,\n",
      "        0.1410, 0.1241, 0.1470, 0.1202, 0.1302, 0.1293, 0.1189, 0.1283, 0.1081,\n",
      "        0.1294, 0.1652, 0.1276, 0.1268, 0.1299, 0.1467, 0.1492, 0.1463, 0.1250,\n",
      "        0.1167, 0.1336, 0.1391, 0.1420, 0.1419, 0.1189, 0.1181, 0.1247, 0.1310,\n",
      "        0.1315, 0.1309, 0.1285, 0.1172, 0.1408, 0.1597, 0.1250, 0.1301, 0.1311,\n",
      "        0.1446, 0.1240, 0.1326, 0.1211, 0.1230, 0.1170, 0.1341, 0.1187, 0.1342,\n",
      "        0.1240, 0.1357, 0.1359, 0.1302], grad_fn=<MaxBackward0>)\n"
     ]
    }
   ],
   "source": [
    "max_probs, preds = torch.max(probs, dim=1)\n",
    "print(preds)\n",
    "print(max_probs)"
   ]
  },
  {
   "cell_type": "markdown",
   "metadata": {
    "id": "IGvKME9WfTTZ"
   },
   "source": [
    "The numbers printed above are the predicted labels for the first batch of training images. Let's compare them with the actual labels."
   ]
  },
  {
   "cell_type": "code",
   "execution_count": 29,
   "metadata": {
    "colab": {
     "base_uri": "https://localhost:8080/"
    },
    "executionInfo": {
     "elapsed": 810,
     "status": "ok",
     "timestamp": 1606580329683,
     "user": {
      "displayName": "Aakash N S",
      "photoUrl": "https://lh3.googleusercontent.com/a-/AOh14GiIWFHtan62vtW1gz2Bv2bxL3rppefcadxzEVxRKQ=s64",
      "userId": "03254185060287524023"
     },
     "user_tz": -330
    },
    "id": "TsT85mhffTTZ",
    "outputId": "bc61f2f3-3213-4538-9733-579ac3cd8cef"
   },
   "outputs": [
    {
     "data": {
      "text/plain": [
       "tensor([1, 7, 2, 7, 9, 3, 5, 8, 8, 1, 2, 4, 2, 2, 9, 4, 9, 4, 0, 6, 9, 4, 2, 7,\n",
       "        6, 1, 7, 0, 3, 3, 0, 0, 5, 8, 7, 8, 0, 1, 3, 7, 7, 2, 6, 3, 4, 9, 9, 0,\n",
       "        7, 3, 0, 3, 5, 4, 5, 7, 8, 7, 6, 0, 2, 2, 3, 5, 2, 6, 2, 2, 9, 0, 0, 4,\n",
       "        7, 6, 4, 8, 1, 0, 4, 7, 9, 2, 9, 0, 6, 4, 6, 3, 7, 8, 6, 0, 3, 0, 0, 6,\n",
       "        6, 3, 4, 0, 7, 5, 7, 1, 6, 8, 1, 9, 5, 9, 4, 1, 6, 9, 4, 0, 1, 3, 5, 4,\n",
       "        0, 1, 7, 9, 1, 6, 7, 1, 2, 4, 9, 8, 2, 7, 6, 2, 7, 6, 8, 1, 4, 3, 5, 5,\n",
       "        9, 1, 1, 6, 6, 3, 5, 9, 6, 4, 7, 5, 3, 6, 7, 8, 7, 0, 6, 5, 2, 8, 9, 3,\n",
       "        9, 5, 2, 9, 6, 4, 0, 9, 6, 3, 0, 2, 6, 6, 9, 1, 3, 4, 7, 6, 1, 9, 9, 5,\n",
       "        5, 3, 2, 6, 0, 7, 8, 1, 6, 6, 5, 6, 1, 0, 9, 6, 6, 7, 7, 9, 3, 8, 1, 1,\n",
       "        2, 5, 1, 4, 9, 9, 8, 0, 5, 0, 8, 4, 9, 5, 1, 4, 9, 5, 4, 2, 4, 1, 2, 1,\n",
       "        1, 3, 1, 5, 1, 7, 9, 8, 5, 7, 9, 9, 3, 9, 3, 1])"
      ]
     },
     "execution_count": 29,
     "metadata": {},
     "output_type": "execute_result"
    }
   ],
   "source": [
    "labels"
   ]
  },
  {
   "cell_type": "markdown",
   "metadata": {
    "id": "8AFZgI8SfTTZ"
   },
   "source": [
    "Most of the predicted labels are different from the actual labels. That's because we have started with randomly initialized weights and biases. We need to train the model, i.e., adjust the weights using gradient descent to make better predictions."
   ]
  },
  {
   "cell_type": "markdown",
   "metadata": {
    "id": "FegT9vhlfTTZ"
   },
   "source": [
    "## Evaluation Metric and Loss Function"
   ]
  },
  {
   "cell_type": "markdown",
   "metadata": {
    "id": "MSiZ3KtqfTTZ"
   },
   "source": [
    "Just as with linear regression, we need a way to evaluate how well our model is performing. A natural way to do this would be to find the percentage of labels that were predicted correctly, i.e,. the **accuracy** of the predictions. "
   ]
  },
  {
   "cell_type": "code",
   "execution_count": 30,
   "metadata": {
    "colab": {
     "base_uri": "https://localhost:8080/"
    },
    "executionInfo": {
     "elapsed": 721,
     "status": "ok",
     "timestamp": 1606580492350,
     "user": {
      "displayName": "Aakash N S",
      "photoUrl": "https://lh3.googleusercontent.com/a-/AOh14GiIWFHtan62vtW1gz2Bv2bxL3rppefcadxzEVxRKQ=s64",
      "userId": "03254185060287524023"
     },
     "user_tz": -330
    },
    "id": "hHgMnCL4qGDt",
    "outputId": "90f55abc-6496-46bf-faaf-edf7fe22fac8"
   },
   "outputs": [
    {
     "data": {
      "text/plain": [
       "tensor(17)"
      ]
     },
     "execution_count": 30,
     "metadata": {},
     "output_type": "execute_result"
    }
   ],
   "source": [
    "torch.sum(preds == labels)  # Mert: Sums the True values."
   ]
  },
  {
   "cell_type": "code",
   "execution_count": 31,
   "metadata": {
    "executionInfo": {
     "elapsed": 967,
     "status": "ok",
     "timestamp": 1606580510348,
     "user": {
      "displayName": "Aakash N S",
      "photoUrl": "https://lh3.googleusercontent.com/a-/AOh14GiIWFHtan62vtW1gz2Bv2bxL3rppefcadxzEVxRKQ=s64",
      "userId": "03254185060287524023"
     },
     "user_tz": -330
    },
    "id": "11hDOTR1fTTZ"
   },
   "outputs": [],
   "source": [
    "def accuracy(outputs, labels):\n",
    "    _, preds = torch.max(outputs, dim=1)\n",
    "    return torch.tensor(torch.sum(preds == labels).item() / len(preds))"
   ]
  },
  {
   "cell_type": "markdown",
   "metadata": {
    "id": "E258dVOUfTTZ"
   },
   "source": [
    "The `==` operator performs an element-wise comparison of two tensors with the same shape and returns a tensor of the same shape, containing `True` for unequal elements and `False` for equal elements. Passing the result to `torch.sum` returns the number of labels that were predicted correctly. Finally, we divide by the total number of images to get the accuracy. \n",
    "\n",
    "Note that we don't need to apply softmax to the outputs since its results have the same relative order. This is because $\\large e^x$ is an increasing function, i.e., if $\\large y_1 > y_2$, then $\\large e^{y_1} > e^{y_2}$. The same holds after averaging out the values to get the softmax.\n",
    "\n",
    "Let's calculate the accuracy of the current model on the first batch of data. "
   ]
  },
  {
   "cell_type": "code",
   "execution_count": 32,
   "metadata": {
    "colab": {
     "base_uri": "https://localhost:8080/"
    },
    "executionInfo": {
     "elapsed": 1247,
     "status": "ok",
     "timestamp": 1606580523641,
     "user": {
      "displayName": "Aakash N S",
      "photoUrl": "https://lh3.googleusercontent.com/a-/AOh14GiIWFHtan62vtW1gz2Bv2bxL3rppefcadxzEVxRKQ=s64",
      "userId": "03254185060287524023"
     },
     "user_tz": -330
    },
    "id": "HwVAxpZXfTTZ",
    "outputId": "d7a56d59-a6b9-4209-c7f3-fba67d0b268c"
   },
   "outputs": [
    {
     "data": {
      "text/plain": [
       "tensor(0.0664)"
      ]
     },
     "execution_count": 32,
     "metadata": {},
     "output_type": "execute_result"
    }
   ],
   "source": [
    "accuracy(outputs, labels)"
   ]
  },
  {
   "cell_type": "markdown",
   "metadata": {
    "id": "Te7ORtqVfTTZ"
   },
   "source": [
    "Accuracy is an excellent way for us (humans) to evaluate the model. However, we can't use it as a loss function for optimizing our model using gradient descent for the following reasons:\n",
    "\n",
    "1. It's not a differentiable function. `torch.max` and `==` are both non-continuous and non-differentiable operations, so we can't use the accuracy for computing gradients w.r.t the weights and biases.\n",
    "\n",
    "2. It doesn't take into account the actual probabilities predicted by the model, so it can't provide sufficient feedback for incremental improvements. \n",
    "\n",
    "For these reasons, accuracy is often used as an **evaluation metric** for classification, but not as a loss function. A commonly used loss function for classification problems is the **cross-entropy**, which has the following formula:\n",
    "\n",
    "![cross-entropy](https://i.imgur.com/VDRDl1D.png)\n",
    "\n",
    "While it looks complicated, it's actually quite simple:\n",
    "\n",
    "* For each output row, pick the predicted probability for the correct label. E.g., if the predicted probabilities for an image are `[0.1, 0.3, 0.2, ...]` and the correct label is `1`, we pick the corresponding element `0.3` and ignore the rest.\n",
    "\n",
    "* Then, take the [logarithm](https://en.wikipedia.org/wiki/Logarithm) of the picked probability. If the probability is high, i.e., close to 1, then its logarithm is a very small negative value, close to 0. And if the probability is low (close to 0), then the logarithm is a very large negative value. We also multiply the result by -1, which results is a large positive value of the loss for poor predictions.\n",
    "\n",
    "![](https://www.intmath.com/blog/wp-content/images/2019/05/log10.png)\n",
    "\n",
    "* Finally, take the average of the cross entropy across all the output rows to get the overall loss for a batch of data.\n",
    "\n",
    "Unlike accuracy, cross-entropy is a continuous and differentiable function. It also provides useful feedback for incremental improvements in the model (a slightly higher probability for the correct label leads to a lower loss). These two factors make cross-entropy a better choice for the loss function.\n",
    "\n",
    "As you might expect, PyTorch provides an efficient and tensor-friendly implementation of cross-entropy as part of the `torch.nn.functional` package. Moreover, ***it also performs softmax internally***, so we can directly pass in the model's outputs without converting them into probabilities."
   ]
  },
  {
   "cell_type": "code",
   "execution_count": 33,
   "metadata": {
    "executionInfo": {
     "elapsed": 804,
     "status": "ok",
     "timestamp": 1606580980198,
     "user": {
      "displayName": "Aakash N S",
      "photoUrl": "https://lh3.googleusercontent.com/a-/AOh14GiIWFHtan62vtW1gz2Bv2bxL3rppefcadxzEVxRKQ=s64",
      "userId": "03254185060287524023"
     },
     "user_tz": -330
    },
    "id": "OqWUQpANfTTZ"
   },
   "outputs": [],
   "source": [
    "loss_fn = F.cross_entropy"
   ]
  },
  {
   "cell_type": "code",
   "execution_count": 34,
   "metadata": {
    "colab": {
     "base_uri": "https://localhost:8080/"
    },
    "executionInfo": {
     "elapsed": 1109,
     "status": "ok",
     "timestamp": 1606580980798,
     "user": {
      "displayName": "Aakash N S",
      "photoUrl": "https://lh3.googleusercontent.com/a-/AOh14GiIWFHtan62vtW1gz2Bv2bxL3rppefcadxzEVxRKQ=s64",
      "userId": "03254185060287524023"
     },
     "user_tz": -330
    },
    "id": "SuESG0hbfTTZ",
    "outputId": "10804014-e2d7-4b7c-c56d-b56761ffb464"
   },
   "outputs": [
    {
     "name": "stdout",
     "output_type": "stream",
     "text": [
      "tensor(2.3611, grad_fn=<NllLossBackward>)\n"
     ]
    }
   ],
   "source": [
    "# Loss for current batch of data\n",
    "loss = loss_fn(\n",
    "    input=outputs,  # Mert: 'preds' doesn't work. See the note below.\n",
    "    target=labels)\n",
    "print(loss)"
   ]
  },
  {
   "cell_type": "markdown",
   "metadata": {},
   "source": [
    "**Mert's Note:**<br>\n",
    "From [torch.nn.functional.cross_entropy](https://pytorch.org/docs/stable/generated/torch.nn.functional.cross_entropy.html#torch.nn.functional.cross_entropy),<br>\n",
    "`input`: _input is expected to contain unnormalized scores (often referred to as logits)._<br>\n",
    "`target`: _If containing class probabilities, same shape as the input._"
   ]
  },
  {
   "cell_type": "markdown",
   "metadata": {
    "id": "wFOtpxUqfTTZ"
   },
   "source": [
    "We know that cross-entropy is the negative logarithm of the predicted probability of the correct label averaged over all training samples. Therefore, one way to interpret the resulting number e.g. $2.23$ is look at $\\large e^{-2.23}$ which is around $0.1$ as the predicted probability of the correct label, on average. *The lower the loss, The better the model.*"
   ]
  },
  {
   "cell_type": "markdown",
   "metadata": {
    "id": "hTgl76MgfTTZ"
   },
   "source": [
    "## Training the model\n",
    "\n",
    "Now that we have defined the data loaders, model, loss function and optimizer, we are ready to train the model. The training process is identical to linear regression, with the addition of a \"validation phase\" to evaluate the model in each epoch. Here's what it looks like in pseudocode:\n",
    "\n",
    "```\n",
    "for epoch in range(num_epochs):\n",
    "    # Training phase\n",
    "    for batch in train_loader:\n",
    "        # Generate predictions\n",
    "        # Calculate loss\n",
    "        # Compute gradients\n",
    "        # Update weights\n",
    "        # Reset gradients\n",
    "    \n",
    "    # Validation phase\n",
    "    for batch in val_loader:\n",
    "        # Generate predictions\n",
    "        # Calculate loss\n",
    "        # Calculate metrics (accuracy etc.)\n",
    "    # Calculate average validation loss & metrics\n",
    "    \n",
    "    # Log epoch, loss & metrics for inspection\n",
    "```\n",
    "\n",
    "Some parts of the training loop are specific the specific problem we're solving (e.g. loss function, metrics etc.) whereas others are generic and can be applied to any deep learning problem. \n",
    "\n",
    "We'll include the problem-independent parts within a function called `fit`, which will be used to train the model. The problem-specific parts will be implemented by adding new methods to the `nn.Module` class.\n",
    "\n"
   ]
  },
  {
   "cell_type": "code",
   "execution_count": 35,
   "metadata": {
    "executionInfo": {
     "elapsed": 845,
     "status": "ok",
     "timestamp": 1606581529307,
     "user": {
      "displayName": "Aakash N S",
      "photoUrl": "https://lh3.googleusercontent.com/a-/AOh14GiIWFHtan62vtW1gz2Bv2bxL3rppefcadxzEVxRKQ=s64",
      "userId": "03254185060287524023"
     },
     "user_tz": -330
    },
    "id": "1cv7a7ukfTTZ"
   },
   "outputs": [],
   "source": [
    "def fit(epochs, lr, model, train_loader, val_loader, opt_func=torch.optim.SGD):\n",
    "    optimizer = opt_func(params=model.parameters(), lr=lr)\n",
    "    history = [] # for recording epoch-wise results\n",
    "    for epoch in range(epochs):\n",
    "        # Training Phase\n",
    "        for batch in train_loader:\n",
    "            loss = model.training_step(batch)\n",
    "            loss.backward()\n",
    "            optimizer.step()\n",
    "            optimizer.zero_grad()\n",
    "        # Validation phase\n",
    "        val_result = evaluate(model, val_loader)\n",
    "        model.epoch_end(epoch, val_result)\n",
    "        history.append(val_result)\n",
    "    return history"
   ]
  },
  {
   "cell_type": "markdown",
   "metadata": {
    "id": "TAuhlro7fTTZ"
   },
   "source": [
    "The `fit` function records the validation loss and metric from each epoch. It returns a history of the training, useful for debugging & visualization.\n",
    "\n",
    "Configurations like batch size, learning rate, etc. (called hyperparameters), need to picked in advance while training machine learning models. Choosing the right hyperparameters is critical for training a reasonably accurate model within a reasonable amount of time. It is an active area of research and experimentation in machine learning. Feel free to try different learning rates and see how it affects the training process.\n",
    "\n",
    "\n",
    "Let's define the `evaluate` function, used in the validation phase of `fit`."
   ]
  },
  {
   "cell_type": "code",
   "execution_count": 36,
   "metadata": {
    "executionInfo": {
     "elapsed": 943,
     "status": "ok",
     "timestamp": 1606581713680,
     "user": {
      "displayName": "Aakash N S",
      "photoUrl": "https://lh3.googleusercontent.com/a-/AOh14GiIWFHtan62vtW1gz2Bv2bxL3rppefcadxzEVxRKQ=s64",
      "userId": "03254185060287524023"
     },
     "user_tz": -330
    },
    "id": "wgWjXs5mfTTZ"
   },
   "outputs": [],
   "source": [
    "def evaluate(model, val_loader):\n",
    "    val_outputs = [model.validation_step(batch) for batch in val_loader]\n",
    "    return model.validation_epoch_end(val_outputs)"
   ]
  },
  {
   "cell_type": "markdown",
   "metadata": {
    "id": "FdcKIXvMfTTZ"
   },
   "source": [
    "\n",
    "Finally, let's redefine the `MnistModel` class to include additional methods `training_step`, `validation_step`, `validation_epoch_end`, and `epoch_end` used by `fit` and `evaluate`."
   ]
  },
  {
   "cell_type": "code",
   "execution_count": 37,
   "metadata": {
    "executionInfo": {
     "elapsed": 785,
     "status": "ok",
     "timestamp": 1606582144490,
     "user": {
      "displayName": "Aakash N S",
      "photoUrl": "https://lh3.googleusercontent.com/a-/AOh14GiIWFHtan62vtW1gz2Bv2bxL3rppefcadxzEVxRKQ=s64",
      "userId": "03254185060287524023"
     },
     "user_tz": -330
    },
    "id": "SbJN7ICGfTTZ"
   },
   "outputs": [],
   "source": [
    "class MnistModel(nn.Module):\n",
    "    def __init__(self):\n",
    "        super().__init__()\n",
    "        self.linear = nn.Linear(input_size, num_classes)\n",
    "        \n",
    "    def forward(self, xb):\n",
    "        xb = xb.reshape(-1, 28*28)\n",
    "        out = self.linear(xb)\n",
    "        return out\n",
    "    \n",
    "    def training_step(self, batch):\n",
    "        images, labels = batch \n",
    "        out = self(images)                  # Generate predictions\n",
    "        loss = F.cross_entropy(out, labels) # Calculate loss\n",
    "        return loss\n",
    "    \n",
    "    def validation_step(self, batch):\n",
    "        images, labels = batch \n",
    "        out = self(images)                    # Generate predictions\n",
    "        loss = F.cross_entropy(out, labels)   # Calculate loss\n",
    "        acc = accuracy(out, labels)           # Calculate accuracy\n",
    "        return {'val_loss': loss, 'val_acc': acc}\n",
    "        \n",
    "    def validation_epoch_end(self, val_outputs):\n",
    "        batch_losses = [x['val_loss'] for x in val_outputs]\n",
    "        epoch_loss = torch.stack(batch_losses).mean()   # Combine losses\n",
    "        batch_accs = [x['val_acc'] for x in val_outputs]\n",
    "        epoch_acc = torch.stack(batch_accs).mean()      # Combine accuracies\n",
    "        return {'val_loss': epoch_loss.item(), 'val_acc': epoch_acc.item()}\n",
    "    \n",
    "    def epoch_end(self, epoch, val_result):\n",
    "        print(f\"Epoch [{epoch+1}]: val_loss: {val_result['val_loss']:.4f}, \\\n",
    "val_acc: {val_result['val_acc']:.4f}\")\n",
    "    \n",
    "model = MnistModel()"
   ]
  },
  {
   "cell_type": "markdown",
   "metadata": {
    "id": "Y-omw1RBfTTZ"
   },
   "source": [
    "Before we train the model, let's see how the model performs on the validation set with the initial set of randomly initialized weights & biases.\n",
    "\n"
   ]
  },
  {
   "cell_type": "code",
   "execution_count": 38,
   "metadata": {
    "colab": {
     "base_uri": "https://localhost:8080/"
    },
    "executionInfo": {
     "elapsed": 1817,
     "status": "ok",
     "timestamp": 1606582146179,
     "user": {
      "displayName": "Aakash N S",
      "photoUrl": "https://lh3.googleusercontent.com/a-/AOh14GiIWFHtan62vtW1gz2Bv2bxL3rppefcadxzEVxRKQ=s64",
      "userId": "03254185060287524023"
     },
     "user_tz": -330
    },
    "id": "tNUBy9qTfTTZ",
    "outputId": "774e8e20-68c2-4a30-ada9-4e0df23285ac"
   },
   "outputs": [
    {
     "data": {
      "text/plain": [
       "{'val_loss': 2.340759754180908, 'val_acc': 0.10180376470088959}"
      ]
     },
     "execution_count": 38,
     "metadata": {},
     "output_type": "execute_result"
    }
   ],
   "source": [
    "result0 = evaluate(model, val_loader)\n",
    "result0"
   ]
  },
  {
   "cell_type": "markdown",
   "metadata": {
    "id": "KapQW0CDfTTZ"
   },
   "source": [
    "The initial accuracy is around 10%, which one might expect from a randomly initialized model (since it has a 1 in 10 chance of getting a label right by guessing randomly).\n",
    "\n",
    "We are now ready to train the model. Let's train for five epochs and look at the results."
   ]
  },
  {
   "cell_type": "code",
   "execution_count": 39,
   "metadata": {
    "colab": {
     "base_uri": "https://localhost:8080/"
    },
    "executionInfo": {
     "elapsed": 25282,
     "status": "ok",
     "timestamp": 1606582219804,
     "user": {
      "displayName": "Aakash N S",
      "photoUrl": "https://lh3.googleusercontent.com/a-/AOh14GiIWFHtan62vtW1gz2Bv2bxL3rppefcadxzEVxRKQ=s64",
      "userId": "03254185060287524023"
     },
     "user_tz": -330
    },
    "id": "MQRahsa6fTTZ",
    "outputId": "864bc5a4-c235-458c-e316-764cae8bb587"
   },
   "outputs": [
    {
     "name": "stdout",
     "output_type": "stream",
     "text": [
      "Epoch [1]: val_loss: 2.0583, val_acc: 0.5213\n",
      "Epoch [2]: val_loss: 1.8840, val_acc: 0.6702\n",
      "Epoch [3]: val_loss: 1.7361, val_acc: 0.7190\n",
      "Epoch [4]: val_loss: 1.6102, val_acc: 0.7464\n",
      "Epoch [5]: val_loss: 1.5029, val_acc: 0.7631\n",
      "CPU times: user 1min, sys: 85 ms, total: 1min\n",
      "Wall time: 54.6 s\n"
     ]
    }
   ],
   "source": [
    "%%time\n",
    "model1 = MnistModel()\n",
    "history1 = fit(\n",
    "    epochs=5,\n",
    "    lr=0.001,\n",
    "    model=model1,\n",
    "    train_loader=train_loader,\n",
    "    val_loader=val_loader)"
   ]
  },
  {
   "cell_type": "markdown",
   "metadata": {
    "id": "5mcIbHuKfTTa"
   },
   "source": [
    "That's a great result! With just 5 epochs of training, our model has reached an accuracy of over 80% on the validation set. Let's see if we can improve that by training for a few more epochs. Try changing the learning rates and number of epochs in each of the cells below."
   ]
  },
  {
   "cell_type": "markdown",
   "metadata": {},
   "source": [
    "**Mert: I won't train them sequentially. Instead, I'll create a relatively \"best\" model at the end. Also, you need to redefine the model object each time you train it with different configuration. Otherwise, it picks up training the same model where we left off.**"
   ]
  },
  {
   "cell_type": "code",
   "execution_count": 40,
   "metadata": {},
   "outputs": [
    {
     "name": "stdout",
     "output_type": "stream",
     "text": [
      "Epoch [1]: val_loss: 0.5122, val_acc: 0.8763\n",
      "Epoch [2]: val_loss: 0.4027, val_acc: 0.8941\n",
      "Epoch [3]: val_loss: 0.3623, val_acc: 0.9031\n",
      "Epoch [4]: val_loss: 0.3396, val_acc: 0.9079\n",
      "Epoch [5]: val_loss: 0.3273, val_acc: 0.9089\n",
      "CPU times: user 57.8 s, sys: 56.8 ms, total: 57.8 s\n",
      "Wall time: 51.8 s\n"
     ]
    }
   ],
   "source": [
    "%%time\n",
    "model2 = MnistModel()\n",
    "# Same lr with Adam optimizer\n",
    "history2 = fit(5, 0.001, model2, train_loader, val_loader, torch.optim.Adam)"
   ]
  },
  {
   "cell_type": "code",
   "execution_count": 41,
   "metadata": {},
   "outputs": [
    {
     "name": "stdout",
     "output_type": "stream",
     "text": [
      "Epoch [1]: val_loss: 2.2973, val_acc: 0.1195\n",
      "Epoch [2]: val_loss: 2.2727, val_acc: 0.1357\n",
      "Epoch [3]: val_loss: 2.2489, val_acc: 0.1620\n",
      "Epoch [4]: val_loss: 2.2257, val_acc: 0.1878\n",
      "Epoch [5]: val_loss: 2.2032, val_acc: 0.2234\n",
      "CPU times: user 58 s, sys: 62.9 ms, total: 58.1 s\n",
      "Wall time: 52 s\n"
     ]
    }
   ],
   "source": [
    "%%time\n",
    "model3 = MnistModel()\n",
    "# lr=0.0001 + SGD\n",
    "history3 = fit(5, 0.0001, model3, train_loader, val_loader)"
   ]
  },
  {
   "cell_type": "code",
   "execution_count": 42,
   "metadata": {},
   "outputs": [
    {
     "name": "stdout",
     "output_type": "stream",
     "text": [
      "Epoch [1]: val_loss: 1.6020, val_acc: 0.7598\n",
      "Epoch [2]: val_loss: 1.1899, val_acc: 0.8112\n",
      "Epoch [3]: val_loss: 0.9583, val_acc: 0.8261\n",
      "Epoch [4]: val_loss: 0.8165, val_acc: 0.8413\n",
      "Epoch [5]: val_loss: 0.7215, val_acc: 0.8514\n",
      "CPU times: user 59.2 s, sys: 85.9 ms, total: 59.3 s\n",
      "Wall time: 53.1 s\n"
     ]
    }
   ],
   "source": [
    "%%time\n",
    "model4 = MnistModel()\n",
    "# lr=0.0001 + Adam\n",
    "history4 = fit(5, 0.0001, model4, train_loader, val_loader, torch.optim.Adam)"
   ]
  },
  {
   "cell_type": "code",
   "execution_count": 43,
   "metadata": {},
   "outputs": [
    {
     "name": "stdout",
     "output_type": "stream",
     "text": [
      "Epoch [1]: val_loss: 1.1530, val_acc: 0.8052\n",
      "Epoch [2]: val_loss: 0.8556, val_acc: 0.8327\n",
      "Epoch [3]: val_loss: 0.7255, val_acc: 0.8464\n",
      "Epoch [4]: val_loss: 0.6513, val_acc: 0.8567\n",
      "Epoch [5]: val_loss: 0.6031, val_acc: 0.8624\n"
     ]
    }
   ],
   "source": [
    "model5 = MnistModel()\n",
    "# lr=0.01 + SGD\n",
    "history5 = fit(5, 0.01, model5, train_loader, val_loader)"
   ]
  },
  {
   "cell_type": "code",
   "execution_count": 44,
   "metadata": {},
   "outputs": [
    {
     "name": "stdout",
     "output_type": "stream",
     "text": [
      "Epoch [1]: val_loss: 0.3201, val_acc: 0.9097\n",
      "Epoch [2]: val_loss: 0.3052, val_acc: 0.9118\n",
      "Epoch [3]: val_loss: 0.3069, val_acc: 0.9144\n",
      "Epoch [4]: val_loss: 0.2967, val_acc: 0.9175\n",
      "Epoch [5]: val_loss: 0.3178, val_acc: 0.9142\n",
      "CPU times: user 58.2 s, sys: 86 ms, total: 58.3 s\n",
      "Wall time: 52.2 s\n"
     ]
    }
   ],
   "source": [
    "%%time\n",
    "model6 = MnistModel()\n",
    "# lr=0.01 + Adam\n",
    "history6 = fit(5, 0.01, model6, train_loader, val_loader, torch.optim.Adam)"
   ]
  },
  {
   "cell_type": "code",
   "execution_count": 45,
   "metadata": {},
   "outputs": [
    {
     "name": "stdout",
     "output_type": "stream",
     "text": [
      "Epoch [1]: val_loss: 0.3758, val_acc: 0.8954\n",
      "Epoch [2]: val_loss: 0.3303, val_acc: 0.9048\n",
      "Epoch [3]: val_loss: 0.3144, val_acc: 0.9099\n",
      "Epoch [4]: val_loss: 0.3038, val_acc: 0.9122\n",
      "Epoch [5]: val_loss: 0.3004, val_acc: 0.9146\n",
      "Epoch [6]: val_loss: 0.2921, val_acc: 0.9156\n",
      "CPU times: user 1min 11s, sys: 94.9 ms, total: 1min 11s\n",
      "Wall time: 1min 3s\n"
     ]
    }
   ],
   "source": [
    "%%time\n",
    "model7 = MnistModel()\n",
    "# best possible: epochs=6, lr=0.0025 + Adam\n",
    "history7 = fit(6, 0.0025, model7, train_loader, val_loader, torch.optim.Adam)"
   ]
  },
  {
   "cell_type": "markdown",
   "metadata": {
    "id": "sCm1903IfTTa"
   },
   "source": [
    "While the accuracy does continue to increase as we train for more epochs, the improvements get smaller with every epoch. Let's visualize this using a line graph."
   ]
  },
  {
   "cell_type": "code",
   "execution_count": 46,
   "metadata": {
    "code_folding": []
   },
   "outputs": [],
   "source": [
    "# Mert: I changed things a little :)\n",
    "def show_history(feature: str, history: list) -> None:\n",
    "    for i, hist in enumerate(history, start=1):\n",
    "        feature_list=[h[feature] for h in hist]\n",
    "        plt.plot(\n",
    "            range(1, 1+len(feature_list)),\n",
    "            feature_list,\n",
    "            '-x',\n",
    "            label=f\"history{i}\")\n",
    "        plt.legend(loc=\"best\")\n",
    "    plt.xlabel('epochs')\n",
    "    plt.ylabel('accuracy' if \"acc\" in feature else \"loss\")\n",
    "    title = 'Accuracy' if \"acc\" in feature else \"Loss\"\n",
    "    plt.title(f'{title} vs. No. of epochs')\n",
    "    plt.grid(b=True, color=\"lightgray\", linestyle=(0, (5, 10)))\n",
    "    # plt.show()"
   ]
  },
  {
   "cell_type": "code",
   "execution_count": 47,
   "metadata": {
    "colab": {
     "base_uri": "https://localhost:8080/",
     "height": 295
    },
    "executionInfo": {
     "elapsed": 825,
     "status": "ok",
     "timestamp": 1606582484777,
     "user": {
      "displayName": "Aakash N S",
      "photoUrl": "https://lh3.googleusercontent.com/a-/AOh14GiIWFHtan62vtW1gz2Bv2bxL3rppefcadxzEVxRKQ=s64",
      "userId": "03254185060287524023"
     },
     "user_tz": -330
    },
    "id": "swNRQSa0fTTa",
    "outputId": "fa726f42-fc0a-4a74-e660-e105192777b4"
   },
   "outputs": [
    {
     "data": {
      "image/png": "[encoded data removed]",
      "text/plain": [
       "<Figure size 864x288 with 2 Axes>"
      ]
     },
     "metadata": {
      "needs_background": "light"
     },
     "output_type": "display_data"
    }
   ],
   "source": [
    "history = (history1, history2, history3, history4, history5, history6, history7)\n",
    "\n",
    "plt.figure(figsize=(12, 4))\n",
    "plt.subplot(1,2,1)\n",
    "show_history(\"val_acc\", history)\n",
    "plt.subplot(1,2,2)\n",
    "show_history(\"val_loss\", history)\n",
    "plt.show()"
   ]
  },
  {
   "cell_type": "markdown",
   "metadata": {
    "id": "G-a7zRGxfTTa"
   },
   "source": [
    "It's quite clear from the above picture that the model probably won't cross the accuracy threshold of 90% even after training for a very long time. One possible reason for this is that the learning rate might be too high. The model's parameters may be \"bouncing\" around the optimal set of parameters for the lowest loss. You can try reducing the learning rate and training for a few more epochs to see if it helps.\n",
    "\n",
    "The more likely reason that **the model just isn't powerful enough**. If you remember our initial hypothesis, we have assumed that the output (in this case the class probabilities) is a **linear function** of the input (pixel intensities), obtained by perfoming a matrix multiplication with the weights matrix and adding the bias. This is a fairly weak assumption, as there may not actually exist a linear relationship between the pixel intensities in an image and the digit it represents. While it works reasonably well for a simple dataset like MNIST (getting us to 85% accuracy), we need more sophisticated models that can capture non-linear relationships between image pixels and labels for complex tasks like recognizing everyday objects, animals etc. \n",
    "\n",
    "Let's save our work using `jovian.commit`. Along with the notebook, we can also record some metrics from our training."
   ]
  },
  {
   "cell_type": "code",
   "execution_count": 48,
   "metadata": {},
   "outputs": [],
   "source": [
    "history = history7.copy()\n",
    "model = model7"
   ]
  },
  {
   "cell_type": "code",
   "execution_count": 49,
   "metadata": {
    "colab": {
     "base_uri": "https://localhost:8080/"
    },
    "executionInfo": {
     "elapsed": 732,
     "status": "ok",
     "timestamp": 1606582733269,
     "user": {
      "displayName": "Aakash N S",
      "photoUrl": "https://lh3.googleusercontent.com/a-/AOh14GiIWFHtan62vtW1gz2Bv2bxL3rppefcadxzEVxRKQ=s64",
      "userId": "03254185060287524023"
     },
     "user_tz": -330
    },
    "id": "4ec-7b_jfTTa",
    "outputId": "8931abec-ccb6-4934-9a77-ca31ad0185e9"
   },
   "outputs": [
    {
     "name": "stdout",
     "output_type": "stream",
     "text": [
      "[jovian] Metrics logged.\u001b[0m\n"
     ]
    }
   ],
   "source": [
    "jovian.log_metrics(val_acc=history[-1]['val_acc'], val_loss=history[-1]['val_loss'])"
   ]
  },
  {
   "cell_type": "code",
   "execution_count": 50,
   "metadata": {
    "colab": {
     "base_uri": "https://localhost:8080/",
     "height": 104
    },
    "executionInfo": {
     "elapsed": 3324,
     "status": "ok",
     "timestamp": 1606582746421,
     "user": {
      "displayName": "Aakash N S",
      "photoUrl": "https://lh3.googleusercontent.com/a-/AOh14GiIWFHtan62vtW1gz2Bv2bxL3rppefcadxzEVxRKQ=s64",
      "userId": "03254185060287524023"
     },
     "user_tz": -330
    },
    "id": "y0qr0ZNAfTTa",
    "outputId": "f9b1f120-be74-418d-fe2a-77769d51d499"
   },
   "outputs": [
    {
     "data": {
      "application/javascript": [
       "window.require && require([\"base/js/namespace\"],function(Jupyter){Jupyter.notebook.save_checkpoint()})"
      ],
      "text/plain": [
       "<IPython.core.display.Javascript object>"
      ]
     },
     "metadata": {},
     "output_type": "display_data"
    },
    {
     "name": "stdout",
     "output_type": "stream",
     "text": [
      "[jovian] Updating notebook \"gulmert89/03-logistic-regression\" on https://jovian.ai\u001b[0m\n",
      "[jovian] Attaching records (metrics, hyperparameters, dataset etc.)\u001b[0m\n",
      "[jovian] Committed successfully! https://jovian.ai/gulmert89/03-logistic-regression\u001b[0m\n"
     ]
    },
    {
     "data": {
      "text/plain": [
       "'https://jovian.ai/gulmert89/03-logistic-regression'"
      ]
     },
     "execution_count": 50,
     "metadata": {},
     "output_type": "execute_result"
    }
   ],
   "source": [
    "jovian.commit(project='03-logistic-regression', environment=None)"
   ]
  },
  {
   "cell_type": "markdown",
   "metadata": {
    "id": "HXgOorOIfTTa"
   },
   "source": [
    "## Testing with individual images"
   ]
  },
  {
   "cell_type": "markdown",
   "metadata": {
    "id": "_qUQKIJefTTa"
   },
   "source": [
    "While we have been tracking the overall accuracy of a model so far, it's also a good idea to look at model's results on some sample images. Let's test out our model with some images from the predefined test dataset of 10000 images. We begin by recreating the test dataset with the `ToTensor` transform."
   ]
  },
  {
   "cell_type": "code",
   "execution_count": 51,
   "metadata": {
    "executionInfo": {
     "elapsed": 784,
     "status": "ok",
     "timestamp": 1606582915241,
     "user": {
      "displayName": "Aakash N S",
      "photoUrl": "https://lh3.googleusercontent.com/a-/AOh14GiIWFHtan62vtW1gz2Bv2bxL3rppefcadxzEVxRKQ=s64",
      "userId": "03254185060287524023"
     },
     "user_tz": -330
    },
    "id": "KqcHUQK3fTTa"
   },
   "outputs": [],
   "source": [
    "# Define test dataset\n",
    "test_dataset = MNIST(root='data/', \n",
    "                     train=False,\n",
    "                     transform=transforms.ToTensor())"
   ]
  },
  {
   "cell_type": "markdown",
   "metadata": {
    "id": "Sw9J_viefTTa"
   },
   "source": [
    "Here's a sample image from the dataset."
   ]
  },
  {
   "cell_type": "code",
   "execution_count": 52,
   "metadata": {
    "colab": {
     "base_uri": "https://localhost:8080/",
     "height": 299
    },
    "executionInfo": {
     "elapsed": 784,
     "status": "ok",
     "timestamp": 1606582938197,
     "user": {
      "displayName": "Aakash N S",
      "photoUrl": "https://lh3.googleusercontent.com/a-/AOh14GiIWFHtan62vtW1gz2Bv2bxL3rppefcadxzEVxRKQ=s64",
      "userId": "03254185060287524023"
     },
     "user_tz": -330
    },
    "id": "yzEdFHq6fTTa",
    "outputId": "4e0faa6b-789f-46c4-9c25-27441665844c"
   },
   "outputs": [
    {
     "name": "stdout",
     "output_type": "stream",
     "text": [
      "Shape: torch.Size([1, 28, 28])\n",
      "Label: 7\n"
     ]
    },
    {
     "data": {
      "image/png": "[encoded data removed]",
      "text/plain": [
       "<Figure size 432x288 with 1 Axes>"
      ]
     },
     "metadata": {
      "needs_background": "light"
     },
     "output_type": "display_data"
    }
   ],
   "source": [
    "img, label = test_dataset[0]\n",
    "plt.imshow(img[0], cmap='gray')\n",
    "print('Shape:', img.shape)\n",
    "print('Label:', label)"
   ]
  },
  {
   "cell_type": "markdown",
   "metadata": {
    "id": "QgwbsDUjfTTa"
   },
   "source": [
    "Let's define a helper function `predict_image`, which returns the predicted label for a single image tensor."
   ]
  },
  {
   "cell_type": "code",
   "execution_count": 53,
   "metadata": {
    "executionInfo": {
     "elapsed": 802,
     "status": "ok",
     "timestamp": 1606583060675,
     "user": {
      "displayName": "Aakash N S",
      "photoUrl": "https://lh3.googleusercontent.com/a-/AOh14GiIWFHtan62vtW1gz2Bv2bxL3rppefcadxzEVxRKQ=s64",
      "userId": "03254185060287524023"
     },
     "user_tz": -330
    },
    "id": "9FfeYQaOfTTa"
   },
   "outputs": [],
   "source": [
    "def predict_image(img, model):\n",
    "    xb = img.unsqueeze(0)  # Mert: Also see np.expand_dims()\n",
    "    yb = model(xb)\n",
    "    _, preds = torch.max(yb, dim=1)\n",
    "    return preds[0].item()"
   ]
  },
  {
   "cell_type": "markdown",
   "metadata": {
    "id": "9ppgosBYfTTa"
   },
   "source": [
    "`img.unsqueeze` simply adds another dimension at the begining of the 1x28x28 tensor, making it a 1x1x28x28 tensor, which the model views as a batch containing a single image.\n",
    "\n",
    "Let's try it out with a few images."
   ]
  },
  {
   "cell_type": "code",
   "execution_count": 54,
   "metadata": {
    "colab": {
     "base_uri": "https://localhost:8080/",
     "height": 282
    },
    "executionInfo": {
     "elapsed": 762,
     "status": "ok",
     "timestamp": 1606583096435,
     "user": {
      "displayName": "Aakash N S",
      "photoUrl": "https://lh3.googleusercontent.com/a-/AOh14GiIWFHtan62vtW1gz2Bv2bxL3rppefcadxzEVxRKQ=s64",
      "userId": "03254185060287524023"
     },
     "user_tz": -330
    },
    "id": "sPNcp52ifTTa",
    "outputId": "3f209ee0-d70e-4631-bc01-bf67165a8347"
   },
   "outputs": [
    {
     "name": "stdout",
     "output_type": "stream",
     "text": [
      "Label: 7 , Predicted: 7\n"
     ]
    },
    {
     "data": {
      "image/png": "[encoded data removed]",
      "text/plain": [
       "<Figure size 432x288 with 1 Axes>"
      ]
     },
     "metadata": {
      "needs_background": "light"
     },
     "output_type": "display_data"
    }
   ],
   "source": [
    "img, label = test_dataset[0]\n",
    "plt.imshow(img[0], cmap='gray')\n",
    "print('Label:', label, ', Predicted:', predict_image(img, model))"
   ]
  },
  {
   "cell_type": "code",
   "execution_count": 55,
   "metadata": {
    "colab": {
     "base_uri": "https://localhost:8080/",
     "height": 282
    },
    "executionInfo": {
     "elapsed": 740,
     "status": "ok",
     "timestamp": 1606583105128,
     "user": {
      "displayName": "Aakash N S",
      "photoUrl": "https://lh3.googleusercontent.com/a-/AOh14GiIWFHtan62vtW1gz2Bv2bxL3rppefcadxzEVxRKQ=s64",
      "userId": "03254185060287524023"
     },
     "user_tz": -330
    },
    "id": "Nrj-w1COfTTa",
    "outputId": "63571287-3d8e-430f-c146-38167c355d2d"
   },
   "outputs": [
    {
     "name": "stdout",
     "output_type": "stream",
     "text": [
      "Label: 0 , Predicted: 0\n"
     ]
    },
    {
     "data": {
      "image/png": "[encoded data removed]",
      "text/plain": [
       "<Figure size 432x288 with 1 Axes>"
      ]
     },
     "metadata": {
      "needs_background": "light"
     },
     "output_type": "display_data"
    }
   ],
   "source": [
    "img, label = test_dataset[10]\n",
    "plt.imshow(img[0], cmap='gray')\n",
    "print('Label:', label, ', Predicted:', predict_image(img, model))"
   ]
  },
  {
   "cell_type": "code",
   "execution_count": 56,
   "metadata": {
    "colab": {
     "base_uri": "https://localhost:8080/",
     "height": 282
    },
    "executionInfo": {
     "elapsed": 751,
     "status": "ok",
     "timestamp": 1606583112083,
     "user": {
      "displayName": "Aakash N S",
      "photoUrl": "https://lh3.googleusercontent.com/a-/AOh14GiIWFHtan62vtW1gz2Bv2bxL3rppefcadxzEVxRKQ=s64",
      "userId": "03254185060287524023"
     },
     "user_tz": -330
    },
    "id": "EPrF7gB4fTTb",
    "outputId": "f315cb3c-7eb9-47aa-95ee-c4e917f28bda"
   },
   "outputs": [
    {
     "name": "stdout",
     "output_type": "stream",
     "text": [
      "Label: 9 , Predicted: 3\n"
     ]
    },
    {
     "data": {
      "image/png": "[encoded data removed]",
      "text/plain": [
       "<Figure size 432x288 with 1 Axes>"
      ]
     },
     "metadata": {
      "needs_background": "light"
     },
     "output_type": "display_data"
    }
   ],
   "source": [
    "img, label = test_dataset[193]\n",
    "plt.imshow(img[0], cmap='gray')\n",
    "print('Label:', label, ', Predicted:', predict_image(img, model))"
   ]
  },
  {
   "cell_type": "code",
   "execution_count": 57,
   "metadata": {
    "colab": {
     "base_uri": "https://localhost:8080/",
     "height": 282
    },
    "executionInfo": {
     "elapsed": 790,
     "status": "ok",
     "timestamp": 1606583155559,
     "user": {
      "displayName": "Aakash N S",
      "photoUrl": "https://lh3.googleusercontent.com/a-/AOh14GiIWFHtan62vtW1gz2Bv2bxL3rppefcadxzEVxRKQ=s64",
      "userId": "03254185060287524023"
     },
     "user_tz": -330
    },
    "id": "eetYJdoFfTTb",
    "outputId": "da8c6613-355a-4479-cb49-574236d2de5c"
   },
   "outputs": [
    {
     "name": "stdout",
     "output_type": "stream",
     "text": [
      "Label: 2 , Predicted: 2\n"
     ]
    },
    {
     "data": {
      "image/png": "[encoded data removed]",
      "text/plain": [
       "<Figure size 432x288 with 1 Axes>"
      ]
     },
     "metadata": {
      "needs_background": "light"
     },
     "output_type": "display_data"
    }
   ],
   "source": [
    "img, label = test_dataset[1839]\n",
    "plt.imshow(img[0], cmap='gray')\n",
    "print('Label:', label, ', Predicted:', predict_image(img, model))"
   ]
  },
  {
   "cell_type": "markdown",
   "metadata": {
    "id": "jQ6Wsk4TfTTb"
   },
   "source": [
    "Identifying where our model performs poorly can help us improve the model, by collecting more training data, increasing/decreasing the complexity of the model, and changing the hypeparameters.\n",
    "\n",
    "As a final step, let's also look at the overall loss and accuracy of the model on the test set."
   ]
  },
  {
   "cell_type": "code",
   "execution_count": 58,
   "metadata": {
    "colab": {
     "base_uri": "https://localhost:8080/"
    },
    "executionInfo": {
     "elapsed": 1572,
     "status": "ok",
     "timestamp": 1606583301081,
     "user": {
      "displayName": "Aakash N S",
      "photoUrl": "https://lh3.googleusercontent.com/a-/AOh14GiIWFHtan62vtW1gz2Bv2bxL3rppefcadxzEVxRKQ=s64",
      "userId": "03254185060287524023"
     },
     "user_tz": -330
    },
    "id": "6bdjaeG-fTTb",
    "outputId": "c4479ab7-ee92-46d4-ac0d-9217d6873f43"
   },
   "outputs": [
    {
     "data": {
      "text/plain": [
       "{'val_loss': 0.2661665380001068, 'val_acc': 0.925488293170929}"
      ]
     },
     "execution_count": 58,
     "metadata": {},
     "output_type": "execute_result"
    }
   ],
   "source": [
    "test_loader = DataLoader(test_dataset, batch_size=256)\n",
    "result = evaluate(model, test_loader)\n",
    "result"
   ]
  },
  {
   "cell_type": "markdown",
   "metadata": {
    "id": "pfe2IzF3fTTb"
   },
   "source": [
    "We expect this to be similar to the accuracy/loss on the validation set. If not, we might need a better validation set that has similar data and distribution as the test set (which often comes from real world data)."
   ]
  },
  {
   "cell_type": "markdown",
   "metadata": {
    "id": "TqC3HEZJfTTb"
   },
   "source": [
    "## Saving and loading the model"
   ]
  },
  {
   "cell_type": "markdown",
   "metadata": {
    "id": "KyE7vx_zfTTb"
   },
   "source": [
    "Since we've trained our model for a long time and achieved a resonable accuracy, it would be a good idea to save the weights and bias matrices to disk, so that we can reuse the model later and avoid retraining from scratch. Here's how you can save the model."
   ]
  },
  {
   "cell_type": "code",
   "execution_count": 59,
   "metadata": {
    "scrolled": true
   },
   "outputs": [
    {
     "name": "stdout",
     "output_type": "stream",
     "text": [
      "total 208K\r\n",
      "-rw-r--r-- 1 jovyan root  197K Nov 24 14:13 03-logistic-regression.ipynb\r\n",
      "drwxr-sr-x 3 jovyan users 4.0K Nov 24 14:07 \u001b[0m\u001b[01;34mdata\u001b[0m\r\n",
      "drwsrwsr-x 1 jovyan users 4.0K Sep 27 04:55 \u001b[01;34mwork\u001b[0m\r\n"
     ]
    }
   ],
   "source": [
    "# Mert: Files before the model is saved.\n",
    "!ls -lh --color=auto"
   ]
  },
  {
   "cell_type": "code",
   "execution_count": 60,
   "metadata": {
    "executionInfo": {
     "elapsed": 796,
     "status": "ok",
     "timestamp": 1606583486154,
     "user": {
      "displayName": "Aakash N S",
      "photoUrl": "https://lh3.googleusercontent.com/a-/AOh14GiIWFHtan62vtW1gz2Bv2bxL3rppefcadxzEVxRKQ=s64",
      "userId": "03254185060287524023"
     },
     "user_tz": -330
    },
    "id": "xESC-106fTTb"
   },
   "outputs": [],
   "source": [
    "torch.save(model.state_dict(), 'mnist-logistic.pth')"
   ]
  },
  {
   "cell_type": "markdown",
   "metadata": {
    "id": "CAHSyFLPfTTb"
   },
   "source": [
    "The `.state_dict` method returns an `OrderedDict` containing all the weights and bias matrices mapped to the right attributes of the model."
   ]
  },
  {
   "cell_type": "code",
   "execution_count": 61,
   "metadata": {},
   "outputs": [
    {
     "name": "stdout",
     "output_type": "stream",
     "text": [
      "total 240K\r\n",
      "-rw-r--r-- 1 jovyan root  197K Nov 24 14:13 03-logistic-regression.ipynb\r\n",
      "drwxr-sr-x 3 jovyan users 4.0K Nov 24 14:07 \u001b[0m\u001b[01;34mdata\u001b[0m\r\n",
      "-rw-r--r-- 1 jovyan users  32K Nov 24 14:13 mnist-logistic.pth\r\n",
      "drwsrwsr-x 1 jovyan users 4.0K Sep 27 04:55 \u001b[01;34mwork\u001b[0m\r\n"
     ]
    }
   ],
   "source": [
    "# Mert: Files after the model is saved.\n",
    "!ls -hl --color=auto"
   ]
  },
  {
   "cell_type": "code",
   "execution_count": 62,
   "metadata": {},
   "outputs": [
    {
     "data": {
      "text/plain": [
       "odict_keys(['linear.weight', 'linear.bias'])"
      ]
     },
     "execution_count": 62,
     "metadata": {},
     "output_type": "execute_result"
    }
   ],
   "source": [
    "model.state_dict().keys()"
   ]
  },
  {
   "cell_type": "code",
   "execution_count": 63,
   "metadata": {},
   "outputs": [
    {
     "data": {
      "text/plain": [
       "OrderedDict([('linear.weight',\n",
       "              tensor([[ 0.0046,  0.0184,  0.0258,  ..., -0.0052,  0.0200,  0.0111],\n",
       "                      [ 0.0037,  0.0070,  0.0326,  ...,  0.0349, -0.0134, -0.0026],\n",
       "                      [-0.0240, -0.0081, -0.0272,  ...,  0.0267, -0.0201,  0.0243],\n",
       "                      ...,\n",
       "                      [-0.0347, -0.0247,  0.0284,  ...,  0.0225,  0.0248, -0.0264],\n",
       "                      [ 0.0046, -0.0068, -0.0155,  ..., -0.0333, -0.0327,  0.0114],\n",
       "                      [ 0.0356, -0.0209,  0.0283,  ..., -0.0318,  0.0066, -0.0122]])),\n",
       "             ('linear.bias',\n",
       "              tensor([-0.2739,  0.4915,  0.0237, -0.2932,  0.1058,  0.7792, -0.0882,  0.4386,\n",
       "                      -0.8901, -0.2189]))])"
      ]
     },
     "execution_count": 63,
     "metadata": {},
     "output_type": "execute_result"
    }
   ],
   "source": [
    "model.state_dict()"
   ]
  },
  {
   "cell_type": "code",
   "execution_count": 64,
   "metadata": {},
   "outputs": [
    {
     "name": "stdout",
     "output_type": "stream",
     "text": [
      "Size of the weight matrix: torch.Size([10, 784])\n",
      "Size of the bias matrix: torch.Size([10])\n"
     ]
    }
   ],
   "source": [
    "print(\"Size of the weight matrix:\", model.state_dict()[\"linear.weight\"].shape)\n",
    "print(\"Size of the bias matrix:\", model.state_dict()[\"linear.bias\"].shape)"
   ]
  },
  {
   "cell_type": "markdown",
   "metadata": {
    "id": "Qc9kRTDpfTTb"
   },
   "source": [
    "To load the model weights, we can instante a new object of the class `MnistModel`, and use the `.load_state_dict` method."
   ]
  },
  {
   "cell_type": "code",
   "execution_count": 65,
   "metadata": {
    "executionInfo": {
     "elapsed": 845,
     "status": "ok",
     "timestamp": 1606583501874,
     "user": {
      "displayName": "Aakash N S",
      "photoUrl": "https://lh3.googleusercontent.com/a-/AOh14GiIWFHtan62vtW1gz2Bv2bxL3rppefcadxzEVxRKQ=s64",
      "userId": "03254185060287524023"
     },
     "user_tz": -330
    },
    "id": "OO666r7_1rbW"
   },
   "outputs": [],
   "source": [
    "newModel = MnistModel()"
   ]
  },
  {
   "cell_type": "code",
   "execution_count": 66,
   "metadata": {
    "colab": {
     "base_uri": "https://localhost:8080/"
    },
    "executionInfo": {
     "elapsed": 776,
     "status": "ok",
     "timestamp": 1606583510607,
     "user": {
      "displayName": "Aakash N S",
      "photoUrl": "https://lh3.googleusercontent.com/a-/AOh14GiIWFHtan62vtW1gz2Bv2bxL3rppefcadxzEVxRKQ=s64",
      "userId": "03254185060287524023"
     },
     "user_tz": -330
    },
    "id": "aUvYwe4Q1six",
    "outputId": "63adc692-57b8-458d-a926-dc969bf491db"
   },
   "outputs": [
    {
     "data": {
      "text/plain": [
       "OrderedDict([('linear.weight',\n",
       "              tensor([[ 0.0339,  0.0298,  0.0116,  ...,  0.0086, -0.0141,  0.0036],\n",
       "                      [ 0.0233, -0.0073, -0.0178,  ..., -0.0277,  0.0223, -0.0152],\n",
       "                      [-0.0092, -0.0280,  0.0159,  ..., -0.0215,  0.0355,  0.0120],\n",
       "                      ...,\n",
       "                      [-0.0303, -0.0162,  0.0035,  ..., -0.0142,  0.0304, -0.0109],\n",
       "                      [-0.0305, -0.0282,  0.0267,  ...,  0.0231, -0.0058,  0.0088],\n",
       "                      [-0.0323,  0.0179, -0.0343,  ..., -0.0144, -0.0335,  0.0286]])),\n",
       "             ('linear.bias',\n",
       "              tensor([ 0.0253, -0.0325,  0.0256, -0.0107, -0.0230, -0.0218,  0.0194, -0.0082,\n",
       "                      -0.0253, -0.0267]))])"
      ]
     },
     "execution_count": 66,
     "metadata": {},
     "output_type": "execute_result"
    }
   ],
   "source": [
    "newModel.state_dict()"
   ]
  },
  {
   "cell_type": "code",
   "execution_count": 67,
   "metadata": {
    "colab": {
     "base_uri": "https://localhost:8080/"
    },
    "executionInfo": {
     "elapsed": 1715,
     "status": "ok",
     "timestamp": 1606583526111,
     "user": {
      "displayName": "Aakash N S",
      "photoUrl": "https://lh3.googleusercontent.com/a-/AOh14GiIWFHtan62vtW1gz2Bv2bxL3rppefcadxzEVxRKQ=s64",
      "userId": "03254185060287524023"
     },
     "user_tz": -330
    },
    "id": "gHac9s6e1vyS",
    "outputId": "bd0ef06a-ded0-4d91-c0a1-620b310bc89e"
   },
   "outputs": [
    {
     "data": {
      "text/plain": [
       "{'val_loss': 2.3380770683288574, 'val_acc': 0.07792969048023224}"
      ]
     },
     "execution_count": 67,
     "metadata": {},
     "output_type": "execute_result"
    }
   ],
   "source": [
    "evaluate(newModel, test_loader)"
   ]
  },
  {
   "cell_type": "code",
   "execution_count": 68,
   "metadata": {
    "colab": {
     "base_uri": "https://localhost:8080/"
    },
    "executionInfo": {
     "elapsed": 751,
     "status": "ok",
     "timestamp": 1606583546422,
     "user": {
      "displayName": "Aakash N S",
      "photoUrl": "https://lh3.googleusercontent.com/a-/AOh14GiIWFHtan62vtW1gz2Bv2bxL3rppefcadxzEVxRKQ=s64",
      "userId": "03254185060287524023"
     },
     "user_tz": -330
    },
    "id": "bvR1g8ggfTTb",
    "outputId": "2cb76bb5-b26a-472c-d2b3-3f872ebb8c7a"
   },
   "outputs": [
    {
     "data": {
      "text/plain": [
       "OrderedDict([('linear.weight',\n",
       "              tensor([[ 0.0046,  0.0184,  0.0258,  ..., -0.0052,  0.0200,  0.0111],\n",
       "                      [ 0.0037,  0.0070,  0.0326,  ...,  0.0349, -0.0134, -0.0026],\n",
       "                      [-0.0240, -0.0081, -0.0272,  ...,  0.0267, -0.0201,  0.0243],\n",
       "                      ...,\n",
       "                      [-0.0347, -0.0247,  0.0284,  ...,  0.0225,  0.0248, -0.0264],\n",
       "                      [ 0.0046, -0.0068, -0.0155,  ..., -0.0333, -0.0327,  0.0114],\n",
       "                      [ 0.0356, -0.0209,  0.0283,  ..., -0.0318,  0.0066, -0.0122]])),\n",
       "             ('linear.bias',\n",
       "              tensor([-0.2739,  0.4915,  0.0237, -0.2932,  0.1058,  0.7792, -0.0882,  0.4386,\n",
       "                      -0.8901, -0.2189]))])"
      ]
     },
     "execution_count": 68,
     "metadata": {},
     "output_type": "execute_result"
    }
   ],
   "source": [
    "newModel.load_state_dict(torch.load('mnist-logistic.pth'))\n",
    "newModel.state_dict()"
   ]
  },
  {
   "cell_type": "markdown",
   "metadata": {
    "id": "zhjBm4BMfTTb"
   },
   "source": [
    "Just as a sanity check, let's verify that this model has the same loss and accuracy on the test set as before."
   ]
  },
  {
   "cell_type": "code",
   "execution_count": 69,
   "metadata": {
    "colab": {
     "base_uri": "https://localhost:8080/"
    },
    "executionInfo": {
     "elapsed": 1668,
     "status": "ok",
     "timestamp": 1606583555728,
     "user": {
      "displayName": "Aakash N S",
      "photoUrl": "https://lh3.googleusercontent.com/a-/AOh14GiIWFHtan62vtW1gz2Bv2bxL3rppefcadxzEVxRKQ=s64",
      "userId": "03254185060287524023"
     },
     "user_tz": -330
    },
    "id": "UynZ4aSLfTTb",
    "outputId": "ed0184c3-6239-4610-b707-09b2e4cbd49d"
   },
   "outputs": [
    {
     "data": {
      "text/plain": [
       "{'val_loss': 0.2661665380001068, 'val_acc': 0.925488293170929}"
      ]
     },
     "execution_count": 69,
     "metadata": {},
     "output_type": "execute_result"
    }
   ],
   "source": [
    "test_loader = DataLoader(test_dataset, batch_size=256)\n",
    "result = evaluate(newModel, test_loader)\n",
    "result"
   ]
  },
  {
   "cell_type": "markdown",
   "metadata": {
    "id": "BRMNaQUWfTTb"
   },
   "source": [
    "As a final step, we can save and commit our work using the `jovian` library. Along with the notebook, we can also attach the weights of our trained model, so that we can use it later."
   ]
  },
  {
   "cell_type": "code",
   "execution_count": 70,
   "metadata": {
    "id": "p1cuCZ6afTTb",
    "scrolled": true
   },
   "outputs": [
    {
     "data": {
      "application/javascript": [
       "window.require && require([\"base/js/namespace\"],function(Jupyter){Jupyter.notebook.save_checkpoint()})"
      ],
      "text/plain": [
       "<IPython.core.display.Javascript object>"
      ]
     },
     "metadata": {},
     "output_type": "display_data"
    },
    {
     "name": "stdout",
     "output_type": "stream",
     "text": [
      "[jovian] Updating notebook \"gulmert89/03-logistic-regression\" on https://jovian.ai\u001b[0m\n",
      "[jovian] Uploading additional outputs...\u001b[0m\n",
      "[jovian] Attaching records (metrics, hyperparameters, dataset etc.)\u001b[0m\n",
      "[jovian] Committed successfully! https://jovian.ai/gulmert89/03-logistic-regression\u001b[0m\n"
     ]
    },
    {
     "data": {
      "text/plain": [
       "'https://jovian.ai/gulmert89/03-logistic-regression'"
      ]
     },
     "execution_count": 70,
     "metadata": {},
     "output_type": "execute_result"
    }
   ],
   "source": [
    "jovian.commit(project='03-logistic-regression', environment=None, outputs=['mnist-logistic.pth'])"
   ]
  },
  {
   "cell_type": "markdown",
   "metadata": {
    "id": "r1F3EHgSfTTb"
   },
   "source": [
    "## Exercises\n",
    "\n",
    "Try out the following exercises to apply the concepts and techniques you have learned so far:\n",
    "\n",
    "* Coding exercises on end-to-end model training: https://jovian.ai/aakashns/02-insurance-linear-regression\n",
    "* Starter notebook for logistic regression projects: https://jovian.ai/aakashns/mnist-logistic-minimal\n",
    "* Starter notebook for linear regression projects: https://jovian.ai/aakashns/housing-linear-minimal\n",
    "\n",
    "Training great machine learning models within a short time takes practice and experience. Try experimenting with different datasets, models and hyperparameters, it's the best way to acquire this skill."
   ]
  },
  {
   "cell_type": "markdown",
   "metadata": {
    "id": "_Q8EnndBfTTb"
   },
   "source": [
    "## Summary and Further Reading\n",
    "\n",
    "We've created a fairly sophisticated training and evaluation pipeline in this tutorial. Here's a list of the topics we've covered:\n",
    "\n",
    "* Working with images in PyTorch (using the MNIST dataset)\n",
    "* Splitting a dataset into training, validation and test sets\n",
    "* Creating PyTorch models with custom logic by extending the `nn.Module` class\n",
    "* Interpreting model ouputs as probabilities using softmax, and picking predicted labels\n",
    "* Picking a good evaluation metric (accuracy) and loss function (cross entropy) for classification problems\n",
    "* Setting up a training loop that also evaluates the model using the validation set\n",
    "* Testing the model manually on randomly picked examples \n",
    "* Saving and loading model checkpoints to avoid retraining from scratch\n",
    "\n",
    "There's a lot of scope to experiment here, and I encourage you to use the interactive nature of Jupyter to play around with the various parameters. Here are a few ideas:\n",
    "\n",
    "* Try making the validation set smaller or larger, and see how it affects the model.\n",
    "* Try changing the learning rate and see if you can achieve the same accuracy in fewer epochs.\n",
    "* Try changing the batch size. What happens if you use too high a batch size, or too low?\n",
    "* Modify the `fit` function to also track the overall loss and accuracy on the training set, and see how it compares with the validation loss/accuracy. Can you explain why it's lower/higher?\n",
    "* Train with a small subset of the data, and see if you can reach a similar level of accuracy.\n",
    "* Try building a model for a different dataset, such as the [CIFAR10 or CIFAR100 datasets](https://www.cs.toronto.edu/~kriz/cifar.html).\n",
    "\n",
    "Here are some references for further reading:\n",
    "* For a more mathematical treatment, see the popular [Machine Learning](https://www.coursera.org/lecture/machine-learning/classification-wlPeP) course on Coursera. Most of the images used in this tutorial series have been taken from this course.\n",
    "* The training loop defined in this notebook was inspired from [FastAI development notebooks](https://github.com/fastai/fastai_docs/blob/master/dev_nb/001a_nn_basics.ipynb) which contain a wealth of other useful stuff if you can read and understand the code.\n",
    "* For a deep dive into softmax and cross entropy, see [this blog post on DeepNotes](https://deepnotes.io/softmax-crossentropy).\n",
    "\n",
    "\n",
    "With this we complete our discussion of logistic regression, and we're ready to move on to the next topic: [Training Deep Neural Networks on a GPU](https://jovian.ai/aakashns/04-feedforward-nn)!"
   ]
  }
 ],
 "metadata": {
  "colab": {
   "name": "03-logistic-regression.ipynb",
   "provenance": []
  },
  "language_info": {
   "codemirror_mode": {
    "name": "ipython",
    "version": 3
   },
   "file_extension": ".py",
   "mimetype": "text/x-python",
   "name": "python",
   "nbconvert_exporter": "python",
   "pygments_lexer": "ipython3",
   "version": "3.9.6"
  },
  "widgets": {
   "application/vnd.jupyter.widget-state+json": {
    "02a48991f3f2405db5dd2968af3177bb": {
     "model_module": "@jupyter-widgets/controls",
     "model_name": "HBoxModel",
     "state": {
      "_dom_classes": [],
      "_model_module": "@jupyter-widgets/controls",
      "_model_module_version": "1.5.0",
      "_model_name": "HBoxModel",
      "_view_count": null,
      "_view_module": "@jupyter-widgets/controls",
      "_view_module_version": "1.5.0",
      "_view_name": "HBoxView",
      "box_style": "",
      "children": [
       "IPY_MODEL_be465e46f1fa44c69c9dd8ff2d173543",
       "IPY_MODEL_ef4e2e0ed447424b8695c1a66cec0210"
      ],
      "layout": "IPY_MODEL_7113a3efba564850899ad46ec33a1ce0"
     }
    },
    "043acb1db455426e8f56a61d6f39b222": {
     "model_module": "@jupyter-widgets/base",
     "model_name": "LayoutModel",
     "state": {
      "_model_module": "@jupyter-widgets/base",
      "_model_module_version": "1.2.0",
      "_model_name": "LayoutModel",
      "_view_count": null,
      "_view_module": "@jupyter-widgets/base",
      "_view_module_version": "1.2.0",
      "_view_name": "LayoutView",
      "align_content": null,
      "align_items": null,
      "align_self": null,
      "border": null,
      "bottom": null,
      "display": null,
      "flex": null,
      "flex_flow": null,
      "grid_area": null,
      "grid_auto_columns": null,
      "grid_auto_flow": null,
      "grid_auto_rows": null,
      "grid_column": null,
      "grid_gap": null,
      "grid_row": null,
      "grid_template_areas": null,
      "grid_template_columns": null,
      "grid_template_rows": null,
      "height": null,
      "justify_content": null,
      "justify_items": null,
      "left": null,
      "margin": null,
      "max_height": null,
      "max_width": null,
      "min_height": null,
      "min_width": null,
      "object_fit": null,
      "object_position": null,
      "order": null,
      "overflow": null,
      "overflow_x": null,
      "overflow_y": null,
      "padding": null,
      "right": null,
      "top": null,
      "visibility": null,
      "width": null
     }
    },
    "0e03dd08224f4e8c9c2f8d975358cdb7": {
     "model_module": "@jupyter-widgets/base",
     "model_name": "LayoutModel",
     "state": {
      "_model_module": "@jupyter-widgets/base",
      "_model_module_version": "1.2.0",
      "_model_name": "LayoutModel",
      "_view_count": null,
      "_view_module": "@jupyter-widgets/base",
      "_view_module_version": "1.2.0",
      "_view_name": "LayoutView",
      "align_content": null,
      "align_items": null,
      "align_self": null,
      "border": null,
      "bottom": null,
      "display": null,
      "flex": null,
      "flex_flow": null,
      "grid_area": null,
      "grid_auto_columns": null,
      "grid_auto_flow": null,
      "grid_auto_rows": null,
      "grid_column": null,
      "grid_gap": null,
      "grid_row": null,
      "grid_template_areas": null,
      "grid_template_columns": null,
      "grid_template_rows": null,
      "height": null,
      "justify_content": null,
      "justify_items": null,
      "left": null,
      "margin": null,
      "max_height": null,
      "max_width": null,
      "min_height": null,
      "min_width": null,
      "object_fit": null,
      "object_position": null,
      "order": null,
      "overflow": null,
      "overflow_x": null,
      "overflow_y": null,
      "padding": null,
      "right": null,
      "top": null,
      "visibility": null,
      "width": null
     }
    },
    "12d3ec215dcc4b6794e3bbdef44602ce": {
     "model_module": "@jupyter-widgets/controls",
     "model_name": "ProgressStyleModel",
     "state": {
      "_model_module": "@jupyter-widgets/controls",
      "_model_module_version": "1.5.0",
      "_model_name": "ProgressStyleModel",
      "_view_count": null,
      "_view_module": "@jupyter-widgets/base",
      "_view_module_version": "1.2.0",
      "_view_name": "StyleView",
      "bar_color": null,
      "description_width": "initial"
     }
    },
    "28ef332369de4d358909a586a1743c61": {
     "model_module": "@jupyter-widgets/base",
     "model_name": "LayoutModel",
     "state": {
      "_model_module": "@jupyter-widgets/base",
      "_model_module_version": "1.2.0",
      "_model_name": "LayoutModel",
      "_view_count": null,
      "_view_module": "@jupyter-widgets/base",
      "_view_module_version": "1.2.0",
      "_view_name": "LayoutView",
      "align_content": null,
      "align_items": null,
      "align_self": null,
      "border": null,
      "bottom": null,
      "display": null,
      "flex": null,
      "flex_flow": null,
      "grid_area": null,
      "grid_auto_columns": null,
      "grid_auto_flow": null,
      "grid_auto_rows": null,
      "grid_column": null,
      "grid_gap": null,
      "grid_row": null,
      "grid_template_areas": null,
      "grid_template_columns": null,
      "grid_template_rows": null,
      "height": null,
      "justify_content": null,
      "justify_items": null,
      "left": null,
      "margin": null,
      "max_height": null,
      "max_width": null,
      "min_height": null,
      "min_width": null,
      "object_fit": null,
      "object_position": null,
      "order": null,
      "overflow": null,
      "overflow_x": null,
      "overflow_y": null,
      "padding": null,
      "right": null,
      "top": null,
      "visibility": null,
      "width": null
     }
    },
    "332d4f3a80d84f07ad997aa55afd7f45": {
     "model_module": "@jupyter-widgets/controls",
     "model_name": "DescriptionStyleModel",
     "state": {
      "_model_module": "@jupyter-widgets/controls",
      "_model_module_version": "1.5.0",
      "_model_name": "DescriptionStyleModel",
      "_view_count": null,
      "_view_module": "@jupyter-widgets/base",
      "_view_module_version": "1.2.0",
      "_view_name": "StyleView",
      "description_width": ""
     }
    },
    "392aac024b8845c58ab75d00893b4e42": {
     "model_module": "@jupyter-widgets/base",
     "model_name": "LayoutModel",
     "state": {
      "_model_module": "@jupyter-widgets/base",
      "_model_module_version": "1.2.0",
      "_model_name": "LayoutModel",
      "_view_count": null,
      "_view_module": "@jupyter-widgets/base",
      "_view_module_version": "1.2.0",
      "_view_name": "LayoutView",
      "align_content": null,
      "align_items": null,
      "align_self": null,
      "border": null,
      "bottom": null,
      "display": null,
      "flex": null,
      "flex_flow": null,
      "grid_area": null,
      "grid_auto_columns": null,
      "grid_auto_flow": null,
      "grid_auto_rows": null,
      "grid_column": null,
      "grid_gap": null,
      "grid_row": null,
      "grid_template_areas": null,
      "grid_template_columns": null,
      "grid_template_rows": null,
      "height": null,
      "justify_content": null,
      "justify_items": null,
      "left": null,
      "margin": null,
      "max_height": null,
      "max_width": null,
      "min_height": null,
      "min_width": null,
      "object_fit": null,
      "object_position": null,
      "order": null,
      "overflow": null,
      "overflow_x": null,
      "overflow_y": null,
      "padding": null,
      "right": null,
      "top": null,
      "visibility": null,
      "width": null
     }
    },
    "3e158b4f6fc045a799a5d2848b7ef224": {
     "model_module": "@jupyter-widgets/base",
     "model_name": "LayoutModel",
     "state": {
      "_model_module": "@jupyter-widgets/base",
      "_model_module_version": "1.2.0",
      "_model_name": "LayoutModel",
      "_view_count": null,
      "_view_module": "@jupyter-widgets/base",
      "_view_module_version": "1.2.0",
      "_view_name": "LayoutView",
      "align_content": null,
      "align_items": null,
      "align_self": null,
      "border": null,
      "bottom": null,
      "display": null,
      "flex": null,
      "flex_flow": null,
      "grid_area": null,
      "grid_auto_columns": null,
      "grid_auto_flow": null,
      "grid_auto_rows": null,
      "grid_column": null,
      "grid_gap": null,
      "grid_row": null,
      "grid_template_areas": null,
      "grid_template_columns": null,
      "grid_template_rows": null,
      "height": null,
      "justify_content": null,
      "justify_items": null,
      "left": null,
      "margin": null,
      "max_height": null,
      "max_width": null,
      "min_height": null,
      "min_width": null,
      "object_fit": null,
      "object_position": null,
      "order": null,
      "overflow": null,
      "overflow_x": null,
      "overflow_y": null,
      "padding": null,
      "right": null,
      "top": null,
      "visibility": null,
      "width": null
     }
    },
    "41db56c1758644e28cc891ed17b9111e": {
     "model_module": "@jupyter-widgets/controls",
     "model_name": "DescriptionStyleModel",
     "state": {
      "_model_module": "@jupyter-widgets/controls",
      "_model_module_version": "1.5.0",
      "_model_name": "DescriptionStyleModel",
      "_view_count": null,
      "_view_module": "@jupyter-widgets/base",
      "_view_module_version": "1.2.0",
      "_view_name": "StyleView",
      "description_width": ""
     }
    },
    "4ea3550eaeab40969e6a835721528c35": {
     "model_module": "@jupyter-widgets/controls",
     "model_name": "HTMLModel",
     "state": {
      "_dom_classes": [],
      "_model_module": "@jupyter-widgets/controls",
      "_model_module_version": "1.5.0",
      "_model_name": "HTMLModel",
      "_view_count": null,
      "_view_module": "@jupyter-widgets/controls",
      "_view_module_version": "1.5.0",
      "_view_name": "HTMLView",
      "description": "",
      "description_tooltip": null,
      "layout": "IPY_MODEL_69e7677bfdb3471d925d0a3eca1df5a7",
      "placeholder": "​",
      "style": "IPY_MODEL_332d4f3a80d84f07ad997aa55afd7f45",
      "value": " 32768/? [00:00&lt;00:00, 245728.60it/s]"
     }
    },
    "57ea6daaa8484c59b3930783d0a9cf20": {
     "model_module": "@jupyter-widgets/controls",
     "model_name": "DescriptionStyleModel",
     "state": {
      "_model_module": "@jupyter-widgets/controls",
      "_model_module_version": "1.5.0",
      "_model_name": "DescriptionStyleModel",
      "_view_count": null,
      "_view_module": "@jupyter-widgets/base",
      "_view_module_version": "1.2.0",
      "_view_name": "StyleView",
      "description_width": ""
     }
    },
    "5e3647b0ec134d6cb7c76347435756d1": {
     "model_module": "@jupyter-widgets/base",
     "model_name": "LayoutModel",
     "state": {
      "_model_module": "@jupyter-widgets/base",
      "_model_module_version": "1.2.0",
      "_model_name": "LayoutModel",
      "_view_count": null,
      "_view_module": "@jupyter-widgets/base",
      "_view_module_version": "1.2.0",
      "_view_name": "LayoutView",
      "align_content": null,
      "align_items": null,
      "align_self": null,
      "border": null,
      "bottom": null,
      "display": null,
      "flex": null,
      "flex_flow": null,
      "grid_area": null,
      "grid_auto_columns": null,
      "grid_auto_flow": null,
      "grid_auto_rows": null,
      "grid_column": null,
      "grid_gap": null,
      "grid_row": null,
      "grid_template_areas": null,
      "grid_template_columns": null,
      "grid_template_rows": null,
      "height": null,
      "justify_content": null,
      "justify_items": null,
      "left": null,
      "margin": null,
      "max_height": null,
      "max_width": null,
      "min_height": null,
      "min_width": null,
      "object_fit": null,
      "object_position": null,
      "order": null,
      "overflow": null,
      "overflow_x": null,
      "overflow_y": null,
      "padding": null,
      "right": null,
      "top": null,
      "visibility": null,
      "width": null
     }
    },
    "69e7677bfdb3471d925d0a3eca1df5a7": {
     "model_module": "@jupyter-widgets/base",
     "model_name": "LayoutModel",
     "state": {
      "_model_module": "@jupyter-widgets/base",
      "_model_module_version": "1.2.0",
      "_model_name": "LayoutModel",
      "_view_count": null,
      "_view_module": "@jupyter-widgets/base",
      "_view_module_version": "1.2.0",
      "_view_name": "LayoutView",
      "align_content": null,
      "align_items": null,
      "align_self": null,
      "border": null,
      "bottom": null,
      "display": null,
      "flex": null,
      "flex_flow": null,
      "grid_area": null,
      "grid_auto_columns": null,
      "grid_auto_flow": null,
      "grid_auto_rows": null,
      "grid_column": null,
      "grid_gap": null,
      "grid_row": null,
      "grid_template_areas": null,
      "grid_template_columns": null,
      "grid_template_rows": null,
      "height": null,
      "justify_content": null,
      "justify_items": null,
      "left": null,
      "margin": null,
      "max_height": null,
      "max_width": null,
      "min_height": null,
      "min_width": null,
      "object_fit": null,
      "object_position": null,
      "order": null,
      "overflow": null,
      "overflow_x": null,
      "overflow_y": null,
      "padding": null,
      "right": null,
      "top": null,
      "visibility": null,
      "width": null
     }
    },
    "7113a3efba564850899ad46ec33a1ce0": {
     "model_module": "@jupyter-widgets/base",
     "model_name": "LayoutModel",
     "state": {
      "_model_module": "@jupyter-widgets/base",
      "_model_module_version": "1.2.0",
      "_model_name": "LayoutModel",
      "_view_count": null,
      "_view_module": "@jupyter-widgets/base",
      "_view_module_version": "1.2.0",
      "_view_name": "LayoutView",
      "align_content": null,
      "align_items": null,
      "align_self": null,
      "border": null,
      "bottom": null,
      "display": null,
      "flex": null,
      "flex_flow": null,
      "grid_area": null,
      "grid_auto_columns": null,
      "grid_auto_flow": null,
      "grid_auto_rows": null,
      "grid_column": null,
      "grid_gap": null,
      "grid_row": null,
      "grid_template_areas": null,
      "grid_template_columns": null,
      "grid_template_rows": null,
      "height": null,
      "justify_content": null,
      "justify_items": null,
      "left": null,
      "margin": null,
      "max_height": null,
      "max_width": null,
      "min_height": null,
      "min_width": null,
      "object_fit": null,
      "object_position": null,
      "order": null,
      "overflow": null,
      "overflow_x": null,
      "overflow_y": null,
      "padding": null,
      "right": null,
      "top": null,
      "visibility": null,
      "width": null
     }
    },
    "7de6379c81224840ab318d1c5dbe2573": {
     "model_module": "@jupyter-widgets/controls",
     "model_name": "FloatProgressModel",
     "state": {
      "_dom_classes": [],
      "_model_module": "@jupyter-widgets/controls",
      "_model_module_version": "1.5.0",
      "_model_name": "FloatProgressModel",
      "_view_count": null,
      "_view_module": "@jupyter-widgets/controls",
      "_view_module_version": "1.5.0",
      "_view_name": "ProgressView",
      "bar_style": "info",
      "description": "",
      "description_tooltip": null,
      "layout": "IPY_MODEL_5e3647b0ec134d6cb7c76347435756d1",
      "max": 1,
      "min": 0,
      "orientation": "horizontal",
      "style": "IPY_MODEL_ab0c7dba3efe488e962a95f77fdff901",
      "value": 1
     }
    },
    "7ffd56bd6fdb48efb48c338dfe983bfb": {
     "model_module": "@jupyter-widgets/base",
     "model_name": "LayoutModel",
     "state": {
      "_model_module": "@jupyter-widgets/base",
      "_model_module_version": "1.2.0",
      "_model_name": "LayoutModel",
      "_view_count": null,
      "_view_module": "@jupyter-widgets/base",
      "_view_module_version": "1.2.0",
      "_view_name": "LayoutView",
      "align_content": null,
      "align_items": null,
      "align_self": null,
      "border": null,
      "bottom": null,
      "display": null,
      "flex": null,
      "flex_flow": null,
      "grid_area": null,
      "grid_auto_columns": null,
      "grid_auto_flow": null,
      "grid_auto_rows": null,
      "grid_column": null,
      "grid_gap": null,
      "grid_row": null,
      "grid_template_areas": null,
      "grid_template_columns": null,
      "grid_template_rows": null,
      "height": null,
      "justify_content": null,
      "justify_items": null,
      "left": null,
      "margin": null,
      "max_height": null,
      "max_width": null,
      "min_height": null,
      "min_width": null,
      "object_fit": null,
      "object_position": null,
      "order": null,
      "overflow": null,
      "overflow_x": null,
      "overflow_y": null,
      "padding": null,
      "right": null,
      "top": null,
      "visibility": null,
      "width": null
     }
    },
    "876cca63cea043f99904cd7a28f67e26": {
     "model_module": "@jupyter-widgets/base",
     "model_name": "LayoutModel",
     "state": {
      "_model_module": "@jupyter-widgets/base",
      "_model_module_version": "1.2.0",
      "_model_name": "LayoutModel",
      "_view_count": null,
      "_view_module": "@jupyter-widgets/base",
      "_view_module_version": "1.2.0",
      "_view_name": "LayoutView",
      "align_content": null,
      "align_items": null,
      "align_self": null,
      "border": null,
      "bottom": null,
      "display": null,
      "flex": null,
      "flex_flow": null,
      "grid_area": null,
      "grid_auto_columns": null,
      "grid_auto_flow": null,
      "grid_auto_rows": null,
      "grid_column": null,
      "grid_gap": null,
      "grid_row": null,
      "grid_template_areas": null,
      "grid_template_columns": null,
      "grid_template_rows": null,
      "height": null,
      "justify_content": null,
      "justify_items": null,
      "left": null,
      "margin": null,
      "max_height": null,
      "max_width": null,
      "min_height": null,
      "min_width": null,
      "object_fit": null,
      "object_position": null,
      "order": null,
      "overflow": null,
      "overflow_x": null,
      "overflow_y": null,
      "padding": null,
      "right": null,
      "top": null,
      "visibility": null,
      "width": null
     }
    },
    "8d85fb898cc4482794a273f9f40a7716": {
     "model_module": "@jupyter-widgets/controls",
     "model_name": "HTMLModel",
     "state": {
      "_dom_classes": [],
      "_model_module": "@jupyter-widgets/controls",
      "_model_module_version": "1.5.0",
      "_model_name": "HTMLModel",
      "_view_count": null,
      "_view_module": "@jupyter-widgets/controls",
      "_view_module_version": "1.5.0",
      "_view_name": "HTMLView",
      "description": "",
      "description_tooltip": null,
      "layout": "IPY_MODEL_b278158fce8d4b619f02689a2d671560",
      "placeholder": "​",
      "style": "IPY_MODEL_41db56c1758644e28cc891ed17b9111e",
      "value": " 9920512/? [00:19&lt;00:00, 5560701.54it/s]"
     }
    },
    "90fba2e9dcee4b5eaf94776dcd05b01a": {
     "model_module": "@jupyter-widgets/controls",
     "model_name": "FloatProgressModel",
     "state": {
      "_dom_classes": [],
      "_model_module": "@jupyter-widgets/controls",
      "_model_module_version": "1.5.0",
      "_model_name": "FloatProgressModel",
      "_view_count": null,
      "_view_module": "@jupyter-widgets/controls",
      "_view_module_version": "1.5.0",
      "_view_name": "ProgressView",
      "bar_style": "info",
      "description": "",
      "description_tooltip": null,
      "layout": "IPY_MODEL_96b3cf3c2b8c41ae832e3f33dcf13453",
      "max": 1,
      "min": 0,
      "orientation": "horizontal",
      "style": "IPY_MODEL_b91d4ce036c24e6fb29c9e3a2914e0bd",
      "value": 1
     }
    },
    "96b3cf3c2b8c41ae832e3f33dcf13453": {
     "model_module": "@jupyter-widgets/base",
     "model_name": "LayoutModel",
     "state": {
      "_model_module": "@jupyter-widgets/base",
      "_model_module_version": "1.2.0",
      "_model_name": "LayoutModel",
      "_view_count": null,
      "_view_module": "@jupyter-widgets/base",
      "_view_module_version": "1.2.0",
      "_view_name": "LayoutView",
      "align_content": null,
      "align_items": null,
      "align_self": null,
      "border": null,
      "bottom": null,
      "display": null,
      "flex": null,
      "flex_flow": null,
      "grid_area": null,
      "grid_auto_columns": null,
      "grid_auto_flow": null,
      "grid_auto_rows": null,
      "grid_column": null,
      "grid_gap": null,
      "grid_row": null,
      "grid_template_areas": null,
      "grid_template_columns": null,
      "grid_template_rows": null,
      "height": null,
      "justify_content": null,
      "justify_items": null,
      "left": null,
      "margin": null,
      "max_height": null,
      "max_width": null,
      "min_height": null,
      "min_width": null,
      "object_fit": null,
      "object_position": null,
      "order": null,
      "overflow": null,
      "overflow_x": null,
      "overflow_y": null,
      "padding": null,
      "right": null,
      "top": null,
      "visibility": null,
      "width": null
     }
    },
    "ab0c7dba3efe488e962a95f77fdff901": {
     "model_module": "@jupyter-widgets/controls",
     "model_name": "ProgressStyleModel",
     "state": {
      "_model_module": "@jupyter-widgets/controls",
      "_model_module_version": "1.5.0",
      "_model_name": "ProgressStyleModel",
      "_view_count": null,
      "_view_module": "@jupyter-widgets/base",
      "_view_module_version": "1.2.0",
      "_view_name": "StyleView",
      "bar_color": null,
      "description_width": "initial"
     }
    },
    "b278158fce8d4b619f02689a2d671560": {
     "model_module": "@jupyter-widgets/base",
     "model_name": "LayoutModel",
     "state": {
      "_model_module": "@jupyter-widgets/base",
      "_model_module_version": "1.2.0",
      "_model_name": "LayoutModel",
      "_view_count": null,
      "_view_module": "@jupyter-widgets/base",
      "_view_module_version": "1.2.0",
      "_view_name": "LayoutView",
      "align_content": null,
      "align_items": null,
      "align_self": null,
      "border": null,
      "bottom": null,
      "display": null,
      "flex": null,
      "flex_flow": null,
      "grid_area": null,
      "grid_auto_columns": null,
      "grid_auto_flow": null,
      "grid_auto_rows": null,
      "grid_column": null,
      "grid_gap": null,
      "grid_row": null,
      "grid_template_areas": null,
      "grid_template_columns": null,
      "grid_template_rows": null,
      "height": null,
      "justify_content": null,
      "justify_items": null,
      "left": null,
      "margin": null,
      "max_height": null,
      "max_width": null,
      "min_height": null,
      "min_width": null,
      "object_fit": null,
      "object_position": null,
      "order": null,
      "overflow": null,
      "overflow_x": null,
      "overflow_y": null,
      "padding": null,
      "right": null,
      "top": null,
      "visibility": null,
      "width": null
     }
    },
    "b4213321d97e4f54b356d0b466253e4c": {
     "model_module": "@jupyter-widgets/controls",
     "model_name": "HBoxModel",
     "state": {
      "_dom_classes": [],
      "_model_module": "@jupyter-widgets/controls",
      "_model_module_version": "1.5.0",
      "_model_name": "HBoxModel",
      "_view_count": null,
      "_view_module": "@jupyter-widgets/controls",
      "_view_module_version": "1.5.0",
      "_view_name": "HBoxView",
      "box_style": "",
      "children": [
       "IPY_MODEL_90fba2e9dcee4b5eaf94776dcd05b01a",
       "IPY_MODEL_ef3735b9a82347edb1c193fcc1dc1ec2"
      ],
      "layout": "IPY_MODEL_0e03dd08224f4e8c9c2f8d975358cdb7"
     }
    },
    "b612c47359234c3a8d59430c65605047": {
     "model_module": "@jupyter-widgets/controls",
     "model_name": "ProgressStyleModel",
     "state": {
      "_model_module": "@jupyter-widgets/controls",
      "_model_module_version": "1.5.0",
      "_model_name": "ProgressStyleModel",
      "_view_count": null,
      "_view_module": "@jupyter-widgets/base",
      "_view_module_version": "1.2.0",
      "_view_name": "StyleView",
      "bar_color": null,
      "description_width": "initial"
     }
    },
    "b91d4ce036c24e6fb29c9e3a2914e0bd": {
     "model_module": "@jupyter-widgets/controls",
     "model_name": "ProgressStyleModel",
     "state": {
      "_model_module": "@jupyter-widgets/controls",
      "_model_module_version": "1.5.0",
      "_model_name": "ProgressStyleModel",
      "_view_count": null,
      "_view_module": "@jupyter-widgets/base",
      "_view_module_version": "1.2.0",
      "_view_name": "StyleView",
      "bar_color": null,
      "description_width": "initial"
     }
    },
    "be465e46f1fa44c69c9dd8ff2d173543": {
     "model_module": "@jupyter-widgets/controls",
     "model_name": "FloatProgressModel",
     "state": {
      "_dom_classes": [],
      "_model_module": "@jupyter-widgets/controls",
      "_model_module_version": "1.5.0",
      "_model_name": "FloatProgressModel",
      "_view_count": null,
      "_view_module": "@jupyter-widgets/controls",
      "_view_module_version": "1.5.0",
      "_view_name": "ProgressView",
      "bar_style": "info",
      "description": "",
      "description_tooltip": null,
      "layout": "IPY_MODEL_7ffd56bd6fdb48efb48c338dfe983bfb",
      "max": 1,
      "min": 0,
      "orientation": "horizontal",
      "style": "IPY_MODEL_b612c47359234c3a8d59430c65605047",
      "value": 0
     }
    },
    "c50520b03cd0415c931144f086b2007a": {
     "model_module": "@jupyter-widgets/controls",
     "model_name": "FloatProgressModel",
     "state": {
      "_dom_classes": [],
      "_model_module": "@jupyter-widgets/controls",
      "_model_module_version": "1.5.0",
      "_model_name": "FloatProgressModel",
      "_view_count": null,
      "_view_module": "@jupyter-widgets/controls",
      "_view_module_version": "1.5.0",
      "_view_name": "ProgressView",
      "bar_style": "success",
      "description": "",
      "description_tooltip": null,
      "layout": "IPY_MODEL_28ef332369de4d358909a586a1743c61",
      "max": 1,
      "min": 0,
      "orientation": "horizontal",
      "style": "IPY_MODEL_12d3ec215dcc4b6794e3bbdef44602ce",
      "value": 1
     }
    },
    "c755370c4edf4661b591e61de544ad8f": {
     "model_module": "@jupyter-widgets/controls",
     "model_name": "HBoxModel",
     "state": {
      "_dom_classes": [],
      "_model_module": "@jupyter-widgets/controls",
      "_model_module_version": "1.5.0",
      "_model_name": "HBoxModel",
      "_view_count": null,
      "_view_module": "@jupyter-widgets/controls",
      "_view_module_version": "1.5.0",
      "_view_name": "HBoxView",
      "box_style": "",
      "children": [
       "IPY_MODEL_c50520b03cd0415c931144f086b2007a",
       "IPY_MODEL_4ea3550eaeab40969e6a835721528c35"
      ],
      "layout": "IPY_MODEL_392aac024b8845c58ab75d00893b4e42"
     }
    },
    "d7bc8179054c448c8decb471100d8edf": {
     "model_module": "@jupyter-widgets/controls",
     "model_name": "HBoxModel",
     "state": {
      "_dom_classes": [],
      "_model_module": "@jupyter-widgets/controls",
      "_model_module_version": "1.5.0",
      "_model_name": "HBoxModel",
      "_view_count": null,
      "_view_module": "@jupyter-widgets/controls",
      "_view_module_version": "1.5.0",
      "_view_name": "HBoxView",
      "box_style": "",
      "children": [
       "IPY_MODEL_7de6379c81224840ab318d1c5dbe2573",
       "IPY_MODEL_8d85fb898cc4482794a273f9f40a7716"
      ],
      "layout": "IPY_MODEL_3e158b4f6fc045a799a5d2848b7ef224"
     }
    },
    "eab337afee944438b7e9db9a2b7fd61b": {
     "model_module": "@jupyter-widgets/controls",
     "model_name": "DescriptionStyleModel",
     "state": {
      "_model_module": "@jupyter-widgets/controls",
      "_model_module_version": "1.5.0",
      "_model_name": "DescriptionStyleModel",
      "_view_count": null,
      "_view_module": "@jupyter-widgets/base",
      "_view_module_version": "1.2.0",
      "_view_name": "StyleView",
      "description_width": ""
     }
    },
    "ef3735b9a82347edb1c193fcc1dc1ec2": {
     "model_module": "@jupyter-widgets/controls",
     "model_name": "HTMLModel",
     "state": {
      "_dom_classes": [],
      "_model_module": "@jupyter-widgets/controls",
      "_model_module_version": "1.5.0",
      "_model_name": "HTMLModel",
      "_view_count": null,
      "_view_module": "@jupyter-widgets/controls",
      "_view_module_version": "1.5.0",
      "_view_name": "HTMLView",
      "description": "",
      "description_tooltip": null,
      "layout": "IPY_MODEL_043acb1db455426e8f56a61d6f39b222",
      "placeholder": "​",
      "style": "IPY_MODEL_57ea6daaa8484c59b3930783d0a9cf20",
      "value": " 1654784/? [00:19&lt;00:00, 9617362.30it/s]"
     }
    },
    "ef4e2e0ed447424b8695c1a66cec0210": {
     "model_module": "@jupyter-widgets/controls",
     "model_name": "HTMLModel",
     "state": {
      "_dom_classes": [],
      "_model_module": "@jupyter-widgets/controls",
      "_model_module_version": "1.5.0",
      "_model_name": "HTMLModel",
      "_view_count": null,
      "_view_module": "@jupyter-widgets/controls",
      "_view_module_version": "1.5.0",
      "_view_name": "HTMLView",
      "description": "",
      "description_tooltip": null,
      "layout": "IPY_MODEL_876cca63cea043f99904cd7a28f67e26",
      "placeholder": "​",
      "style": "IPY_MODEL_eab337afee944438b7e9db9a2b7fd61b",
      "value": " 0/? [00:00&lt;?, ?it/s]"
     }
    }
   }
  }
 },
 "nbformat": 4,
 "nbformat_minor": 1
}